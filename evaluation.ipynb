{
  "cells": [
    {
      "cell_type": "code",
      "execution_count": 1,
      "metadata": {
        "colab": {
          "base_uri": "https://localhost:8080/"
        },
        "id": "mZOI4wRYZsHD",
        "outputId": "605d41a3-2525-434a-c4f0-3838a28b95f7"
      },
      "outputs": [
        {
          "output_type": "stream",
          "name": "stdout",
          "text": [
            "\u001b[?25l   \u001b[90m━━━━━━━━━━━━━━━━━━━━━━━━━━━━━━━━━━━━━━━━\u001b[0m \u001b[32m0.0/84.1 kB\u001b[0m \u001b[31m?\u001b[0m eta \u001b[36m-:--:--\u001b[0m\r\u001b[2K   \u001b[90m━━━━━━━━━━━━━━━━━━━━━━━━━━━━━━━━━━━━━━━━\u001b[0m \u001b[32m84.1/84.1 kB\u001b[0m \u001b[31m5.4 MB/s\u001b[0m eta \u001b[36m0:00:00\u001b[0m\n",
            "\u001b[?25h\u001b[?25l   \u001b[90m━━━━━━━━━━━━━━━━━━━━━━━━━━━━━━━━━━━━━━━━\u001b[0m \u001b[32m0.0/61.1 kB\u001b[0m \u001b[31m?\u001b[0m eta \u001b[36m-:--:--\u001b[0m\r\u001b[2K   \u001b[90m━━━━━━━━━━━━━━━━━━━━━━━━━━━━━━━━━━━━━━━━\u001b[0m \u001b[32m61.1/61.1 kB\u001b[0m \u001b[31m4.4 MB/s\u001b[0m eta \u001b[36m0:00:00\u001b[0m\n",
            "\u001b[?25h"
          ]
        }
      ],
      "source": [
        "!pip install -q evaluate bert_score"
      ]
    },
    {
      "cell_type": "code",
      "execution_count": 2,
      "metadata": {
        "id": "wRJBwxFVZrED"
      },
      "outputs": [],
      "source": [
        "import torch\n",
        "from PIL import Image\n",
        "import torch\n",
        "\n",
        "from transformers.modeling_outputs import BaseModelOutput\n",
        "import matplotlib.pyplot as plt\n",
        "import numpy as np\n",
        "from functools import partial\n",
        "from huggingface_hub import PyTorchModelHubMixin"
      ]
    },
    {
      "cell_type": "markdown",
      "metadata": {
        "id": "_sYG1uAr6UEm"
      },
      "source": [
        "# Load Test Predictions"
      ]
    },
    {
      "cell_type": "code",
      "execution_count": 7,
      "metadata": {
        "id": "YgkgYcRU6UEn"
      },
      "outputs": [],
      "source": [
        "from datasets import load_dataset\n",
        "\n",
        "raw_results = load_dataset(\"MehdiJmlkh/SmolVLM-Results\", split=\"train\")\n",
        "fine_tune_results = load_dataset(\"MehdiJmlkh/SmolVLM-FT-Results\", split=\"train\")\n",
        "smol_driver_results = load_dataset(\"MehdiJmlkh/SmolDriver-Results\", split=\"train\")"
      ]
    },
    {
      "cell_type": "code",
      "execution_count": 10,
      "metadata": {
        "id": "LwULvzuwjPaX"
      },
      "outputs": [],
      "source": [
        "import evaluate\n",
        "\n",
        "bleu = evaluate.load(\"bleu\")\n",
        "bertscore = evaluate.load(\"bertscore\")\n",
        "\n",
        "def get_scores(results):\n",
        "\n",
        "    preds = list(results[\"prediction\"])\n",
        "    refs = list(results[\"answer\"])\n",
        "\n",
        "    bleu_result = bleu.compute(predictions=preds, references=refs)\n",
        "\n",
        "    bert_result = bertscore.compute(predictions=preds, references=refs, lang=\"en\")\n",
        "\n",
        "    scores = {\n",
        "          \"BLEU\": bleu_result[\"bleu\"],\n",
        "          \"BERTScore_P\": sum(bert_result[\"precision\"]) / len(bert_result[\"precision\"]),\n",
        "          \"BERTScore_R\": sum(bert_result[\"recall\"]) / len(bert_result[\"recall\"]),\n",
        "          \"BERTScore_F1\": sum(bert_result[\"f1\"]) / len(bert_result[\"f1\"])\n",
        "    }\n",
        "\n",
        "    return scores"
      ]
    },
    {
      "cell_type": "code",
      "source": [
        "get_scores(raw_results)"
      ],
      "metadata": {
        "id": "RdT2yC0s6rGX",
        "outputId": "71e8fbaf-c9a7-4760-e87f-02c660215a76",
        "colab": {
          "base_uri": "https://localhost:8080/"
        }
      },
      "execution_count": 12,
      "outputs": [
        {
          "output_type": "execute_result",
          "data": {
            "text/plain": [
              "{'BLEU': 0.08854275399540497,\n",
              " 'BERTScore_P': 0.8701746590603563,\n",
              " 'BERTScore_R': 0.9164209636082327,\n",
              " 'BERTScore_F1': 0.8921452213947038}"
            ]
          },
          "metadata": {},
          "execution_count": 12
        }
      ]
    },
    {
      "cell_type": "code",
      "execution_count": 13,
      "metadata": {
        "colab": {
          "base_uri": "https://localhost:8080/"
        },
        "id": "GKkxKA-npcrX",
        "outputId": "7936af64-3e5f-442f-dfd0-f696c26f5213"
      },
      "outputs": [
        {
          "output_type": "execute_result",
          "data": {
            "text/plain": [
              "{'BLEU': 0.185222515450203,\n",
              " 'BERTScore_P': 0.9430369219833747,\n",
              " 'BERTScore_R': 0.9381485504763467,\n",
              " 'BERTScore_F1': 0.9402770298316067}"
            ]
          },
          "metadata": {},
          "execution_count": 13
        }
      ],
      "source": [
        "get_scores(fine_tune_results)"
      ]
    },
    {
      "cell_type": "code",
      "execution_count": 14,
      "metadata": {
        "colab": {
          "base_uri": "https://localhost:8080/"
        },
        "id": "YKwkPJwbprli",
        "outputId": "1dc075a8-43d0-4cce-9524-dc17613a674d"
      },
      "outputs": [
        {
          "output_type": "execute_result",
          "data": {
            "text/plain": [
              "{'BLEU': 0.3536571369006748,\n",
              " 'BERTScore_P': 0.971374603949095,\n",
              " 'BERTScore_R': 0.9586761048413757,\n",
              " 'BERTScore_F1': 0.9647547309559987}"
            ]
          },
          "metadata": {},
          "execution_count": 14
        }
      ],
      "source": [
        "get_scores(smol_driver_results)"
      ]
    },
    {
      "cell_type": "code",
      "execution_count": null,
      "metadata": {
        "colab": {
          "base_uri": "https://localhost:8080/"
        },
        "id": "fe4dueoTpyYJ",
        "outputId": "cba08978-d060-49b1-a5fe-caea5cdbaec8"
      },
      "outputs": [
        {
          "name": "stdout",
          "output_type": "stream",
          "text": [
            "Lowest 5 BERTScore Precision: [np.float64(0.8247056007385254), np.float64(0.8268681764602661), np.float64(0.8319003582000732), np.float64(0.8323870897293091), np.float64(0.8323870897293091)] at indices [np.int64(19), np.int64(50), np.int64(5), np.int64(11), np.int64(2)]\n",
            "Lowest 5 BERTScore Recall: [np.float64(0.7762110233306885), np.float64(0.7776010036468506), np.float64(0.8244717121124268), np.float64(0.8257663249969482), np.float64(0.8266342282295227)] at indices [np.int64(9), np.int64(7), np.int64(94), np.int64(38), np.int64(25)]\n",
            "Lowest 5 BERTScore F1: [np.float64(0.8253257870674133), np.float64(0.8264322280883789), np.float64(0.8303307890892029), np.float64(0.8312388062477112), np.float64(0.8414256572723389)] at indices [np.int64(7), np.int64(9), np.int64(38), np.int64(19), np.int64(25)]\n",
            "Lowest 5 BELU F1: [np.float64(0.8253257870674133), np.float64(0.8264322280883789), np.float64(0.8303307890892029), np.float64(0.8312388062477112), np.float64(0.8414256572723389)] at indices [np.int64(7), np.int64(9), np.int64(38), np.int64(19), np.int64(25)]\n"
          ]
        }
      ],
      "source": [
        "import numpy as np\n",
        "\n",
        "def get_lowest_k(scores, k=5):\n",
        "    scores = np.array(scores)\n",
        "    lowest_indices = scores.argsort()[:k]\n",
        "    lowest_scores = scores[lowest_indices]\n",
        "    return list(lowest_scores), list(lowest_indices)\n",
        "\n",
        "low_prec, low_prec_idx = get_lowest_k(bert_result[\"precision\"])\n",
        "low_rec, low_rec_idx   = get_lowest_k(bert_result[\"recall\"])\n",
        "low_f1, low_f1_idx     = get_lowest_k(bert_result[\"f1\"])\n",
        "\n",
        "print(f\"Lowest 5 BERTScore Precision: {low_prec} at indices {low_prec_idx}\")\n",
        "print(f\"Lowest 5 BERTScore Recall: {low_rec} at indices {low_rec_idx}\")\n",
        "print(f\"Lowest 5 BERTScore F1: {low_f1} at indices {low_f1_idx}\")\n",
        "print(f\"Lowest 5 BELU F1: {low_f1} at indices {low_f1_idx}\")"
      ]
    },
    {
      "cell_type": "code",
      "execution_count": null,
      "metadata": {
        "colab": {
          "base_uri": "https://localhost:8080/"
        },
        "id": "Ms2jx3xiqRH0",
        "outputId": "be98f0b8-d3bc-4ccd-9a9b-6152de887fe3"
      },
      "outputs": [
        {
          "name": "stdout",
          "output_type": "stream",
          "text": [
            "Lowest precision label 19: Keep going at the same speed, slightly offset to the left.\n",
            "Lowest precision answer: In this scenario, the safe actions for the ego vehicle would be to follow the traffic rules, such as stopping at the designated stop line, waiting\n",
            "Lowest precision label 50: Yes.\n",
            "Lowest precision answer: There are no motorcycles without riders to the front left of the ego car.\n",
            "Lowest precision label 5: None.\n",
            "Lowest precision answer: The traffic signal that the ego vehicle should pay attention to is the one on the right side of the road.\n",
            "Lowest precision label 11: Yes.\n",
            "Lowest precision answer: There are no moving pedestrians to the back left of the ego car.\n",
            "Lowest precision label 2: Yes.\n",
            "Lowest precision answer: There are no moving pedestrians to the back left of the ego car.\n"
          ]
        }
      ],
      "source": [
        "for idx in low_prec_idx:\n",
        "    print(f\"Lowest precision label {idx}: \" + refs[idx] + \"\\nLowest precision answer: \" + preds[idx])"
      ]
    },
    {
      "cell_type": "code",
      "execution_count": null,
      "metadata": {
        "colab": {
          "base_uri": "https://localhost:8080/"
        },
        "id": "BPFRmB3ItF8g",
        "outputId": "741d3d84-50a0-42ce-9544-9ed16f9e98fa"
      },
      "outputs": [
        {
          "name": "stdout",
          "output_type": "stream",
          "text": [
            "Lowest recall label 9: There are many traffic elements in the front view. The information of these traffic elements is [(road sign, go straight, 1010.76, 618.58, 1186.13, 720.46), (road sign, turn right, 1010.76, 618.58, 1186.13, 720.46), (road sign, go straight, 733.46, 511.74, 764.7, 519.99), (road sign, turn left, 733.46, 511.74, 764.7, 519.99), (road sign, turn right, 733.46, 511.74, 764.7, 519.99)].\n",
            "Lowest recall answer: The traffic elements in the front view are:\n",
            "1. A black car on the left side of the road.\n",
            "2. A blue car\n",
            "Lowest recall label 7: There are many traffic elements in the front view. The information of these traffic elements is [(road sign, go straight, 940.32, 543.31, 985.43, 563.8), (road sign, turn right, 940.32, 543.31, 985.43, 563.8), (road sign, go straight, 879.14, 506.74, 893.64, 513.52), (road sign, turn right, 879.14, 506.74, 893.64, 513.52)].\n",
            "Lowest recall answer: The traffic elements in the front view are:\n",
            "1. A car on the road, categorized as a vehicle, with a status of moving,\n",
            "Lowest recall label 94: There are two traffic elements in the front view. The information of these traffic elements is [(road sign, go straight, 980.11, 559.58, 1026.43, 578.19), (road sign, turn left, 980.11, 559.58, 1026.43, 578.19)].\n",
            "Lowest recall answer: The traffic elements in the front view are:\n",
            "1. Ego vehicle: Ego, moving, 0, 0, 0\n",
            "Lowest recall label 38: Brake gently to a stop or decelerate gradually without braking.\n",
            "Lowest recall answer: In this scenario, the safe actions for the ego vehicle would be to stop at the intersection, wait for the traffic signal to change, and then\n",
            "Lowest recall label 25: There is one moving car behind the ego car, two parked cars in front of the ego car, one stopped bus in front of the ego car, one moving bus in front of the ego car, three pedestrians standing to the front left of the ego car, many pedestrians standing to the back left of the ego car, and one pedestrian standing behind the ego car.\n",
            "Lowest recall answer: The scene depicts a busy urban street with a variety of vehicles, including cars and buses, navigating through the traffic. The vehicles are moving in different\n"
          ]
        }
      ],
      "source": [
        "for idx in low_rec_idx:\n",
        "    print(f\"Lowest recall label {idx}: \" + refs[idx] + \"\\nLowest recall answer: \" + preds[idx])"
      ]
    },
    {
      "cell_type": "code",
      "execution_count": null,
      "metadata": {
        "colab": {
          "base_uri": "https://localhost:8080/"
        },
        "id": "nrZWDKlWtT7g",
        "outputId": "49e8dabe-b54f-4e35-e031-3dcf1b6c9aa6"
      },
      "outputs": [
        {
          "name": "stdout",
          "output_type": "stream",
          "text": [
            "Lowest F1 label 7: There are many traffic elements in the front view. The information of these traffic elements is [(road sign, go straight, 940.32, 543.31, 985.43, 563.8), (road sign, turn right, 940.32, 543.31, 985.43, 563.8), (road sign, go straight, 879.14, 506.74, 893.64, 513.52), (road sign, turn right, 879.14, 506.74, 893.64, 513.52)].\n",
            "Lowest F1 answer: The traffic elements in the front view are:\n",
            "1. A car on the road, categorized as a vehicle, with a status of moving,\n",
            "Lowest F1 label 9: There are many traffic elements in the front view. The information of these traffic elements is [(road sign, go straight, 1010.76, 618.58, 1186.13, 720.46), (road sign, turn right, 1010.76, 618.58, 1186.13, 720.46), (road sign, go straight, 733.46, 511.74, 764.7, 519.99), (road sign, turn left, 733.46, 511.74, 764.7, 519.99), (road sign, turn right, 733.46, 511.74, 764.7, 519.99)].\n",
            "Lowest F1 answer: The traffic elements in the front view are:\n",
            "1. A black car on the left side of the road.\n",
            "2. A blue car\n",
            "Lowest F1 label 38: Brake gently to a stop or decelerate gradually without braking.\n",
            "Lowest F1 answer: In this scenario, the safe actions for the ego vehicle would be to stop at the intersection, wait for the traffic signal to change, and then\n",
            "Lowest F1 label 19: Keep going at the same speed, slightly offset to the left.\n",
            "Lowest F1 answer: In this scenario, the safe actions for the ego vehicle would be to follow the traffic rules, such as stopping at the designated stop line, waiting\n",
            "Lowest F1 label 25: There is one moving car behind the ego car, two parked cars in front of the ego car, one stopped bus in front of the ego car, one moving bus in front of the ego car, three pedestrians standing to the front left of the ego car, many pedestrians standing to the back left of the ego car, and one pedestrian standing behind the ego car.\n",
            "Lowest F1 answer: The scene depicts a busy urban street with a variety of vehicles, including cars and buses, navigating through the traffic. The vehicles are moving in different\n"
          ]
        }
      ],
      "source": [
        "for idx in low_f1_idx:\n",
        "    print(f\"Lowest F1 label {idx}: \" + refs[idx] + \"\\nLowest F1 answer: \" + preds[idx])"
      ]
    },
    {
      "cell_type": "code",
      "execution_count": null,
      "metadata": {
        "colab": {
          "base_uri": "https://localhost:8080/"
        },
        "id": "xehx_dr3-kmQ",
        "outputId": "a988d15d-13b3-4834-ff03-2c4c91372428"
      },
      "outputs": [
        {
          "data": {
            "text/plain": [
              "{'precision': [0.8747718334197998,\n",
              "  0.9641767144203186,\n",
              "  1.0,\n",
              "  0.8708701729774475,\n",
              "  0.9999995231628418,\n",
              "  1.000000238418579,\n",
              "  0.9563087224960327,\n",
              "  0.8079574108123779,\n",
              "  0.9830548167228699,\n",
              "  0.8036064505577087,\n",
              "  1.0,\n",
              "  1.0,\n",
              "  0.9999998807907104,\n",
              "  0.9945030808448792,\n",
              "  0.8430725336074829,\n",
              "  0.9945030808448792,\n",
              "  0.8852244019508362,\n",
              "  0.9455838203430176,\n",
              "  0.9999995231628418,\n",
              "  0.8296487331390381,\n",
              "  0.9471440315246582,\n",
              "  0.9945030808448792,\n",
              "  1.0,\n",
              "  0.9612855911254883,\n",
              "  0.9999995231628418,\n",
              "  0.9124995470046997,\n",
              "  0.9865326881408691,\n",
              "  0.9352561831474304,\n",
              "  0.9999995231628418,\n",
              "  1.0,\n",
              "  0.9552502632141113,\n",
              "  1.0000001192092896,\n",
              "  0.9999995231628418,\n",
              "  1.0,\n",
              "  0.8734886050224304,\n",
              "  0.9820294380187988,\n",
              "  0.9479755163192749,\n",
              "  1.0,\n",
              "  0.8326952457427979,\n",
              "  1.0000001192092896,\n",
              "  0.9999998807907104,\n",
              "  1.0,\n",
              "  0.8867825865745544,\n",
              "  0.973015546798706,\n",
              "  1.0,\n",
              "  1.0,\n",
              "  0.9308980107307434,\n",
              "  0.9177933931350708,\n",
              "  0.9999995231628418,\n",
              "  1.0,\n",
              "  0.9945030808448792,\n",
              "  0.9469122886657715,\n",
              "  0.9295209646224976,\n",
              "  1.0,\n",
              "  0.9945030808448792,\n",
              "  0.9357892870903015,\n",
              "  0.9322792291641235,\n",
              "  1.0,\n",
              "  0.8847737908363342,\n",
              "  0.9377152323722839,\n",
              "  0.9945030808448792,\n",
              "  1.0,\n",
              "  0.9177933931350708,\n",
              "  0.9705722332000732,\n",
              "  1.0,\n",
              "  0.7797519564628601,\n",
              "  0.9494613409042358,\n",
              "  1.0,\n",
              "  1.0,\n",
              "  1.000000238418579,\n",
              "  0.9602682590484619,\n",
              "  0.9367949962615967,\n",
              "  1.0,\n",
              "  0.970540463924408,\n",
              "  0.9998607635498047,\n",
              "  1.0,\n",
              "  0.9945030808448792,\n",
              "  0.9835067391395569,\n",
              "  0.9552998542785645,\n",
              "  0.9649852514266968,\n",
              "  1.0,\n",
              "  0.9945030808448792,\n",
              "  0.8847737908363342,\n",
              "  0.9577715396881104,\n",
              "  0.9389448165893555,\n",
              "  1.0,\n",
              "  1.0,\n",
              "  0.8926271796226501,\n",
              "  0.9636539220809937,\n",
              "  1.0,\n",
              "  1.0,\n",
              "  1.0,\n",
              "  0.9135298132896423,\n",
              "  1.0,\n",
              "  0.8028346300125122,\n",
              "  0.9636776447296143,\n",
              "  1.0,\n",
              "  0.927191436290741,\n",
              "  0.9945030808448792,\n",
              "  1.0],\n",
              " 'recall': [0.8769364356994629,\n",
              "  0.9393152594566345,\n",
              "  1.0,\n",
              "  0.8750504851341248,\n",
              "  0.9999995231628418,\n",
              "  1.000000238418579,\n",
              "  0.8846637010574341,\n",
              "  0.7768005132675171,\n",
              "  0.9030081629753113,\n",
              "  0.771761417388916,\n",
              "  1.0,\n",
              "  1.0,\n",
              "  0.9999998807907104,\n",
              "  0.9945030808448792,\n",
              "  0.8798748254776001,\n",
              "  0.9945030808448792,\n",
              "  0.8645833730697632,\n",
              "  0.9361338019371033,\n",
              "  0.9999995231628418,\n",
              "  0.8546454906463623,\n",
              "  0.8992022275924683,\n",
              "  0.9945030808448792,\n",
              "  1.0,\n",
              "  0.9480825662612915,\n",
              "  0.9999995231628418,\n",
              "  0.8531205058097839,\n",
              "  0.9704726338386536,\n",
              "  0.8741623759269714,\n",
              "  0.9999995231628418,\n",
              "  1.0,\n",
              "  0.9554506540298462,\n",
              "  1.0000001192092896,\n",
              "  0.9999995231628418,\n",
              "  1.0,\n",
              "  0.8590916395187378,\n",
              "  0.939850926399231,\n",
              "  0.8930602073669434,\n",
              "  1.0,\n",
              "  0.8302687406539917,\n",
              "  1.0,\n",
              "  0.9999998807907104,\n",
              "  1.0,\n",
              "  0.8675832152366638,\n",
              "  0.890978217124939,\n",
              "  1.0,\n",
              "  1.0,\n",
              "  0.8729715943336487,\n",
              "  0.8929444551467896,\n",
              "  0.9999995231628418,\n",
              "  1.0,\n",
              "  0.9945030808448792,\n",
              "  0.9268680214881897,\n",
              "  0.9469336271286011,\n",
              "  1.0,\n",
              "  0.9945030808448792,\n",
              "  0.9116119146347046,\n",
              "  0.8848237991333008,\n",
              "  1.0,\n",
              "  0.9055182337760925,\n",
              "  0.9170529246330261,\n",
              "  0.9945030808448792,\n",
              "  1.0,\n",
              "  0.8929444551467896,\n",
              "  0.8871198892593384,\n",
              "  1.0,\n",
              "  0.8433520197868347,\n",
              "  0.8961772322654724,\n",
              "  1.0,\n",
              "  1.0,\n",
              "  1.000000238418579,\n",
              "  0.9167789816856384,\n",
              "  0.935253381729126,\n",
              "  1.0,\n",
              "  0.9787077307701111,\n",
              "  0.9998607635498047,\n",
              "  1.0,\n",
              "  0.9945030808448792,\n",
              "  0.9919229745864868,\n",
              "  0.9326724410057068,\n",
              "  0.9629372954368591,\n",
              "  1.0,\n",
              "  0.9945030808448792,\n",
              "  0.9055182337760925,\n",
              "  0.9379264712333679,\n",
              "  0.8929270505905151,\n",
              "  1.0,\n",
              "  1.0,\n",
              "  0.8574094176292419,\n",
              "  0.9129081964492798,\n",
              "  1.0,\n",
              "  1.0,\n",
              "  1.0,\n",
              "  0.8915895223617554,\n",
              "  1.0,\n",
              "  0.8044871687889099,\n",
              "  0.9364227056503296,\n",
              "  1.0,\n",
              "  0.9406254291534424,\n",
              "  0.9945030808448792,\n",
              "  1.0],\n",
              " 'f1': [0.8758527636528015,\n",
              "  0.9515836238861084,\n",
              "  1.0,\n",
              "  0.8729553818702698,\n",
              "  0.9999995231628418,\n",
              "  1.000000238418579,\n",
              "  0.9190921187400818,\n",
              "  0.7920726537704468,\n",
              "  0.9413328766822815,\n",
              "  0.7873620390892029,\n",
              "  1.0,\n",
              "  1.0,\n",
              "  0.9999998807907104,\n",
              "  0.9945030808448792,\n",
              "  0.8610805869102478,\n",
              "  0.9945030808448792,\n",
              "  0.8747820854187012,\n",
              "  0.9408350586891174,\n",
              "  0.9999995231628418,\n",
              "  0.8419616222381592,\n",
              "  0.9225506782531738,\n",
              "  0.9945030808448792,\n",
              "  1.0,\n",
              "  0.9546384215354919,\n",
              "  0.9999995231628418,\n",
              "  0.8818115592002869,\n",
              "  0.9784368276596069,\n",
              "  0.9036778807640076,\n",
              "  0.9999995231628418,\n",
              "  1.0,\n",
              "  0.9553504586219788,\n",
              "  1.0000001192092896,\n",
              "  0.9999995231628418,\n",
              "  1.0,\n",
              "  0.866230309009552,\n",
              "  0.960477352142334,\n",
              "  0.9196988344192505,\n",
              "  1.0,\n",
              "  0.8314802050590515,\n",
              "  1.0000001192092896,\n",
              "  0.9999998807907104,\n",
              "  1.0,\n",
              "  0.8770778179168701,\n",
              "  0.9301915764808655,\n",
              "  1.0,\n",
              "  1.0,\n",
              "  0.9010047316551208,\n",
              "  0.9051984548568726,\n",
              "  0.9999995231628418,\n",
              "  1.0,\n",
              "  0.9945030808448792,\n",
              "  0.936782956123352,\n",
              "  0.9381465315818787,\n",
              "  1.0,\n",
              "  0.9945030808448792,\n",
              "  0.9235423803329468,\n",
              "  0.9079318046569824,\n",
              "  1.0,\n",
              "  0.8950258493423462,\n",
              "  0.9272689819335938,\n",
              "  0.9945030808448792,\n",
              "  1.0,\n",
              "  0.9051984548568726,\n",
              "  0.9269716143608093,\n",
              "  1.0,\n",
              "  0.8103059530258179,\n",
              "  0.9220501184463501,\n",
              "  1.0,\n",
              "  1.0,\n",
              "  1.000000238418579,\n",
              "  0.9380197525024414,\n",
              "  0.9360235929489136,\n",
              "  1.0,\n",
              "  0.974606990814209,\n",
              "  0.9998607635498047,\n",
              "  1.0,\n",
              "  0.9945030808448792,\n",
              "  0.9876968860626221,\n",
              "  0.9438505172729492,\n",
              "  0.9639601707458496,\n",
              "  1.0,\n",
              "  0.9945030808448792,\n",
              "  0.8950258493423462,\n",
              "  0.947745144367218,\n",
              "  0.9153579473495483,\n",
              "  1.0,\n",
              "  1.0,\n",
              "  0.8746639490127563,\n",
              "  0.9375948905944824,\n",
              "  1.0,\n",
              "  1.0,\n",
              "  1.0,\n",
              "  0.9024263620376587,\n",
              "  1.0,\n",
              "  0.8036600947380066,\n",
              "  0.9498546719551086,\n",
              "  1.0,\n",
              "  0.9338601231575012,\n",
              "  0.9945030808448792,\n",
              "  1.0],\n",
              " 'hashcode': 'roberta-large_L17_no-idf_version=0.3.12(hug_trans=4.55.2)'}"
            ]
          },
          "execution_count": 21,
          "metadata": {},
          "output_type": "execute_result"
        }
      ],
      "source": [
        "bert_result"
      ]
    },
    {
      "cell_type": "code",
      "execution_count": null,
      "metadata": {
        "colab": {
          "base_uri": "https://localhost:8080/"
        },
        "id": "Nj3Httqt-lCo",
        "outputId": "0cba171d-2d23-4078-a148-ae4c7ecbbfe1"
      },
      "outputs": [
        {
          "data": {
            "text/plain": [
              "{'bleu': 0.20444531587037948,\n",
              " 'precisions': [0.6416184971098265,\n",
              "  0.39864864864864863,\n",
              "  0.25609756097560976,\n",
              "  0.18493150684931506],\n",
              " 'brevity_penalty': 0.616249080175129,\n",
              " 'length_ratio': 0.6738072054527751,\n",
              " 'translation_length': 692,\n",
              " 'reference_length': 1027}"
            ]
          },
          "execution_count": 22,
          "metadata": {},
          "output_type": "execute_result"
        }
      ],
      "source": [
        "bleu_result"
      ]
    },
    {
      "cell_type": "code",
      "execution_count": null,
      "metadata": {
        "colab": {
          "base_uri": "https://localhost:8080/"
        },
        "id": "Z0xsfFlo-sNY",
        "outputId": "098336eb-a152-4876-c385-f5cc4cf3266b"
      },
      "outputs": [
        {
          "data": {
            "text/plain": [
              "{'BLEU': 0.20444531587037948,\n",
              " 'BERTScore_P': 0.9595827841758728,\n",
              " 'BERTScore_R': 0.9487088853120804,\n",
              " 'BERTScore_F1': 0.9539469361305237}"
            ]
          },
          "execution_count": 23,
          "metadata": {},
          "output_type": "execute_result"
        }
      ],
      "source": [
        "scores"
      ]
    },
    {
      "cell_type": "code",
      "execution_count": null,
      "metadata": {
        "colab": {
          "base_uri": "https://localhost:8080/"
        },
        "id": "WBkzKgcC-IOK",
        "outputId": "3c17b9bd-cfd0-41f8-dc54-04fbd16188ad"
      },
      "outputs": [
        {
          "name": "stdout",
          "output_type": "stream",
          "text": [
            "Lowest 5 BERTScore Precision: [np.float64(0.7797519564628601), np.float64(0.8028346300125122), np.float64(0.8036064505577087), np.float64(0.8079574108123779), np.float64(0.8296487331390381)] at indices [np.int64(65), np.int64(94), np.int64(9), np.int64(7), np.int64(19)]\n",
            "Lowest 5 BERTScore Recall: [np.float64(0.771761417388916), np.float64(0.7768005132675171), np.float64(0.8044871687889099), np.float64(0.8302687406539917), np.float64(0.8433520197868347)] at indices [np.int64(9), np.int64(7), np.int64(94), np.int64(38), np.int64(65)]\n",
            "Lowest 5 BERTScore F1: [np.float64(0.7873620390892029), np.float64(0.7920726537704468), np.float64(0.8036600947380066), np.float64(0.8103059530258179), np.float64(0.8314802050590515)] at indices [np.int64(9), np.int64(7), np.int64(94), np.int64(65), np.int64(38)]\n",
            "Lowest 5 BELU F1: [np.float64(0.7873620390892029), np.float64(0.7920726537704468), np.float64(0.8036600947380066), np.float64(0.8103059530258179), np.float64(0.8314802050590515)] at indices [np.int64(9), np.int64(7), np.int64(94), np.int64(65), np.int64(38)]\n"
          ]
        }
      ],
      "source": [
        "import numpy as np\n",
        "\n",
        "def get_lowest_k(scores, k=5):\n",
        "    scores = np.array(scores)\n",
        "    lowest_indices = scores.argsort()[:k]\n",
        "    lowest_scores = scores[lowest_indices]\n",
        "    return list(lowest_scores), list(lowest_indices)\n",
        "\n",
        "low_prec, low_prec_idx = get_lowest_k(bert_result[\"precision\"])\n",
        "low_rec, low_rec_idx   = get_lowest_k(bert_result[\"recall\"])\n",
        "low_f1, low_f1_idx     = get_lowest_k(bert_result[\"f1\"])\n",
        "\n",
        "print(f\"Lowest 5 BERTScore Precision: {low_prec} at indices {low_prec_idx}\")\n",
        "print(f\"Lowest 5 BERTScore Recall: {low_rec} at indices {low_rec_idx}\")\n",
        "print(f\"Lowest 5 BERTScore F1: {low_f1} at indices {low_f1_idx}\")\n",
        "print(f\"Lowest 5 BELU F1: {low_f1} at indices {low_f1_idx}\")"
      ]
    },
    {
      "cell_type": "code",
      "execution_count": null,
      "metadata": {
        "colab": {
          "base_uri": "https://localhost:8080/"
        },
        "id": "sMw26roR-L0U",
        "outputId": "8b2e39e4-a6f0-40b2-a304-8f6d67d1be1c"
      },
      "outputs": [
        {
          "name": "stdout",
          "output_type": "stream",
          "text": [
            "Lowest precision label 65: Keep going at the same speed, decelerate gradually without braking.\n",
            "Lowest precision answer: Keep going straight, go left, go right, go straight, go right, go straight, go right, go straight, go straight, go\n",
            "Lowest precision label 94: There are two traffic elements in the front view. The information of these traffic elements is [(road sign, go straight, 980.11, 559.58, 1026.43, 578.19), (road sign, turn left, 980.11, 559.58, 1026.43, 578.19)].\n",
            "Lowest precision answer: [('CAM_FRONT_LEFT', 'S', 100.0, 100.0, 10\n",
            "Lowest precision label 9: There are many traffic elements in the front view. The information of these traffic elements is [(road sign, go straight, 1010.76, 618.58, 1186.13, 720.46), (road sign, turn right, 1010.76, 618.58, 1186.13, 720.46), (road sign, go straight, 733.46, 511.74, 764.7, 519.99), (road sign, turn left, 733.46, 511.74, 764.7, 519.99), (road sign, turn right, 733.46, 511.74, 764.7, 519.99)].\n",
            "Lowest precision answer: [('car', 'd', 100, 100, 100, 100), ('car\n",
            "Lowest precision label 7: There are many traffic elements in the front view. The information of these traffic elements is [(road sign, go straight, 940.32, 543.31, 985.43, 563.8), (road sign, turn right, 940.32, 543.31, 985.43, 563.8), (road sign, go straight, 879.14, 506.74, 893.64, 513.52), (road sign, turn right, 879.14, 506.74, 893.64, 513.52)].\n",
            "Lowest precision answer: [('car', 'd', 100, 100, 100, 100), ('car\n",
            "Lowest precision label 19: Keep going at the same speed, slightly offset to the left.\n",
            "Lowest precision answer: Keep the ego vehicle at a safe distance from the following vehicle, and keep the ego vehicle at a safe distance from the left and right lane boundaries\n"
          ]
        }
      ],
      "source": [
        "for idx in low_prec_idx:\n",
        "    print(f\"Lowest precision label {idx}: \" + refs[idx] + \"\\nLowest precision answer: \" + preds[idx])"
      ]
    },
    {
      "cell_type": "code",
      "execution_count": null,
      "metadata": {
        "colab": {
          "base_uri": "https://localhost:8080/"
        },
        "id": "--gP5rB2-SzL",
        "outputId": "f8669545-8ceb-4413-e977-6136685d76aa"
      },
      "outputs": [
        {
          "name": "stdout",
          "output_type": "stream",
          "text": [
            "Lowest recall label 9: There are many traffic elements in the front view. The information of these traffic elements is [(road sign, go straight, 1010.76, 618.58, 1186.13, 720.46), (road sign, turn right, 1010.76, 618.58, 1186.13, 720.46), (road sign, go straight, 733.46, 511.74, 764.7, 519.99), (road sign, turn left, 733.46, 511.74, 764.7, 519.99), (road sign, turn right, 733.46, 511.74, 764.7, 519.99)].\n",
            "Lowest recall answer: [('car', 'd', 100, 100, 100, 100), ('car\n",
            "Lowest recall label 7: There are many traffic elements in the front view. The information of these traffic elements is [(road sign, go straight, 940.32, 543.31, 985.43, 563.8), (road sign, turn right, 940.32, 543.31, 985.43, 563.8), (road sign, go straight, 879.14, 506.74, 893.64, 513.52), (road sign, turn right, 879.14, 506.74, 893.64, 513.52)].\n",
            "Lowest recall answer: [('car', 'd', 100, 100, 100, 100), ('car\n",
            "Lowest recall label 94: There are two traffic elements in the front view. The information of these traffic elements is [(road sign, go straight, 980.11, 559.58, 1026.43, 578.19), (road sign, turn left, 980.11, 559.58, 1026.43, 578.19)].\n",
            "Lowest recall answer: [('CAM_FRONT_LEFT', 'S', 100.0, 100.0, 10\n",
            "Lowest recall label 38: Brake gently to a stop or decelerate gradually without braking.\n",
            "Lowest recall answer: Keep the ego vehicle at a constant speed, keep the ego vehicle at a safe distance, and keep the ego vehicle at a safe distance.\n",
            "Lowest recall label 65: Keep going at the same speed, decelerate gradually without braking.\n",
            "Lowest recall answer: Keep going straight, go left, go right, go straight, go right, go straight, go right, go straight, go straight, go\n"
          ]
        }
      ],
      "source": [
        "for idx in low_rec_idx:\n",
        "    print(f\"Lowest recall label {idx}: \" + refs[idx] + \"\\nLowest recall answer: \" + preds[idx])"
      ]
    },
    {
      "cell_type": "code",
      "execution_count": null,
      "metadata": {
        "colab": {
          "base_uri": "https://localhost:8080/"
        },
        "id": "8F0twp6M-Sad",
        "outputId": "a71bd6fc-7602-4fda-dce4-1237f0e19c15"
      },
      "outputs": [
        {
          "name": "stdout",
          "output_type": "stream",
          "text": [
            "Lowest F1 label 9: There are many traffic elements in the front view. The information of these traffic elements is [(road sign, go straight, 1010.76, 618.58, 1186.13, 720.46), (road sign, turn right, 1010.76, 618.58, 1186.13, 720.46), (road sign, go straight, 733.46, 511.74, 764.7, 519.99), (road sign, turn left, 733.46, 511.74, 764.7, 519.99), (road sign, turn right, 733.46, 511.74, 764.7, 519.99)].\n",
            "Lowest F1 answer: [('car', 'd', 100, 100, 100, 100), ('car\n",
            "Lowest F1 label 7: There are many traffic elements in the front view. The information of these traffic elements is [(road sign, go straight, 940.32, 543.31, 985.43, 563.8), (road sign, turn right, 940.32, 543.31, 985.43, 563.8), (road sign, go straight, 879.14, 506.74, 893.64, 513.52), (road sign, turn right, 879.14, 506.74, 893.64, 513.52)].\n",
            "Lowest F1 answer: [('car', 'd', 100, 100, 100, 100), ('car\n",
            "Lowest F1 label 94: There are two traffic elements in the front view. The information of these traffic elements is [(road sign, go straight, 980.11, 559.58, 1026.43, 578.19), (road sign, turn left, 980.11, 559.58, 1026.43, 578.19)].\n",
            "Lowest F1 answer: [('CAM_FRONT_LEFT', 'S', 100.0, 100.0, 10\n",
            "Lowest F1 label 65: Keep going at the same speed, decelerate gradually without braking.\n",
            "Lowest F1 answer: Keep going straight, go left, go right, go straight, go right, go straight, go right, go straight, go straight, go\n",
            "Lowest F1 label 38: Brake gently to a stop or decelerate gradually without braking.\n",
            "Lowest F1 answer: Keep the ego vehicle at a constant speed, keep the ego vehicle at a safe distance, and keep the ego vehicle at a safe distance.\n"
          ]
        }
      ],
      "source": [
        "for idx in low_f1_idx:\n",
        "    print(f\"Lowest F1 label {idx}: \" + refs[idx] + \"\\nLowest F1 answer: \" + preds[idx])"
      ]
    },
    {
      "cell_type": "code",
      "execution_count": null,
      "metadata": {
        "colab": {
          "base_uri": "https://localhost:8080/"
        },
        "id": "qXlZPFzWsX7z",
        "outputId": "a1cba34b-9ea9-4fee-929c-48b1a8d7fa2f"
      },
      "outputs": [
        {
          "data": {
            "text/plain": [
              "['There is one moving car in front of the ego car, one moving car behind the ego car, and three parked cars in front of the ego car.',\n",
              " 'There are many cars and one pedestrian in front of the ego car.',\n",
              " 'Yes.',\n",
              " 'The ego vehicle is going straight. The ego vehicle is not moving.',\n",
              " 'No.',\n",
              " 'None.',\n",
              " 'The pedestrian to the front left of the ego car is moving.',\n",
              " 'There are many traffic elements in the front view. The information of these traffic elements is [(road sign, go straight, 940.32, 543.31, 985.43, 563.8), (road sign, turn right, 940.32, 543.31, 985.43, 563.8), (road sign, go straight, 879.14, 506.74, 893.64, 513.52), (road sign, turn right, 879.14, 506.74, 893.64, 513.52)].',\n",
              " 'The pedestrian in front of the ego car is standing.',\n",
              " 'There are many traffic elements in the front view. The information of these traffic elements is [(road sign, go straight, 1010.76, 618.58, 1186.13, 720.46), (road sign, turn right, 1010.76, 618.58, 1186.13, 720.46), (road sign, go straight, 733.46, 511.74, 764.7, 519.99), (road sign, turn left, 733.46, 511.74, 764.7, 519.99), (road sign, turn right, 733.46, 511.74, 764.7, 519.99)].',\n",
              " 'One pedestrian is standing.',\n",
              " 'Yes.',\n",
              " 'One car is moving.',\n",
              " 'No.',\n",
              " 'The road is narrow, so slow down and proceed.',\n",
              " 'No.',\n",
              " 'Keep going at the same speed, decelerate gradually without braking.',\n",
              " 'There are two cars and many pedestrians behind the ego car.',\n",
              " 'No.',\n",
              " 'Keep going at the same speed, slightly offset to the left.',\n",
              " 'Two of the pedestrians are moving, and one is standing.',\n",
              " 'No.',\n",
              " 'Yes.',\n",
              " 'One of the buses is stopped, and one is moving.',\n",
              " 'No.',\n",
              " 'There is one moving car behind the ego car, two parked cars in front of the ego car, one stopped bus in front of the ego car, one moving bus in front of the ego car, three pedestrians standing to the front left of the ego car, many pedestrians standing to the back left of the ego car, and one pedestrian standing behind the ego car.',\n",
              " 'There are many trailers and two trucks to the back right of the ego car.',\n",
              " 'Two buses are moving.',\n",
              " 'No.',\n",
              " 'Yes.',\n",
              " 'There are many trailers, cars, and trucks behind the ego car.',\n",
              " 'One truck is parked.',\n",
              " 'No.',\n",
              " 'Yes.',\n",
              " 'Keep going at the same speed, accelerate, and continue ahead.',\n",
              " 'The car in front is parked.',\n",
              " 'One of the trucks is parked, and one is moving.',\n",
              " 'Yes.',\n",
              " 'Brake gently to a stop or decelerate gradually without braking.',\n",
              " 'Many cars are parked.',\n",
              " 'There are many cars and one truck to the front left of the ego car.',\n",
              " 'Yes.',\n",
              " 'The ego vehicle is going straight. The ego vehicle is driving fast.',\n",
              " 'The trailer to the front left of the ego car is parked.',\n",
              " 'Yes.',\n",
              " 'Yes.',\n",
              " 'Crosswalk.',\n",
              " 'One motorcycle is without a rider.',\n",
              " 'No.',\n",
              " 'Yes.',\n",
              " 'Yes.',\n",
              " 'There are two buses, many cars, many barriers, and many traffic cones behind the ego car.',\n",
              " 'There are many barriers to the back right of the ego car.',\n",
              " 'Yes.',\n",
              " 'Yes.',\n",
              " 'There are one bus, many cars, many barriers, and many traffic cones to the back of the ego car.',\n",
              " 'One of the cars is moving, and one is parked.',\n",
              " 'Yes.',\n",
              " 'Go straight.',\n",
              " 'One motorcycle is with a rider.',\n",
              " 'No.',\n",
              " 'Yes.',\n",
              " 'One motorcycle is without a rider.',\n",
              " 'The pedestrian to the front left of the ego car is moving.',\n",
              " 'Yes.',\n",
              " 'Keep going at the same speed, decelerate gradually without braking.',\n",
              " 'Two of the cars are parked, and one is moving.',\n",
              " 'Yes.',\n",
              " 'Yes.',\n",
              " 'None.',\n",
              " 'Many pedestrians are moving, and one is standing.',\n",
              " 'One car is parked.',\n",
              " 'Yes.',\n",
              " 'There are many trucks and cars to the back left of the ego car.',\n",
              " 'Three trucks are moving.',\n",
              " 'Yes.',\n",
              " 'Yes.',\n",
              " 'Yes, there are traffic elements in the front view.',\n",
              " 'There are many pedestrians, many cars, one bus, and two traffic cones behind the ego car.',\n",
              " 'There is one pedestrian and many cars to the back left of the ego car.',\n",
              " 'Yes.',\n",
              " 'Yes.',\n",
              " 'Go straight.',\n",
              " 'There is one truck, many barriers, and many cars to the front right of the ego car.',\n",
              " 'Three of the cars are moving, and one is parked.',\n",
              " 'Yes.',\n",
              " 'Yes.',\n",
              " 'Braking suddenly, turning right, backing up, and turning left are dangerous actions for the ego vehicle in this scenario.',\n",
              " 'Many cars are parked, and three are moving.',\n",
              " 'Yes.',\n",
              " 'Yes.',\n",
              " 'Yes.',\n",
              " 'The ego vehicle is slightly steering to the left. The ego vehicle is driving fast.',\n",
              " 'One bus is moving.',\n",
              " 'There are two traffic elements in the front view. The information of these traffic elements is [(road sign, go straight, 980.11, 559.58, 1026.43, 578.19), (road sign, turn left, 980.11, 559.58, 1026.43, 578.19)].',\n",
              " 'There are two pedestrians, one traffic cone, and one construction vehicle to the back right of the ego car.',\n",
              " 'Yes.',\n",
              " 'There is one construction vehicle and two cars behind the ego car.',\n",
              " 'No.',\n",
              " 'Go straight.']"
            ]
          },
          "execution_count": 28,
          "metadata": {},
          "output_type": "execute_result"
        }
      ],
      "source": [
        "refs"
      ]
    },
    {
      "cell_type": "code",
      "execution_count": null,
      "metadata": {
        "colab": {
          "base_uri": "https://localhost:8080/"
        },
        "id": "MiJ_LVwysaXA",
        "outputId": "07bc2464-1d3c-49a3-cbb7-9ae3052f9085"
      },
      "outputs": [
        {
          "data": {
            "text/plain": [
              "['There are two pedestrians, one car, and one fire hydrant in front of the ego vehicle. There are two cars, one pedestrian, and',\n",
              " 'There are two cars in front of the ego car.',\n",
              " 'Yes.',\n",
              " 'The ego vehicle will stop and wait for the traffic ahead to move.',\n",
              " 'No.',\n",
              " 'None.',\n",
              " 'One pedestrian is standing.',\n",
              " \"[('car', 'd', 100, 100, 100, 100), ('car\",\n",
              " 'One pedestrian is standing.',\n",
              " \"[('car', 'd', 100, 100, 100, 100), ('car\",\n",
              " 'One pedestrian is standing.',\n",
              " 'Yes.',\n",
              " 'One car is moving.',\n",
              " 'Yes.',\n",
              " 'Two cars are parked on the side of the road. One car is in front of the other. There are two pedestrians. One pedestrian is in',\n",
              " 'Yes.',\n",
              " 'Keep going straight, go right, and go left.',\n",
              " 'There are many pedestrians to the back of the ego car.',\n",
              " 'No.',\n",
              " 'Keep the ego vehicle at a safe distance from the following vehicle, and keep the ego vehicle at a safe distance from the left and right lane boundaries',\n",
              " 'Many pedestrians are moving.',\n",
              " 'Yes.',\n",
              " 'Yes.',\n",
              " 'One bus is moving, and one bus is parked.',\n",
              " 'No.',\n",
              " 'There are many pedestrians on the left side, and there are two cars on the road.',\n",
              " 'There are two trucks to the back right of the ego car.',\n",
              " 'None.',\n",
              " 'No.',\n",
              " 'Yes.',\n",
              " 'There are many cars and one truck behind the ego car.',\n",
              " 'One truck is parked.',\n",
              " 'No.',\n",
              " 'Yes.',\n",
              " 'Accelerate, brake, or steer.',\n",
              " 'One car is parked.',\n",
              " 'Two trucks are parked.',\n",
              " 'Yes.',\n",
              " 'Keep the ego vehicle at a constant speed, keep the ego vehicle at a safe distance, and keep the ego vehicle at a safe distance.',\n",
              " 'Many cars are parked.',\n",
              " 'There are many cars and one truck to the front left of the ego car.',\n",
              " 'Yes.',\n",
              " 'The ego vehicle will stop at the intersection.',\n",
              " 'One trailer is parked.',\n",
              " 'Yes.',\n",
              " 'Yes.',\n",
              " 'None.',\n",
              " 'The motorcycle is parked.',\n",
              " 'No.',\n",
              " 'Yes.',\n",
              " 'No.',\n",
              " 'There are many cars and one truck behind the ego car.',\n",
              " 'There are two trucks and two cars to the back right of the ego car.',\n",
              " 'Yes.',\n",
              " 'No.',\n",
              " 'There are many cars and one truck behind the ego car.',\n",
              " 'Many cars are parked.',\n",
              " 'Yes.',\n",
              " 'Stationary.',\n",
              " 'One motorcycle is moving.',\n",
              " 'Yes.',\n",
              " 'Yes.',\n",
              " 'The motorcycle is parked.',\n",
              " 'One pedestrian is moving.',\n",
              " 'Yes.',\n",
              " 'Keep going straight, go left, go right, go straight, go right, go straight, go right, go straight, go straight, go',\n",
              " 'Two cars are parked.',\n",
              " 'Yes.',\n",
              " 'Yes.',\n",
              " 'None.',\n",
              " 'Many pedestrians are moving.',\n",
              " 'One car is moving.',\n",
              " 'Yes.',\n",
              " 'There are many cars and one truck to the back left of the ego car.',\n",
              " 'Two trucks are moving.',\n",
              " 'Yes.',\n",
              " 'No.',\n",
              " 'Yes, there are many traffic elements in the front view.',\n",
              " 'There are many cars and one truck behind the ego car.',\n",
              " 'There are many cars and one truck to the back left of the ego car.',\n",
              " 'Yes.',\n",
              " 'No.',\n",
              " 'Stationary.',\n",
              " 'There are many cars and one truck in front of the ego car.',\n",
              " 'Many cars are parked.',\n",
              " 'Yes.',\n",
              " 'Yes.',\n",
              " 'Accelerate, turn right, and go straight.',\n",
              " 'Many cars are parked.',\n",
              " 'Yes.',\n",
              " 'Yes.',\n",
              " 'Yes.',\n",
              " 'The ego vehicle is going straight.',\n",
              " 'One bus is moving.',\n",
              " \"[('CAM_FRONT_LEFT', 'S', 100.0, 100.0, 10\",\n",
              " 'There are two cars and one truck to the back right of the ego car.',\n",
              " 'Yes.',\n",
              " 'There are two cars, one motorcycle, and one bus to the back of the ego car.',\n",
              " 'Yes.',\n",
              " 'Go straight.']"
            ]
          },
          "execution_count": 29,
          "metadata": {},
          "output_type": "execute_result"
        }
      ],
      "source": [
        "preds"
      ]
    }
  ],
  "metadata": {
    "accelerator": "GPU",
    "colab": {
      "collapsed_sections": [
        "Q64kCIOhbkAj"
      ],
      "gpuType": "T4",
      "provenance": []
    },
    "kernelspec": {
      "display_name": "Python 3",
      "name": "python3"
    },
    "language_info": {
      "name": "python"
    }
  },
  "nbformat": 4,
  "nbformat_minor": 0
}