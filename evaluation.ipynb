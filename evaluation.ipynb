{
  "cells": [
    {
      "cell_type": "code",
      "execution_count": 1,
      "metadata": {
        "colab": {
          "base_uri": "https://localhost:8080/"
        },
        "id": "mZOI4wRYZsHD",
        "outputId": "1072b5f6-2986-4638-ea34-2857e5fb5b11"
      },
      "outputs": [
        {
          "output_type": "stream",
          "name": "stdout",
          "text": [
            "\u001b[?25l   \u001b[90m━━━━━━━━━━━━━━━━━━━━━━━━━━━━━━━━━━━━━━━━\u001b[0m \u001b[32m0.0/84.1 kB\u001b[0m \u001b[31m?\u001b[0m eta \u001b[36m-:--:--\u001b[0m\r\u001b[2K   \u001b[90m━━━━━━━━━━━━━━━━━━━━━━━━━━━━━━━━━━━━━━━━\u001b[0m \u001b[32m84.1/84.1 kB\u001b[0m \u001b[31m4.9 MB/s\u001b[0m eta \u001b[36m0:00:00\u001b[0m\n",
            "\u001b[?25h\u001b[?25l   \u001b[90m━━━━━━━━━━━━━━━━━━━━━━━━━━━━━━━━━━━━━━━━\u001b[0m \u001b[32m0.0/61.1 kB\u001b[0m \u001b[31m?\u001b[0m eta \u001b[36m-:--:--\u001b[0m\r\u001b[2K   \u001b[90m━━━━━━━━━━━━━━━━━━━━━━━━━━━━━━━━━━━━━━━━\u001b[0m \u001b[32m61.1/61.1 kB\u001b[0m \u001b[31m6.3 MB/s\u001b[0m eta \u001b[36m0:00:00\u001b[0m\n",
            "\u001b[?25h"
          ]
        }
      ],
      "source": [
        "!pip install -q evaluate bert_score"
      ]
    },
    {
      "cell_type": "code",
      "execution_count": 2,
      "metadata": {
        "id": "wRJBwxFVZrED"
      },
      "outputs": [],
      "source": [
        "import torch\n",
        "from PIL import Image\n",
        "import torch\n",
        "\n",
        "from transformers.modeling_outputs import BaseModelOutput\n",
        "import matplotlib.pyplot as plt\n",
        "import numpy as np\n",
        "from functools import partial\n",
        "from huggingface_hub import PyTorchModelHubMixin"
      ]
    },
    {
      "cell_type": "markdown",
      "metadata": {
        "id": "_sYG1uAr6UEm"
      },
      "source": [
        "# Load Test Predictions"
      ]
    },
    {
      "cell_type": "code",
      "execution_count": 14,
      "metadata": {
        "id": "YgkgYcRU6UEn"
      },
      "outputs": [],
      "source": [
        "from datasets import load_dataset\n",
        "\n",
        "raw_results = load_dataset(\"MehdiJmlkh/SmolVLM-Results\", split=\"train\")\n",
        "fine_tune_results = load_dataset(\"MehdiJmlkh/SmolVLM-FT-Results\", split=\"train\")\n",
        "smol_driver_results = load_dataset(\"MehdiJmlkh/SmolDriver-Results\", split=\"train\")"
      ]
    },
    {
      "cell_type": "markdown",
      "source": [
        "# Load Metrics"
      ],
      "metadata": {
        "id": "XLRrm1mE29JT"
      }
    },
    {
      "cell_type": "code",
      "source": [
        "import evaluate\n",
        "bleu=evaluate.load(\"bleu\")\n",
        "bertscore=evaluate.load(\"bertscore\")"
      ],
      "metadata": {
        "id": "EBtd2PI026ly"
      },
      "execution_count": 34,
      "outputs": []
    },
    {
      "cell_type": "code",
      "execution_count": 38,
      "metadata": {
        "id": "LwULvzuwjPaX"
      },
      "outputs": [],
      "source": [
        "class Evaluate:\n",
        "    def __init__(self, results) -> None:\n",
        "        self.preds = list(results[\"prediction\"])\n",
        "        self.refs = list(results[\"answer\"])\n",
        "        self.questions = list(results[\"question\"])\n",
        "\n",
        "        self.bleu_result = bleu.compute(predictions=self.preds, references=self.refs)\n",
        "        self.bert_result = bertscore.compute(predictions=self.preds, references=self.refs, lang=\"en\")\n",
        "\n",
        "    def get_avg_scores(self):\n",
        "        scores = {\n",
        "              \"BLEU\": self.bleu_result[\"bleu\"],\n",
        "              \"BERTScore_P\": sum(self.bert_result[\"precision\"]) / len(self.bert_result[\"precision\"]),\n",
        "              \"BERTScore_R\": sum(self.bert_result[\"recall\"]) / len(self.bert_result[\"recall\"]),\n",
        "              \"BERTScore_F1\": sum(self.bert_result[\"f1\"]) / len(self.bert_result[\"f1\"])\n",
        "        }\n",
        "        return scores\n",
        "\n",
        "    def print_lowest_bert(self, score_type, k=5):\n",
        "        lowest_scores, lowest_indexes = self.__get_lowest_k(self.bert_result[score_type], k)\n",
        "\n",
        "        for idx, score in zip(lowest_indexes, lowest_scores):\n",
        "            print(f\"{score_type} score:\", score)\n",
        "            print(\"Index:\" ,idx)\n",
        "            print(\"Question:\", self.questions[idx])\n",
        "            print(f\"Label:\", self.refs[idx])\n",
        "            print(f\"Answer:\", self.preds[idx])\n",
        "            print(\"-\" * 50)\n",
        "\n",
        "    def __get_lowest_k(self, scores, k=5):\n",
        "        scores = np.array(scores)\n",
        "        lowest_indices = scores.argsort()[:k]\n",
        "        lowest_scores = scores[lowest_indices]\n",
        "        return list(lowest_scores), list(lowest_indices)"
      ]
    },
    {
      "cell_type": "code",
      "source": [
        "raw_eval = Evaluate(raw_results)\n",
        "raw_eval.get_avg_scores()"
      ],
      "metadata": {
        "id": "RdT2yC0s6rGX",
        "outputId": "11296d9f-8482-42b9-97cd-febda38ee363",
        "colab": {
          "base_uri": "https://localhost:8080/"
        }
      },
      "execution_count": 12,
      "outputs": [
        {
          "output_type": "execute_result",
          "data": {
            "text/plain": [
              "{'BLEU': 0.08854275399540497,\n",
              " 'BERTScore_P': 0.8701746625111515,\n",
              " 'BERTScore_R': 0.9164209641012034,\n",
              " 'BERTScore_F1': 0.8921452242628972}"
            ]
          },
          "metadata": {},
          "execution_count": 12
        }
      ]
    },
    {
      "cell_type": "code",
      "execution_count": 15,
      "metadata": {
        "colab": {
          "base_uri": "https://localhost:8080/"
        },
        "id": "GKkxKA-npcrX",
        "outputId": "dd761f7b-3612-477b-8725-f9aeada5db18"
      },
      "outputs": [
        {
          "output_type": "execute_result",
          "data": {
            "text/plain": [
              "{'BLEU': 0.185222515450203,\n",
              " 'BERTScore_P': 0.9430369230141317,\n",
              " 'BERTScore_R': 0.9381485501626381,\n",
              " 'BERTScore_F1': 0.9402770299212377}"
            ]
          },
          "metadata": {},
          "execution_count": 15
        }
      ],
      "source": [
        "fine_tune_eval = Evaluate(fine_tune_results)\n",
        "fine_tune_eval.get_avg_scores()"
      ]
    },
    {
      "cell_type": "code",
      "execution_count": 39,
      "metadata": {
        "colab": {
          "base_uri": "https://localhost:8080/"
        },
        "id": "YKwkPJwbprli",
        "outputId": "2d6408c6-a908-4875-ebc7-568c20f3f187"
      },
      "outputs": [
        {
          "output_type": "execute_result",
          "data": {
            "text/plain": [
              "{'BLEU': 0.3536571369006748,\n",
              " 'BERTScore_P': 0.971374602828707,\n",
              " 'BERTScore_R': 0.9586761032728325,\n",
              " 'BERTScore_F1': 0.9647547295667175}"
            ]
          },
          "metadata": {},
          "execution_count": 39
        }
      ],
      "source": [
        "smol_driver_eval = Evaluate(smol_driver_results)\n",
        "smol_driver_eval.get_avg_scores()"
      ]
    },
    {
      "cell_type": "code",
      "source": [
        "smol_driver_eval.print_lowest_bert(\"precision\")"
      ],
      "metadata": {
        "id": "4ANnJGcG0fUo",
        "outputId": "a7bde96e-7fd6-45c9-97de-61f531940953",
        "colab": {
          "base_uri": "https://localhost:8080/"
        }
      },
      "execution_count": 40,
      "outputs": [
        {
          "output_type": "stream",
          "name": "stdout",
          "text": [
            "precision score: 0.7873366475105286\n",
            "Index: 719\n",
            "Question: What is the traffic signal that the ego vehicle should pay attention to?\n",
            "Label: None.\n",
            "Answer: There is one pedestrian to the ego vehicle to the front left of the ego vehicle to the front left of the ego vehicle to the front left of the ego vehicle\n",
            "--------------------------------------------------\n",
            "precision score: 0.8320485949516296\n",
            "Index: 698\n",
            "Question: In this scenario, what are dangerous actions to take for the ego vehicle?\n",
            "Label: Back up, brake suddenly.\n",
            "Answer: Accelerate and go ahead, turn left, and turn right are dangerous actions to take for the ego vehicle in this scenario.\n",
            "--------------------------------------------------\n",
            "precision score: 0.8441762924194336\n",
            "Index: 718\n",
            "Question: Are there motorcycles without riders to the front left of the ego car?\n",
            "Label: No.\n",
            "Answer: There are many pedestrians to the front left of the ego car.\n",
            "--------------------------------------------------\n",
            "precision score: 0.8468424081802368\n",
            "Index: 797\n",
            "Question: In this scenario, what are dangerous actions to take for the ego vehicle?\n",
            "Label: Back up, brake suddenly.\n",
            "Answer: Accelerate and go ahead, turn left, and turn right.\n",
            "--------------------------------------------------\n",
            "precision score: 0.8496174216270447\n",
            "Index: 359\n",
            "Question: In this scenario, what are safe actions to take for the ego vehicle?\n",
            "Label: Brake suddenly, slightly offset to the left.\n",
            "Answer: Keep going at the same speed, decelerate gradually without braking.\n",
            "--------------------------------------------------\n"
          ]
        }
      ]
    },
    {
      "cell_type": "code",
      "source": [
        "smol_driver_eval.print_lowest_bert(\"recall\")"
      ],
      "metadata": {
        "id": "9myuu7yX2aKM",
        "outputId": "6245e095-5d28-4b33-8b8b-c9699d621880",
        "colab": {
          "base_uri": "https://localhost:8080/"
        }
      },
      "execution_count": 41,
      "outputs": [
        {
          "output_type": "stream",
          "name": "stdout",
          "text": [
            "recall score: 0.7433418035507202\n",
            "Index: 452\n",
            "Question: Identify all the traffic elements in the front view, categorize them, determine their status, and predict the bounding box around each one. The output should be a list formatted as (c, s, x1, y1, x2, y2), where c represents the category, s denotes the status, and x1, y1, x2, y2 are the offsets of the top-left and bottom-right corners of the box relative to the center point.\n",
            "Label: There are three traffic elements in the front view. The information of these traffic elements is [(traffic light, unknown, 881.77, 462.69, 889.48, 477.31), (traffic light, red, 692.64, 442.39, 699.31, 459.03), (traffic light, red, 684.74, 406.2, 705.7, 414.91)].\n",
            "Answer: None.\n",
            "--------------------------------------------------\n",
            "recall score: 0.7548848390579224\n",
            "Index: 661\n",
            "Question: Identify all the traffic elements in the front view, categorize them, determine their status, and predict the bounding box around each one. The output should be a list formatted as (c, s, x1, y1, x2, y2), where c represents the category, s denotes the status, and x1, y1, x2, y2 are the offsets of the top-left and bottom-right corners of the box relative to the center point.\n",
            "Label: There are many traffic elements in the front view. The information of these traffic elements is [(traffic light, red, 1128.53, 360.19, 1141.75, 394.88), (traffic light, unknown, 1128.4, 407.96, 1142.1, 422.68), (traffic light, red, 691.54, 372.1, 705.42, 407.05), (traffic light, red, 523.53, 364.09, 539.36, 406.31), (traffic light, unknown, 546.41, 365.55, 562.14, 402.49), (traffic light, unknown, 881.31, 444.06, 887.69, 457.19), (traffic light, red, 866.6, 431.5, 871.81, 442.97), (traffic light, unknown, 800.74, 443.22, 806.9, 449.49), (traffic light, unknown, 21.33, 169.93, 69.75, 258.13), (traffic light, unknown, 702.75, 374.18, 714.12, 404.89)].\n",
            "Answer: There are many traffic elements in the front view. The information of these traffic elements is [(road sign, go straight, 100.0, \n",
            "--------------------------------------------------\n",
            "recall score: 0.771547794342041\n",
            "Index: 258\n",
            "Question: Identify all the traffic elements in the front view, categorize them, determine their status, and predict the bounding box around each one. The output should be a list formatted as (c, s, x1, y1, x2, y2), where c represents the category, s denotes the status, and x1, y1, x2, y2 are the offsets of the top-left and bottom-right corners of the box relative to the center point.\n",
            "Label: There are many traffic elements in the front view. The information of these traffic elements is [(traffic light, red, 287.75, 266.74, 327.05, 348.66), (traffic light, red, 211.61, 271.35, 255.38, 359.43), (traffic light, red, 427.66, 394.49, 449.97, 416.26), (traffic light, red, 406.19, 383.57, 426.72, 404.79), (traffic light, green, 1262.81, 381.59, 1282.6, 425.58), (traffic light, green, 1121.47, 405.72, 1138.9, 447.01), (traffic light, red, 1279.36, 385.68, 1307.1, 408.85), (traffic light, red, 1093.61, 399.04, 1115.86, 417.67)].\n",
            "Answer: There is one traffic element in the front view. The information of this traffic element is [(road sign, go straight, 1000.0,\n",
            "--------------------------------------------------\n",
            "recall score: 0.7737718820571899\n",
            "Index: 1288\n",
            "Question: Identify all the traffic elements in the front view, categorize them, determine their status, and predict the bounding box around each one. The output should be a list formatted as (c, s, x1, y1, x2, y2), where c represents the category, s denotes the status, and x1, y1, x2, y2 are the offsets of the top-left and bottom-right corners of the box relative to the center point.\n",
            "Label: There are many traffic elements in the front view. The information of these traffic elements is [(traffic light, unknown, 871.78, 441.69, 878.59, 455.92), (traffic light, unknown, 826.73, 445.41, 832.94, 459.46), (traffic light, unknown, 852.83, 454.58, 857.89, 466.49), (traffic light, unknown, 795.68, 481.79, 801.46, 494.14), (traffic light, unknown, 742.31, 459.44, 746.25, 470.66), (traffic light, unknown, 721.46, 457.21, 725.51, 467.84)].\n",
            "Answer: There is one traffic element in the front view. The information of this traffic element is [(road sign, go straight, 100.0, \n",
            "--------------------------------------------------\n",
            "recall score: 0.7740264534950256\n",
            "Index: 941\n",
            "Question: Identify all the traffic elements in the front view, categorize them, determine their status, and predict the bounding box around each one. The output should be a list formatted as (c, s, x1, y1, x2, y2), where c represents the category, s denotes the status, and x1, y1, x2, y2 are the offsets of the top-left and bottom-right corners of the box relative to the center point.\n",
            "Label: There are many traffic elements in the front view. The information of these traffic elements is [(traffic light, unknown, 661.88, 421.77, 669.78, 437.38), (traffic light, unknown, 698.83, 419.3, 705.78, 436.82), (traffic light, red, 774.1, 427.12, 783.89, 440.27), (traffic light, red, 804.09, 427.4, 810.32, 440.46), (traffic light, unknown, 715.74, 445.85, 720.24, 453.67), (traffic light, unknown, 738.31, 444.14, 742.8, 452.77), (traffic light, unknown, 760.85, 443.71, 765.2, 452.41), (traffic light, unknown, 816.01, 443.8, 820.17, 452.24)].\n",
            "Answer: There are many traffic elements in the front view. The information of these traffic elements is [(road sign, red, unknown, unknown, unknown, unknown), (\n",
            "--------------------------------------------------\n"
          ]
        }
      ]
    },
    {
      "cell_type": "code",
      "source": [
        "smol_driver_eval.print_lowest_bert(\"f1\")"
      ],
      "metadata": {
        "id": "zDUdWHTa2jmD",
        "outputId": "1fb4f24d-782b-4a7a-fd44-e1bc3ecd0f48",
        "colab": {
          "base_uri": "https://localhost:8080/"
        }
      },
      "execution_count": 42,
      "outputs": [
        {
          "output_type": "stream",
          "name": "stdout",
          "text": [
            "f1 score: 0.8231935501098633\n",
            "Index: 661\n",
            "Question: Identify all the traffic elements in the front view, categorize them, determine their status, and predict the bounding box around each one. The output should be a list formatted as (c, s, x1, y1, x2, y2), where c represents the category, s denotes the status, and x1, y1, x2, y2 are the offsets of the top-left and bottom-right corners of the box relative to the center point.\n",
            "Label: There are many traffic elements in the front view. The information of these traffic elements is [(traffic light, red, 1128.53, 360.19, 1141.75, 394.88), (traffic light, unknown, 1128.4, 407.96, 1142.1, 422.68), (traffic light, red, 691.54, 372.1, 705.42, 407.05), (traffic light, red, 523.53, 364.09, 539.36, 406.31), (traffic light, unknown, 546.41, 365.55, 562.14, 402.49), (traffic light, unknown, 881.31, 444.06, 887.69, 457.19), (traffic light, red, 866.6, 431.5, 871.81, 442.97), (traffic light, unknown, 800.74, 443.22, 806.9, 449.49), (traffic light, unknown, 21.33, 169.93, 69.75, 258.13), (traffic light, unknown, 702.75, 374.18, 714.12, 404.89)].\n",
            "Answer: There are many traffic elements in the front view. The information of these traffic elements is [(road sign, go straight, 100.0, \n",
            "--------------------------------------------------\n",
            "f1 score: 0.8269336819648743\n",
            "Index: 452\n",
            "Question: Identify all the traffic elements in the front view, categorize them, determine their status, and predict the bounding box around each one. The output should be a list formatted as (c, s, x1, y1, x2, y2), where c represents the category, s denotes the status, and x1, y1, x2, y2 are the offsets of the top-left and bottom-right corners of the box relative to the center point.\n",
            "Label: There are three traffic elements in the front view. The information of these traffic elements is [(traffic light, unknown, 881.77, 462.69, 889.48, 477.31), (traffic light, red, 692.64, 442.39, 699.31, 459.03), (traffic light, red, 684.74, 406.2, 705.7, 414.91)].\n",
            "Answer: None.\n",
            "--------------------------------------------------\n",
            "f1 score: 0.829790472984314\n",
            "Index: 258\n",
            "Question: Identify all the traffic elements in the front view, categorize them, determine their status, and predict the bounding box around each one. The output should be a list formatted as (c, s, x1, y1, x2, y2), where c represents the category, s denotes the status, and x1, y1, x2, y2 are the offsets of the top-left and bottom-right corners of the box relative to the center point.\n",
            "Label: There are many traffic elements in the front view. The information of these traffic elements is [(traffic light, red, 287.75, 266.74, 327.05, 348.66), (traffic light, red, 211.61, 271.35, 255.38, 359.43), (traffic light, red, 427.66, 394.49, 449.97, 416.26), (traffic light, red, 406.19, 383.57, 426.72, 404.79), (traffic light, green, 1262.81, 381.59, 1282.6, 425.58), (traffic light, green, 1121.47, 405.72, 1138.9, 447.01), (traffic light, red, 1279.36, 385.68, 1307.1, 408.85), (traffic light, red, 1093.61, 399.04, 1115.86, 417.67)].\n",
            "Answer: There is one traffic element in the front view. The information of this traffic element is [(road sign, go straight, 1000.0,\n",
            "--------------------------------------------------\n",
            "f1 score: 0.8337963223457336\n",
            "Index: 1288\n",
            "Question: Identify all the traffic elements in the front view, categorize them, determine their status, and predict the bounding box around each one. The output should be a list formatted as (c, s, x1, y1, x2, y2), where c represents the category, s denotes the status, and x1, y1, x2, y2 are the offsets of the top-left and bottom-right corners of the box relative to the center point.\n",
            "Label: There are many traffic elements in the front view. The information of these traffic elements is [(traffic light, unknown, 871.78, 441.69, 878.59, 455.92), (traffic light, unknown, 826.73, 445.41, 832.94, 459.46), (traffic light, unknown, 852.83, 454.58, 857.89, 466.49), (traffic light, unknown, 795.68, 481.79, 801.46, 494.14), (traffic light, unknown, 742.31, 459.44, 746.25, 470.66), (traffic light, unknown, 721.46, 457.21, 725.51, 467.84)].\n",
            "Answer: There is one traffic element in the front view. The information of this traffic element is [(road sign, go straight, 100.0, \n",
            "--------------------------------------------------\n",
            "f1 score: 0.8383136987686157\n",
            "Index: 941\n",
            "Question: Identify all the traffic elements in the front view, categorize them, determine their status, and predict the bounding box around each one. The output should be a list formatted as (c, s, x1, y1, x2, y2), where c represents the category, s denotes the status, and x1, y1, x2, y2 are the offsets of the top-left and bottom-right corners of the box relative to the center point.\n",
            "Label: There are many traffic elements in the front view. The information of these traffic elements is [(traffic light, unknown, 661.88, 421.77, 669.78, 437.38), (traffic light, unknown, 698.83, 419.3, 705.78, 436.82), (traffic light, red, 774.1, 427.12, 783.89, 440.27), (traffic light, red, 804.09, 427.4, 810.32, 440.46), (traffic light, unknown, 715.74, 445.85, 720.24, 453.67), (traffic light, unknown, 738.31, 444.14, 742.8, 452.77), (traffic light, unknown, 760.85, 443.71, 765.2, 452.41), (traffic light, unknown, 816.01, 443.8, 820.17, 452.24)].\n",
            "Answer: There are many traffic elements in the front view. The information of these traffic elements is [(road sign, red, unknown, unknown, unknown, unknown), (\n",
            "--------------------------------------------------\n"
          ]
        }
      ]
    }
  ],
  "metadata": {
    "accelerator": "GPU",
    "colab": {
      "collapsed_sections": [
        "Q64kCIOhbkAj"
      ],
      "gpuType": "T4",
      "provenance": []
    },
    "kernelspec": {
      "display_name": "Python 3",
      "name": "python3"
    },
    "language_info": {
      "name": "python"
    }
  },
  "nbformat": 4,
  "nbformat_minor": 0
}