{
  "cells": [
    {
      "cell_type": "code",
      "execution_count": 2,
      "metadata": {
        "colab": {
          "base_uri": "https://localhost:8080/"
        },
        "id": "je5LvVwCX141",
        "outputId": "489f9057-b0bf-4709-bd39-8751285559c5"
      },
      "outputs": [
        {
          "output_type": "stream",
          "name": "stdout",
          "text": [
            "\u001b[?25l     \u001b[90m━━━━━━━━━━━━━━━━━━━━━━━━━━━━━━━━━━━━━━━━\u001b[0m \u001b[32m0.0/41.7 kB\u001b[0m \u001b[31m?\u001b[0m eta \u001b[36m-:--:--\u001b[0m\r\u001b[2K     \u001b[90m━━━━━━━━━━━━━━━━━━━━━━━━━━━━━━━━━━━━━━━━\u001b[0m \u001b[32m41.7/41.7 kB\u001b[0m \u001b[31m1.5 MB/s\u001b[0m eta \u001b[36m0:00:00\u001b[0m\n",
            "\u001b[?25h  Preparing metadata (setup.py) ... \u001b[?25l\u001b[?25hdone\n",
            "\u001b[2K     \u001b[90m━━━━━━━━━━━━━━━━━━━━━━━━━━━━━━━━━━━━━━━━\u001b[0m \u001b[32m41.1/41.1 kB\u001b[0m \u001b[31m3.4 MB/s\u001b[0m eta \u001b[36m0:00:00\u001b[0m\n",
            "\u001b[2K     \u001b[90m━━━━━━━━━━━━━━━━━━━━━━━━━━━━━━━━━━━━━━━━\u001b[0m \u001b[32m9.7/9.7 MB\u001b[0m \u001b[31m59.3 MB/s\u001b[0m eta \u001b[36m0:00:00\u001b[0m\n",
            "\u001b[?25h  Installing build dependencies ... \u001b[?25l\u001b[?25hdone\n",
            "  Getting requirements to build wheel ... \u001b[?25l\u001b[?25hdone\n",
            "  Preparing metadata (pyproject.toml) ... \u001b[?25l\u001b[?25hdone\n",
            "\u001b[2K     \u001b[90m━━━━━━━━━━━━━━━━━━━━━━━━━━━━━━━━━━━━━━━━\u001b[0m \u001b[32m61.0/61.0 kB\u001b[0m \u001b[31m6.2 MB/s\u001b[0m eta \u001b[36m0:00:00\u001b[0m\n",
            "\u001b[2K   \u001b[90m━━━━━━━━━━━━━━━━━━━━━━━━━━━━━━━━━━━━━━━━\u001b[0m \u001b[32m11.2/11.2 MB\u001b[0m \u001b[31m58.0 MB/s\u001b[0m eta \u001b[36m0:00:00\u001b[0m\n",
            "\u001b[2K   \u001b[90m━━━━━━━━━━━━━━━━━━━━━━━━━━━━━━━━━━━━━━━━\u001b[0m \u001b[32m163.5/163.5 kB\u001b[0m \u001b[31m15.4 MB/s\u001b[0m eta \u001b[36m0:00:00\u001b[0m\n",
            "\u001b[2K   \u001b[90m━━━━━━━━━━━━━━━━━━━━━━━━━━━━━━━━━━━━━━━━\u001b[0m \u001b[32m617.4/617.4 kB\u001b[0m \u001b[31m28.6 MB/s\u001b[0m eta \u001b[36m0:00:00\u001b[0m\n",
            "\u001b[2K   \u001b[90m━━━━━━━━━━━━━━━━━━━━━━━━━━━━━━━━━━━━━━━━\u001b[0m \u001b[32m298.0/298.0 kB\u001b[0m \u001b[31m28.2 MB/s\u001b[0m eta \u001b[36m0:00:00\u001b[0m\n",
            "\u001b[2K   \u001b[90m━━━━━━━━━━━━━━━━━━━━━━━━━━━━━━━━━━━━━━━━\u001b[0m \u001b[32m363.4/363.4 MB\u001b[0m \u001b[31m4.9 MB/s\u001b[0m eta \u001b[36m0:00:00\u001b[0m\n",
            "\u001b[2K   \u001b[90m━━━━━━━━━━━━━━━━━━━━━━━━━━━━━━━━━━━━━━━━\u001b[0m \u001b[32m13.8/13.8 MB\u001b[0m \u001b[31m49.7 MB/s\u001b[0m eta \u001b[36m0:00:00\u001b[0m\n",
            "\u001b[2K   \u001b[90m━━━━━━━━━━━━━━━━━━━━━━━━━━━━━━━━━━━━━━━━\u001b[0m \u001b[32m24.6/24.6 MB\u001b[0m \u001b[31m52.6 MB/s\u001b[0m eta \u001b[36m0:00:00\u001b[0m\n",
            "\u001b[2K   \u001b[90m━━━━━━━━━━━━━━━━━━━━━━━━━━━━━━━━━━━━━━━━\u001b[0m \u001b[32m883.7/883.7 kB\u001b[0m \u001b[31m49.1 MB/s\u001b[0m eta \u001b[36m0:00:00\u001b[0m\n",
            "\u001b[2K   \u001b[90m━━━━━━━━━━━━━━━━━━━━━━━━━━━━━━━━━━━━━━━━\u001b[0m \u001b[32m664.8/664.8 MB\u001b[0m \u001b[31m1.5 MB/s\u001b[0m eta \u001b[36m0:00:00\u001b[0m\n",
            "\u001b[2K   \u001b[90m━━━━━━━━━━━━━━━━━━━━━━━━━━━━━━━━━━━━━━━━\u001b[0m \u001b[32m211.5/211.5 MB\u001b[0m \u001b[31m5.9 MB/s\u001b[0m eta \u001b[36m0:00:00\u001b[0m\n",
            "\u001b[2K   \u001b[90m━━━━━━━━━━━━━━━━━━━━━━━━━━━━━━━━━━━━━━━━\u001b[0m \u001b[32m56.3/56.3 MB\u001b[0m \u001b[31m15.3 MB/s\u001b[0m eta \u001b[36m0:00:00\u001b[0m\n",
            "\u001b[2K   \u001b[90m━━━━━━━━━━━━━━━━━━━━━━━━━━━━━━━━━━━━━━━━\u001b[0m \u001b[32m127.9/127.9 MB\u001b[0m \u001b[31m9.1 MB/s\u001b[0m eta \u001b[36m0:00:00\u001b[0m\n",
            "\u001b[2K   \u001b[90m━━━━━━━━━━━━━━━━━━━━━━━━━━━━━━━━━━━━━━━━\u001b[0m \u001b[32m207.5/207.5 MB\u001b[0m \u001b[31m8.9 MB/s\u001b[0m eta \u001b[36m0:00:00\u001b[0m\n",
            "\u001b[2K   \u001b[90m━━━━━━━━━━━━━━━━━━━━━━━━━━━━━━━━━━━━━━━━\u001b[0m \u001b[32m21.1/21.1 MB\u001b[0m \u001b[31m88.4 MB/s\u001b[0m eta \u001b[36m0:00:00\u001b[0m\n",
            "\u001b[2K   \u001b[90m━━━━━━━━━━━━━━━━━━━━━━━━━━━━━━━━━━━━━━━━\u001b[0m \u001b[32m533.8/533.8 kB\u001b[0m \u001b[31m40.6 MB/s\u001b[0m eta \u001b[36m0:00:00\u001b[0m\n",
            "\u001b[2K   \u001b[90m━━━━━━━━━━━━━━━━━━━━━━━━━━━━━━━━━━━━━━━━\u001b[0m \u001b[32m101.8/101.8 kB\u001b[0m \u001b[31m10.6 MB/s\u001b[0m eta \u001b[36m0:00:00\u001b[0m\n",
            "\u001b[2K   \u001b[90m━━━━━━━━━━━━━━━━━━━━━━━━━━━━━━━━━━━━━━━━\u001b[0m \u001b[32m302.2/302.2 kB\u001b[0m \u001b[31m25.9 MB/s\u001b[0m eta \u001b[36m0:00:00\u001b[0m\n",
            "\u001b[2K   \u001b[90m━━━━━━━━━━━━━━━━━━━━━━━━━━━━━━━━━━━━━━━━\u001b[0m \u001b[32m13.3/13.3 MB\u001b[0m \u001b[31m92.3 MB/s\u001b[0m eta \u001b[36m0:00:00\u001b[0m\n",
            "\u001b[2K   \u001b[90m━━━━━━━━━━━━━━━━━━━━━━━━━━━━━━━━━━━━━━━━\u001b[0m \u001b[32m1.2/1.2 MB\u001b[0m \u001b[31m64.7 MB/s\u001b[0m eta \u001b[36m0:00:00\u001b[0m\n",
            "\u001b[2K   \u001b[90m━━━━━━━━━━━━━━━━━━━━━━━━━━━━━━━━━━━━━━━━\u001b[0m \u001b[32m72.9/72.9 MB\u001b[0m \u001b[31m10.9 MB/s\u001b[0m eta \u001b[36m0:00:00\u001b[0m\n",
            "\u001b[2K   \u001b[90m━━━━━━━━━━━━━━━━━━━━━━━━━━━━━━━━━━━━━━━━\u001b[0m \u001b[32m61.6/61.6 kB\u001b[0m \u001b[31m6.4 MB/s\u001b[0m eta \u001b[36m0:00:00\u001b[0m\n",
            "\u001b[2K   \u001b[90m━━━━━━━━━━━━━━━━━━━━━━━━━━━━━━━━━━━━━━━━\u001b[0m \u001b[32m158.8/158.8 kB\u001b[0m \u001b[31m15.7 MB/s\u001b[0m eta \u001b[36m0:00:00\u001b[0m\n",
            "\u001b[2K   \u001b[90m━━━━━━━━━━━━━━━━━━━━━━━━━━━━━━━━━━━━━━━━\u001b[0m \u001b[32m47.8/47.8 kB\u001b[0m \u001b[31m4.9 MB/s\u001b[0m eta \u001b[36m0:00:00\u001b[0m\n",
            "\u001b[2K   \u001b[90m━━━━━━━━━━━━━━━━━━━━━━━━━━━━━━━━━━━━━━━━\u001b[0m \u001b[32m103.0/103.0 kB\u001b[0m \u001b[31m10.6 MB/s\u001b[0m eta \u001b[36m0:00:00\u001b[0m\n",
            "\u001b[2K   \u001b[90m━━━━━━━━━━━━━━━━━━━━━━━━━━━━━━━━━━━━━━━━\u001b[0m \u001b[32m45.2/45.2 kB\u001b[0m \u001b[31m4.5 MB/s\u001b[0m eta \u001b[36m0:00:00\u001b[0m\n",
            "\u001b[?25h  Building wheel for docopt (setup.py) ... \u001b[?25l\u001b[?25hdone\n",
            "  Building wheel for litellm (pyproject.toml) ... \u001b[?25l\u001b[?25hdone\n",
            "\u001b[31mERROR: pip's dependency resolver does not currently take into account all the packages that are installed. This behaviour is the source of the following dependency conflicts.\n",
            "umap-learn 0.5.9.post2 requires scikit-learn>=1.6, but you have scikit-learn 1.5.2 which is incompatible.\u001b[0m\u001b[31m\n",
            "\u001b[0m"
          ]
        }
      ],
      "source": [
        "!pip install -q -U transformers num2words qformer"
      ]
    },
    {
      "cell_type": "markdown",
      "source": [
        "# Library code, modified"
      ],
      "metadata": {
        "id": "1UJ-gIhdDHXb"
      }
    },
    {
      "cell_type": "code",
      "source": [
        "import torch\n",
        "\n",
        "\n",
        "def mask_top_right_quadrant(tensor):\n",
        "    \"\"\"\n",
        "    Masks the top right quadrant of a tensor.\n",
        "\n",
        "    Args:\n",
        "        tensor (Tensor): The input tensor.\n",
        "\n",
        "    Returns:\n",
        "        Tensor: The masked tensor.\n",
        "    \"\"\"\n",
        "    rows, cols = tensor.shape[-2:]\n",
        "    mask = torch.ones(rows, cols).to(\"cpu\")\n",
        "    mask[: rows // 2, cols // 2 :] = 0\n",
        "    tensor=tensor.to(\"cpu\")\n",
        "    return tensor * mask"
      ],
      "metadata": {
        "id": "mMQamS4ECwh0"
      },
      "execution_count": 1,
      "outputs": []
    },
    {
      "cell_type": "code",
      "source": [
        "from einops import rearrange, reduce\n",
        "from torch import Tensor, nn\n",
        "from zeta.nn import (\n",
        "    MultiQueryAttention,\n",
        "    SimpleFeedForward,\n",
        ")\n",
        "from zeta.nn.attention.cross_attention import CrossAttention\n",
        "\n",
        "\n",
        "def img_to_text(x: Tensor, seqlen: int, dim: int, norm: bool = True):\n",
        "    \"\"\"\n",
        "    Convert an image tensor to a text tensor.\n",
        "\n",
        "    Args:\n",
        "        x (Tensor): Input image tensor of shape (batch_size, channels, height, width).\n",
        "        seqlen (int): Length of the output text sequence.\n",
        "        dim (int): Dimension of the intermediate representation.\n",
        "        norm (bool, optional): Whether to apply layer normalization. Defaults to True.\n",
        "\n",
        "    Returns:\n",
        "        Tensor: Output text tensor of shape (batch_size, seqlen, dim).\n",
        "\n",
        "    Example::\n",
        "        >>> x = torch.randn(2, 3, 32, 32)\n",
        "        >>> x = img_to_text(x, 100, 512)\n",
        "        >>> x.shape\n",
        "        torch.Size([2, 100, 512])\n",
        "    \"\"\"\n",
        "    b, c, h, w = x.shape\n",
        "\n",
        "    img = reduce(x, \"b c h w -> b c (h w)\", \"mean\").to(x.device)\n",
        "    img = nn.Linear(h * w, dim).to(device=x.device, dtype=x.dtype)(img)\n",
        "    img = rearrange(img, \"b c d -> b d c\")\n",
        "    img = nn.Linear(c, seqlen).to(device=x.device, dtype=x.dtype)(img)\n",
        "    img = rearrange(img, \"b d c -> b c d\")\n",
        "\n",
        "    if norm:\n",
        "        img = nn.LayerNorm(dim).to(device=x.device, dtype=x.dtype)(img)\n",
        "\n",
        "    return img\n",
        "\n",
        "\n",
        "class ImgBlock(nn.Module):\n",
        "    \"\"\"\n",
        "    ImgBlock is a module that performs multi-query attention, cross-attention, and feedforward operations on input tensors.\n",
        "\n",
        "    Args:\n",
        "        dim (int): The dimension of the input tensors.\n",
        "        depth (int): The number of times the operations are applied.\n",
        "        heads (int): The number of attention heads.\n",
        "        dropout (float, optional): The dropout probability. Defaults to 0.1.\n",
        "        emb_dropout (float, optional): The embedding dropout probability. Defaults to 0.1.\n",
        "\n",
        "    Attributes:\n",
        "        dim (int): The dimension of the input tensors.\n",
        "        depth (int): The number of times the operations are applied.\n",
        "        heads (int): The number of attention heads.\n",
        "        dropout (float): The dropout probability.\n",
        "        emb_dropout (float): The embedding dropout probability.\n",
        "        attn (MultiQueryAttention): The multi-query attention module.\n",
        "        cross_attn (CrossAttention): The cross-attention module.\n",
        "        feedforward (SimpleFeedForward): The feedforward module.\n",
        "\n",
        "    Methods:\n",
        "        forward(x: Tensor, img: Tensor) -> Tensor:\n",
        "            Performs the forward pass of the ImgBlock module.\n",
        "\n",
        "    \"\"\"\n",
        "\n",
        "    def __init__(\n",
        "        self,\n",
        "        dim: int,\n",
        "        depth: int,\n",
        "        heads: int,\n",
        "        dropout: float = 0.1,\n",
        "        *args,\n",
        "        **kwargs,\n",
        "    ):\n",
        "        super(ImgBlock, self).__init__(*args, **kwargs)\n",
        "        self.dim = dim\n",
        "        self.depth = depth\n",
        "        self.heads = heads\n",
        "        self.dropout = dropout\n",
        "        self.attn = MultiQueryAttention(dim, heads)\n",
        "        self.cross_attn = CrossAttention(\n",
        "            dim=dim, heads=heads, dropout=dropout, *args, **kwargs\n",
        "        )\n",
        "\n",
        "        # Create a list of layers\n",
        "        self.self_attn_layers = nn.ModuleList([])\n",
        "        self.cross_attn_layers = nn.ModuleList([])\n",
        "        self.ffn_layers = nn.ModuleList([])\n",
        "\n",
        "        # Add the attn, cross attention, simple feedforward layers to the list\n",
        "        for _ in range(depth):\n",
        "            # Add the multi query attention layer\n",
        "            self.self_attn_layers.append(\n",
        "                MultiQueryAttention(dim, heads, *args, **kwargs)\n",
        "            )\n",
        "            # Add the cross attention layer\n",
        "            self.cross_attn_layers.append(\n",
        "                CrossAttention(\n",
        "                    dim=dim,\n",
        "                    heads=heads,\n",
        "                    dropout=dropout,\n",
        "                    *args,\n",
        "                    **kwargs,\n",
        "                )\n",
        "            )\n",
        "            # Add the simple feedforward layer\n",
        "            self.ffn_layers.append(\n",
        "                SimpleFeedForward(\n",
        "                    dim, dim * 4, dropout, *args, **kwargs\n",
        "                )\n",
        "            )\n",
        "\n",
        "    def forward(self, x: Tensor, img: Tensor) -> Tensor:\n",
        "        \"\"\"\n",
        "        Performs the forward pass of the ImgBlock module.\n",
        "\n",
        "        Args:\n",
        "            x (Tensor): The input tensor.\n",
        "            img (Tensor): The image tensor.\n",
        "\n",
        "        Returns:\n",
        "            Tensor: The output tensor after applying multi-query attention, cross-attention, and feedforward operations.\n",
        "\n",
        "        \"\"\"\n",
        "        b_t, s, d = x.shape\n",
        "        b, c, h, w = img.shape\n",
        "        device, dtype = x.device, x.dtype\n",
        "        img = img_to_text(img, s, d).to(device=x.device, dtype=x.dtype)\n",
        "\n",
        "        for self_attn, cross_attn, ffn in zip(\n",
        "            self.self_attn_layers,\n",
        "            self.cross_attn_layers,\n",
        "            self.ffn_layers,\n",
        "        ):\n",
        "            x, _, _ = self_attn(x)\n",
        "            x= x.to(device=device, dtype=dtype)\n",
        "            x = cross_attn(x, img).to(device=device, dtype=dtype)\n",
        "            x = ffn(x).to(device=device, dtype=dtype)\n",
        "\n",
        "        return x\n",
        "\n",
        "\n",
        "class TextBlock(nn.Module):\n",
        "    \"\"\"\n",
        "    TextBlock module that performs self-attention and feedforward operations.\n",
        "\n",
        "    Args:\n",
        "        dim (int): The dimension of the input and output tensors.\n",
        "        heads (int): The number of attention heads.\n",
        "        depth (int): The number of layers in the module.\n",
        "        dropout (float, optional): The dropout probability. Defaults to 0.1.\n",
        "\n",
        "    Attributes:\n",
        "        dim (int): The dimension of the input and output tensors.\n",
        "        heads (int): The number of attention heads.\n",
        "        depth (int): The number of layers in the module.\n",
        "        dropout (float): The dropout probability.\n",
        "        attn (MultiQueryAttention): The self-attention module.\n",
        "        feedforward (SimpleFeedForward): The feedforward module.\n",
        "        layers (nn.ModuleList): The list of layers in the module.\n",
        "\n",
        "    Methods:\n",
        "        forward(x: Tensor) -> Tensor:\n",
        "            Performs the forward pass of the TextBlock module.\n",
        "\n",
        "    \"\"\"\n",
        "\n",
        "    def __init__(\n",
        "        self,\n",
        "        dim: int,\n",
        "        heads: int,\n",
        "        depth: int,\n",
        "        dropout: float = 0.1,\n",
        "        *args,\n",
        "        **kwargs,\n",
        "    ):\n",
        "        super().__init__()\n",
        "        self.dim = dim\n",
        "        self.heads = heads\n",
        "        self.depth = depth\n",
        "        self.dropout = dropout\n",
        "\n",
        "        self.attn = MultiQueryAttention(dim, heads)\n",
        "        self.layers = nn.ModuleList([])\n",
        "        self.ffn_layers = nn.ModuleList([])\n",
        "\n",
        "        for _ in range(depth):\n",
        "            self.layers.append(\n",
        "                MultiQueryAttention(dim, heads, *args, **kwargs)\n",
        "            )\n",
        "\n",
        "            self.ffn_layers.append(\n",
        "                SimpleFeedForward(\n",
        "                    dim, dim * 4, dropout, *args, **kwargs\n",
        "                )\n",
        "            )\n",
        "\n",
        "    def forward(self, x: Tensor) -> Tensor:\n",
        "        \"\"\"\n",
        "        Performs the forward pass of the TextBlock module.\n",
        "\n",
        "        Args:\n",
        "            x (Tensor): The input tensor.\n",
        "\n",
        "        Returns:\n",
        "            Tensor: The output tensor after self-attention and feedforward operations.\n",
        "\n",
        "        \"\"\"\n",
        "        for attn, ffn in zip(self.layers, self.ffn_layers):\n",
        "            x, _, _ = attn(x)\n",
        "            x = ffn(x)\n",
        "        return x"
      ],
      "metadata": {
        "id": "SmskOcPYCxq8",
        "colab": {
          "base_uri": "https://localhost:8080/"
        },
        "outputId": "1a1c7db3-81a2-4619-9e0c-06fb2e570c45"
      },
      "execution_count": 2,
      "outputs": [
        {
          "output_type": "stream",
          "name": "stderr",
          "text": [
            "No CUDA runtime is found, using CUDA_HOME='/usr/local/cuda'\n"
          ]
        }
      ]
    },
    {
      "cell_type": "code",
      "source": [
        "from torch import Tensor, nn\n",
        "\n",
        "# from qformer.blocks import ImgBlock, TextBlock\n",
        "# from qformer.masking import mask_top_right_quadrant\n",
        "\n",
        "\n",
        "class QFormer(nn.Module):\n",
        "    \"\"\"\n",
        "    QFormer is a transformer-based model for processing text and image inputs.\n",
        "\n",
        "    Args:\n",
        "        dim (int): The dimension of the model.\n",
        "        heads (int): The number of attention heads.\n",
        "        depth (int): The depth of the model.\n",
        "        dropout (float, optional): The dropout rate. Defaults to 0.1.\n",
        "        text_block_depth (int, optional): The depth of the text block. Defaults to None.\n",
        "        img_text_block_depth (int, optional): The depth of the image text block. Defaults to None.\n",
        "\n",
        "    Attributes:\n",
        "        dim (int): The dimension of the model.\n",
        "        heads (int): The number of attention heads.\n",
        "        depth (int): The depth of the model.\n",
        "        dropout (float): The dropout rate.\n",
        "        img_block (ImgBlock): The image block of the model.\n",
        "        text_block (TextBlock): The text block of the model.\n",
        "        img_layers (nn.ModuleList): The list of image layers.\n",
        "        text_layers (nn.ModuleList): The list of text layers.\n",
        "\n",
        "    Examples:\n",
        "        >>> model = QFormer(dim=512, heads=8, depth=6, dropout=0.1, text_block_depth=2, img_text_block_depth=2)\n",
        "        >>> x = torch.randn(1, 10, 512)\n",
        "        >>> img = torch.randn(1, 3, 224, 224)\n",
        "        >>> out = model(x, img)\n",
        "        >>> out.shape\n",
        "        torch.Size([1, 10, 512])\n",
        "    \"\"\"\n",
        "\n",
        "    def __init__(\n",
        "        self,\n",
        "        dim: int,\n",
        "        heads: int,\n",
        "        depth: int,\n",
        "        dropout: float = 0.1,\n",
        "        text_block_depth: int = None,\n",
        "        img_text_block_depth: int = None,\n",
        "        *args,\n",
        "        **kwargs,\n",
        "    ):\n",
        "        super().__init__()\n",
        "        self.dim = dim\n",
        "        self.heads = heads\n",
        "        self.depth = depth\n",
        "        self.dropout = dropout\n",
        "        self.img_block = ImgBlock(dim, depth, heads, dropout)\n",
        "        self.text_block = TextBlock(dim, heads, depth, dropout)\n",
        "        self.img_layers = nn.ModuleList([])\n",
        "        self.text_layers = nn.ModuleList([])\n",
        "\n",
        "        # Add the img and text layers to the list\n",
        "        for _ in range(depth):\n",
        "            self.img_layers.append(\n",
        "                ImgBlock(dim, img_text_block_depth, heads, dropout)\n",
        "            )\n",
        "            self.text_layers.append(\n",
        "                TextBlock(dim, heads, text_block_depth, dropout)\n",
        "            )\n",
        "\n",
        "    def forward(self, x: Tensor, img: Tensor) -> Tensor:\n",
        "        \"\"\"\n",
        "        Forward pass of the QFormer model.\n",
        "\n",
        "        Args:\n",
        "            x (Tensor): The input tensor.\n",
        "            img (Tensor): The image tensor.\n",
        "\n",
        "        Returns:\n",
        "            Tensor: The output tensor.\n",
        "\n",
        "        \"\"\"\n",
        "        for text_block, img_block in zip(\n",
        "            self.text_layers, self.img_layers\n",
        "        ):\n",
        "            x = text_block(x) + x\n",
        "            x = mask_top_right_quadrant(x)\n",
        "            out = img_block(x, img).to(device=x.device, dtype=x.dtype) + x\n",
        "        return out"
      ],
      "metadata": {
        "id": "2hi7UayDCsE2"
      },
      "execution_count": 3,
      "outputs": []
    },
    {
      "cell_type": "markdown",
      "metadata": {
        "id": "75inOCkskmx7"
      },
      "source": [
        "# load model"
      ]
    },
    {
      "cell_type": "code",
      "execution_count": null,
      "metadata": {
        "colab": {
          "base_uri": "https://localhost:8080/",
          "height": 509,
          "referenced_widgets": [
            "d3c6e7d3115f4a9d9facd63fd0ab8b27",
            "4ae7eb3df49e4ab7beb86b97494a5ffb",
            "4257540f4b984f75bb668762859dee37",
            "41a9be4cd0dc4a1ea12c85439d437b64",
            "4be6c7817ce043f89024199c1f4f1cef",
            "169af40a42ca464e920ad9bf0e920956",
            "c11e9ff013484e5c9be9fdbc4753a863",
            "82091e9a16924fa9a2951ef59ec64369",
            "9d693006d84f4e68898ea6b5682e7d04",
            "03e27ec0c1dc4a71a500b6a1393f13b0",
            "3c32cda2cadd4520aed60fec4b672ad8"
          ]
        },
        "id": "PKvRxeF6WgI8",
        "outputId": "78c4a10d-5a9d-4519-b853-11c9573f2e7e"
      },
      "outputs": [
        {
          "data": {
            "application/vnd.jupyter.widget-view+json": {
              "model_id": "d3c6e7d3115f4a9d9facd63fd0ab8b27",
              "version_major": 2,
              "version_minor": 0
            },
            "text/plain": [
              "config.json: 0.00B [00:00, ?B/s]"
            ]
          },
          "metadata": {},
          "output_type": "display_data"
        },
        {
          "ename": "ValueError",
          "evalue": "The checkpoint you are trying to load has model type `tinyllava` but Transformers does not recognize this architecture. This could be because of an issue with the checkpoint, or because your version of Transformers is out of date.",
          "output_type": "error",
          "traceback": [
            "\u001b[0;31m---------------------------------------------------------------------------\u001b[0m",
            "\u001b[0;31mKeyError\u001b[0m                                  Traceback (most recent call last)",
            "\u001b[0;32m/usr/local/lib/python3.11/dist-packages/transformers/models/auto/configuration_auto.py\u001b[0m in \u001b[0;36mfrom_pretrained\u001b[0;34m(cls, pretrained_model_name_or_path, **kwargs)\u001b[0m\n\u001b[1;32m   1116\u001b[0m             \u001b[0;32mtry\u001b[0m\u001b[0;34m:\u001b[0m\u001b[0;34m\u001b[0m\u001b[0;34m\u001b[0m\u001b[0m\n\u001b[0;32m-> 1117\u001b[0;31m                 \u001b[0mconfig_class\u001b[0m \u001b[0;34m=\u001b[0m \u001b[0mCONFIG_MAPPING\u001b[0m\u001b[0;34m[\u001b[0m\u001b[0mconfig_dict\u001b[0m\u001b[0;34m[\u001b[0m\u001b[0;34m\"model_type\"\u001b[0m\u001b[0;34m]\u001b[0m\u001b[0;34m]\u001b[0m\u001b[0;34m\u001b[0m\u001b[0;34m\u001b[0m\u001b[0m\n\u001b[0m\u001b[1;32m   1118\u001b[0m             \u001b[0;32mexcept\u001b[0m \u001b[0mKeyError\u001b[0m\u001b[0;34m:\u001b[0m\u001b[0;34m\u001b[0m\u001b[0;34m\u001b[0m\u001b[0m\n",
            "\u001b[0;32m/usr/local/lib/python3.11/dist-packages/transformers/models/auto/configuration_auto.py\u001b[0m in \u001b[0;36m__getitem__\u001b[0;34m(self, key)\u001b[0m\n\u001b[1;32m    812\u001b[0m         \u001b[0;32mif\u001b[0m \u001b[0mkey\u001b[0m \u001b[0;32mnot\u001b[0m \u001b[0;32min\u001b[0m \u001b[0mself\u001b[0m\u001b[0;34m.\u001b[0m\u001b[0m_mapping\u001b[0m\u001b[0;34m:\u001b[0m\u001b[0;34m\u001b[0m\u001b[0;34m\u001b[0m\u001b[0m\n\u001b[0;32m--> 813\u001b[0;31m             \u001b[0;32mraise\u001b[0m \u001b[0mKeyError\u001b[0m\u001b[0;34m(\u001b[0m\u001b[0mkey\u001b[0m\u001b[0;34m)\u001b[0m\u001b[0;34m\u001b[0m\u001b[0;34m\u001b[0m\u001b[0m\n\u001b[0m\u001b[1;32m    814\u001b[0m         \u001b[0mvalue\u001b[0m \u001b[0;34m=\u001b[0m \u001b[0mself\u001b[0m\u001b[0;34m.\u001b[0m\u001b[0m_mapping\u001b[0m\u001b[0;34m[\u001b[0m\u001b[0mkey\u001b[0m\u001b[0;34m]\u001b[0m\u001b[0;34m\u001b[0m\u001b[0;34m\u001b[0m\u001b[0m\n",
            "\u001b[0;31mKeyError\u001b[0m: 'tinyllava'",
            "\nDuring handling of the above exception, another exception occurred:\n",
            "\u001b[0;31mValueError\u001b[0m                                Traceback (most recent call last)",
            "\u001b[0;32m/tmp/ipython-input-2439070848.py\u001b[0m in \u001b[0;36m<cell line: 0>\u001b[0;34m()\u001b[0m\n\u001b[1;32m      2\u001b[0m \u001b[0;32mimport\u001b[0m \u001b[0mtorch\u001b[0m\u001b[0;34m\u001b[0m\u001b[0;34m\u001b[0m\u001b[0m\n\u001b[1;32m      3\u001b[0m \u001b[0;34m\u001b[0m\u001b[0m\n\u001b[0;32m----> 4\u001b[0;31m \u001b[0mmodel\u001b[0m \u001b[0;34m=\u001b[0m \u001b[0mAutoModel\u001b[0m\u001b[0;34m.\u001b[0m\u001b[0mfrom_pretrained\u001b[0m\u001b[0;34m(\u001b[0m\u001b[0;34m\"bczhou/TinyLLaVA-1.5B\"\u001b[0m\u001b[0;34m,\u001b[0m \u001b[0mtorch_dtype\u001b[0m\u001b[0;34m=\u001b[0m\u001b[0mtorch\u001b[0m\u001b[0;34m.\u001b[0m\u001b[0mfloat16\u001b[0m\u001b[0;34m,\u001b[0m \u001b[0mtrust_remote_code\u001b[0m\u001b[0;34m=\u001b[0m\u001b[0;32mTrue\u001b[0m\u001b[0;34m)\u001b[0m\u001b[0;34m.\u001b[0m\u001b[0mto\u001b[0m\u001b[0;34m(\u001b[0m\u001b[0;34m\"cuda\"\u001b[0m\u001b[0;34m)\u001b[0m\u001b[0;34m\u001b[0m\u001b[0;34m\u001b[0m\u001b[0m\n\u001b[0m",
            "\u001b[0;32m/usr/local/lib/python3.11/dist-packages/transformers/models/auto/auto_factory.py\u001b[0m in \u001b[0;36mfrom_pretrained\u001b[0;34m(cls, pretrained_model_name_or_path, *model_args, **kwargs)\u001b[0m\n\u001b[1;32m    524\u001b[0m                 \u001b[0m_\u001b[0m \u001b[0;34m=\u001b[0m \u001b[0mkwargs\u001b[0m\u001b[0;34m.\u001b[0m\u001b[0mpop\u001b[0m\u001b[0;34m(\u001b[0m\u001b[0;34m\"quantization_config\"\u001b[0m\u001b[0;34m)\u001b[0m\u001b[0;34m\u001b[0m\u001b[0;34m\u001b[0m\u001b[0m\n\u001b[1;32m    525\u001b[0m \u001b[0;34m\u001b[0m\u001b[0m\n\u001b[0;32m--> 526\u001b[0;31m             config, kwargs = AutoConfig.from_pretrained(\n\u001b[0m\u001b[1;32m    527\u001b[0m                 \u001b[0mpretrained_model_name_or_path\u001b[0m\u001b[0;34m,\u001b[0m\u001b[0;34m\u001b[0m\u001b[0;34m\u001b[0m\u001b[0m\n\u001b[1;32m    528\u001b[0m                 \u001b[0mreturn_unused_kwargs\u001b[0m\u001b[0;34m=\u001b[0m\u001b[0;32mTrue\u001b[0m\u001b[0;34m,\u001b[0m\u001b[0;34m\u001b[0m\u001b[0;34m\u001b[0m\u001b[0m\n",
            "\u001b[0;32m/usr/local/lib/python3.11/dist-packages/transformers/models/auto/configuration_auto.py\u001b[0m in \u001b[0;36mfrom_pretrained\u001b[0;34m(cls, pretrained_model_name_or_path, **kwargs)\u001b[0m\n\u001b[1;32m   1117\u001b[0m                 \u001b[0mconfig_class\u001b[0m \u001b[0;34m=\u001b[0m \u001b[0mCONFIG_MAPPING\u001b[0m\u001b[0;34m[\u001b[0m\u001b[0mconfig_dict\u001b[0m\u001b[0;34m[\u001b[0m\u001b[0;34m\"model_type\"\u001b[0m\u001b[0;34m]\u001b[0m\u001b[0;34m]\u001b[0m\u001b[0;34m\u001b[0m\u001b[0;34m\u001b[0m\u001b[0m\n\u001b[1;32m   1118\u001b[0m             \u001b[0;32mexcept\u001b[0m \u001b[0mKeyError\u001b[0m\u001b[0;34m:\u001b[0m\u001b[0;34m\u001b[0m\u001b[0;34m\u001b[0m\u001b[0m\n\u001b[0;32m-> 1119\u001b[0;31m                 raise ValueError(\n\u001b[0m\u001b[1;32m   1120\u001b[0m                     \u001b[0;34mf\"The checkpoint you are trying to load has model type `{config_dict['model_type']}` \"\u001b[0m\u001b[0;34m\u001b[0m\u001b[0;34m\u001b[0m\u001b[0m\n\u001b[1;32m   1121\u001b[0m                     \u001b[0;34m\"but Transformers does not recognize this architecture. This could be because of an \"\u001b[0m\u001b[0;34m\u001b[0m\u001b[0;34m\u001b[0m\u001b[0m\n",
            "\u001b[0;31mValueError\u001b[0m: The checkpoint you are trying to load has model type `tinyllava` but Transformers does not recognize this architecture. This could be because of an issue with the checkpoint, or because your version of Transformers is out of date."
          ]
        }
      ],
      "source": [
        "from transformers import AutoModel\n",
        "import torch\n",
        "\n",
        "model = AutoModel.from_pretrained(\"visheratin/MC-LLaVA-3b\", torch_dtype=torch.float16, trust_remote_code=True).to(\"cuda\")"
      ]
    },
    {
      "cell_type": "code",
      "execution_count": null,
      "metadata": {
        "colab": {
          "base_uri": "https://localhost:8080/"
        },
        "id": "93oqQzLOYxGo",
        "outputId": "4dee97db-907f-4ff7-d4ea-958bb312e34e"
      },
      "outputs": [
        {
          "name": "stderr",
          "output_type": "stream",
          "text": [
            "Special tokens have been added in the vocabulary, make sure the associated word embeddings are fine-tuned or trained.\n"
          ]
        }
      ],
      "source": [
        "from transformers import AutoProcessor\n",
        "\n",
        "processor = AutoProcessor.from_pretrained(\"visheratin/MC-LLaVA-3b\", trust_remote_code=True)"
      ]
    },
    {
      "cell_type": "code",
      "execution_count": null,
      "metadata": {
        "colab": {
          "base_uri": "https://localhost:8080/",
          "height": 328
        },
        "id": "QMZ317BVW-Bc",
        "outputId": "17c2c733-16fe-4524-b9ca-bc511c9a05ff"
      },
      "outputs": [
        {
          "data": {
            "image/jpeg": "[encoded data removed]",
            "image/png": "[encoded data removed]",
            "text/plain": [
              "<PIL.Image.Image image mode=RGB size=270x311>"
            ]
          },
          "metadata": {},
          "output_type": "display_data"
        }
      ],
      "source": [
        "from PIL import Image\n",
        "\n",
        "try:\n",
        "  raw_image = Image.open(\"sample.png\").convert(\"RGB\")\n",
        "  display(raw_image)\n",
        "except FileNotFoundError:\n",
        "  print(\"sample.png not found\")"
      ]
    },
    {
      "cell_type": "code",
      "execution_count": null,
      "metadata": {
        "colab": {
          "base_uri": "https://localhost:8080/"
        },
        "id": "9OFylFbwW87A",
        "outputId": "1cd1eb13-77bb-486f-c816-dbbc82f4b171"
      },
      "outputs": [
        {
          "name": "stdout",
          "output_type": "stream",
          "text": [
            "It is not possible to know for sure what the man's profession is from the image. However, he is wearing a suit and tie, which suggests that he may be a businessman or a professional in a formal setting.\n"
          ]
        }
      ],
      "source": [
        "prompt = \"\"\"<|im_start|>user\n",
        "<image>\n",
        "What is this man's profession?<|im_end|>\n",
        "<|im_start|>assistant\n",
        "\"\"\"\n",
        "\n",
        "with torch.inference_mode():\n",
        "    inputs = processor(prompt, [raw_image], model, max_crops=100, num_tokens=728)\n",
        "    output = model.generate(**inputs, max_new_tokens=200, use_cache=True, do_sample=False,\n",
        "        eos_token_id=processor.tokenizer.eos_token_id, pad_token_id=processor.tokenizer.eos_token_id)\n",
        "\n",
        "result = processor.tokenizer.decode(output[0]).replace(prompt, \"\").replace(\"<|im_end|>\", \"\")\n",
        "print(result)"
      ]
    },
    {
      "cell_type": "code",
      "execution_count": null,
      "metadata": {
        "colab": {
          "base_uri": "https://localhost:8080/"
        },
        "id": "KCDf5jABlNN2",
        "outputId": "8a1cb907-4815-41c3-cec8-da6928dbabf1"
      },
      "outputs": [
        {
          "data": {
            "text/plain": [
              "{'input_ids': tensor([[50296,  7220,   198, 50297,   198,  2061,   318,   428,   582,   338,\n",
              "          7573,    30, 50295,   198, 50296,   562, 10167,   198]],\n",
              "       device='cuda:0'), 'attention_mask': tensor([[1, 1, 1, 1, 1, 1, 1, 1, 1, 1, 1, 1, 1, 1, 1, 1, 1, 1]],\n",
              "       device='cuda:0'), 'image_features': tensor([[[ -4.5156,   4.7461,  11.6797,  ...,  14.6719, -26.7656,  11.1641],\n",
              "         [ -5.8828,   5.6289,  15.4453,  ...,  19.3438, -34.5625,  14.7422],\n",
              "         [ -1.5518,   0.6616,   3.9434,  ...,   2.3711,  -3.0234,   2.2207],\n",
              "         ...,\n",
              "         [ -0.7378,  -1.2393,   0.5674,  ...,   3.7070,  -3.7500,   0.2627],\n",
              "         [ -1.3486,  -0.7515,   1.3389,  ...,   3.4668,  -3.7207,   2.5879],\n",
              "         [ -1.2412,  -1.1543,   2.8457,  ...,   4.2305,  -3.3711,   1.8740]]],\n",
              "       device='cuda:0', dtype=torch.float16)}"
            ]
          },
          "execution_count": 33,
          "metadata": {},
          "output_type": "execute_result"
        }
      ],
      "source": [
        "inputs"
      ]
    },
    {
      "cell_type": "code",
      "execution_count": null,
      "metadata": {
        "colab": {
          "base_uri": "https://localhost:8080/"
        },
        "id": "7N9GdFRzmnUZ",
        "outputId": "901d0eb1-a5a9-4cf1-ef3f-9153f4b0a858"
      },
      "outputs": [
        {
          "name": "stdout",
          "output_type": "stream",
          "text": [
            "<class 'transformers_modules.visheratin.MC-LLaVA-3b.06bc212f5ae47e362b98afe3abd929eb603ce9ba.processing_llava.LlavaProcessor'>\n"
          ]
        }
      ],
      "source": [
        "print(type(processor))"
      ]
    },
    {
      "cell_type": "code",
      "execution_count": null,
      "metadata": {
        "colab": {
          "base_uri": "https://localhost:8080/",
          "height": 141
        },
        "id": "dFGNHqP3pIjl",
        "outputId": "24e691a5-1c26-438b-8ad4-19c77cc8980d"
      },
      "outputs": [
        {
          "ename": "AttributeError",
          "evalue": "'LlavaProcessor' object has no attribute 'feture_extractor'",
          "output_type": "error",
          "traceback": [
            "\u001b[0;31m---------------------------------------------------------------------------\u001b[0m",
            "\u001b[0;31mAttributeError\u001b[0m                            Traceback (most recent call last)",
            "\u001b[0;32m/tmp/ipython-input-2403920446.py\u001b[0m in \u001b[0;36m<cell line: 0>\u001b[0;34m()\u001b[0m\n\u001b[0;32m----> 1\u001b[0;31m \u001b[0mprocessor\u001b[0m\u001b[0;34m.\u001b[0m\u001b[0mfeture_extractor\u001b[0m\u001b[0;34m\u001b[0m\u001b[0;34m\u001b[0m\u001b[0m\n\u001b[0m",
            "\u001b[0;31mAttributeError\u001b[0m: 'LlavaProcessor' object has no attribute 'feture_extractor'"
          ]
        }
      ],
      "source": [
        "processor.feture_extractor"
      ]
    },
    {
      "cell_type": "code",
      "execution_count": null,
      "metadata": {
        "colab": {
          "base_uri": "https://localhost:8080/"
        },
        "id": "9ElXFVB6ZavC",
        "outputId": "a7b0dd23-272b-4a5e-8bb2-276bbda84e8a"
      },
      "outputs": [
        {
          "data": {
            "text/plain": [
              "SiglipVisionEncoder(\n",
              "  (vision_tower): SiglipVisionModel(\n",
              "    (vision_model): SiglipVisionTransformer(\n",
              "      (embeddings): SiglipVisionEmbeddings(\n",
              "        (patch_embedding): Conv2d(3, 1152, kernel_size=(14, 14), stride=(14, 14), padding=valid)\n",
              "        (position_embedding): Embedding(729, 1152)\n",
              "      )\n",
              "      (encoder): SiglipEncoder(\n",
              "        (layers): ModuleList(\n",
              "          (0-26): 27 x SiglipEncoderLayer(\n",
              "            (self_attn): SiglipAttention(\n",
              "              (k_proj): Linear(in_features=1152, out_features=1152, bias=True)\n",
              "              (v_proj): Linear(in_features=1152, out_features=1152, bias=True)\n",
              "              (q_proj): Linear(in_features=1152, out_features=1152, bias=True)\n",
              "              (out_proj): Linear(in_features=1152, out_features=1152, bias=True)\n",
              "            )\n",
              "            (layer_norm1): LayerNorm((1152,), eps=1e-06, elementwise_affine=True)\n",
              "            (mlp): SiglipMLP(\n",
              "              (activation_fn): PytorchGELUTanh()\n",
              "              (fc1): Linear(in_features=1152, out_features=4304, bias=True)\n",
              "              (fc2): Linear(in_features=4304, out_features=1152, bias=True)\n",
              "            )\n",
              "            (layer_norm2): LayerNorm((1152,), eps=1e-06, elementwise_affine=True)\n",
              "          )\n",
              "        )\n",
              "      )\n",
              "      (post_layernorm): LayerNorm((1152,), eps=1e-06, elementwise_affine=True)\n",
              "      (head): SiglipMultiheadAttentionPoolingHead(\n",
              "        (attention): MultiheadAttention(\n",
              "          (out_proj): NonDynamicallyQuantizableLinear(in_features=1152, out_features=1152, bias=True)\n",
              "        )\n",
              "        (layernorm): LayerNorm((1152,), eps=1e-06, elementwise_affine=True)\n",
              "        (mlp): SiglipMLP(\n",
              "          (activation_fn): PytorchGELUTanh()\n",
              "          (fc1): Linear(in_features=1152, out_features=4304, bias=True)\n",
              "          (fc2): Linear(in_features=4304, out_features=1152, bias=True)\n",
              "        )\n",
              "      )\n",
              "    )\n",
              "  )\n",
              "  (coord_embed): Sequential(\n",
              "    (0): Linear(in_features=2, out_features=1152, bias=True)\n",
              "    (1): GELU(approximate='none')\n",
              "    (2): Linear(in_features=1152, out_features=1152, bias=True)\n",
              "  )\n",
              ")"
            ]
          },
          "execution_count": 21,
          "metadata": {},
          "output_type": "execute_result"
        }
      ],
      "source": [
        "model.vision_model"
      ]
    },
    {
      "cell_type": "markdown",
      "metadata": {
        "id": "bMJ_GNbybv8V"
      },
      "source": [
        "# Q-Former"
      ]
    },
    {
      "cell_type": "code",
      "execution_count": 4,
      "metadata": {
        "id": "o2i3bfNrbyUz",
        "colab": {
          "base_uri": "https://localhost:8080/"
        },
        "outputId": "1967bffd-a5f6-47c6-a46e-2cfc6f2247cb"
      },
      "outputs": [
        {
          "output_type": "stream",
          "name": "stdout",
          "text": [
            "torch.Size([1, 32, 512])\n"
          ]
        }
      ],
      "source": [
        "# # from qformer import QFormer\n",
        "\n",
        "# import torch\n",
        "# x = torch.randn(1, 32, 512)\n",
        "# img = torch.randn(1, 3, 224, 224)\n",
        "\n",
        "# # - input_size: 512\n",
        "# # - num_heads: 8\n",
        "# # - num_layers: 8\n",
        "# # - dropout: 0.1\n",
        "# # - num_classes: 2\n",
        "# # - num_patches: 2\n",
        "# qformer = QFormer(512, 8, 8, 0.1, 2, 2)\n",
        "\n",
        "# y = qformer(x, img)\n",
        "# print(y.shape)"
      ]
    },
    {
      "cell_type": "code",
      "execution_count": null,
      "metadata": {
        "colab": {
          "base_uri": "https://localhost:8080/"
        },
        "id": "Z9RQeFR8ce52",
        "outputId": "726b7119-6780-4f52-8b47-dac749ae442c"
      },
      "outputs": [
        {
          "data": {
            "text/plain": [
              "QFormer(\n",
              "  (img_block): ImgBlock(\n",
              "    (attn): MultiQueryAttention(\n",
              "      (Wqkv): Linear(in_features=512, out_features=640, bias=True)\n",
              "      (out_proj): Linear(in_features=512, out_features=512, bias=True)\n",
              "    )\n",
              "    (cross_attn): CrossAttention(\n",
              "      (norm): LayerNorm((512,), eps=1e-05, elementwise_affine=True)\n",
              "      (norm_context): Identity()\n",
              "      (dropout): Dropout(p=0.1, inplace=False)\n",
              "      (to_q): Linear(in_features=512, out_features=512, bias=False)\n",
              "      (to_kv): Linear(in_features=512, out_features=1024, bias=False)\n",
              "      (to_out): Sequential(\n",
              "        (0): Linear(in_features=512, out_features=512, bias=False)\n",
              "        (1): LayerNorm((512,), eps=1e-05, elementwise_affine=True)\n",
              "      )\n",
              "    )\n",
              "    (self_attn_layers): ModuleList(\n",
              "      (0-7): 8 x MultiQueryAttention(\n",
              "        (Wqkv): Linear(in_features=512, out_features=640, bias=True)\n",
              "        (out_proj): Linear(in_features=512, out_features=512, bias=True)\n",
              "      )\n",
              "    )\n",
              "    (cross_attn_layers): ModuleList(\n",
              "      (0-7): 8 x CrossAttention(\n",
              "        (norm): LayerNorm((512,), eps=1e-05, elementwise_affine=True)\n",
              "        (norm_context): Identity()\n",
              "        (dropout): Dropout(p=0.1, inplace=False)\n",
              "        (to_q): Linear(in_features=512, out_features=512, bias=False)\n",
              "        (to_kv): Linear(in_features=512, out_features=1024, bias=False)\n",
              "        (to_out): Sequential(\n",
              "          (0): Linear(in_features=512, out_features=512, bias=False)\n",
              "          (1): LayerNorm((512,), eps=1e-05, elementwise_affine=True)\n",
              "        )\n",
              "      )\n",
              "    )\n",
              "    (ffn_layers): ModuleList(\n",
              "      (0-7): 8 x Sequential(\n",
              "        (0): LayerNorm((512,), eps=1e-05, elementwise_affine=True)\n",
              "        (1): Linear(in_features=512, out_features=2048, bias=True)\n",
              "        (2): GELU(approximate='none')\n",
              "        (3): Linear(in_features=2048, out_features=512, bias=True)\n",
              "        (4): Dropout(p=0.1, inplace=False)\n",
              "      )\n",
              "    )\n",
              "  )\n",
              "  (text_block): TextBlock(\n",
              "    (attn): MultiQueryAttention(\n",
              "      (Wqkv): Linear(in_features=512, out_features=640, bias=True)\n",
              "      (out_proj): Linear(in_features=512, out_features=512, bias=True)\n",
              "    )\n",
              "    (layers): ModuleList(\n",
              "      (0-7): 8 x MultiQueryAttention(\n",
              "        (Wqkv): Linear(in_features=512, out_features=640, bias=True)\n",
              "        (out_proj): Linear(in_features=512, out_features=512, bias=True)\n",
              "      )\n",
              "    )\n",
              "    (ffn_layers): ModuleList(\n",
              "      (0-7): 8 x Sequential(\n",
              "        (0): LayerNorm((512,), eps=1e-05, elementwise_affine=True)\n",
              "        (1): Linear(in_features=512, out_features=2048, bias=True)\n",
              "        (2): GELU(approximate='none')\n",
              "        (3): Linear(in_features=2048, out_features=512, bias=True)\n",
              "        (4): Dropout(p=0.1, inplace=False)\n",
              "      )\n",
              "    )\n",
              "  )\n",
              "  (img_layers): ModuleList(\n",
              "    (0-7): 8 x ImgBlock(\n",
              "      (attn): MultiQueryAttention(\n",
              "        (Wqkv): Linear(in_features=512, out_features=640, bias=True)\n",
              "        (out_proj): Linear(in_features=512, out_features=512, bias=True)\n",
              "      )\n",
              "      (cross_attn): CrossAttention(\n",
              "        (norm): LayerNorm((512,), eps=1e-05, elementwise_affine=True)\n",
              "        (norm_context): Identity()\n",
              "        (dropout): Dropout(p=0.1, inplace=False)\n",
              "        (to_q): Linear(in_features=512, out_features=512, bias=False)\n",
              "        (to_kv): Linear(in_features=512, out_features=1024, bias=False)\n",
              "        (to_out): Sequential(\n",
              "          (0): Linear(in_features=512, out_features=512, bias=False)\n",
              "          (1): LayerNorm((512,), eps=1e-05, elementwise_affine=True)\n",
              "        )\n",
              "      )\n",
              "      (self_attn_layers): ModuleList(\n",
              "        (0-1): 2 x MultiQueryAttention(\n",
              "          (Wqkv): Linear(in_features=512, out_features=640, bias=True)\n",
              "          (out_proj): Linear(in_features=512, out_features=512, bias=True)\n",
              "        )\n",
              "      )\n",
              "      (cross_attn_layers): ModuleList(\n",
              "        (0-1): 2 x CrossAttention(\n",
              "          (norm): LayerNorm((512,), eps=1e-05, elementwise_affine=True)\n",
              "          (norm_context): Identity()\n",
              "          (dropout): Dropout(p=0.1, inplace=False)\n",
              "          (to_q): Linear(in_features=512, out_features=512, bias=False)\n",
              "          (to_kv): Linear(in_features=512, out_features=1024, bias=False)\n",
              "          (to_out): Sequential(\n",
              "            (0): Linear(in_features=512, out_features=512, bias=False)\n",
              "            (1): LayerNorm((512,), eps=1e-05, elementwise_affine=True)\n",
              "          )\n",
              "        )\n",
              "      )\n",
              "      (ffn_layers): ModuleList(\n",
              "        (0-1): 2 x Sequential(\n",
              "          (0): LayerNorm((512,), eps=1e-05, elementwise_affine=True)\n",
              "          (1): Linear(in_features=512, out_features=2048, bias=True)\n",
              "          (2): GELU(approximate='none')\n",
              "          (3): Linear(in_features=2048, out_features=512, bias=True)\n",
              "          (4): Dropout(p=0.1, inplace=False)\n",
              "        )\n",
              "      )\n",
              "    )\n",
              "  )\n",
              "  (text_layers): ModuleList(\n",
              "    (0-7): 8 x TextBlock(\n",
              "      (attn): MultiQueryAttention(\n",
              "        (Wqkv): Linear(in_features=512, out_features=640, bias=True)\n",
              "        (out_proj): Linear(in_features=512, out_features=512, bias=True)\n",
              "      )\n",
              "      (layers): ModuleList(\n",
              "        (0-1): 2 x MultiQueryAttention(\n",
              "          (Wqkv): Linear(in_features=512, out_features=640, bias=True)\n",
              "          (out_proj): Linear(in_features=512, out_features=512, bias=True)\n",
              "        )\n",
              "      )\n",
              "      (ffn_layers): ModuleList(\n",
              "        (0-1): 2 x Sequential(\n",
              "          (0): LayerNorm((512,), eps=1e-05, elementwise_affine=True)\n",
              "          (1): Linear(in_features=512, out_features=2048, bias=True)\n",
              "          (2): GELU(approximate='none')\n",
              "          (3): Linear(in_features=2048, out_features=512, bias=True)\n",
              "          (4): Dropout(p=0.1, inplace=False)\n",
              "        )\n",
              "      )\n",
              "    )\n",
              "  )\n",
              ")"
            ]
          },
          "execution_count": 6,
          "metadata": {},
          "output_type": "execute_result"
        }
      ],
      "source": [
        "# qformer"
      ]
    },
    {
      "cell_type": "code",
      "execution_count": 4,
      "metadata": {
        "id": "Nsqamw6RgbQG"
      },
      "outputs": [],
      "source": [
        "import torch\n",
        "import torch.nn as nn\n",
        "# from qformer import QFormer\n",
        "\n",
        "class MultiQFormerVisionEncoder(nn.Module):\n",
        "    def __init__(self, qformer_config, num_qformers=4, output_dim=1152):\n",
        "        super().__init__()\n",
        "        self.qformers = nn.ModuleList([\n",
        "            QFormer(**qformer_config) for _ in range(num_qformers)\n",
        "        ])\n",
        "        # TODO: remove magic number 64\n",
        "        self.output_proj = nn.Linear(64 * num_qformers, num_qformers*output_dim*729)\n",
        "\n",
        "    def forward(self, x_list, img_list, mask_list=None):\n",
        "        \"\"\"\n",
        "        i used mean, it might be wrong and concating or using an extra merge layer might be the correct approach TODO later\n",
        "        \"\"\"\n",
        "        assert len(x_list) == len(img_list) == len(self.qformers)\n",
        "        if mask_list is None:\n",
        "            mask_list = [None] * len(img_list)\n",
        "\n",
        "        outputs = []\n",
        "        for i in range(len(self.qformers)):\n",
        "            # print(x_list[i])\n",
        "            # print(img_list[i])\n",
        "            out = self.qformers[i](x_list[i].to(\"cpu\"), img_list[i].to(\"cpu\")) # mask=mask_list[i] no mask\n",
        "            out = out.mean(dim=1)\n",
        "            outputs.append(out)\n",
        "\n",
        "        combined = torch.cat(outputs, dim=-1)\n",
        "        return self.output_proj(combined)"
      ]
    },
    {
      "cell_type": "code",
      "execution_count": 5,
      "metadata": {
        "id": "yTG88t4KggRV"
      },
      "outputs": [],
      "source": [
        "qformer_config = {\n",
        "    \"dim\": 64, ####\n",
        "    \"heads\": 8,\n",
        "    \"depth\": 8,\n",
        "    \"dropout\": 0.1,\n",
        "    \"text_block_depth\": 2,\n",
        "    \"img_text_block_depth\": 2,\n",
        "}\n",
        "# - input_size: 512\n",
        "# - num_heads: 8\n",
        "# - num_layers: 8\n",
        "# - dropout: 0.1\n",
        "# - num_classes: 2\n",
        "# - num_patches: 2\n",
        "\n",
        "# vision_model = MultiQFormerVisionEncoder(qformer_config)\n",
        "\n",
        "# x_list = [torch.randn(1, 32, 512) for _ in range(4)]\n",
        "# img_list = [torch.randn(1, 3, 224, 224) for _ in range(4)]\n",
        "\n",
        "# output = vision_model(x_list, img_list)\n",
        "# print(output.shape)\n"
      ]
    },
    {
      "cell_type": "markdown",
      "metadata": {
        "id": "P94Cs1S6kRbM"
      },
      "source": [
        "# integration"
      ]
    },
    {
      "cell_type": "code",
      "execution_count": 6,
      "metadata": {
        "id": "agTGs5g8svZY"
      },
      "outputs": [],
      "source": [
        "import torch\n",
        "import torch.nn as nn\n",
        "from transformers.modeling_outputs import BaseModelOutput\n",
        "\n",
        "class MultiCropVisionEncoder(nn.Module):\n",
        "    def __init__(self, qformer_config, num_qformers=4, output_dim=1152):\n",
        "        \"\"\"\n",
        "        Args:\n",
        "            qformer_config: config with at least `hidden_size` and `num_query_tokens` attributes\n",
        "            num_qformers: how many QFormers to use (typically 4 for 4-image processing)\n",
        "            output_dim: output dimension after projection\n",
        "        \"\"\"\n",
        "        super().__init__()\n",
        "        self.hidden_size = qformer_config[\"hidden_size\"]\n",
        "        self.num_query_tokens = qformer_config[\"num_query_tokens\"]\n",
        "        self.num_qformers = num_qformers\n",
        "\n",
        "        self.query_tokens = nn.Parameter(\n",
        "            torch.randn(self.num_query_tokens, self.hidden_size)\n",
        "        )\n",
        "\n",
        "        self.encoder = MultiQFormerVisionEncoder(\n",
        "            qformer_config=qformer_config,\n",
        "            num_qformers=num_qformers,\n",
        "            output_dim=output_dim\n",
        "        )\n",
        "\n",
        "    def forward(self, pixel_values, patch_attention_mask=None):\n",
        "        \"\"\"\n",
        "        Args:\n",
        "            pixel_values: Tensor of shape (batch_size * 4, 3, H, W)\n",
        "            patch_attention_mask: Optional tensor of shape (batch_size * 4, H', W') or (batch_size * 4, num_patches)\n",
        "\n",
        "        Returns:\n",
        "            Tensor of shape (batch_size, 1, output_dim)\n",
        "        \"\"\"\n",
        "        b4, c, h, w = pixel_values.shape\n",
        "        print(pixel_values.shape)\n",
        "        assert b4 % self.num_qformers == 0, \"Input must be batch_size * num_qformers\"\n",
        "        batch_size = b4 // self.num_qformers\n",
        "\n",
        "        grouped_images = pixel_values.view(batch_size, self.num_qformers, c, h, w)\n",
        "        crop_list = list(grouped_images.unbind(dim=1))\n",
        "\n",
        "        if patch_attention_mask is not None:\n",
        "            grouped_masks = patch_attention_mask.view(batch_size, self.num_qformers, *patch_attention_mask.shape[1:])\n",
        "            mask_list = list(grouped_masks.unbind(dim=1))\n",
        "        else:\n",
        "            mask_list = [None] * self.num_qformers\n",
        "\n",
        "        query_embeds = self.query_tokens.unsqueeze(0).expand(batch_size, -1, -1).to(pixel_values.device)\n",
        "\n",
        "        x_list = [query_embeds for _ in range(self.num_qformers)]\n",
        "\n",
        "        out = self.encoder(x_list, crop_list, mask_list)\n",
        "        out = out.view(batch_size* 4, 729, 1152).to(device=pixel_values.device, dtype = torch.bfloat16)\n",
        "        print(out.shape)\n",
        "        return BaseModelOutput(last_hidden_state=out)"
      ]
    },
    {
      "cell_type": "code",
      "execution_count": null,
      "metadata": {
        "id": "UfGT8kfwwr4N"
      },
      "outputs": [],
      "source": [
        "# messages = [\n",
        "#     {\n",
        "#         \"role\": \"user\",\n",
        "#         \"content\": [\n",
        "#             {\"type\": \"image\"},\n",
        "#             {\"type\": \"image\"},\n",
        "#             {\"type\": \"image\"},\n",
        "#             {\"type\": \"image\"},\n",
        "#             {\"type\": \"text\", \"text\": \"What is shown in these views of the object?\"}\n",
        "#         ]\n",
        "#     }\n",
        "# ]\n",
        "# prompt = processor.apply_chat_template(messages, add_generation_prompt=True)\n"
      ]
    },
    {
      "cell_type": "code",
      "execution_count": null,
      "metadata": {
        "id": "sfGc33zAxT0o"
      },
      "outputs": [],
      "source": [
        "# inputs = processor(\n",
        "#     text=prompt,\n",
        "#     images=imgs,\n",
        "#     return_tensors=\"pt\"\n",
        "# ).to(model.device, torch.bfloat16)\n"
      ]
    },
    {
      "cell_type": "code",
      "execution_count": 7,
      "metadata": {
        "colab": {
          "base_uri": "https://localhost:8080/",
          "height": 86,
          "referenced_widgets": [
            "c094fabeec704476a970efb5f3b7e340",
            "8400565397d642e9881c97e412d6c0de",
            "a2f3e69a1b354fd98e58ce8c778d5e14",
            "538ea378c68049ffaee8f7d82589de2c",
            "c5007b4d7eb54be19c80d660b3b76e9e",
            "181252cde5b24e2fb29203dab1148c9a",
            "9b3d1e0d995a47a9978382b149a8b2e2",
            "227b40a4352b4a6281694a79d6fc7eda",
            "e7076f56bb17448b845cf3581c796802",
            "a0f457a3709c4228993283ad25c5f307",
            "1c6f2d99d99747a0b500d887f935c212"
          ]
        },
        "id": "2_Jb5sxG7opi",
        "outputId": "0e8e0f30-7c58-409f-9832-a04d27b82fff"
      },
      "outputs": [
        {
          "output_type": "stream",
          "name": "stderr",
          "text": [
            "You have video processor config saved in `preprocessor.json` file which is deprecated. Video processor configs should be saved in their own `video_preprocessor.json` file. You can rename the file or load and save the processor back which renames it automatically. Loading from `preprocessor.json` will be removed in v5.0.\n"
          ]
        },
        {
          "output_type": "display_data",
          "data": {
            "text/plain": [
              "Loading checkpoint shards:   0%|          | 0/2 [00:00<?, ?it/s]"
            ],
            "application/vnd.jupyter.widget-view+json": {
              "version_major": 2,
              "version_minor": 0,
              "model_id": "c094fabeec704476a970efb5f3b7e340"
            }
          },
          "metadata": {}
        }
      ],
      "source": [
        "import torch\n",
        "from transformers import AutoProcessor, AutoModelForImageTextToText\n",
        "from PIL import Image\n",
        "import num2words\n",
        "\n",
        "model_path = \"HuggingFaceTB/SmolVLM2-2.2B-Instruct\"\n",
        "\n",
        "processor = AutoProcessor.from_pretrained(model_path)\n",
        "model = AutoModelForImageTextToText.from_pretrained(\n",
        "    model_path,\n",
        "    torch_dtype=torch.bfloat16,\n",
        "    device_map=\"cpu\"\n",
        ")"
      ]
    },
    {
      "cell_type": "code",
      "execution_count": null,
      "metadata": {
        "id": "5pTgFxC77jo8"
      },
      "outputs": [],
      "source": [
        "# conversation = [\n",
        "#     {\n",
        "#         \"role\": \"user\",\n",
        "#         \"content\": [\n",
        "#             {\"type\": \"image\", \"url\": \"sample.png\"},\n",
        "#             {\"type\": \"text\", \"text\": \"Describe this image.\"}\n",
        "#         ]\n",
        "#     }\n",
        "# ]\n",
        "\n",
        "# inputs = processor.apply_chat_template(\n",
        "#     conversation,\n",
        "#     add_generation_prompt=True,\n",
        "#     tokenize=True,\n",
        "#     return_dict=True,\n",
        "#     return_tensors=\"pt\"\n",
        "# ).to(model.device, dtype=torch.bfloat16)\n",
        "\n",
        "# output_ids = model.generate(**inputs, max_new_tokens=128)\n",
        "# generated_texts = processor.batch_decode(output_ids, skip_special_tokens=True)"
      ]
    },
    {
      "cell_type": "code",
      "execution_count": null,
      "metadata": {
        "colab": {
          "base_uri": "https://localhost:8080/"
        },
        "id": "lgL2EYagAbJ0",
        "outputId": "5caffff6-0531-4031-be41-af6d3a8ed584"
      },
      "outputs": [
        {
          "data": {
            "text/plain": [
              "[\"User:\\n\\n\\n\\n\\nDescribe this image.\\nAssistant: The image depicts a man with gray hair, wearing glasses, and dressed in a formal suit. The man's hair is short and neatly styled, and he has a well-groomed appearance. He is wearing a dark suit jacket over a light blue collared shirt. The background of the image is plain and white, which helps to focus attention on the man.\\n\\nThe man's expression is neutral, with a slight smile, suggesting a friendly or professional demeanor. His eyes are visible, and he appears to be looking directly at the camera, which is a common practice in professional photographs.\\n\\nThe image is a head\"]"
            ]
          },
          "execution_count": 5,
          "metadata": {},
          "output_type": "execute_result"
        }
      ],
      "source": [
        "# generated_texts"
      ]
    },
    {
      "cell_type": "code",
      "execution_count": 8,
      "metadata": {
        "id": "HhhaZqxMBREA"
      },
      "outputs": [],
      "source": [
        "from PIL import Image\n",
        "image = Image.open(\"sample.png\")"
      ]
    },
    {
      "cell_type": "code",
      "execution_count": 9,
      "metadata": {
        "colab": {
          "base_uri": "https://localhost:8080/",
          "height": 132
        },
        "id": "ures_eYHBWcc",
        "outputId": "effb5f83-8095-4eb8-9d67-e178e9868a2a"
      },
      "outputs": [
        {
          "output_type": "display_data",
          "data": {
            "text/plain": [
              "<PIL.Image.Image image mode=RGBA size=100x115>"
            ],
            "image/png": "[encoded data removed]"
          },
          "metadata": {}
        }
      ],
      "source": [
        "base_width = 100\n",
        "w_percent = (base_width / float(image.size[0]))\n",
        "h_size = int((float(image.size[1]) * float(w_percent)))\n",
        "resized_image = image.resize((base_width, h_size), Image.Resampling.LANCZOS)\n",
        "\n",
        "display(resized_image)"
      ]
    },
    {
      "cell_type": "code",
      "execution_count": null,
      "metadata": {
        "colab": {
          "base_uri": "https://localhost:8080/"
        },
        "id": "R_mTN6efAku3",
        "outputId": "125e241b-33f0-4628-c256-f65010332fda"
      },
      "outputs": [
        {
          "data": {
            "text/plain": [
              "['User:\\n\\n\\n\\n\\n\\n\\n\\n\\n\\nwhat are the differences between these images.\\nAssistant: The second image is a duplicate of the first image.']"
            ]
          },
          "execution_count": 12,
          "metadata": {},
          "output_type": "execute_result"
        }
      ],
      "source": [
        "# conversation = [\n",
        "#     {\n",
        "#         \"role\": \"user\",\n",
        "#         \"content\": [\n",
        "#             {\"type\": \"image\", \"url\": image},\n",
        "#             {\"type\": \"image\", \"url\": resized_image},\n",
        "#             {\"type\": \"text\", \"text\": \"what are the differences between these images.\"}\n",
        "#         ]\n",
        "#     }\n",
        "# ]\n",
        "\n",
        "# inputs = processor.apply_chat_template(\n",
        "#     conversation,\n",
        "#     add_generation_prompt=True,\n",
        "#     tokenize=True,\n",
        "#     return_dict=True,\n",
        "#     return_tensors=\"pt\"\n",
        "# ).to(model.device, dtype=torch.bfloat16)\n",
        "\n",
        "# output_ids = model.generate(**inputs, max_new_tokens=64)\n",
        "# generated_texts = processor.batch_decode(output_ids, skip_special_tokens=True)\n",
        "# generated_texts"
      ]
    },
    {
      "cell_type": "code",
      "execution_count": null,
      "metadata": {
        "id": "zmmOl8w-rxrS"
      },
      "outputs": [],
      "source": [
        "# qformer_config[\"patch_size\"] = 14\n",
        "# qformer_config[\"hidden_size\"] = 512"
      ]
    },
    {
      "cell_type": "code",
      "execution_count": null,
      "metadata": {
        "colab": {
          "base_uri": "https://localhost:8080/"
        },
        "id": "jngPNIp4saTs",
        "outputId": "db9bce76-9353-4eb5-d446-71c45643f5bc"
      },
      "outputs": [
        {
          "output_type": "execute_result",
          "data": {
            "text/plain": [
              "{'dim': 1152,\n",
              " 'heads': 8,\n",
              " 'depth': 8,\n",
              " 'dropout': 0.1,\n",
              " 'text_block_depth': 2,\n",
              " 'img_text_block_depth': 2}"
            ]
          },
          "metadata": {},
          "execution_count": 10
        }
      ],
      "source": [
        "qformer_config"
      ]
    },
    {
      "cell_type": "code",
      "execution_count": 10,
      "metadata": {
        "id": "KmoPt3jotX8A"
      },
      "outputs": [],
      "source": [
        "old_config = model.config.vision_config"
      ]
    },
    {
      "cell_type": "code",
      "execution_count": null,
      "metadata": {
        "colab": {
          "base_uri": "https://localhost:8080/"
        },
        "id": "gLIhs6VW5Unw",
        "outputId": "ad699f63-c2ab-4997-a5d6-d317fe49c598"
      },
      "outputs": [
        {
          "output_type": "execute_result",
          "data": {
            "text/plain": [
              "SmolVLMVisionConfig {\n",
              "  \"attention_dropout\": 0.0,\n",
              "  \"hidden_act\": \"gelu_pytorch_tanh\",\n",
              "  \"hidden_size\": 1152,\n",
              "  \"image_size\": 384,\n",
              "  \"initializer_range\": 0.02,\n",
              "  \"intermediate_size\": 4304,\n",
              "  \"layer_norm_eps\": 1e-06,\n",
              "  \"max_image_size\": {\n",
              "    \"longest_edge\": 384\n",
              "  },\n",
              "  \"model_type\": \"smolvlm_vision\",\n",
              "  \"num_attention_heads\": 16,\n",
              "  \"num_channels\": 3,\n",
              "  \"num_hidden_layers\": 27,\n",
              "  \"patch_size\": 14,\n",
              "  \"size\": {\n",
              "    \"longest_edge\": 1920\n",
              "  },\n",
              "  \"tie_word_embeddings\": false,\n",
              "  \"torch_dtype\": \"bfloat16\",\n",
              "  \"transformers_version\": \"4.54.1\",\n",
              "  \"use_base_siglip\": false\n",
              "}"
            ]
          },
          "metadata": {},
          "execution_count": 14
        }
      ],
      "source": [
        "old_config"
      ]
    },
    {
      "cell_type": "code",
      "execution_count": 11,
      "metadata": {
        "id": "xG8dLtqxrxkD"
      },
      "outputs": [],
      "source": [
        "class Config:\n",
        "    def __init__(self, dictionary, old_config):\n",
        "        for key, value in old_config.items():\n",
        "            setattr(self, key, value)\n",
        "        for key, value in dictionary.items():\n",
        "            setattr(self, key, value)\n",
        "\n",
        "qformer_config_obj = Config(qformer_config, old_config.get_config_dict(model_path)[0][\"vision_config\"])"
      ]
    },
    {
      "cell_type": "code",
      "execution_count": 13,
      "metadata": {
        "colab": {
          "base_uri": "https://localhost:8080/"
        },
        "id": "QEmWc2VjvvpI",
        "outputId": "1046749e-9aa4-47a9-ea7e-a879fa2024ac"
      },
      "outputs": [
        {
          "output_type": "execute_result",
          "data": {
            "text/plain": [
              "14"
            ]
          },
          "metadata": {},
          "execution_count": 13
        }
      ],
      "source": [
        "qformer_config_obj.patch_size"
      ]
    },
    {
      "cell_type": "code",
      "execution_count": 12,
      "metadata": {
        "id": "fNML8eee5cwR"
      },
      "outputs": [],
      "source": [
        "qformer_config[\"hidden_size\"] = 64\n",
        "qformer_config[\"num_query_tokens\"] = 64"
      ]
    },
    {
      "cell_type": "code",
      "source": [
        "old_vision_model = model.model.vision_model"
      ],
      "metadata": {
        "id": "Uv9JULIFYH2W"
      },
      "execution_count": 13,
      "outputs": []
    },
    {
      "cell_type": "code",
      "source": [
        "# import torch\n",
        "\n",
        "# batch_size = 4\n",
        "# num_crops = 1\n",
        "# channels = 3\n",
        "# height = 100\n",
        "# width = 100\n",
        "\n",
        "# dummy_images = torch.randn(batch_size * num_crops, channels, height, width).to(device=\"cpu\", dtype=torch.bfloat16)\n",
        "\n",
        "# dummy_mask = None\n",
        "\n",
        "# with torch.no_grad():\n",
        "#     output = model.model.vision_model(dummy_images, patch_attention_mask=dummy_mask)\n",
        "\n",
        "# print(f\"Input shape: {dummy_images.shape}\")\n",
        "# print(f\"Output shape: {output.last_hidden_state.shape}\")"
      ],
      "metadata": {
        "colab": {
          "base_uri": "https://localhost:8080/"
        },
        "id": "6bM2tl7bSZdY",
        "outputId": "b95331a1-ccb5-477f-c8c9-c78310f50fc3"
      },
      "execution_count": 5,
      "outputs": [
        {
          "output_type": "stream",
          "name": "stdout",
          "text": [
            "Input shape: torch.Size([4, 3, 100, 100])\n",
            "Output shape: torch.Size([4, 49, 1152])\n"
          ]
        }
      ]
    },
    {
      "cell_type": "code",
      "execution_count": 13,
      "metadata": {
        "id": "G1lhaWUNqKbF"
      },
      "outputs": [],
      "source": [
        "model.model.vision_model = MultiCropVisionEncoder(qformer_config, 4, output_dim=1152).to(\"cpu\")\n",
        "model.config.vision_config = qformer_config_obj"
      ]
    },
    {
      "cell_type": "code",
      "source": [
        "# import torch\n",
        "\n",
        "# batch_size = 2\n",
        "# num_crops = 1\n",
        "# channels = 3\n",
        "# height = 100\n",
        "# width = 100\n",
        "\n",
        "# dummy_images = torch.randn(batch_size * num_crops, channels, height, width).to(\"cpu\")\n",
        "\n",
        "# dummy_mask = None\n",
        "\n",
        "# vision_model = model.model.vision_model\n",
        "# with torch.no_grad():\n",
        "#     output = vision_model(dummy_images, patch_attention_mask=dummy_mask)\n",
        "\n",
        "# print(f\"Input shape: {dummy_images.shape}\")\n",
        "# print(f\"Output shape: {output.last_hidden_state.shape}\")"
      ],
      "metadata": {
        "id": "ysWVthC_SGNm"
      },
      "execution_count": null,
      "outputs": []
    },
    {
      "cell_type": "code",
      "execution_count": null,
      "metadata": {
        "id": "twDstP3uqZyV"
      },
      "outputs": [],
      "source": [
        "# prompt = \"can you read this text?\"\n",
        "# imgs = [resized_image,resized_image,resized_image,resized_image]\n",
        "# inputs = processor(\n",
        "#     text=prompt,\n",
        "#     images=imgs,\n",
        "#     return_tensors=\"pt\"\n",
        "# ).to(model.device, torch.bfloat16)\n",
        "\n",
        "# generated_ids = model.generate(**inputs, max_new_tokens=50)\n",
        "# output = processor.batch_decode(generated_ids, skip_special_tokens=True)[0]\n",
        "\n",
        "# print(\"SmolVLM Output:\", output)"
      ]
    },
    {
      "cell_type": "code",
      "execution_count": null,
      "metadata": {
        "colab": {
          "base_uri": "https://localhost:8080/"
        },
        "id": "rBqJkzmT7YcJ",
        "outputId": "feb2bd53-a943-4151-efd3-9c9d37471e0f"
      },
      "outputs": [
        {
          "data": {
            "text/plain": [
              "device(type='cuda', index=0)"
            ]
          },
          "execution_count": 32,
          "metadata": {},
          "output_type": "execute_result"
        }
      ],
      "source": [
        "model.device"
      ]
    },
    {
      "cell_type": "code",
      "source": [
        "%env CUDA_LAUNCH_BLOCKING=1"
      ],
      "metadata": {
        "colab": {
          "base_uri": "https://localhost:8080/"
        },
        "id": "-O2jmadc-edU",
        "outputId": "0c5a434d-f481-4905-cff9-6ef228cab1d9"
      },
      "execution_count": 17,
      "outputs": [
        {
          "output_type": "stream",
          "name": "stdout",
          "text": [
            "env: CUDA_LAUNCH_BLOCKING=1\n"
          ]
        }
      ]
    },
    {
      "cell_type": "code",
      "execution_count": null,
      "metadata": {
        "colab": {
          "base_uri": "https://localhost:8080/"
        },
        "id": "s71w_sAwq8ue",
        "outputId": "f8e47b8f-c1c5-4ba3-e67a-d245a7c9bd76"
      },
      "outputs": [
        {
          "metadata": {
            "tags": null
          },
          "name": "stdout",
          "output_type": "stream",
          "text": [
            "torch.Size([68, 3, 384, 384])\n",
            "torch.Size([68, 729, 1152])\n"
          ]
        }
      ],
      "source": [
        "conversation = [\n",
        "    {\n",
        "        \"role\": \"user\",\n",
        "        \"content\": [\n",
        "            {\"type\": \"image\", \"url\": resized_image},\n",
        "            {\"type\": \"image\", \"url\": resized_image},\n",
        "            {\"type\": \"image\", \"url\": resized_image},\n",
        "            {\"type\": \"image\", \"url\": resized_image},\n",
        "            {\"type\": \"text\", \"text\": \"what do you see in this image.\"}\n",
        "        ]\n",
        "    }\n",
        "]\n",
        "\n",
        "inputs = processor.apply_chat_template(\n",
        "    conversation,\n",
        "    add_generation_prompt=True,\n",
        "    tokenize=True,\n",
        "    return_dict=True,\n",
        "    return_tensors=\"pt\"\n",
        ").to(model.device, dtype=torch.bfloat16)\n",
        "\n",
        "output_ids = model.generate(**inputs, max_new_tokens=64)\n",
        "generated_texts = processor.batch_decode(output_ids, skip_special_tokens=True)\n",
        "generated_texts"
      ]
    },
    {
      "cell_type": "code",
      "source": [
        "model.model.vision_model"
      ],
      "metadata": {
        "colab": {
          "base_uri": "https://localhost:8080/"
        },
        "id": "UHB26t_qVYTz",
        "outputId": "a6bac142-933a-4905-c7e4-146c0abcce1e"
      },
      "execution_count": 28,
      "outputs": [
        {
          "output_type": "execute_result",
          "data": {
            "text/plain": [
              "SmolVLMVisionTransformer(\n",
              "  (embeddings): SmolVLMVisionEmbeddings(\n",
              "    (patch_embedding): Conv2d(3, 1152, kernel_size=(14, 14), stride=(14, 14), padding=valid)\n",
              "    (position_embedding): Embedding(729, 1152)\n",
              "  )\n",
              "  (encoder): SmolVLMEncoder(\n",
              "    (layers): ModuleList(\n",
              "      (0-26): 27 x SmolVLMEncoderLayer(\n",
              "        (self_attn): SmolVLMVisionAttention(\n",
              "          (k_proj): Linear(in_features=1152, out_features=1152, bias=True)\n",
              "          (v_proj): Linear(in_features=1152, out_features=1152, bias=True)\n",
              "          (q_proj): Linear(in_features=1152, out_features=1152, bias=True)\n",
              "          (out_proj): Linear(in_features=1152, out_features=1152, bias=True)\n",
              "        )\n",
              "        (layer_norm1): LayerNorm((1152,), eps=1e-06, elementwise_affine=True)\n",
              "        (mlp): SmolVLMVisionMLP(\n",
              "          (activation_fn): PytorchGELUTanh()\n",
              "          (fc1): Linear(in_features=1152, out_features=4304, bias=True)\n",
              "          (fc2): Linear(in_features=4304, out_features=1152, bias=True)\n",
              "        )\n",
              "        (layer_norm2): LayerNorm((1152,), eps=1e-06, elementwise_affine=True)\n",
              "      )\n",
              "    )\n",
              "  )\n",
              "  (post_layernorm): LayerNorm((1152,), eps=1e-06, elementwise_affine=True)\n",
              ")"
            ]
          },
          "metadata": {},
          "execution_count": 28
        }
      ]
    },
    {
      "cell_type": "code",
      "source": [
        "dummy = torch.randn(68, 3, 384,384).to(device=\"cpu\", dtype=torch.bfloat16)\n",
        "\n",
        "model.model.vision_model(dummy).shape"
      ],
      "metadata": {
        "id": "ekoMldrkUubG"
      },
      "execution_count": null,
      "outputs": []
    }
  ],
  "metadata": {
    "colab": {
      "provenance": [],
      "collapsed_sections": [
        "75inOCkskmx7"
      ]
    },
    "kernelspec": {
      "display_name": "Python 3",
      "name": "python3"
    },
    "language_info": {
      "name": "python",
      "version": "3.11.0"
    },
    "widgets": {
      "application/vnd.jupyter.widget-state+json": {
        "03e27ec0c1dc4a71a500b6a1393f13b0": {
          "model_module": "@jupyter-widgets/base",
          "model_module_version": "1.2.0",
          "model_name": "LayoutModel",
          "state": {
            "_model_module": "@jupyter-widgets/base",
            "_model_module_version": "1.2.0",
            "_model_name": "LayoutModel",
            "_view_count": null,
            "_view_module": "@jupyter-widgets/base",
            "_view_module_version": "1.2.0",
            "_view_name": "LayoutView",
            "align_content": null,
            "align_items": null,
            "align_self": null,
            "border": null,
            "bottom": null,
            "display": null,
            "flex": null,
            "flex_flow": null,
            "grid_area": null,
            "grid_auto_columns": null,
            "grid_auto_flow": null,
            "grid_auto_rows": null,
            "grid_column": null,
            "grid_gap": null,
            "grid_row": null,
            "grid_template_areas": null,
            "grid_template_columns": null,
            "grid_template_rows": null,
            "height": null,
            "justify_content": null,
            "justify_items": null,
            "left": null,
            "margin": null,
            "max_height": null,
            "max_width": null,
            "min_height": null,
            "min_width": null,
            "object_fit": null,
            "object_position": null,
            "order": null,
            "overflow": null,
            "overflow_x": null,
            "overflow_y": null,
            "padding": null,
            "right": null,
            "top": null,
            "visibility": null,
            "width": null
          }
        },
        "169af40a42ca464e920ad9bf0e920956": {
          "model_module": "@jupyter-widgets/base",
          "model_module_version": "1.2.0",
          "model_name": "LayoutModel",
          "state": {
            "_model_module": "@jupyter-widgets/base",
            "_model_module_version": "1.2.0",
            "_model_name": "LayoutModel",
            "_view_count": null,
            "_view_module": "@jupyter-widgets/base",
            "_view_module_version": "1.2.0",
            "_view_name": "LayoutView",
            "align_content": null,
            "align_items": null,
            "align_self": null,
            "border": null,
            "bottom": null,
            "display": null,
            "flex": null,
            "flex_flow": null,
            "grid_area": null,
            "grid_auto_columns": null,
            "grid_auto_flow": null,
            "grid_auto_rows": null,
            "grid_column": null,
            "grid_gap": null,
            "grid_row": null,
            "grid_template_areas": null,
            "grid_template_columns": null,
            "grid_template_rows": null,
            "height": null,
            "justify_content": null,
            "justify_items": null,
            "left": null,
            "margin": null,
            "max_height": null,
            "max_width": null,
            "min_height": null,
            "min_width": null,
            "object_fit": null,
            "object_position": null,
            "order": null,
            "overflow": null,
            "overflow_x": null,
            "overflow_y": null,
            "padding": null,
            "right": null,
            "top": null,
            "visibility": null,
            "width": null
          }
        },
        "3c32cda2cadd4520aed60fec4b672ad8": {
          "model_module": "@jupyter-widgets/controls",
          "model_module_version": "1.5.0",
          "model_name": "DescriptionStyleModel",
          "state": {
            "_model_module": "@jupyter-widgets/controls",
            "_model_module_version": "1.5.0",
            "_model_name": "DescriptionStyleModel",
            "_view_count": null,
            "_view_module": "@jupyter-widgets/base",
            "_view_module_version": "1.2.0",
            "_view_name": "StyleView",
            "description_width": ""
          }
        },
        "41a9be4cd0dc4a1ea12c85439d437b64": {
          "model_module": "@jupyter-widgets/controls",
          "model_module_version": "1.5.0",
          "model_name": "HTMLModel",
          "state": {
            "_dom_classes": [],
            "_model_module": "@jupyter-widgets/controls",
            "_model_module_version": "1.5.0",
            "_model_name": "HTMLModel",
            "_view_count": null,
            "_view_module": "@jupyter-widgets/controls",
            "_view_module_version": "1.5.0",
            "_view_name": "HTMLView",
            "description": "",
            "description_tooltip": null,
            "layout": "IPY_MODEL_03e27ec0c1dc4a71a500b6a1393f13b0",
            "placeholder": "​",
            "style": "IPY_MODEL_3c32cda2cadd4520aed60fec4b672ad8",
            "value": " 1.29k/? [00:00&lt;00:00, 62.2kB/s]"
          }
        },
        "4257540f4b984f75bb668762859dee37": {
          "model_module": "@jupyter-widgets/controls",
          "model_module_version": "1.5.0",
          "model_name": "FloatProgressModel",
          "state": {
            "_dom_classes": [],
            "_model_module": "@jupyter-widgets/controls",
            "_model_module_version": "1.5.0",
            "_model_name": "FloatProgressModel",
            "_view_count": null,
            "_view_module": "@jupyter-widgets/controls",
            "_view_module_version": "1.5.0",
            "_view_name": "ProgressView",
            "bar_style": "success",
            "description": "",
            "description_tooltip": null,
            "layout": "IPY_MODEL_82091e9a16924fa9a2951ef59ec64369",
            "max": 1,
            "min": 0,
            "orientation": "horizontal",
            "style": "IPY_MODEL_9d693006d84f4e68898ea6b5682e7d04",
            "value": 1
          }
        },
        "4ae7eb3df49e4ab7beb86b97494a5ffb": {
          "model_module": "@jupyter-widgets/controls",
          "model_module_version": "1.5.0",
          "model_name": "HTMLModel",
          "state": {
            "_dom_classes": [],
            "_model_module": "@jupyter-widgets/controls",
            "_model_module_version": "1.5.0",
            "_model_name": "HTMLModel",
            "_view_count": null,
            "_view_module": "@jupyter-widgets/controls",
            "_view_module_version": "1.5.0",
            "_view_name": "HTMLView",
            "description": "",
            "description_tooltip": null,
            "layout": "IPY_MODEL_169af40a42ca464e920ad9bf0e920956",
            "placeholder": "​",
            "style": "IPY_MODEL_c11e9ff013484e5c9be9fdbc4753a863",
            "value": "config.json: "
          }
        },
        "4be6c7817ce043f89024199c1f4f1cef": {
          "model_module": "@jupyter-widgets/base",
          "model_module_version": "1.2.0",
          "model_name": "LayoutModel",
          "state": {
            "_model_module": "@jupyter-widgets/base",
            "_model_module_version": "1.2.0",
            "_model_name": "LayoutModel",
            "_view_count": null,
            "_view_module": "@jupyter-widgets/base",
            "_view_module_version": "1.2.0",
            "_view_name": "LayoutView",
            "align_content": null,
            "align_items": null,
            "align_self": null,
            "border": null,
            "bottom": null,
            "display": null,
            "flex": null,
            "flex_flow": null,
            "grid_area": null,
            "grid_auto_columns": null,
            "grid_auto_flow": null,
            "grid_auto_rows": null,
            "grid_column": null,
            "grid_gap": null,
            "grid_row": null,
            "grid_template_areas": null,
            "grid_template_columns": null,
            "grid_template_rows": null,
            "height": null,
            "justify_content": null,
            "justify_items": null,
            "left": null,
            "margin": null,
            "max_height": null,
            "max_width": null,
            "min_height": null,
            "min_width": null,
            "object_fit": null,
            "object_position": null,
            "order": null,
            "overflow": null,
            "overflow_x": null,
            "overflow_y": null,
            "padding": null,
            "right": null,
            "top": null,
            "visibility": null,
            "width": null
          }
        },
        "82091e9a16924fa9a2951ef59ec64369": {
          "model_module": "@jupyter-widgets/base",
          "model_module_version": "1.2.0",
          "model_name": "LayoutModel",
          "state": {
            "_model_module": "@jupyter-widgets/base",
            "_model_module_version": "1.2.0",
            "_model_name": "LayoutModel",
            "_view_count": null,
            "_view_module": "@jupyter-widgets/base",
            "_view_module_version": "1.2.0",
            "_view_name": "LayoutView",
            "align_content": null,
            "align_items": null,
            "align_self": null,
            "border": null,
            "bottom": null,
            "display": null,
            "flex": null,
            "flex_flow": null,
            "grid_area": null,
            "grid_auto_columns": null,
            "grid_auto_flow": null,
            "grid_auto_rows": null,
            "grid_column": null,
            "grid_gap": null,
            "grid_row": null,
            "grid_template_areas": null,
            "grid_template_columns": null,
            "grid_template_rows": null,
            "height": null,
            "justify_content": null,
            "justify_items": null,
            "left": null,
            "margin": null,
            "max_height": null,
            "max_width": null,
            "min_height": null,
            "min_width": null,
            "object_fit": null,
            "object_position": null,
            "order": null,
            "overflow": null,
            "overflow_x": null,
            "overflow_y": null,
            "padding": null,
            "right": null,
            "top": null,
            "visibility": null,
            "width": "20px"
          }
        },
        "9d693006d84f4e68898ea6b5682e7d04": {
          "model_module": "@jupyter-widgets/controls",
          "model_module_version": "1.5.0",
          "model_name": "ProgressStyleModel",
          "state": {
            "_model_module": "@jupyter-widgets/controls",
            "_model_module_version": "1.5.0",
            "_model_name": "ProgressStyleModel",
            "_view_count": null,
            "_view_module": "@jupyter-widgets/base",
            "_view_module_version": "1.2.0",
            "_view_name": "StyleView",
            "bar_color": null,
            "description_width": ""
          }
        },
        "c11e9ff013484e5c9be9fdbc4753a863": {
          "model_module": "@jupyter-widgets/controls",
          "model_module_version": "1.5.0",
          "model_name": "DescriptionStyleModel",
          "state": {
            "_model_module": "@jupyter-widgets/controls",
            "_model_module_version": "1.5.0",
            "_model_name": "DescriptionStyleModel",
            "_view_count": null,
            "_view_module": "@jupyter-widgets/base",
            "_view_module_version": "1.2.0",
            "_view_name": "StyleView",
            "description_width": ""
          }
        },
        "d3c6e7d3115f4a9d9facd63fd0ab8b27": {
          "model_module": "@jupyter-widgets/controls",
          "model_module_version": "1.5.0",
          "model_name": "HBoxModel",
          "state": {
            "_dom_classes": [],
            "_model_module": "@jupyter-widgets/controls",
            "_model_module_version": "1.5.0",
            "_model_name": "HBoxModel",
            "_view_count": null,
            "_view_module": "@jupyter-widgets/controls",
            "_view_module_version": "1.5.0",
            "_view_name": "HBoxView",
            "box_style": "",
            "children": [
              "IPY_MODEL_4ae7eb3df49e4ab7beb86b97494a5ffb",
              "IPY_MODEL_4257540f4b984f75bb668762859dee37",
              "IPY_MODEL_41a9be4cd0dc4a1ea12c85439d437b64"
            ],
            "layout": "IPY_MODEL_4be6c7817ce043f89024199c1f4f1cef"
          }
        },
        "c094fabeec704476a970efb5f3b7e340": {
          "model_module": "@jupyter-widgets/controls",
          "model_name": "HBoxModel",
          "model_module_version": "1.5.0",
          "state": {
            "_dom_classes": [],
            "_model_module": "@jupyter-widgets/controls",
            "_model_module_version": "1.5.0",
            "_model_name": "HBoxModel",
            "_view_count": null,
            "_view_module": "@jupyter-widgets/controls",
            "_view_module_version": "1.5.0",
            "_view_name": "HBoxView",
            "box_style": "",
            "children": [
              "IPY_MODEL_8400565397d642e9881c97e412d6c0de",
              "IPY_MODEL_a2f3e69a1b354fd98e58ce8c778d5e14",
              "IPY_MODEL_538ea378c68049ffaee8f7d82589de2c"
            ],
            "layout": "IPY_MODEL_c5007b4d7eb54be19c80d660b3b76e9e"
          }
        },
        "8400565397d642e9881c97e412d6c0de": {
          "model_module": "@jupyter-widgets/controls",
          "model_name": "HTMLModel",
          "model_module_version": "1.5.0",
          "state": {
            "_dom_classes": [],
            "_model_module": "@jupyter-widgets/controls",
            "_model_module_version": "1.5.0",
            "_model_name": "HTMLModel",
            "_view_count": null,
            "_view_module": "@jupyter-widgets/controls",
            "_view_module_version": "1.5.0",
            "_view_name": "HTMLView",
            "description": "",
            "description_tooltip": null,
            "layout": "IPY_MODEL_181252cde5b24e2fb29203dab1148c9a",
            "placeholder": "​",
            "style": "IPY_MODEL_9b3d1e0d995a47a9978382b149a8b2e2",
            "value": "Loading checkpoint shards: 100%"
          }
        },
        "a2f3e69a1b354fd98e58ce8c778d5e14": {
          "model_module": "@jupyter-widgets/controls",
          "model_name": "FloatProgressModel",
          "model_module_version": "1.5.0",
          "state": {
            "_dom_classes": [],
            "_model_module": "@jupyter-widgets/controls",
            "_model_module_version": "1.5.0",
            "_model_name": "FloatProgressModel",
            "_view_count": null,
            "_view_module": "@jupyter-widgets/controls",
            "_view_module_version": "1.5.0",
            "_view_name": "ProgressView",
            "bar_style": "success",
            "description": "",
            "description_tooltip": null,
            "layout": "IPY_MODEL_227b40a4352b4a6281694a79d6fc7eda",
            "max": 2,
            "min": 0,
            "orientation": "horizontal",
            "style": "IPY_MODEL_e7076f56bb17448b845cf3581c796802",
            "value": 2
          }
        },
        "538ea378c68049ffaee8f7d82589de2c": {
          "model_module": "@jupyter-widgets/controls",
          "model_name": "HTMLModel",
          "model_module_version": "1.5.0",
          "state": {
            "_dom_classes": [],
            "_model_module": "@jupyter-widgets/controls",
            "_model_module_version": "1.5.0",
            "_model_name": "HTMLModel",
            "_view_count": null,
            "_view_module": "@jupyter-widgets/controls",
            "_view_module_version": "1.5.0",
            "_view_name": "HTMLView",
            "description": "",
            "description_tooltip": null,
            "layout": "IPY_MODEL_a0f457a3709c4228993283ad25c5f307",
            "placeholder": "​",
            "style": "IPY_MODEL_1c6f2d99d99747a0b500d887f935c212",
            "value": " 2/2 [00:44&lt;00:00, 22.13s/it]"
          }
        },
        "c5007b4d7eb54be19c80d660b3b76e9e": {
          "model_module": "@jupyter-widgets/base",
          "model_name": "LayoutModel",
          "model_module_version": "1.2.0",
          "state": {
            "_model_module": "@jupyter-widgets/base",
            "_model_module_version": "1.2.0",
            "_model_name": "LayoutModel",
            "_view_count": null,
            "_view_module": "@jupyter-widgets/base",
            "_view_module_version": "1.2.0",
            "_view_name": "LayoutView",
            "align_content": null,
            "align_items": null,
            "align_self": null,
            "border": null,
            "bottom": null,
            "display": null,
            "flex": null,
            "flex_flow": null,
            "grid_area": null,
            "grid_auto_columns": null,
            "grid_auto_flow": null,
            "grid_auto_rows": null,
            "grid_column": null,
            "grid_gap": null,
            "grid_row": null,
            "grid_template_areas": null,
            "grid_template_columns": null,
            "grid_template_rows": null,
            "height": null,
            "justify_content": null,
            "justify_items": null,
            "left": null,
            "margin": null,
            "max_height": null,
            "max_width": null,
            "min_height": null,
            "min_width": null,
            "object_fit": null,
            "object_position": null,
            "order": null,
            "overflow": null,
            "overflow_x": null,
            "overflow_y": null,
            "padding": null,
            "right": null,
            "top": null,
            "visibility": null,
            "width": null
          }
        },
        "181252cde5b24e2fb29203dab1148c9a": {
          "model_module": "@jupyter-widgets/base",
          "model_name": "LayoutModel",
          "model_module_version": "1.2.0",
          "state": {
            "_model_module": "@jupyter-widgets/base",
            "_model_module_version": "1.2.0",
            "_model_name": "LayoutModel",
            "_view_count": null,
            "_view_module": "@jupyter-widgets/base",
            "_view_module_version": "1.2.0",
            "_view_name": "LayoutView",
            "align_content": null,
            "align_items": null,
            "align_self": null,
            "border": null,
            "bottom": null,
            "display": null,
            "flex": null,
            "flex_flow": null,
            "grid_area": null,
            "grid_auto_columns": null,
            "grid_auto_flow": null,
            "grid_auto_rows": null,
            "grid_column": null,
            "grid_gap": null,
            "grid_row": null,
            "grid_template_areas": null,
            "grid_template_columns": null,
            "grid_template_rows": null,
            "height": null,
            "justify_content": null,
            "justify_items": null,
            "left": null,
            "margin": null,
            "max_height": null,
            "max_width": null,
            "min_height": null,
            "min_width": null,
            "object_fit": null,
            "object_position": null,
            "order": null,
            "overflow": null,
            "overflow_x": null,
            "overflow_y": null,
            "padding": null,
            "right": null,
            "top": null,
            "visibility": null,
            "width": null
          }
        },
        "9b3d1e0d995a47a9978382b149a8b2e2": {
          "model_module": "@jupyter-widgets/controls",
          "model_name": "DescriptionStyleModel",
          "model_module_version": "1.5.0",
          "state": {
            "_model_module": "@jupyter-widgets/controls",
            "_model_module_version": "1.5.0",
            "_model_name": "DescriptionStyleModel",
            "_view_count": null,
            "_view_module": "@jupyter-widgets/base",
            "_view_module_version": "1.2.0",
            "_view_name": "StyleView",
            "description_width": ""
          }
        },
        "227b40a4352b4a6281694a79d6fc7eda": {
          "model_module": "@jupyter-widgets/base",
          "model_name": "LayoutModel",
          "model_module_version": "1.2.0",
          "state": {
            "_model_module": "@jupyter-widgets/base",
            "_model_module_version": "1.2.0",
            "_model_name": "LayoutModel",
            "_view_count": null,
            "_view_module": "@jupyter-widgets/base",
            "_view_module_version": "1.2.0",
            "_view_name": "LayoutView",
            "align_content": null,
            "align_items": null,
            "align_self": null,
            "border": null,
            "bottom": null,
            "display": null,
            "flex": null,
            "flex_flow": null,
            "grid_area": null,
            "grid_auto_columns": null,
            "grid_auto_flow": null,
            "grid_auto_rows": null,
            "grid_column": null,
            "grid_gap": null,
            "grid_row": null,
            "grid_template_areas": null,
            "grid_template_columns": null,
            "grid_template_rows": null,
            "height": null,
            "justify_content": null,
            "justify_items": null,
            "left": null,
            "margin": null,
            "max_height": null,
            "max_width": null,
            "min_height": null,
            "min_width": null,
            "object_fit": null,
            "object_position": null,
            "order": null,
            "overflow": null,
            "overflow_x": null,
            "overflow_y": null,
            "padding": null,
            "right": null,
            "top": null,
            "visibility": null,
            "width": null
          }
        },
        "e7076f56bb17448b845cf3581c796802": {
          "model_module": "@jupyter-widgets/controls",
          "model_name": "ProgressStyleModel",
          "model_module_version": "1.5.0",
          "state": {
            "_model_module": "@jupyter-widgets/controls",
            "_model_module_version": "1.5.0",
            "_model_name": "ProgressStyleModel",
            "_view_count": null,
            "_view_module": "@jupyter-widgets/base",
            "_view_module_version": "1.2.0",
            "_view_name": "StyleView",
            "bar_color": null,
            "description_width": ""
          }
        },
        "a0f457a3709c4228993283ad25c5f307": {
          "model_module": "@jupyter-widgets/base",
          "model_name": "LayoutModel",
          "model_module_version": "1.2.0",
          "state": {
            "_model_module": "@jupyter-widgets/base",
            "_model_module_version": "1.2.0",
            "_model_name": "LayoutModel",
            "_view_count": null,
            "_view_module": "@jupyter-widgets/base",
            "_view_module_version": "1.2.0",
            "_view_name": "LayoutView",
            "align_content": null,
            "align_items": null,
            "align_self": null,
            "border": null,
            "bottom": null,
            "display": null,
            "flex": null,
            "flex_flow": null,
            "grid_area": null,
            "grid_auto_columns": null,
            "grid_auto_flow": null,
            "grid_auto_rows": null,
            "grid_column": null,
            "grid_gap": null,
            "grid_row": null,
            "grid_template_areas": null,
            "grid_template_columns": null,
            "grid_template_rows": null,
            "height": null,
            "justify_content": null,
            "justify_items": null,
            "left": null,
            "margin": null,
            "max_height": null,
            "max_width": null,
            "min_height": null,
            "min_width": null,
            "object_fit": null,
            "object_position": null,
            "order": null,
            "overflow": null,
            "overflow_x": null,
            "overflow_y": null,
            "padding": null,
            "right": null,
            "top": null,
            "visibility": null,
            "width": null
          }
        },
        "1c6f2d99d99747a0b500d887f935c212": {
          "model_module": "@jupyter-widgets/controls",
          "model_name": "DescriptionStyleModel",
          "model_module_version": "1.5.0",
          "state": {
            "_model_module": "@jupyter-widgets/controls",
            "_model_module_version": "1.5.0",
            "_model_name": "DescriptionStyleModel",
            "_view_count": null,
            "_view_module": "@jupyter-widgets/base",
            "_view_module_version": "1.2.0",
            "_view_name": "StyleView",
            "description_width": ""
          }
        }
      }
    }
  },
  "nbformat": 4,
  "nbformat_minor": 0
}