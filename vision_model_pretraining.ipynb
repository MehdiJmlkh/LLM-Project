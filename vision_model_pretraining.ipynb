{
  "cells": [
    {
      "cell_type": "code",
      "execution_count": 13,
      "metadata": {
        "id": "je5LvVwCX141"
      },
      "outputs": [],
      "source": [
        "!pip install -q -U transformers==4.53.3 huggingface-hub"
      ]
    },
    {
      "cell_type": "markdown",
      "metadata": {
        "id": "1UJ-gIhdDHXb"
      },
      "source": [
        "# Library code, modified"
      ]
    },
    {
      "cell_type": "markdown",
      "metadata": {
        "id": "ped3NA2GQeb9"
      },
      "source": [
        "MQT Q-Former from https://github.com/gordonhu608/MQT-LLaVA"
      ]
    },
    {
      "cell_type": "code",
      "execution_count": 1,
      "metadata": {
        "id": "utVwx1dYQeb9"
      },
      "outputs": [],
      "source": [
        "import torch\n",
        "import torch.nn as nn\n",
        "from torch.nn import functional as F\n",
        "from torch.nn.init import trunc_normal_\n",
        "import math\n",
        "from functools import partial\n",
        "import numpy as np\n",
        "import random\n",
        "\n",
        "def get_matry_n(num_visual_tokens):\n",
        "    if num_visual_tokens == 'first_stage':\n",
        "        return 729\n",
        "    elif num_visual_tokens == 'second_stage':\n",
        "        matry_list = range(1, 730, 4)\n",
        "        return random.choice(matry_list)\n",
        "\n",
        "    try:\n",
        "        num_visual_tokens = int(num_visual_tokens)\n",
        "        if 1 <= num_visual_tokens <= 729:\n",
        "            return num_visual_tokens\n",
        "    except (ValueError, TypeError):\n",
        "        print('The num_visual_tokens is should be an integer between 1 and 729')\n",
        "\n",
        "    raise ValueError(f\"Invalid input: {num_visual_tokens}\")\n",
        "\n",
        "def get_abs_pos(abs_pos, tgt_size):\n",
        "    # abs_pos: L, C\n",
        "    # tgt_size: (H, W)\n",
        "    # return: M, C\n",
        "    src_size = int(math.sqrt(abs_pos.size(0)))\n",
        "    # tgt_size = int(math.sqrt(tgt_size))\n",
        "    dtype = abs_pos.dtype\n",
        "    return F.interpolate(\n",
        "        abs_pos.float().reshape(1, src_size, src_size, -1).permute(0, 3, 1, 2),\n",
        "        size=(tgt_size[0], tgt_size[1]),\n",
        "        mode=\"bicubic\",\n",
        "        align_corners=False,\n",
        "    ).permute(0, 2, 3, 1).flatten(0, 2).to(dtype=dtype)\n",
        "\n",
        "\n",
        "# https://github.com/facebookresearch/mae/blob/efb2a8062c206524e35e47d04501ed4f544c0ae8/util/pos_embed.py#L20\n",
        "def get_2d_sincos_pos_embed(embed_dim, grid_size, cls_token=False):\n",
        "    \"\"\"\n",
        "    grid_size: int of the grid height and width\n",
        "    return:\n",
        "    pos_embed: [grid_size*grid_size, embed_dim] or [1+grid_size*grid_size, embed_dim] (w/ or w/o cls_token)\n",
        "    \"\"\"\n",
        "    grid_h = np.arange(grid_size, dtype=np.float32)\n",
        "    grid_w = np.arange(grid_size, dtype=np.float32)\n",
        "    grid = np.meshgrid(grid_w, grid_h)  # here w goes first\n",
        "    grid = np.stack(grid, axis=0)\n",
        "\n",
        "    grid = grid.reshape([2, 1, grid_size, grid_size])\n",
        "\n",
        "\n",
        "    pos_embed = get_2d_sincos_pos_embed_from_grid(embed_dim, grid)\n",
        "    if cls_token:\n",
        "        pos_embed = np.concatenate([np.zeros([1, embed_dim]), pos_embed], axis=0)\n",
        "    return pos_embed\n",
        "\n",
        "\n",
        "def get_2d_sincos_pos_embed_from_grid(embed_dim, grid):\n",
        "    assert embed_dim % 2 == 0\n",
        "\n",
        "    # use half of dimensions to encode grid_h\n",
        "    emb_h = get_1d_sincos_pos_embed_from_grid(embed_dim // 2, grid[0])  # (H*W, D/2)\n",
        "    emb_w = get_1d_sincos_pos_embed_from_grid(embed_dim // 2, grid[1])  # (H*W, D/2)\n",
        "\n",
        "    emb = np.concatenate([emb_h, emb_w], axis=1)  # (H*W, D)\n",
        "    return emb\n",
        "\n",
        "\n",
        "def get_1d_sincos_pos_embed_from_grid(embed_dim, pos):\n",
        "    \"\"\"\n",
        "    embed_dim: output dimension for each position\n",
        "    pos: a list of positions to be encoded: size (M,)\n",
        "    out: (M, D)\n",
        "    \"\"\"\n",
        "    assert embed_dim % 2 == 0\n",
        "    omega = np.arange(embed_dim // 2, dtype=np.float32)\n",
        "    omega /= embed_dim / 2.\n",
        "    omega = 1. / 10000 ** omega  # (D/2,)\n",
        "\n",
        "    pos = pos.reshape(-1)  # (M,)\n",
        "    out = np.einsum('m,d->md', pos, omega)  # (M, D/2), outer product\n",
        "\n",
        "    emb_sin = np.sin(out)  # (M, D/2)\n",
        "    emb_cos = np.cos(out)  # (M, D/2)\n",
        "\n",
        "    emb = np.concatenate([emb_sin, emb_cos], axis=1)  # (M, D)\n",
        "    return emb\n",
        "\n",
        "\n",
        "class Resampler(nn.Module):\n",
        "    \"\"\"\n",
        "    A 2D perceiver-resampler network with one cross attention layers by\n",
        "        (grid_size**2) learnable queries and 2d sincos pos_emb\n",
        "    Outputs:\n",
        "        A tensor with the shape of (grid_size**2, embed_dim)\n",
        "    \"\"\"\n",
        "\n",
        "    def __init__(\n",
        "            self,\n",
        "            grid_size,\n",
        "            embed_dim,\n",
        "            num_heads,\n",
        "            kv_dim=None,\n",
        "            norm_layer=partial(nn.LayerNorm, eps=1e-6)\n",
        "    ):\n",
        "        super().__init__()\n",
        "        self.num_queries = grid_size ** 2\n",
        "        self.embed_dim = embed_dim\n",
        "        self.num_heads = num_heads\n",
        "\n",
        "        self.pos_embed = nn.Parameter(\n",
        "            torch.from_numpy(get_2d_sincos_pos_embed(kv_dim, grid_size)).to(torch.bfloat16)\n",
        "        ).requires_grad_(False)\n",
        "\n",
        "        self.query = nn.Parameter(torch.zeros(self.num_queries, kv_dim)).to(torch.bfloat16)\n",
        "        trunc_normal_(self.query, std=.02)\n",
        "\n",
        "        self.attn = nn.MultiheadAttention(kv_dim, num_heads).to(device = \"cuda:0\", dtype=torch.bfloat16)\n",
        "\n",
        "        self.ln_q = norm_layer(kv_dim).to(device = \"cuda:0\", dtype=torch.bfloat16)\n",
        "        self.ln_k = norm_layer(kv_dim).to(device = \"cuda:0\", dtype=torch.bfloat16)\n",
        "        self.ln_v = norm_layer(kv_dim).to(device = \"cuda:0\", dtype=torch.bfloat16)\n",
        "\n",
        "        # self.ln_post = norm_layer(kv_dim)\n",
        "        self.proj = nn.Parameter((embed_dim ** -0.5) * torch.randn(kv_dim, embed_dim)).to(device=\"cuda:0\", dtype=torch.bfloat16)\n",
        "\n",
        "        self.apply(self._init_weights)\n",
        "\n",
        "    def _init_weights(self, m):\n",
        "        if isinstance(m, nn.Linear):\n",
        "            trunc_normal_(m.weight, std=.02)\n",
        "            if isinstance(m, nn.Linear) and m.bias is not None:\n",
        "                nn.init.constant_(m.bias, 0)\n",
        "        elif isinstance(m, nn.LayerNorm):\n",
        "            nn.init.constant_(m.bias, 0)\n",
        "            nn.init.constant_(m.weight, 1.0)\n",
        "\n",
        "    def forward(self, x, num_visual_tokens=256, tgt_size=(24,24), attn_mask=None):\n",
        "        pos_embed = get_abs_pos(self.pos_embed, tgt_size)\n",
        "\n",
        "        x = x.permute(1, 0, 2)  # x: (seq_len, batch_size, dim)\n",
        "        B = x.shape[1]  # true batch size\n",
        "\n",
        "\n",
        "        matry_n = get_matry_n(num_visual_tokens)\n",
        "        q = self.query[:matry_n]  # (matry_n, dim)\n",
        "        q = self._repeat(q, B)    # (matry_n, B, dim)\n",
        "\n",
        "        k = self._repeat(pos_embed, B).to(device = \"cuda:0\", dtype=torch.bfloat16)\n",
        "        v = x\n",
        "        q= q.to(device = \"cuda:0\")\n",
        "        # self.pos_embed = self.pos_embed.to(device = \"cuda:0\")\n",
        "        # print(q.dtype)\n",
        "        # print(k.dtype)\n",
        "        # print(v.dtype)\n",
        "        # print (self.pos_embed.dtype)\n",
        "        q = self.ln_q(q + self.pos_embed[:matry_n].unsqueeze(1).to(device = \"cuda:0\")).to(device = x.device ,dtype=torch.bfloat16)\n",
        "        k = self.ln_k(k).to(device = x.device ,dtype=torch.bfloat16)\n",
        "        v = self.ln_v(v).to(device = x.device ,dtype=torch.bfloat16)\n",
        "\n",
        "        out = self.attn(q, k, v, attn_mask=attn_mask)[0]  # (matry_n, B, dim)\n",
        "\n",
        "\n",
        "        x = out.permute(1, 0, 2)\n",
        "\n",
        "        x = x @ self.proj\n",
        "        # print(x.shape)\n",
        "        return x\n",
        "\n",
        "    def _repeat(self, query, N: int):\n",
        "        return query.unsqueeze(1).repeat(1, N, 1)"
      ]
    },
    {
      "cell_type": "code",
      "execution_count": 2,
      "metadata": {
        "id": "mMQamS4ECwh0"
      },
      "outputs": [],
      "source": [
        "class MultiResampler(nn.Module):\n",
        "    \"\"\"\n",
        "    experimental multi-resampler\n",
        "\n",
        "    Args:\n",
        "        num_resamplers:int = number of resamplers(qformers)\n",
        "\n",
        "    Outputs:\n",
        "        A tensor with the shape of (grid_size**2, embed_dim)\n",
        "    \"\"\"\n",
        "\n",
        "    def __init__(\n",
        "            self,\n",
        "            grid_size,\n",
        "            embed_dim,\n",
        "            num_heads,\n",
        "            num_resamplers,\n",
        "            kv_dim=None,\n",
        "            norm_layer=partial(nn.LayerNorm, eps=1e-6),\n",
        "    ):\n",
        "        super().__init__()\n",
        "        self.resamplers = [Resampler(grid_size, embed_dim, num_heads, kv_dim, norm_layer) for _ in range(num_resamplers)]\n",
        "\n",
        "    def _init_weights(self, m):\n",
        "        for i in  range(len(self.resamplers)):\n",
        "            self.resamplers[i]._init_weights(m)\n",
        "\n",
        "    def forward(self, x: list, num_visual_tokens=256, tgt_size=(27,27), attn_mask=None):\n",
        "        assert len(x) == len(self.resamplers)\n",
        "\n",
        "        num_vt_each = num_visual_tokens//len(self.resamplers)\n",
        "        outs = []\n",
        "        for i in range(len(self.resamplers)):\n",
        "            outs.append(self.resamplers[i].forward(x[i], num_vt_each, tgt_size))\n",
        "        # concat = torch.cat(outs, dim=1)\n",
        "        # print(\"multi resampler:\", outs[0].shape)\n",
        "        return outs"
      ]
    },
    {
      "cell_type": "markdown",
      "metadata": {
        "id": "-NAodChpoUbg"
      },
      "source": [
        "# Q-Former"
      ]
    },
    {
      "cell_type": "code",
      "execution_count": 3,
      "metadata": {
        "id": "1o4yoW30oU72"
      },
      "outputs": [],
      "source": [
        "qformer_config = {\n",
        "    \"grid_size\": 27,\n",
        "    \"embed_dim\": 1152,\n",
        "    \"num_heads\": 64,\n",
        "    \"num_resamplers\": 6,\n",
        "    \"kv_dim\": 1152\n",
        "}"
      ]
    },
    {
      "cell_type": "code",
      "execution_count": 20,
      "metadata": {
        "id": "tsYHgHsWoZGS"
      },
      "outputs": [],
      "source": [
        "import torch\n",
        "import torch.nn as nn\n",
        "from transformers import ViTModel, AutoImageProcessor\n",
        "from transformers.modeling_outputs import BaseModelOutput\n",
        "import matplotlib.pyplot as plt\n",
        "import numpy as np\n",
        "from functools import partial\n",
        "from torchvision.transforms import functional as F_transforms\n",
        "from huggingface_hub import PyTorchModelHubMixin\n",
        "\n",
        "class MultiCropVisionEncoder(nn.Module, PyTorchModelHubMixin):\n",
        "    def __init__(self, qformer_config, vision_tower):\n",
        "        super().__init__()\n",
        "        self.num_resamplers = qformer_config[\"num_resamplers\"]\n",
        "        self.embed_dim = qformer_config[\"embed_dim\"]\n",
        "        self.grid_size = qformer_config[\"grid_size\"]\n",
        "\n",
        "        self.vision_tower = vision_tower\n",
        "        vision_hidden_size = self.vision_tower.config.hidden_size\n",
        "        self.vision_tower_image_size = self.vision_tower.config.image_size\n",
        "\n",
        "        self.vision_proj = nn.Linear(vision_hidden_size, self.embed_dim)\n",
        "\n",
        "        self.multi_resampler = MultiResampler(\n",
        "            grid_size=qformer_config[\"grid_size\"],\n",
        "            embed_dim=qformer_config[\"embed_dim\"],\n",
        "            num_heads=qformer_config[\"num_heads\"],\n",
        "            num_resamplers=qformer_config[\"num_resamplers\"],\n",
        "            kv_dim=qformer_config[\"kv_dim\"],\n",
        "            norm_layer=partial(nn.LayerNorm, eps=1e-6),\n",
        "        )\n",
        "\n",
        "    def forward(self, pixel_values, patch_attention_mask=None):\n",
        "        pixel_values = pixel_values.to(torch.bfloat16)\n",
        "        b4, c, h, w = pixel_values.shape\n",
        "        assert b4 % self.num_resamplers == 0, \"Batch size must be divisible by number of resamplers\"\n",
        "        batch_size = b4 // self.num_resamplers\n",
        "\n",
        "        # image = np.transpose(pixel_values[0].cpu().numpy(), (1, 2, 0))\n",
        "        # plt.imshow(image / 255.0)\n",
        "        # plt.show()\n",
        "\n",
        "        pixel_values = pixel_values.view(batch_size, self.num_resamplers, c, h, w)\n",
        "        patch_embeddings_list = []\n",
        "        for i in range(self.num_resamplers):\n",
        "            sub_batch = pixel_values[:, i, :, :, :]\n",
        "\n",
        "            resized_sub_batch = F_transforms.resize(sub_batch, size=(432, 432))\n",
        "\n",
        "\n",
        "            vision_outputs = self.vision_tower(pixel_values=resized_sub_batch, interpolate_pos_encoding=True)\n",
        "            embeddings = vision_outputs.last_hidden_state\n",
        "\n",
        "            embeddings = embeddings.to(torch.bfloat16)\n",
        "\n",
        "            embeddings = embeddings[:, 1:, :]\n",
        "            embeddings = self.vision_proj(embeddings)\n",
        "\n",
        "            patch_embeddings_list.append(embeddings)\n",
        "\n",
        "\n",
        "        out = self.multi_resampler(patch_embeddings_list, num_visual_tokens=self.grid_size**2 * self.num_resamplers)\n",
        "\n",
        "        stacked = torch.stack(out, dim=1)\n",
        "        out = stacked.view(-1, stacked.shape[-2], stacked.shape[-1])\n",
        "        out = out.to(device=pixel_values.device,dtype=torch.bfloat16)\n",
        "\n",
        "        # out = out.view(batch_size * self.num_resamplers, self.grid_size**2, self.embed_dim).to(\n",
        "        #     device=pixel_values.device,\n",
        "        #     dtype=torch.bfloat16\n",
        "        # )\n",
        "        return BaseModelOutput(last_hidden_state=out)"
      ]
    },
    {
      "cell_type": "markdown",
      "metadata": {
        "id": "8GWVOON6oi4n"
      },
      "source": [
        "## Test Vision Encoder"
      ]
    },
    {
      "cell_type": "code",
      "execution_count": 5,
      "metadata": {
        "id": "Oc8jjkAuojgz",
        "colab": {
          "base_uri": "https://localhost:8080/"
        },
        "outputId": "ebf06442-0ee6-4e31-cb1e-db4b41c48045"
      },
      "outputs": [
        {
          "output_type": "stream",
          "name": "stderr",
          "text": [
            "/usr/local/lib/python3.11/dist-packages/huggingface_hub/utils/_auth.py:94: UserWarning: \n",
            "The secret `HF_TOKEN` does not exist in your Colab secrets.\n",
            "To authenticate with the Hugging Face Hub, create a token in your settings tab (https://huggingface.co/settings/tokens), set it as secret in your Google Colab and restart your session.\n",
            "You will be able to reuse this secret in all of your notebooks.\n",
            "Please note that authentication is recommended but still optional to access public models or datasets.\n",
            "  warnings.warn(\n"
          ]
        }
      ],
      "source": [
        "vision_tower = ViTModel.from_pretrained(\"google/vit-base-patch16-224-in21k\").to(device= \"cuda:0\", dtype=torch.bfloat16)"
      ]
    },
    {
      "cell_type": "code",
      "source": [
        "student = MultiCropVisionEncoder(qformer_config, vision_tower)\n",
        "student = student.to(device=\"cuda\", dtype=torch.bfloat16)"
      ],
      "metadata": {
        "id": "Iw5RuWBy8c9m"
      },
      "execution_count": 21,
      "outputs": []
    },
    {
      "cell_type": "code",
      "execution_count": 22,
      "metadata": {
        "id": "x_cDGsbnomeA",
        "colab": {
          "base_uri": "https://localhost:8080/"
        },
        "outputId": "cb838951-9c85-40d6-e1f6-73eb6eb079e1"
      },
      "outputs": [
        {
          "output_type": "stream",
          "name": "stdout",
          "text": [
            "torch.Size([6, 729, 1152])\n"
          ]
        }
      ],
      "source": [
        "dummy_image = torch.randn(6, 3, 384, 384).to(device=\"cuda\", dtype=torch.bfloat16)\n",
        "output = student(dummy_image)\n",
        "print(output.last_hidden_state.shape)"
      ]
    },
    {
      "cell_type": "code",
      "execution_count": 8,
      "metadata": {
        "id": "DIe2j0VUosAz",
        "colab": {
          "base_uri": "https://localhost:8080/"
        },
        "outputId": "7ff9ecc2-7e93-416a-def7-6f58cbedcd66"
      },
      "outputs": [
        {
          "output_type": "execute_result",
          "data": {
            "text/plain": [
              "87275136"
            ]
          },
          "metadata": {},
          "execution_count": 8
        }
      ],
      "source": [
        "sum(p.numel() for p in student.parameters() if p.requires_grad)"
      ]
    },
    {
      "cell_type": "code",
      "source": [
        "sum(p.numel() for p in vision_tower.parameters() if p.requires_grad)"
      ],
      "metadata": {
        "colab": {
          "base_uri": "https://localhost:8080/"
        },
        "id": "PwdZHkWH8ItP",
        "outputId": "9a26ab3f-8666-4d0a-f6b9-925982c4d72d"
      },
      "execution_count": 9,
      "outputs": [
        {
          "output_type": "execute_result",
          "data": {
            "text/plain": [
              "86389248"
            ]
          },
          "metadata": {},
          "execution_count": 9
        }
      ]
    },
    {
      "cell_type": "markdown",
      "source": [
        "# load dataset"
      ],
      "metadata": {
        "id": "o-T1AUDnCCQN"
      }
    },
    {
      "cell_type": "code",
      "source": [
        "from huggingface_hub import hf_hub_download\n",
        "import torch\n",
        "ds_repo_id = \"ArianFiroozi/Nuscenes-Knowledge-Transfer\"\n",
        "\n",
        "all_samples = []\n",
        "path = hf_hub_download(\n",
        "    repo_id=ds_repo_id,\n",
        "    filename=f\"batches/batch_{1}.pt\",\n",
        "    repo_type=\"dataset\"\n",
        ")\n",
        "all_samples.extend(torch.load(path))"
      ],
      "metadata": {
        "colab": {
          "base_uri": "https://localhost:8080/",
          "height": 49,
          "referenced_widgets": [
            "0c9485037b994803b8a6193db989fa95",
            "3f4d6452cc734715b30022fdc13c05c7",
            "c6daf8c6c1644152a5224b418a130202",
            "923f43bb7af549c6b688f01f5092019a",
            "09a23547475445278b7613cc92eb6b2c",
            "f59f44fe67554183b91109aab2419737",
            "5aa2aee09b9243ac9b9aba2f5ee997c6",
            "80039c67084040ffae38289175dc3c0a",
            "221d2c210c014257bba0da76eb46866a",
            "b22229341ef84f2c8cdb2068f6d414dd",
            "10ecc14cd1734f329140d7761d81a3cd"
          ]
        },
        "id": "dnFkUYrKCE76",
        "outputId": "4a936573-0467-4c62-fdf7-60ef4c9cf7da"
      },
      "execution_count": 36,
      "outputs": [
        {
          "output_type": "display_data",
          "data": {
            "text/plain": [
              "batch_1.pt:   0%|          | 0.00/7.69G [00:00<?, ?B/s]"
            ],
            "application/vnd.jupyter.widget-view+json": {
              "version_major": 2,
              "version_minor": 0,
              "model_id": "0c9485037b994803b8a6193db989fa95"
            }
          },
          "metadata": {}
        }
      ]
    },
    {
      "cell_type": "code",
      "source": [
        "all_samples[0]['data'].shape"
      ],
      "metadata": {
        "colab": {
          "base_uri": "https://localhost:8080/"
        },
        "id": "36fEIU8MC2R8",
        "outputId": "477fc314-f420-41ba-a4c3-64594e71b151"
      },
      "execution_count": 48,
      "outputs": [
        {
          "output_type": "execute_result",
          "data": {
            "text/plain": [
              "torch.Size([6, 3, 384, 384])"
            ]
          },
          "metadata": {},
          "execution_count": 48
        }
      ]
    },
    {
      "cell_type": "markdown",
      "metadata": {
        "id": "7gl5CQb3tMl2"
      },
      "source": [
        "# knowledge transfer to vision model"
      ]
    },
    {
      "cell_type": "code",
      "execution_count": 46,
      "metadata": {
        "id": "3Nzo7dU1tStN"
      },
      "outputs": [],
      "source": [
        "import torch\n",
        "import torch.nn as nn\n",
        "import torch.nn.functional as F\n",
        "from torch.utils.data import Dataset, DataLoader\n",
        "\n",
        "in_channels = 3\n",
        "out_channels = 1\n",
        "input_shape = (3, 384, 384)\n",
        "output_shape = (1, 729, 1152)\n",
        "\n",
        "epochs = 3\n",
        "batch_size = 6\n",
        "num_samples = 500\n",
        "lr = 1e-3\n",
        "\n",
        "device = torch.device(\"cuda\" if torch.cuda.is_available() else \"cpu\")"
      ]
    },
    {
      "cell_type": "code",
      "execution_count": 60,
      "metadata": {
        "id": "TAoRwP05tkHo"
      },
      "outputs": [],
      "source": [
        "class KTDataset(Dataset):\n",
        "    def __init__(self, n=None):\n",
        "        self.n = n if n!=None else len(all_samples)\n",
        "    def __len__(self):\n",
        "        return self.n\n",
        "    def __getitem__(self, idx):\n",
        "        return all_samples[idx]['data'], all_samples[idx]['label']"
      ]
    },
    {
      "cell_type": "code",
      "source": [
        "for param in student.vision_tower.parameters():\n",
        "    param.requires_grad = False"
      ],
      "metadata": {
        "id": "1kx94_N-EABm"
      },
      "execution_count": 57,
      "outputs": []
    },
    {
      "cell_type": "code",
      "source": [
        "sum(p.numel() for p in student.parameters() if p.requires_grad)"
      ],
      "metadata": {
        "colab": {
          "base_uri": "https://localhost:8080/"
        },
        "id": "vFJ8i5S3EJc8",
        "outputId": "547f6157-1d79-4b4d-85c7-f26d6e10c12b"
      },
      "execution_count": 58,
      "outputs": [
        {
          "output_type": "execute_result",
          "data": {
            "text/plain": [
              "885888"
            ]
          },
          "metadata": {},
          "execution_count": 58
        }
      ]
    },
    {
      "cell_type": "code",
      "execution_count": 68,
      "metadata": {
        "colab": {
          "base_uri": "https://localhost:8080/"
        },
        "id": "mn4T3_y9tfrx",
        "outputId": "0c59ddb8-36cd-4d90-ea20-b94e8fbb9450"
      },
      "outputs": [
        {
          "output_type": "stream",
          "name": "stdout",
          "text": [
            "ep 1/3, student loss: 8.538281\n",
            "ep 2/3, student loss: 6.733594\n",
            "ep 3/3, student loss: 4.901953\n"
          ]
        }
      ],
      "source": [
        "dataset = KTDataset(10)\n",
        "loader = DataLoader(dataset, batch_size=1, shuffle=False)\n",
        "\n",
        "optimizer = torch.optim.Adam(student.parameters(), lr=lr)\n",
        "criterion = nn.MSELoss()\n",
        "\n",
        "losses = []\n",
        "\n",
        "for epoch in range(epochs):\n",
        "    student.train()\n",
        "    total_loss = 0.0\n",
        "\n",
        "    for data, label in loader:\n",
        "        data = data.view(6, 3, 384, 384)\n",
        "        data = data.to(\"cuda\", dtype=torch.bfloat16)\n",
        "        label = label.to(\"cuda\", dtype=torch.bfloat16)\n",
        "\n",
        "        student_out = student(data)\n",
        "        loss = criterion(student_out.last_hidden_state, label)\n",
        "\n",
        "        optimizer.zero_grad()\n",
        "        loss.backward()\n",
        "        optimizer.step()\n",
        "\n",
        "        total_loss += loss.item() * data.size(0)\n",
        "\n",
        "    epoch_loss = total_loss / len(dataset)\n",
        "    losses.append(epoch_loss)\n",
        "\n",
        "    print(f\"ep {epoch+1}/{epochs}, student loss: {epoch_loss:.6f}\")"
      ]
    },
    {
      "cell_type": "code",
      "source": [
        "import matplotlib.pyplot as plt\n",
        "\n",
        "plt.figure(figsize=(6,4))\n",
        "plt.plot(range(1, epochs+1), losses, marker='o')\n",
        "plt.xlabel(\"Epoch\")\n",
        "plt.ylabel(\"Loss\")\n",
        "plt.title(\"Student Training Loss\")\n",
        "plt.grid(True)\n",
        "plt.show()"
      ],
      "metadata": {
        "colab": {
          "base_uri": "https://localhost:8080/",
          "height": 410
        },
        "id": "kh610yKvGrey",
        "outputId": "1c3185b2-6561-4fa0-f6f8-54353be33241"
      },
      "execution_count": 69,
      "outputs": [
        {
          "output_type": "display_data",
          "data": {
            "text/plain": [
              "<Figure size 600x400 with 1 Axes>"
            ],
            "image/png": "[encoded data removed]"
          },
          "metadata": {}
        }
      ]
    },
    {
      "cell_type": "markdown",
      "source": [
        "# huggingface push"
      ],
      "metadata": {
        "id": "naJcsDx89UYd"
      }
    },
    {
      "cell_type": "code",
      "source": [
        "from huggingface_hub import notebook_login\n",
        "notebook_login()\n",
        "repo_id = \"ArianFiroozi/SmolDriverVision\""
      ],
      "metadata": {
        "colab": {
          "base_uri": "https://localhost:8080/",
          "height": 17,
          "referenced_widgets": [
            "ade87ad916d84005b7fdbd2a84c7caab",
            "2fd6c44d85e2409bab0677cfde744d24",
            "4a0e796d32134d0caaecacd9f8ad062b",
            "dda6fb44546f427cbca4985a77fa5e43",
            "6a5130436744432aa13479e85597192a",
            "9fb9b19d77d6476da034164fc06c34ff",
            "c5e80e5048194a4190df8de5c05774ab",
            "d12f05665eeb48f5a561dacd8dd2e75e",
            "6776b798d8594bb7a6e0aff441cb7fed",
            "3b1c60887346452fb996d2970ce0e663",
            "37d89ed641014a1a94a3065dc2c70e56",
            "6a4b24234f744db2802171054b7494a4",
            "72500a5c3a244d1da34fe5d1f4ab482d",
            "34804e6ed5704ccbb624c9880231e8a8",
            "8804bbf79e464f15890b155e1e8f80e1",
            "f059de40f6744b099cfc80b0b44a8113",
            "ff53e8ee9f6c474cb492ea6510cd2b2a",
            "db2d93f000724b01bf7bc6dafab97a62",
            "5d2662076e81492fb9666be6d2f49f58",
            "40161cec4e7347908b7d9d08b40d3001"
          ]
        },
        "id": "G4edgcde9XCE",
        "outputId": "f8dda495-ed22-47af-ee3c-0882f5c02eb1"
      },
      "execution_count": 70,
      "outputs": [
        {
          "output_type": "display_data",
          "data": {
            "text/plain": [
              "VBox(children=(HTML(value='<center> <img\\nsrc=https://huggingface.co/front/assets/huggingface_logo-noborder.sv…"
            ],
            "application/vnd.jupyter.widget-view+json": {
              "version_major": 2,
              "version_minor": 0,
              "model_id": "ade87ad916d84005b7fdbd2a84c7caab"
            }
          },
          "metadata": {}
        }
      ]
    },
    {
      "cell_type": "code",
      "source": [
        "student.push_to_hub(repo_id)"
      ],
      "metadata": {
        "colab": {
          "base_uri": "https://localhost:8080/",
          "height": 173,
          "referenced_widgets": [
            "2a8f687b17a74586b337d77e709f5db3",
            "bcbefc80b4e44771b8bfb6841fa7c33c",
            "717a9fcbf2734fec87ec1c34bd415481",
            "4efaac7437664f2fa33a8e08ee7c6670",
            "c9573391d6c94bd29ff0fb8f22d75d8d",
            "cf3e62af8e7b4a60b2200266d72ac809",
            "f4c3fd7ac3d24926a0b34d56a96c9648",
            "a305fa9072094ced8e93813c62ab70d1",
            "afed789659784bd08d34b0936665e7d7",
            "88920190bb3a40be8ceaf6f36ceec38e",
            "1f656fc9194a4e89943f775f4b518ba9"
          ]
        },
        "id": "NoLbJd7e-_rb",
        "outputId": "4e0a86ba-ac37-4411-905d-91e6587e468f"
      },
      "execution_count": 71,
      "outputs": [
        {
          "output_type": "display_data",
          "data": {
            "text/plain": [
              "model.safetensors:   0%|          | 0.00/175M [00:00<?, ?B/s]"
            ],
            "application/vnd.jupyter.widget-view+json": {
              "version_major": 2,
              "version_minor": 0,
              "model_id": "2a8f687b17a74586b337d77e709f5db3"
            }
          },
          "metadata": {}
        },
        {
          "output_type": "execute_result",
          "data": {
            "text/plain": [
              "CommitInfo(commit_url='https://huggingface.co/ArianFiroozi/SmolDriverVision/commit/82ab9adc4f998774013b5c9fe92caea06af29425', commit_message='Push model using huggingface_hub.', commit_description='', oid='82ab9adc4f998774013b5c9fe92caea06af29425', pr_url=None, repo_url=RepoUrl('https://huggingface.co/ArianFiroozi/SmolDriverVision', endpoint='https://huggingface.co', repo_type='model', repo_id='ArianFiroozi/SmolDriverVision'), pr_revision=None, pr_num=None)"
            ],
            "application/vnd.google.colaboratory.intrinsic+json": {
              "type": "string"
            }
          },
          "metadata": {},
          "execution_count": 71
        }
      ]
    },
    {
      "cell_type": "markdown",
      "source": [
        "## load"
      ],
      "metadata": {
        "id": "-XX6EHfxGNm0"
      }
    },
    {
      "cell_type": "code",
      "source": [
        "loaded_student = MultiCropVisionEncoder.from_pretrained(repo_id, vision_tower = vision_tower)"
      ],
      "metadata": {
        "colab": {
          "base_uri": "https://localhost:8080/",
          "height": 49,
          "referenced_widgets": [
            "385ba73821d14830aa1613396ef514a1",
            "dbe470b8bdad49368eb5287b2efffb05",
            "0cd7d91da29440e68b4bda7cb245347b",
            "7348dab090154688b57f089554c08f25",
            "5556bf5e5edf40a8843d9779ae469136",
            "152fe93becf2485e8e0d0b51ea5aa65e",
            "c5744bd3bfd5425ca236c2043c0e7073",
            "297943d42b834db2a19f062a1573d9ec",
            "98c07775e77741d8b729b03aa0a27722",
            "9040e568cb3e4ef4bfec9ff4753ec66d",
            "e4a0205f1f034907b3fdb32748970892"
          ]
        },
        "id": "N2_3UlHd9yWC",
        "outputId": "089b71dc-d577-45dd-e697-6533f2ed14c7"
      },
      "execution_count": 32,
      "outputs": [
        {
          "output_type": "display_data",
          "data": {
            "text/plain": [
              "model.safetensors:   0%|          | 0.00/175M [00:00<?, ?B/s]"
            ],
            "application/vnd.jupyter.widget-view+json": {
              "version_major": 2,
              "version_minor": 0,
              "model_id": "385ba73821d14830aa1613396ef514a1"
            }
          },
          "metadata": {}
        }
      ]
    },
    {
      "cell_type": "code",
      "source": [
        "loaded_student=loaded_student.to(\"cuda\", torch.bfloat16)"
      ],
      "metadata": {
        "id": "4fq6K2_LBjOG"
      },
      "execution_count": 34,
      "outputs": []
    },
    {
      "cell_type": "code",
      "source": [
        "loaded_student.eval()\n",
        "with torch.no_grad():\n",
        "    output_loaded = loaded_student(dummy_image)\n",
        "\n",
        "print(output_loaded.last_hidden_state.shape)"
      ],
      "metadata": {
        "colab": {
          "base_uri": "https://localhost:8080/"
        },
        "id": "NZyyU7uLAGO6",
        "outputId": "cebc5105-d070-4287-af54-223710ab3080"
      },
      "execution_count": 35,
      "outputs": [
        {
          "output_type": "stream",
          "name": "stdout",
          "text": [
            "torch.Size([6, 729, 1152])\n"
          ]
        }
      ]
    }
  ],
  "metadata": {
    "accelerator": "GPU",
    "colab": {
      "collapsed_sections": [
        "WQE97ZPO27U4",
        "9vRuxwI927VA",
        "koa5P0EU27VE"
      ],
      "gpuType": "T4",
      "provenance": [],
      "toc_visible": true
    },
    "kernelspec": {
      "display_name": "Python (conda)",
      "language": "python",
      "name": "base"
    },
    "language_info": {
      "codemirror_mode": {
        "name": "ipython",
        "version": 3
      },
      "file_extension": ".py",
      "mimetype": "text/x-python",
      "name": "python",
      "nbconvert_exporter": "python",
      "pygments_lexer": "ipython3",
      "version": "3.11.5"
    },
    "widgets": {
      "application/vnd.jupyter.widget-state+json": {
        "0c9485037b994803b8a6193db989fa95": {
          "model_module": "@jupyter-widgets/controls",
          "model_name": "HBoxModel",
          "model_module_version": "1.5.0",
          "state": {
            "_dom_classes": [],
            "_model_module": "@jupyter-widgets/controls",
            "_model_module_version": "1.5.0",
            "_model_name": "HBoxModel",
            "_view_count": null,
            "_view_module": "@jupyter-widgets/controls",
            "_view_module_version": "1.5.0",
            "_view_name": "HBoxView",
            "box_style": "",
            "children": [
              "IPY_MODEL_3f4d6452cc734715b30022fdc13c05c7",
              "IPY_MODEL_c6daf8c6c1644152a5224b418a130202",
              "IPY_MODEL_923f43bb7af549c6b688f01f5092019a"
            ],
            "layout": "IPY_MODEL_09a23547475445278b7613cc92eb6b2c"
          }
        },
        "3f4d6452cc734715b30022fdc13c05c7": {
          "model_module": "@jupyter-widgets/controls",
          "model_name": "HTMLModel",
          "model_module_version": "1.5.0",
          "state": {
            "_dom_classes": [],
            "_model_module": "@jupyter-widgets/controls",
            "_model_module_version": "1.5.0",
            "_model_name": "HTMLModel",
            "_view_count": null,
            "_view_module": "@jupyter-widgets/controls",
            "_view_module_version": "1.5.0",
            "_view_name": "HTMLView",
            "description": "",
            "description_tooltip": null,
            "layout": "IPY_MODEL_f59f44fe67554183b91109aab2419737",
            "placeholder": "​",
            "style": "IPY_MODEL_5aa2aee09b9243ac9b9aba2f5ee997c6",
            "value": "batch_1.pt: 100%"
          }
        },
        "c6daf8c6c1644152a5224b418a130202": {
          "model_module": "@jupyter-widgets/controls",
          "model_name": "FloatProgressModel",
          "model_module_version": "1.5.0",
          "state": {
            "_dom_classes": [],
            "_model_module": "@jupyter-widgets/controls",
            "_model_module_version": "1.5.0",
            "_model_name": "FloatProgressModel",
            "_view_count": null,
            "_view_module": "@jupyter-widgets/controls",
            "_view_module_version": "1.5.0",
            "_view_name": "ProgressView",
            "bar_style": "success",
            "description": "",
            "description_tooltip": null,
            "layout": "IPY_MODEL_80039c67084040ffae38289175dc3c0a",
            "max": 7693352930,
            "min": 0,
            "orientation": "horizontal",
            "style": "IPY_MODEL_221d2c210c014257bba0da76eb46866a",
            "value": 7693352930
          }
        },
        "923f43bb7af549c6b688f01f5092019a": {
          "model_module": "@jupyter-widgets/controls",
          "model_name": "HTMLModel",
          "model_module_version": "1.5.0",
          "state": {
            "_dom_classes": [],
            "_model_module": "@jupyter-widgets/controls",
            "_model_module_version": "1.5.0",
            "_model_name": "HTMLModel",
            "_view_count": null,
            "_view_module": "@jupyter-widgets/controls",
            "_view_module_version": "1.5.0",
            "_view_name": "HTMLView",
            "description": "",
            "description_tooltip": null,
            "layout": "IPY_MODEL_b22229341ef84f2c8cdb2068f6d414dd",
            "placeholder": "​",
            "style": "IPY_MODEL_10ecc14cd1734f329140d7761d81a3cd",
            "value": " 7.69G/7.69G [00:47&lt;00:00, 144MB/s]"
          }
        },
        "09a23547475445278b7613cc92eb6b2c": {
          "model_module": "@jupyter-widgets/base",
          "model_name": "LayoutModel",
          "model_module_version": "1.2.0",
          "state": {
            "_model_module": "@jupyter-widgets/base",
            "_model_module_version": "1.2.0",
            "_model_name": "LayoutModel",
            "_view_count": null,
            "_view_module": "@jupyter-widgets/base",
            "_view_module_version": "1.2.0",
            "_view_name": "LayoutView",
            "align_content": null,
            "align_items": null,
            "align_self": null,
            "border": null,
            "bottom": null,
            "display": null,
            "flex": null,
            "flex_flow": null,
            "grid_area": null,
            "grid_auto_columns": null,
            "grid_auto_flow": null,
            "grid_auto_rows": null,
            "grid_column": null,
            "grid_gap": null,
            "grid_row": null,
            "grid_template_areas": null,
            "grid_template_columns": null,
            "grid_template_rows": null,
            "height": null,
            "justify_content": null,
            "justify_items": null,
            "left": null,
            "margin": null,
            "max_height": null,
            "max_width": null,
            "min_height": null,
            "min_width": null,
            "object_fit": null,
            "object_position": null,
            "order": null,
            "overflow": null,
            "overflow_x": null,
            "overflow_y": null,
            "padding": null,
            "right": null,
            "top": null,
            "visibility": null,
            "width": null
          }
        },
        "f59f44fe67554183b91109aab2419737": {
          "model_module": "@jupyter-widgets/base",
          "model_name": "LayoutModel",
          "model_module_version": "1.2.0",
          "state": {
            "_model_module": "@jupyter-widgets/base",
            "_model_module_version": "1.2.0",
            "_model_name": "LayoutModel",
            "_view_count": null,
            "_view_module": "@jupyter-widgets/base",
            "_view_module_version": "1.2.0",
            "_view_name": "LayoutView",
            "align_content": null,
            "align_items": null,
            "align_self": null,
            "border": null,
            "bottom": null,
            "display": null,
            "flex": null,
            "flex_flow": null,
            "grid_area": null,
            "grid_auto_columns": null,
            "grid_auto_flow": null,
            "grid_auto_rows": null,
            "grid_column": null,
            "grid_gap": null,
            "grid_row": null,
            "grid_template_areas": null,
            "grid_template_columns": null,
            "grid_template_rows": null,
            "height": null,
            "justify_content": null,
            "justify_items": null,
            "left": null,
            "margin": null,
            "max_height": null,
            "max_width": null,
            "min_height": null,
            "min_width": null,
            "object_fit": null,
            "object_position": null,
            "order": null,
            "overflow": null,
            "overflow_x": null,
            "overflow_y": null,
            "padding": null,
            "right": null,
            "top": null,
            "visibility": null,
            "width": null
          }
        },
        "5aa2aee09b9243ac9b9aba2f5ee997c6": {
          "model_module": "@jupyter-widgets/controls",
          "model_name": "DescriptionStyleModel",
          "model_module_version": "1.5.0",
          "state": {
            "_model_module": "@jupyter-widgets/controls",
            "_model_module_version": "1.5.0",
            "_model_name": "DescriptionStyleModel",
            "_view_count": null,
            "_view_module": "@jupyter-widgets/base",
            "_view_module_version": "1.2.0",
            "_view_name": "StyleView",
            "description_width": ""
          }
        },
        "80039c67084040ffae38289175dc3c0a": {
          "model_module": "@jupyter-widgets/base",
          "model_name": "LayoutModel",
          "model_module_version": "1.2.0",
          "state": {
            "_model_module": "@jupyter-widgets/base",
            "_model_module_version": "1.2.0",
            "_model_name": "LayoutModel",
            "_view_count": null,
            "_view_module": "@jupyter-widgets/base",
            "_view_module_version": "1.2.0",
            "_view_name": "LayoutView",
            "align_content": null,
            "align_items": null,
            "align_self": null,
            "border": null,
            "bottom": null,
            "display": null,
            "flex": null,
            "flex_flow": null,
            "grid_area": null,
            "grid_auto_columns": null,
            "grid_auto_flow": null,
            "grid_auto_rows": null,
            "grid_column": null,
            "grid_gap": null,
            "grid_row": null,
            "grid_template_areas": null,
            "grid_template_columns": null,
            "grid_template_rows": null,
            "height": null,
            "justify_content": null,
            "justify_items": null,
            "left": null,
            "margin": null,
            "max_height": null,
            "max_width": null,
            "min_height": null,
            "min_width": null,
            "object_fit": null,
            "object_position": null,
            "order": null,
            "overflow": null,
            "overflow_x": null,
            "overflow_y": null,
            "padding": null,
            "right": null,
            "top": null,
            "visibility": null,
            "width": null
          }
        },
        "221d2c210c014257bba0da76eb46866a": {
          "model_module": "@jupyter-widgets/controls",
          "model_name": "ProgressStyleModel",
          "model_module_version": "1.5.0",
          "state": {
            "_model_module": "@jupyter-widgets/controls",
            "_model_module_version": "1.5.0",
            "_model_name": "ProgressStyleModel",
            "_view_count": null,
            "_view_module": "@jupyter-widgets/base",
            "_view_module_version": "1.2.0",
            "_view_name": "StyleView",
            "bar_color": null,
            "description_width": ""
          }
        },
        "b22229341ef84f2c8cdb2068f6d414dd": {
          "model_module": "@jupyter-widgets/base",
          "model_name": "LayoutModel",
          "model_module_version": "1.2.0",
          "state": {
            "_model_module": "@jupyter-widgets/base",
            "_model_module_version": "1.2.0",
            "_model_name": "LayoutModel",
            "_view_count": null,
            "_view_module": "@jupyter-widgets/base",
            "_view_module_version": "1.2.0",
            "_view_name": "LayoutView",
            "align_content": null,
            "align_items": null,
            "align_self": null,
            "border": null,
            "bottom": null,
            "display": null,
            "flex": null,
            "flex_flow": null,
            "grid_area": null,
            "grid_auto_columns": null,
            "grid_auto_flow": null,
            "grid_auto_rows": null,
            "grid_column": null,
            "grid_gap": null,
            "grid_row": null,
            "grid_template_areas": null,
            "grid_template_columns": null,
            "grid_template_rows": null,
            "height": null,
            "justify_content": null,
            "justify_items": null,
            "left": null,
            "margin": null,
            "max_height": null,
            "max_width": null,
            "min_height": null,
            "min_width": null,
            "object_fit": null,
            "object_position": null,
            "order": null,
            "overflow": null,
            "overflow_x": null,
            "overflow_y": null,
            "padding": null,
            "right": null,
            "top": null,
            "visibility": null,
            "width": null
          }
        },
        "10ecc14cd1734f329140d7761d81a3cd": {
          "model_module": "@jupyter-widgets/controls",
          "model_name": "DescriptionStyleModel",
          "model_module_version": "1.5.0",
          "state": {
            "_model_module": "@jupyter-widgets/controls",
            "_model_module_version": "1.5.0",
            "_model_name": "DescriptionStyleModel",
            "_view_count": null,
            "_view_module": "@jupyter-widgets/base",
            "_view_module_version": "1.2.0",
            "_view_name": "StyleView",
            "description_width": ""
          }
        },
        "ade87ad916d84005b7fdbd2a84c7caab": {
          "model_module": "@jupyter-widgets/controls",
          "model_name": "VBoxModel",
          "model_module_version": "1.5.0",
          "state": {
            "_dom_classes": [],
            "_model_module": "@jupyter-widgets/controls",
            "_model_module_version": "1.5.0",
            "_model_name": "VBoxModel",
            "_view_count": null,
            "_view_module": "@jupyter-widgets/controls",
            "_view_module_version": "1.5.0",
            "_view_name": "VBoxView",
            "box_style": "",
            "children": [],
            "layout": "IPY_MODEL_c5e80e5048194a4190df8de5c05774ab"
          }
        },
        "2fd6c44d85e2409bab0677cfde744d24": {
          "model_module": "@jupyter-widgets/controls",
          "model_name": "HTMLModel",
          "model_module_version": "1.5.0",
          "state": {
            "_dom_classes": [],
            "_model_module": "@jupyter-widgets/controls",
            "_model_module_version": "1.5.0",
            "_model_name": "HTMLModel",
            "_view_count": null,
            "_view_module": "@jupyter-widgets/controls",
            "_view_module_version": "1.5.0",
            "_view_name": "HTMLView",
            "description": "",
            "description_tooltip": null,
            "layout": "IPY_MODEL_d12f05665eeb48f5a561dacd8dd2e75e",
            "placeholder": "​",
            "style": "IPY_MODEL_6776b798d8594bb7a6e0aff441cb7fed",
            "value": "<center> <img\nsrc=https://huggingface.co/front/assets/huggingface_logo-noborder.svg\nalt='Hugging Face'> <br> Copy a token from <a\nhref=\"https://huggingface.co/settings/tokens\" target=\"_blank\">your Hugging Face\ntokens page</a> and paste it below. <br> Immediately click login after copying\nyour token or it might be stored in plain text in this notebook file. </center>"
          }
        },
        "4a0e796d32134d0caaecacd9f8ad062b": {
          "model_module": "@jupyter-widgets/controls",
          "model_name": "PasswordModel",
          "model_module_version": "1.5.0",
          "state": {
            "_dom_classes": [],
            "_model_module": "@jupyter-widgets/controls",
            "_model_module_version": "1.5.0",
            "_model_name": "PasswordModel",
            "_view_count": null,
            "_view_module": "@jupyter-widgets/controls",
            "_view_module_version": "1.5.0",
            "_view_name": "PasswordView",
            "continuous_update": true,
            "description": "Token:",
            "description_tooltip": null,
            "disabled": false,
            "layout": "IPY_MODEL_3b1c60887346452fb996d2970ce0e663",
            "placeholder": "​",
            "style": "IPY_MODEL_37d89ed641014a1a94a3065dc2c70e56",
            "value": ""
          }
        },
        "dda6fb44546f427cbca4985a77fa5e43": {
          "model_module": "@jupyter-widgets/controls",
          "model_name": "CheckboxModel",
          "model_module_version": "1.5.0",
          "state": {
            "_dom_classes": [],
            "_model_module": "@jupyter-widgets/controls",
            "_model_module_version": "1.5.0",
            "_model_name": "CheckboxModel",
            "_view_count": null,
            "_view_module": "@jupyter-widgets/controls",
            "_view_module_version": "1.5.0",
            "_view_name": "CheckboxView",
            "description": "Add token as git credential?",
            "description_tooltip": null,
            "disabled": false,
            "indent": true,
            "layout": "IPY_MODEL_6a4b24234f744db2802171054b7494a4",
            "style": "IPY_MODEL_72500a5c3a244d1da34fe5d1f4ab482d",
            "value": true
          }
        },
        "6a5130436744432aa13479e85597192a": {
          "model_module": "@jupyter-widgets/controls",
          "model_name": "ButtonModel",
          "model_module_version": "1.5.0",
          "state": {
            "_dom_classes": [],
            "_model_module": "@jupyter-widgets/controls",
            "_model_module_version": "1.5.0",
            "_model_name": "ButtonModel",
            "_view_count": null,
            "_view_module": "@jupyter-widgets/controls",
            "_view_module_version": "1.5.0",
            "_view_name": "ButtonView",
            "button_style": "",
            "description": "Login",
            "disabled": false,
            "icon": "",
            "layout": "IPY_MODEL_34804e6ed5704ccbb624c9880231e8a8",
            "style": "IPY_MODEL_8804bbf79e464f15890b155e1e8f80e1",
            "tooltip": ""
          }
        },
        "9fb9b19d77d6476da034164fc06c34ff": {
          "model_module": "@jupyter-widgets/controls",
          "model_name": "HTMLModel",
          "model_module_version": "1.5.0",
          "state": {
            "_dom_classes": [],
            "_model_module": "@jupyter-widgets/controls",
            "_model_module_version": "1.5.0",
            "_model_name": "HTMLModel",
            "_view_count": null,
            "_view_module": "@jupyter-widgets/controls",
            "_view_module_version": "1.5.0",
            "_view_name": "HTMLView",
            "description": "",
            "description_tooltip": null,
            "layout": "IPY_MODEL_f059de40f6744b099cfc80b0b44a8113",
            "placeholder": "​",
            "style": "IPY_MODEL_ff53e8ee9f6c474cb492ea6510cd2b2a",
            "value": "\n<b>Pro Tip:</b> If you don't already have one, you can create a dedicated\n'notebooks' token with 'write' access, that you can then easily reuse for all\nnotebooks. </center>"
          }
        },
        "c5e80e5048194a4190df8de5c05774ab": {
          "model_module": "@jupyter-widgets/base",
          "model_name": "LayoutModel",
          "model_module_version": "1.2.0",
          "state": {
            "_model_module": "@jupyter-widgets/base",
            "_model_module_version": "1.2.0",
            "_model_name": "LayoutModel",
            "_view_count": null,
            "_view_module": "@jupyter-widgets/base",
            "_view_module_version": "1.2.0",
            "_view_name": "LayoutView",
            "align_content": null,
            "align_items": "center",
            "align_self": null,
            "border": null,
            "bottom": null,
            "display": "flex",
            "flex": null,
            "flex_flow": "column",
            "grid_area": null,
            "grid_auto_columns": null,
            "grid_auto_flow": null,
            "grid_auto_rows": null,
            "grid_column": null,
            "grid_gap": null,
            "grid_row": null,
            "grid_template_areas": null,
            "grid_template_columns": null,
            "grid_template_rows": null,
            "height": null,
            "justify_content": null,
            "justify_items": null,
            "left": null,
            "margin": null,
            "max_height": null,
            "max_width": null,
            "min_height": null,
            "min_width": null,
            "object_fit": null,
            "object_position": null,
            "order": null,
            "overflow": null,
            "overflow_x": null,
            "overflow_y": null,
            "padding": null,
            "right": null,
            "top": null,
            "visibility": null,
            "width": "50%"
          }
        },
        "d12f05665eeb48f5a561dacd8dd2e75e": {
          "model_module": "@jupyter-widgets/base",
          "model_name": "LayoutModel",
          "model_module_version": "1.2.0",
          "state": {
            "_model_module": "@jupyter-widgets/base",
            "_model_module_version": "1.2.0",
            "_model_name": "LayoutModel",
            "_view_count": null,
            "_view_module": "@jupyter-widgets/base",
            "_view_module_version": "1.2.0",
            "_view_name": "LayoutView",
            "align_content": null,
            "align_items": null,
            "align_self": null,
            "border": null,
            "bottom": null,
            "display": null,
            "flex": null,
            "flex_flow": null,
            "grid_area": null,
            "grid_auto_columns": null,
            "grid_auto_flow": null,
            "grid_auto_rows": null,
            "grid_column": null,
            "grid_gap": null,
            "grid_row": null,
            "grid_template_areas": null,
            "grid_template_columns": null,
            "grid_template_rows": null,
            "height": null,
            "justify_content": null,
            "justify_items": null,
            "left": null,
            "margin": null,
            "max_height": null,
            "max_width": null,
            "min_height": null,
            "min_width": null,
            "object_fit": null,
            "object_position": null,
            "order": null,
            "overflow": null,
            "overflow_x": null,
            "overflow_y": null,
            "padding": null,
            "right": null,
            "top": null,
            "visibility": null,
            "width": null
          }
        },
        "6776b798d8594bb7a6e0aff441cb7fed": {
          "model_module": "@jupyter-widgets/controls",
          "model_name": "DescriptionStyleModel",
          "model_module_version": "1.5.0",
          "state": {
            "_model_module": "@jupyter-widgets/controls",
            "_model_module_version": "1.5.0",
            "_model_name": "DescriptionStyleModel",
            "_view_count": null,
            "_view_module": "@jupyter-widgets/base",
            "_view_module_version": "1.2.0",
            "_view_name": "StyleView",
            "description_width": ""
          }
        },
        "3b1c60887346452fb996d2970ce0e663": {
          "model_module": "@jupyter-widgets/base",
          "model_name": "LayoutModel",
          "model_module_version": "1.2.0",
          "state": {
            "_model_module": "@jupyter-widgets/base",
            "_model_module_version": "1.2.0",
            "_model_name": "LayoutModel",
            "_view_count": null,
            "_view_module": "@jupyter-widgets/base",
            "_view_module_version": "1.2.0",
            "_view_name": "LayoutView",
            "align_content": null,
            "align_items": null,
            "align_self": null,
            "border": null,
            "bottom": null,
            "display": null,
            "flex": null,
            "flex_flow": null,
            "grid_area": null,
            "grid_auto_columns": null,
            "grid_auto_flow": null,
            "grid_auto_rows": null,
            "grid_column": null,
            "grid_gap": null,
            "grid_row": null,
            "grid_template_areas": null,
            "grid_template_columns": null,
            "grid_template_rows": null,
            "height": null,
            "justify_content": null,
            "justify_items": null,
            "left": null,
            "margin": null,
            "max_height": null,
            "max_width": null,
            "min_height": null,
            "min_width": null,
            "object_fit": null,
            "object_position": null,
            "order": null,
            "overflow": null,
            "overflow_x": null,
            "overflow_y": null,
            "padding": null,
            "right": null,
            "top": null,
            "visibility": null,
            "width": null
          }
        },
        "37d89ed641014a1a94a3065dc2c70e56": {
          "model_module": "@jupyter-widgets/controls",
          "model_name": "DescriptionStyleModel",
          "model_module_version": "1.5.0",
          "state": {
            "_model_module": "@jupyter-widgets/controls",
            "_model_module_version": "1.5.0",
            "_model_name": "DescriptionStyleModel",
            "_view_count": null,
            "_view_module": "@jupyter-widgets/base",
            "_view_module_version": "1.2.0",
            "_view_name": "StyleView",
            "description_width": ""
          }
        },
        "6a4b24234f744db2802171054b7494a4": {
          "model_module": "@jupyter-widgets/base",
          "model_name": "LayoutModel",
          "model_module_version": "1.2.0",
          "state": {
            "_model_module": "@jupyter-widgets/base",
            "_model_module_version": "1.2.0",
            "_model_name": "LayoutModel",
            "_view_count": null,
            "_view_module": "@jupyter-widgets/base",
            "_view_module_version": "1.2.0",
            "_view_name": "LayoutView",
            "align_content": null,
            "align_items": null,
            "align_self": null,
            "border": null,
            "bottom": null,
            "display": null,
            "flex": null,
            "flex_flow": null,
            "grid_area": null,
            "grid_auto_columns": null,
            "grid_auto_flow": null,
            "grid_auto_rows": null,
            "grid_column": null,
            "grid_gap": null,
            "grid_row": null,
            "grid_template_areas": null,
            "grid_template_columns": null,
            "grid_template_rows": null,
            "height": null,
            "justify_content": null,
            "justify_items": null,
            "left": null,
            "margin": null,
            "max_height": null,
            "max_width": null,
            "min_height": null,
            "min_width": null,
            "object_fit": null,
            "object_position": null,
            "order": null,
            "overflow": null,
            "overflow_x": null,
            "overflow_y": null,
            "padding": null,
            "right": null,
            "top": null,
            "visibility": null,
            "width": null
          }
        },
        "72500a5c3a244d1da34fe5d1f4ab482d": {
          "model_module": "@jupyter-widgets/controls",
          "model_name": "DescriptionStyleModel",
          "model_module_version": "1.5.0",
          "state": {
            "_model_module": "@jupyter-widgets/controls",
            "_model_module_version": "1.5.0",
            "_model_name": "DescriptionStyleModel",
            "_view_count": null,
            "_view_module": "@jupyter-widgets/base",
            "_view_module_version": "1.2.0",
            "_view_name": "StyleView",
            "description_width": ""
          }
        },
        "34804e6ed5704ccbb624c9880231e8a8": {
          "model_module": "@jupyter-widgets/base",
          "model_name": "LayoutModel",
          "model_module_version": "1.2.0",
          "state": {
            "_model_module": "@jupyter-widgets/base",
            "_model_module_version": "1.2.0",
            "_model_name": "LayoutModel",
            "_view_count": null,
            "_view_module": "@jupyter-widgets/base",
            "_view_module_version": "1.2.0",
            "_view_name": "LayoutView",
            "align_content": null,
            "align_items": null,
            "align_self": null,
            "border": null,
            "bottom": null,
            "display": null,
            "flex": null,
            "flex_flow": null,
            "grid_area": null,
            "grid_auto_columns": null,
            "grid_auto_flow": null,
            "grid_auto_rows": null,
            "grid_column": null,
            "grid_gap": null,
            "grid_row": null,
            "grid_template_areas": null,
            "grid_template_columns": null,
            "grid_template_rows": null,
            "height": null,
            "justify_content": null,
            "justify_items": null,
            "left": null,
            "margin": null,
            "max_height": null,
            "max_width": null,
            "min_height": null,
            "min_width": null,
            "object_fit": null,
            "object_position": null,
            "order": null,
            "overflow": null,
            "overflow_x": null,
            "overflow_y": null,
            "padding": null,
            "right": null,
            "top": null,
            "visibility": null,
            "width": null
          }
        },
        "8804bbf79e464f15890b155e1e8f80e1": {
          "model_module": "@jupyter-widgets/controls",
          "model_name": "ButtonStyleModel",
          "model_module_version": "1.5.0",
          "state": {
            "_model_module": "@jupyter-widgets/controls",
            "_model_module_version": "1.5.0",
            "_model_name": "ButtonStyleModel",
            "_view_count": null,
            "_view_module": "@jupyter-widgets/base",
            "_view_module_version": "1.2.0",
            "_view_name": "StyleView",
            "button_color": null,
            "font_weight": ""
          }
        },
        "f059de40f6744b099cfc80b0b44a8113": {
          "model_module": "@jupyter-widgets/base",
          "model_name": "LayoutModel",
          "model_module_version": "1.2.0",
          "state": {
            "_model_module": "@jupyter-widgets/base",
            "_model_module_version": "1.2.0",
            "_model_name": "LayoutModel",
            "_view_count": null,
            "_view_module": "@jupyter-widgets/base",
            "_view_module_version": "1.2.0",
            "_view_name": "LayoutView",
            "align_content": null,
            "align_items": null,
            "align_self": null,
            "border": null,
            "bottom": null,
            "display": null,
            "flex": null,
            "flex_flow": null,
            "grid_area": null,
            "grid_auto_columns": null,
            "grid_auto_flow": null,
            "grid_auto_rows": null,
            "grid_column": null,
            "grid_gap": null,
            "grid_row": null,
            "grid_template_areas": null,
            "grid_template_columns": null,
            "grid_template_rows": null,
            "height": null,
            "justify_content": null,
            "justify_items": null,
            "left": null,
            "margin": null,
            "max_height": null,
            "max_width": null,
            "min_height": null,
            "min_width": null,
            "object_fit": null,
            "object_position": null,
            "order": null,
            "overflow": null,
            "overflow_x": null,
            "overflow_y": null,
            "padding": null,
            "right": null,
            "top": null,
            "visibility": null,
            "width": null
          }
        },
        "ff53e8ee9f6c474cb492ea6510cd2b2a": {
          "model_module": "@jupyter-widgets/controls",
          "model_name": "DescriptionStyleModel",
          "model_module_version": "1.5.0",
          "state": {
            "_model_module": "@jupyter-widgets/controls",
            "_model_module_version": "1.5.0",
            "_model_name": "DescriptionStyleModel",
            "_view_count": null,
            "_view_module": "@jupyter-widgets/base",
            "_view_module_version": "1.2.0",
            "_view_name": "StyleView",
            "description_width": ""
          }
        },
        "db2d93f000724b01bf7bc6dafab97a62": {
          "model_module": "@jupyter-widgets/controls",
          "model_name": "LabelModel",
          "model_module_version": "1.5.0",
          "state": {
            "_dom_classes": [],
            "_model_module": "@jupyter-widgets/controls",
            "_model_module_version": "1.5.0",
            "_model_name": "LabelModel",
            "_view_count": null,
            "_view_module": "@jupyter-widgets/controls",
            "_view_module_version": "1.5.0",
            "_view_name": "LabelView",
            "description": "",
            "description_tooltip": null,
            "layout": "IPY_MODEL_5d2662076e81492fb9666be6d2f49f58",
            "placeholder": "​",
            "style": "IPY_MODEL_40161cec4e7347908b7d9d08b40d3001",
            "value": "Connecting..."
          }
        },
        "5d2662076e81492fb9666be6d2f49f58": {
          "model_module": "@jupyter-widgets/base",
          "model_name": "LayoutModel",
          "model_module_version": "1.2.0",
          "state": {
            "_model_module": "@jupyter-widgets/base",
            "_model_module_version": "1.2.0",
            "_model_name": "LayoutModel",
            "_view_count": null,
            "_view_module": "@jupyter-widgets/base",
            "_view_module_version": "1.2.0",
            "_view_name": "LayoutView",
            "align_content": null,
            "align_items": null,
            "align_self": null,
            "border": null,
            "bottom": null,
            "display": null,
            "flex": null,
            "flex_flow": null,
            "grid_area": null,
            "grid_auto_columns": null,
            "grid_auto_flow": null,
            "grid_auto_rows": null,
            "grid_column": null,
            "grid_gap": null,
            "grid_row": null,
            "grid_template_areas": null,
            "grid_template_columns": null,
            "grid_template_rows": null,
            "height": null,
            "justify_content": null,
            "justify_items": null,
            "left": null,
            "margin": null,
            "max_height": null,
            "max_width": null,
            "min_height": null,
            "min_width": null,
            "object_fit": null,
            "object_position": null,
            "order": null,
            "overflow": null,
            "overflow_x": null,
            "overflow_y": null,
            "padding": null,
            "right": null,
            "top": null,
            "visibility": null,
            "width": null
          }
        },
        "40161cec4e7347908b7d9d08b40d3001": {
          "model_module": "@jupyter-widgets/controls",
          "model_name": "DescriptionStyleModel",
          "model_module_version": "1.5.0",
          "state": {
            "_model_module": "@jupyter-widgets/controls",
            "_model_module_version": "1.5.0",
            "_model_name": "DescriptionStyleModel",
            "_view_count": null,
            "_view_module": "@jupyter-widgets/base",
            "_view_module_version": "1.2.0",
            "_view_name": "StyleView",
            "description_width": ""
          }
        },
        "2a8f687b17a74586b337d77e709f5db3": {
          "model_module": "@jupyter-widgets/controls",
          "model_name": "HBoxModel",
          "model_module_version": "1.5.0",
          "state": {
            "_dom_classes": [],
            "_model_module": "@jupyter-widgets/controls",
            "_model_module_version": "1.5.0",
            "_model_name": "HBoxModel",
            "_view_count": null,
            "_view_module": "@jupyter-widgets/controls",
            "_view_module_version": "1.5.0",
            "_view_name": "HBoxView",
            "box_style": "",
            "children": [
              "IPY_MODEL_bcbefc80b4e44771b8bfb6841fa7c33c",
              "IPY_MODEL_717a9fcbf2734fec87ec1c34bd415481",
              "IPY_MODEL_4efaac7437664f2fa33a8e08ee7c6670"
            ],
            "layout": "IPY_MODEL_c9573391d6c94bd29ff0fb8f22d75d8d"
          }
        },
        "bcbefc80b4e44771b8bfb6841fa7c33c": {
          "model_module": "@jupyter-widgets/controls",
          "model_name": "HTMLModel",
          "model_module_version": "1.5.0",
          "state": {
            "_dom_classes": [],
            "_model_module": "@jupyter-widgets/controls",
            "_model_module_version": "1.5.0",
            "_model_name": "HTMLModel",
            "_view_count": null,
            "_view_module": "@jupyter-widgets/controls",
            "_view_module_version": "1.5.0",
            "_view_name": "HTMLView",
            "description": "",
            "description_tooltip": null,
            "layout": "IPY_MODEL_cf3e62af8e7b4a60b2200266d72ac809",
            "placeholder": "​",
            "style": "IPY_MODEL_f4c3fd7ac3d24926a0b34d56a96c9648",
            "value": "model.safetensors: 100%"
          }
        },
        "717a9fcbf2734fec87ec1c34bd415481": {
          "model_module": "@jupyter-widgets/controls",
          "model_name": "FloatProgressModel",
          "model_module_version": "1.5.0",
          "state": {
            "_dom_classes": [],
            "_model_module": "@jupyter-widgets/controls",
            "_model_module_version": "1.5.0",
            "_model_name": "FloatProgressModel",
            "_view_count": null,
            "_view_module": "@jupyter-widgets/controls",
            "_view_module_version": "1.5.0",
            "_view_name": "ProgressView",
            "bar_style": "success",
            "description": "",
            "description_tooltip": null,
            "layout": "IPY_MODEL_a305fa9072094ced8e93813c62ab70d1",
            "max": 174575536,
            "min": 0,
            "orientation": "horizontal",
            "style": "IPY_MODEL_afed789659784bd08d34b0936665e7d7",
            "value": 174575536
          }
        },
        "4efaac7437664f2fa33a8e08ee7c6670": {
          "model_module": "@jupyter-widgets/controls",
          "model_name": "HTMLModel",
          "model_module_version": "1.5.0",
          "state": {
            "_dom_classes": [],
            "_model_module": "@jupyter-widgets/controls",
            "_model_module_version": "1.5.0",
            "_model_name": "HTMLModel",
            "_view_count": null,
            "_view_module": "@jupyter-widgets/controls",
            "_view_module_version": "1.5.0",
            "_view_name": "HTMLView",
            "description": "",
            "description_tooltip": null,
            "layout": "IPY_MODEL_88920190bb3a40be8ceaf6f36ceec38e",
            "placeholder": "​",
            "style": "IPY_MODEL_1f656fc9194a4e89943f775f4b518ba9",
            "value": " 175M/175M [00:15&lt;00:00, 21.4MB/s]"
          }
        },
        "c9573391d6c94bd29ff0fb8f22d75d8d": {
          "model_module": "@jupyter-widgets/base",
          "model_name": "LayoutModel",
          "model_module_version": "1.2.0",
          "state": {
            "_model_module": "@jupyter-widgets/base",
            "_model_module_version": "1.2.0",
            "_model_name": "LayoutModel",
            "_view_count": null,
            "_view_module": "@jupyter-widgets/base",
            "_view_module_version": "1.2.0",
            "_view_name": "LayoutView",
            "align_content": null,
            "align_items": null,
            "align_self": null,
            "border": null,
            "bottom": null,
            "display": null,
            "flex": null,
            "flex_flow": null,
            "grid_area": null,
            "grid_auto_columns": null,
            "grid_auto_flow": null,
            "grid_auto_rows": null,
            "grid_column": null,
            "grid_gap": null,
            "grid_row": null,
            "grid_template_areas": null,
            "grid_template_columns": null,
            "grid_template_rows": null,
            "height": null,
            "justify_content": null,
            "justify_items": null,
            "left": null,
            "margin": null,
            "max_height": null,
            "max_width": null,
            "min_height": null,
            "min_width": null,
            "object_fit": null,
            "object_position": null,
            "order": null,
            "overflow": null,
            "overflow_x": null,
            "overflow_y": null,
            "padding": null,
            "right": null,
            "top": null,
            "visibility": null,
            "width": null
          }
        },
        "cf3e62af8e7b4a60b2200266d72ac809": {
          "model_module": "@jupyter-widgets/base",
          "model_name": "LayoutModel",
          "model_module_version": "1.2.0",
          "state": {
            "_model_module": "@jupyter-widgets/base",
            "_model_module_version": "1.2.0",
            "_model_name": "LayoutModel",
            "_view_count": null,
            "_view_module": "@jupyter-widgets/base",
            "_view_module_version": "1.2.0",
            "_view_name": "LayoutView",
            "align_content": null,
            "align_items": null,
            "align_self": null,
            "border": null,
            "bottom": null,
            "display": null,
            "flex": null,
            "flex_flow": null,
            "grid_area": null,
            "grid_auto_columns": null,
            "grid_auto_flow": null,
            "grid_auto_rows": null,
            "grid_column": null,
            "grid_gap": null,
            "grid_row": null,
            "grid_template_areas": null,
            "grid_template_columns": null,
            "grid_template_rows": null,
            "height": null,
            "justify_content": null,
            "justify_items": null,
            "left": null,
            "margin": null,
            "max_height": null,
            "max_width": null,
            "min_height": null,
            "min_width": null,
            "object_fit": null,
            "object_position": null,
            "order": null,
            "overflow": null,
            "overflow_x": null,
            "overflow_y": null,
            "padding": null,
            "right": null,
            "top": null,
            "visibility": null,
            "width": null
          }
        },
        "f4c3fd7ac3d24926a0b34d56a96c9648": {
          "model_module": "@jupyter-widgets/controls",
          "model_name": "DescriptionStyleModel",
          "model_module_version": "1.5.0",
          "state": {
            "_model_module": "@jupyter-widgets/controls",
            "_model_module_version": "1.5.0",
            "_model_name": "DescriptionStyleModel",
            "_view_count": null,
            "_view_module": "@jupyter-widgets/base",
            "_view_module_version": "1.2.0",
            "_view_name": "StyleView",
            "description_width": ""
          }
        },
        "a305fa9072094ced8e93813c62ab70d1": {
          "model_module": "@jupyter-widgets/base",
          "model_name": "LayoutModel",
          "model_module_version": "1.2.0",
          "state": {
            "_model_module": "@jupyter-widgets/base",
            "_model_module_version": "1.2.0",
            "_model_name": "LayoutModel",
            "_view_count": null,
            "_view_module": "@jupyter-widgets/base",
            "_view_module_version": "1.2.0",
            "_view_name": "LayoutView",
            "align_content": null,
            "align_items": null,
            "align_self": null,
            "border": null,
            "bottom": null,
            "display": null,
            "flex": null,
            "flex_flow": null,
            "grid_area": null,
            "grid_auto_columns": null,
            "grid_auto_flow": null,
            "grid_auto_rows": null,
            "grid_column": null,
            "grid_gap": null,
            "grid_row": null,
            "grid_template_areas": null,
            "grid_template_columns": null,
            "grid_template_rows": null,
            "height": null,
            "justify_content": null,
            "justify_items": null,
            "left": null,
            "margin": null,
            "max_height": null,
            "max_width": null,
            "min_height": null,
            "min_width": null,
            "object_fit": null,
            "object_position": null,
            "order": null,
            "overflow": null,
            "overflow_x": null,
            "overflow_y": null,
            "padding": null,
            "right": null,
            "top": null,
            "visibility": null,
            "width": null
          }
        },
        "afed789659784bd08d34b0936665e7d7": {
          "model_module": "@jupyter-widgets/controls",
          "model_name": "ProgressStyleModel",
          "model_module_version": "1.5.0",
          "state": {
            "_model_module": "@jupyter-widgets/controls",
            "_model_module_version": "1.5.0",
            "_model_name": "ProgressStyleModel",
            "_view_count": null,
            "_view_module": "@jupyter-widgets/base",
            "_view_module_version": "1.2.0",
            "_view_name": "StyleView",
            "bar_color": null,
            "description_width": ""
          }
        },
        "88920190bb3a40be8ceaf6f36ceec38e": {
          "model_module": "@jupyter-widgets/base",
          "model_name": "LayoutModel",
          "model_module_version": "1.2.0",
          "state": {
            "_model_module": "@jupyter-widgets/base",
            "_model_module_version": "1.2.0",
            "_model_name": "LayoutModel",
            "_view_count": null,
            "_view_module": "@jupyter-widgets/base",
            "_view_module_version": "1.2.0",
            "_view_name": "LayoutView",
            "align_content": null,
            "align_items": null,
            "align_self": null,
            "border": null,
            "bottom": null,
            "display": null,
            "flex": null,
            "flex_flow": null,
            "grid_area": null,
            "grid_auto_columns": null,
            "grid_auto_flow": null,
            "grid_auto_rows": null,
            "grid_column": null,
            "grid_gap": null,
            "grid_row": null,
            "grid_template_areas": null,
            "grid_template_columns": null,
            "grid_template_rows": null,
            "height": null,
            "justify_content": null,
            "justify_items": null,
            "left": null,
            "margin": null,
            "max_height": null,
            "max_width": null,
            "min_height": null,
            "min_width": null,
            "object_fit": null,
            "object_position": null,
            "order": null,
            "overflow": null,
            "overflow_x": null,
            "overflow_y": null,
            "padding": null,
            "right": null,
            "top": null,
            "visibility": null,
            "width": null
          }
        },
        "1f656fc9194a4e89943f775f4b518ba9": {
          "model_module": "@jupyter-widgets/controls",
          "model_name": "DescriptionStyleModel",
          "model_module_version": "1.5.0",
          "state": {
            "_model_module": "@jupyter-widgets/controls",
            "_model_module_version": "1.5.0",
            "_model_name": "DescriptionStyleModel",
            "_view_count": null,
            "_view_module": "@jupyter-widgets/base",
            "_view_module_version": "1.2.0",
            "_view_name": "StyleView",
            "description_width": ""
          }
        },
        "385ba73821d14830aa1613396ef514a1": {
          "model_module": "@jupyter-widgets/controls",
          "model_name": "HBoxModel",
          "model_module_version": "1.5.0",
          "state": {
            "_dom_classes": [],
            "_model_module": "@jupyter-widgets/controls",
            "_model_module_version": "1.5.0",
            "_model_name": "HBoxModel",
            "_view_count": null,
            "_view_module": "@jupyter-widgets/controls",
            "_view_module_version": "1.5.0",
            "_view_name": "HBoxView",
            "box_style": "",
            "children": [
              "IPY_MODEL_dbe470b8bdad49368eb5287b2efffb05",
              "IPY_MODEL_0cd7d91da29440e68b4bda7cb245347b",
              "IPY_MODEL_7348dab090154688b57f089554c08f25"
            ],
            "layout": "IPY_MODEL_5556bf5e5edf40a8843d9779ae469136"
          }
        },
        "dbe470b8bdad49368eb5287b2efffb05": {
          "model_module": "@jupyter-widgets/controls",
          "model_name": "HTMLModel",
          "model_module_version": "1.5.0",
          "state": {
            "_dom_classes": [],
            "_model_module": "@jupyter-widgets/controls",
            "_model_module_version": "1.5.0",
            "_model_name": "HTMLModel",
            "_view_count": null,
            "_view_module": "@jupyter-widgets/controls",
            "_view_module_version": "1.5.0",
            "_view_name": "HTMLView",
            "description": "",
            "description_tooltip": null,
            "layout": "IPY_MODEL_152fe93becf2485e8e0d0b51ea5aa65e",
            "placeholder": "​",
            "style": "IPY_MODEL_c5744bd3bfd5425ca236c2043c0e7073",
            "value": "model.safetensors: 100%"
          }
        },
        "0cd7d91da29440e68b4bda7cb245347b": {
          "model_module": "@jupyter-widgets/controls",
          "model_name": "FloatProgressModel",
          "model_module_version": "1.5.0",
          "state": {
            "_dom_classes": [],
            "_model_module": "@jupyter-widgets/controls",
            "_model_module_version": "1.5.0",
            "_model_name": "FloatProgressModel",
            "_view_count": null,
            "_view_module": "@jupyter-widgets/controls",
            "_view_module_version": "1.5.0",
            "_view_name": "ProgressView",
            "bar_style": "success",
            "description": "",
            "description_tooltip": null,
            "layout": "IPY_MODEL_297943d42b834db2a19f062a1573d9ec",
            "max": 174575536,
            "min": 0,
            "orientation": "horizontal",
            "style": "IPY_MODEL_98c07775e77741d8b729b03aa0a27722",
            "value": 174575536
          }
        },
        "7348dab090154688b57f089554c08f25": {
          "model_module": "@jupyter-widgets/controls",
          "model_name": "HTMLModel",
          "model_module_version": "1.5.0",
          "state": {
            "_dom_classes": [],
            "_model_module": "@jupyter-widgets/controls",
            "_model_module_version": "1.5.0",
            "_model_name": "HTMLModel",
            "_view_count": null,
            "_view_module": "@jupyter-widgets/controls",
            "_view_module_version": "1.5.0",
            "_view_name": "HTMLView",
            "description": "",
            "description_tooltip": null,
            "layout": "IPY_MODEL_9040e568cb3e4ef4bfec9ff4753ec66d",
            "placeholder": "​",
            "style": "IPY_MODEL_e4a0205f1f034907b3fdb32748970892",
            "value": " 175M/175M [00:07&lt;00:00, 23.7MB/s]"
          }
        },
        "5556bf5e5edf40a8843d9779ae469136": {
          "model_module": "@jupyter-widgets/base",
          "model_name": "LayoutModel",
          "model_module_version": "1.2.0",
          "state": {
            "_model_module": "@jupyter-widgets/base",
            "_model_module_version": "1.2.0",
            "_model_name": "LayoutModel",
            "_view_count": null,
            "_view_module": "@jupyter-widgets/base",
            "_view_module_version": "1.2.0",
            "_view_name": "LayoutView",
            "align_content": null,
            "align_items": null,
            "align_self": null,
            "border": null,
            "bottom": null,
            "display": null,
            "flex": null,
            "flex_flow": null,
            "grid_area": null,
            "grid_auto_columns": null,
            "grid_auto_flow": null,
            "grid_auto_rows": null,
            "grid_column": null,
            "grid_gap": null,
            "grid_row": null,
            "grid_template_areas": null,
            "grid_template_columns": null,
            "grid_template_rows": null,
            "height": null,
            "justify_content": null,
            "justify_items": null,
            "left": null,
            "margin": null,
            "max_height": null,
            "max_width": null,
            "min_height": null,
            "min_width": null,
            "object_fit": null,
            "object_position": null,
            "order": null,
            "overflow": null,
            "overflow_x": null,
            "overflow_y": null,
            "padding": null,
            "right": null,
            "top": null,
            "visibility": null,
            "width": null
          }
        },
        "152fe93becf2485e8e0d0b51ea5aa65e": {
          "model_module": "@jupyter-widgets/base",
          "model_name": "LayoutModel",
          "model_module_version": "1.2.0",
          "state": {
            "_model_module": "@jupyter-widgets/base",
            "_model_module_version": "1.2.0",
            "_model_name": "LayoutModel",
            "_view_count": null,
            "_view_module": "@jupyter-widgets/base",
            "_view_module_version": "1.2.0",
            "_view_name": "LayoutView",
            "align_content": null,
            "align_items": null,
            "align_self": null,
            "border": null,
            "bottom": null,
            "display": null,
            "flex": null,
            "flex_flow": null,
            "grid_area": null,
            "grid_auto_columns": null,
            "grid_auto_flow": null,
            "grid_auto_rows": null,
            "grid_column": null,
            "grid_gap": null,
            "grid_row": null,
            "grid_template_areas": null,
            "grid_template_columns": null,
            "grid_template_rows": null,
            "height": null,
            "justify_content": null,
            "justify_items": null,
            "left": null,
            "margin": null,
            "max_height": null,
            "max_width": null,
            "min_height": null,
            "min_width": null,
            "object_fit": null,
            "object_position": null,
            "order": null,
            "overflow": null,
            "overflow_x": null,
            "overflow_y": null,
            "padding": null,
            "right": null,
            "top": null,
            "visibility": null,
            "width": null
          }
        },
        "c5744bd3bfd5425ca236c2043c0e7073": {
          "model_module": "@jupyter-widgets/controls",
          "model_name": "DescriptionStyleModel",
          "model_module_version": "1.5.0",
          "state": {
            "_model_module": "@jupyter-widgets/controls",
            "_model_module_version": "1.5.0",
            "_model_name": "DescriptionStyleModel",
            "_view_count": null,
            "_view_module": "@jupyter-widgets/base",
            "_view_module_version": "1.2.0",
            "_view_name": "StyleView",
            "description_width": ""
          }
        },
        "297943d42b834db2a19f062a1573d9ec": {
          "model_module": "@jupyter-widgets/base",
          "model_name": "LayoutModel",
          "model_module_version": "1.2.0",
          "state": {
            "_model_module": "@jupyter-widgets/base",
            "_model_module_version": "1.2.0",
            "_model_name": "LayoutModel",
            "_view_count": null,
            "_view_module": "@jupyter-widgets/base",
            "_view_module_version": "1.2.0",
            "_view_name": "LayoutView",
            "align_content": null,
            "align_items": null,
            "align_self": null,
            "border": null,
            "bottom": null,
            "display": null,
            "flex": null,
            "flex_flow": null,
            "grid_area": null,
            "grid_auto_columns": null,
            "grid_auto_flow": null,
            "grid_auto_rows": null,
            "grid_column": null,
            "grid_gap": null,
            "grid_row": null,
            "grid_template_areas": null,
            "grid_template_columns": null,
            "grid_template_rows": null,
            "height": null,
            "justify_content": null,
            "justify_items": null,
            "left": null,
            "margin": null,
            "max_height": null,
            "max_width": null,
            "min_height": null,
            "min_width": null,
            "object_fit": null,
            "object_position": null,
            "order": null,
            "overflow": null,
            "overflow_x": null,
            "overflow_y": null,
            "padding": null,
            "right": null,
            "top": null,
            "visibility": null,
            "width": null
          }
        },
        "98c07775e77741d8b729b03aa0a27722": {
          "model_module": "@jupyter-widgets/controls",
          "model_name": "ProgressStyleModel",
          "model_module_version": "1.5.0",
          "state": {
            "_model_module": "@jupyter-widgets/controls",
            "_model_module_version": "1.5.0",
            "_model_name": "ProgressStyleModel",
            "_view_count": null,
            "_view_module": "@jupyter-widgets/base",
            "_view_module_version": "1.2.0",
            "_view_name": "StyleView",
            "bar_color": null,
            "description_width": ""
          }
        },
        "9040e568cb3e4ef4bfec9ff4753ec66d": {
          "model_module": "@jupyter-widgets/base",
          "model_name": "LayoutModel",
          "model_module_version": "1.2.0",
          "state": {
            "_model_module": "@jupyter-widgets/base",
            "_model_module_version": "1.2.0",
            "_model_name": "LayoutModel",
            "_view_count": null,
            "_view_module": "@jupyter-widgets/base",
            "_view_module_version": "1.2.0",
            "_view_name": "LayoutView",
            "align_content": null,
            "align_items": null,
            "align_self": null,
            "border": null,
            "bottom": null,
            "display": null,
            "flex": null,
            "flex_flow": null,
            "grid_area": null,
            "grid_auto_columns": null,
            "grid_auto_flow": null,
            "grid_auto_rows": null,
            "grid_column": null,
            "grid_gap": null,
            "grid_row": null,
            "grid_template_areas": null,
            "grid_template_columns": null,
            "grid_template_rows": null,
            "height": null,
            "justify_content": null,
            "justify_items": null,
            "left": null,
            "margin": null,
            "max_height": null,
            "max_width": null,
            "min_height": null,
            "min_width": null,
            "object_fit": null,
            "object_position": null,
            "order": null,
            "overflow": null,
            "overflow_x": null,
            "overflow_y": null,
            "padding": null,
            "right": null,
            "top": null,
            "visibility": null,
            "width": null
          }
        },
        "e4a0205f1f034907b3fdb32748970892": {
          "model_module": "@jupyter-widgets/controls",
          "model_name": "DescriptionStyleModel",
          "model_module_version": "1.5.0",
          "state": {
            "_model_module": "@jupyter-widgets/controls",
            "_model_module_version": "1.5.0",
            "_model_name": "DescriptionStyleModel",
            "_view_count": null,
            "_view_module": "@jupyter-widgets/base",
            "_view_module_version": "1.2.0",
            "_view_name": "StyleView",
            "description_width": ""
          }
        }
      }
    }
  },
  "nbformat": 4,
  "nbformat_minor": 0
}