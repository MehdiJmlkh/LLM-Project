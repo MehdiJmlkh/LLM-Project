{
  "cells": [
    {
      "cell_type": "code",
      "execution_count": 54,
      "metadata": {
        "colab": {
          "base_uri": "https://localhost:8080/"
        },
        "id": "je5LvVwCX141",
        "outputId": "c6c8ed30-fc3f-4c7a-e8a9-bb017fb6c7af"
      },
      "outputs": [
        {
          "name": "stdout",
          "output_type": "stream",
          "text": [
            "  Preparing metadata (setup.py) ... \u001b[?25l\u001b[?25hdone\n",
            "\u001b[2K   \u001b[90m━━━━━━━━━━━━━━━━━━━━━━━━━━━━━━━━━━━━━━━━\u001b[0m \u001b[32m11.3/11.3 MB\u001b[0m \u001b[31m115.6 MB/s\u001b[0m eta \u001b[36m0:00:00\u001b[0m\n",
            "\u001b[2K   \u001b[90m━━━━━━━━━━━━━━━━━━━━━━━━━━━━━━━━━━━━━━━━\u001b[0m \u001b[32m163.5/163.5 kB\u001b[0m \u001b[31m15.1 MB/s\u001b[0m eta \u001b[36m0:00:00\u001b[0m\n",
            "\u001b[?25h  Building wheel for docopt (setup.py) ... \u001b[?25l\u001b[?25hdone\n"
          ]
        }
      ],
      "source": [
        "!pip install -q -U transformers num2words"
      ]
    },
    {
      "cell_type": "markdown",
      "metadata": {
        "id": "1UJ-gIhdDHXb"
      },
      "source": [
        "# Library code, modified"
      ]
    },
    {
      "cell_type": "markdown",
      "metadata": {
        "id": "ped3NA2GQeb9"
      },
      "source": [
        "MQT Q-Former from https://github.com/gordonhu608/MQT-LLaVA"
      ]
    },
    {
      "cell_type": "code",
      "execution_count": 11,
      "metadata": {
        "id": "utVwx1dYQeb9"
      },
      "outputs": [],
      "source": [
        "import torch\n",
        "import torch.nn as nn\n",
        "from torch.nn import functional as F\n",
        "from torch.nn.init import trunc_normal_\n",
        "import math\n",
        "from functools import partial\n",
        "import numpy as np\n",
        "import random\n",
        "\n",
        "def get_matry_n(num_visual_tokens):\n",
        "    if num_visual_tokens == 'first_stage':\n",
        "        return 729\n",
        "    elif num_visual_tokens == 'second_stage':\n",
        "        matry_list = range(1, 730, 4)\n",
        "        return random.choice(matry_list)\n",
        "\n",
        "    try:\n",
        "        num_visual_tokens = int(num_visual_tokens)\n",
        "        if 1 <= num_visual_tokens <= 729:\n",
        "            return num_visual_tokens\n",
        "    except (ValueError, TypeError):\n",
        "        print('The num_visual_tokens is should be an integer between 1 and 729')\n",
        "\n",
        "    raise ValueError(f\"Invalid input: {num_visual_tokens}\")\n",
        "\n",
        "def get_abs_pos(abs_pos, tgt_size):\n",
        "    # abs_pos: L, C\n",
        "    # tgt_size: (H, W)\n",
        "    # return: M, C\n",
        "    src_size = int(math.sqrt(abs_pos.size(0)))\n",
        "    # tgt_size = int(math.sqrt(tgt_size))\n",
        "    dtype = abs_pos.dtype\n",
        "    return F.interpolate(\n",
        "        abs_pos.float().reshape(1, src_size, src_size, -1).permute(0, 3, 1, 2),\n",
        "        size=(tgt_size[0], tgt_size[1]),\n",
        "        mode=\"bicubic\",\n",
        "        align_corners=False,\n",
        "    ).permute(0, 2, 3, 1).flatten(0, 2).to(dtype=dtype)\n",
        "\n",
        "\n",
        "# https://github.com/facebookresearch/mae/blob/efb2a8062c206524e35e47d04501ed4f544c0ae8/util/pos_embed.py#L20\n",
        "def get_2d_sincos_pos_embed(embed_dim, grid_size, cls_token=False):\n",
        "    \"\"\"\n",
        "    grid_size: int of the grid height and width\n",
        "    return:\n",
        "    pos_embed: [grid_size*grid_size, embed_dim] or [1+grid_size*grid_size, embed_dim] (w/ or w/o cls_token)\n",
        "    \"\"\"\n",
        "    grid_h = np.arange(grid_size, dtype=np.float32)\n",
        "    grid_w = np.arange(grid_size, dtype=np.float32)\n",
        "    grid = np.meshgrid(grid_w, grid_h)  # here w goes first\n",
        "    grid = np.stack(grid, axis=0)\n",
        "\n",
        "    grid = grid.reshape([2, 1, grid_size, grid_size])\n",
        "\n",
        "\n",
        "    pos_embed = get_2d_sincos_pos_embed_from_grid(embed_dim, grid)\n",
        "    if cls_token:\n",
        "        pos_embed = np.concatenate([np.zeros([1, embed_dim]), pos_embed], axis=0)\n",
        "    return pos_embed\n",
        "\n",
        "\n",
        "def get_2d_sincos_pos_embed_from_grid(embed_dim, grid):\n",
        "    assert embed_dim % 2 == 0\n",
        "\n",
        "    # use half of dimensions to encode grid_h\n",
        "    emb_h = get_1d_sincos_pos_embed_from_grid(embed_dim // 2, grid[0])  # (H*W, D/2)\n",
        "    emb_w = get_1d_sincos_pos_embed_from_grid(embed_dim // 2, grid[1])  # (H*W, D/2)\n",
        "\n",
        "    emb = np.concatenate([emb_h, emb_w], axis=1)  # (H*W, D)\n",
        "    return emb\n",
        "\n",
        "\n",
        "def get_1d_sincos_pos_embed_from_grid(embed_dim, pos):\n",
        "    \"\"\"\n",
        "    embed_dim: output dimension for each position\n",
        "    pos: a list of positions to be encoded: size (M,)\n",
        "    out: (M, D)\n",
        "    \"\"\"\n",
        "    assert embed_dim % 2 == 0\n",
        "    omega = np.arange(embed_dim // 2, dtype=np.float32)\n",
        "    omega /= embed_dim / 2.\n",
        "    omega = 1. / 10000 ** omega  # (D/2,)\n",
        "\n",
        "    pos = pos.reshape(-1)  # (M,)\n",
        "    out = np.einsum('m,d->md', pos, omega)  # (M, D/2), outer product\n",
        "\n",
        "    emb_sin = np.sin(out)  # (M, D/2)\n",
        "    emb_cos = np.cos(out)  # (M, D/2)\n",
        "\n",
        "    emb = np.concatenate([emb_sin, emb_cos], axis=1)  # (M, D)\n",
        "    return emb\n",
        "\n",
        "\n",
        "class Resampler(nn.Module):\n",
        "    \"\"\"\n",
        "    A 2D perceiver-resampler network with one cross attention layers by\n",
        "        (grid_size**2) learnable queries and 2d sincos pos_emb\n",
        "    Outputs:\n",
        "        A tensor with the shape of (grid_size**2, embed_dim)\n",
        "    \"\"\"\n",
        "\n",
        "    def __init__(\n",
        "            self,\n",
        "            grid_size,\n",
        "            embed_dim,\n",
        "            num_heads,\n",
        "            kv_dim=None,\n",
        "            norm_layer=partial(nn.LayerNorm, eps=1e-6)\n",
        "    ):\n",
        "        super().__init__()\n",
        "        self.num_queries = grid_size ** 2\n",
        "        self.embed_dim = embed_dim\n",
        "        self.num_heads = num_heads\n",
        "\n",
        "        self.pos_embed = nn.Parameter(\n",
        "            torch.from_numpy(get_2d_sincos_pos_embed(kv_dim, grid_size)).half()\n",
        "        ).requires_grad_(False)\n",
        "\n",
        "        self.query = nn.Parameter(torch.zeros(self.num_queries, kv_dim)).to(torch.float32)\n",
        "        trunc_normal_(self.query, std=.02)\n",
        "\n",
        "        self.attn = nn.MultiheadAttention(kv_dim, num_heads).to(device = \"cuda:0\", dtype=torch.float32)\n",
        "\n",
        "        self.ln_q = norm_layer(kv_dim).to(device = \"cuda:0\", dtype=torch.float32)\n",
        "        self.ln_k = norm_layer(kv_dim).to(device = \"cuda:0\", dtype=torch.float32)\n",
        "        self.ln_v = norm_layer(kv_dim).to(device = \"cuda:0\", dtype=torch.float32)\n",
        "\n",
        "        # self.ln_post = norm_layer(kv_dim)\n",
        "        self.proj = nn.Parameter((embed_dim ** -0.5) * torch.randn(kv_dim, embed_dim)).to(device=\"cuda:0\")\n",
        "\n",
        "        self.apply(self._init_weights)\n",
        "\n",
        "    def _init_weights(self, m):\n",
        "        if isinstance(m, nn.Linear):\n",
        "            trunc_normal_(m.weight, std=.02)\n",
        "            if isinstance(m, nn.Linear) and m.bias is not None:\n",
        "                nn.init.constant_(m.bias, 0)\n",
        "        elif isinstance(m, nn.LayerNorm):\n",
        "            nn.init.constant_(m.bias, 0)\n",
        "            nn.init.constant_(m.weight, 1.0)\n",
        "\n",
        "    def forward(self, x, num_visual_tokens=256, tgt_size=(24,24), attn_mask=None):\n",
        "        pos_embed = get_abs_pos(self.pos_embed, tgt_size)\n",
        "\n",
        "        x = x.permute(1, 0, 2)  # x: (seq_len, batch_size, dim)\n",
        "        B = x.shape[1]  # true batch size\n",
        "\n",
        "\n",
        "        matry_n = get_matry_n(num_visual_tokens)\n",
        "        q = self.query[:matry_n]  # (matry_n, dim)\n",
        "        q = self._repeat(q, B)    # (matry_n, B, dim)\n",
        "\n",
        "        k = self._repeat(pos_embed, B).to(device = \"cuda:0\", dtype=torch.float32)\n",
        "        v = x\n",
        "        q= q.to(device = \"cuda:0\")\n",
        "        # self.pos_embed = self.pos_embed.to(device = \"cuda:0\")\n",
        "\n",
        "        q = self.ln_q(q + self.pos_embed[:matry_n].unsqueeze(1).to(device = \"cuda:0\")).to(device = x.device ,dtype=torch.float32)\n",
        "        k = self.ln_k(k).to(device = x.device ,dtype=torch.float32)\n",
        "        v = self.ln_v(v).to(device = x.device ,dtype=torch.float32)\n",
        "\n",
        "        out = self.attn(q, k, v, attn_mask=attn_mask)[0]  # (matry_n, B, dim)\n",
        "\n",
        "\n",
        "        x = out.permute(1, 0, 2)\n",
        "\n",
        "        x = x @ self.proj\n",
        "        # print(x.shape)\n",
        "        return x\n",
        "\n",
        "    def _repeat(self, query, N: int):\n",
        "        return query.unsqueeze(1).repeat(1, N, 1)"
      ]
    },
    {
      "cell_type": "code",
      "execution_count": 12,
      "metadata": {
        "id": "mMQamS4ECwh0"
      },
      "outputs": [],
      "source": [
        "class MultiResampler(nn.Module):\n",
        "    \"\"\"\n",
        "    experimental multi-resampler\n",
        "\n",
        "    Args:\n",
        "        num_resamplers:int = number of resamplers(qformers)\n",
        "\n",
        "    Outputs:\n",
        "        A tensor with the shape of (grid_size**2, embed_dim)\n",
        "    \"\"\"\n",
        "\n",
        "    def __init__(\n",
        "            self,\n",
        "            grid_size,\n",
        "            embed_dim,\n",
        "            num_heads,\n",
        "            num_resamplers,\n",
        "            kv_dim=None,\n",
        "            norm_layer=partial(nn.LayerNorm, eps=1e-6),\n",
        "    ):\n",
        "        super().__init__()\n",
        "        self.resamplers = [Resampler(grid_size, embed_dim, num_heads, kv_dim, norm_layer) for _ in range(num_resamplers)]\n",
        "\n",
        "    def _init_weights(self, m):\n",
        "        for i in  range(len(self.resamplers)):\n",
        "            self.resamplers[i]._init_weights(m)\n",
        "\n",
        "    def forward(self, x, num_visual_tokens=256, tgt_size=(27,27), attn_mask=None):\n",
        "        # raise NotImplementedError()\n",
        "        # x should be a list\n",
        "        assert len(x) == len(self.resamplers)\n",
        "\n",
        "        num_vt_each = num_visual_tokens//len(self.resamplers)\n",
        "        outs = []\n",
        "        for i in range(len(self.resamplers)):\n",
        "            outs.append(self.resamplers[i].forward(x[i], num_vt_each, tgt_size))\n",
        "        concat = torch.cat(outs, dim=1)\n",
        "        return concat"
      ]
    },
    {
      "cell_type": "markdown",
      "metadata": {
        "id": "WQE97ZPO27U4"
      },
      "source": [
        "# Load Model"
      ]
    },
    {
      "cell_type": "code",
      "execution_count": 1,
      "metadata": {
        "colab": {
          "base_uri": "https://localhost:8080/",
          "height": 382,
          "referenced_widgets": [
            "8d9c0a40604c42c88f5d8b3e11e19da4",
            "562193bfa51f44f8912958689cbddb91",
            "bc44271bc8ed447192c35088839d05a1",
            "d0fd3dfb73b04bf88a8906d58a8387bf",
            "60c9a5bc3e0c47308698b06b129fa87e",
            "12c060041a984a8ca7b82514ae6be30a",
            "e4b7f32b34ef45c8badf4ced9bd33d38",
            "ac3c0facca724841b5c9ebad4a5aef32",
            "c1445a92217d450c9b58fe09af067b7f",
            "b8f2feeac9984fa4bb5a556a504f9ba7",
            "213849b1df814b01be31f7cf2bb2a97a",
            "9fa30b2259f6453fae529e934e76bec9",
            "7b4cbbd806f848938aef52d60c109971",
            "260aa14340d0452782e661bb80f11132",
            "64ee7aaef331474784a3846b9b3987e8",
            "a6cabc8714b14e83b609fd2263efad2c",
            "97ff0707a5ba43fc812465a3c1e990af",
            "32d7b940b34d4bd9969383f7f4067a2e",
            "59f71545c96d493daff161495dffd0f2",
            "2f70010a612a49bbb453c8c5f5516905",
            "15f65422a3204202853e9fee7c39eb5c",
            "c30c25e833934f849691f39988b7fe85",
            "b58d6fb6ae624773b8ca1134da4ef979",
            "0e02092129f04abbb99640e15a9d2ae8",
            "09221a061fc647dd813e95357af5dab5",
            "c881745685f14ede8a50e6ac11e31741",
            "1844b5c3400f4e5685de070000755eef",
            "5b073f04f1504fe0a53bae4d2227949c",
            "c85d2bc21e5a4774aa714e8af5302c93",
            "ab749ac7028c4e04b253714a3c43ec46",
            "fb0f4fcab4644d32a5b41a2ae6791477",
            "ba695288dcb84394b3f4c9e78d31facb",
            "b93a5d4d31a449f5999583a036698539",
            "3725a6986ce9487abb2608858f5d1731",
            "05fef8be6228425790b6b2026e00675f",
            "c3fa037f0374488fa534fc5ff502cb1e",
            "a170026b68204c9db20ad5c00660542c",
            "f9cb2801e04b492e8c5f9b48485c7a0a",
            "5bc34fd7db4744c8a8b3c7ca8b963af8",
            "8413151846054a738edc23a39c0ae503",
            "a244c859daf24eaebb94c3041c1c1868",
            "e4c40381129c4f19a9ff0f6b6bd53d64",
            "07951b37854040ef83b59ac39c701b08",
            "8c6f468471f64f2e967e650c7ed360b8",
            "06186430014949b89b24c629c2a51257",
            "a3642910127f4a2a8dac8dbceb84840d",
            "f1fe7c0f3b0548a7a4efe4d0c188bc58",
            "31346015d6c342979e0bf7836b849718",
            "da9e7a413a78416e8f162b9bfe27e947",
            "3c867cccde9d48cfb7d1a05949d35b6f",
            "819c568d989e494c8e6782c6fa175048",
            "443c328d7f5e42e9b0e518a4e4d2ddd2",
            "e8827f7076c0438289c28c54476f2a73",
            "66d40c34ef7e49d1983eda663858174e",
            "a6c6362a2b14492691b6a2185c4e8523",
            "1dd60b9b89d34a03b24b448a234b583a",
            "01d716fc8b6443d7907db09be18a462e",
            "b222190198204c57b2dc1a092e435841",
            "95b1d49e10dd4414b72a94079036d345",
            "b667949f88744e2391a46b539a960e89",
            "79d6a09253224bff8736b19c42a14e11",
            "5e4389f7edd3424d9041c5005f7534a4",
            "2ff83adec95e49f2adc8aa677643b870",
            "b8d8539701a140feb01484651164de2e",
            "653edc511b88450a8767cdaefbbd6cd1",
            "d1ae9bf8da13489aa0ef9c25b6111561",
            "e63d1dca314342fb9b23aeceaf4f921f",
            "113d90dbcecd4103a4975824d2c0d5bb",
            "7faf28883bf848b7b9bf5cf24b356a28",
            "543c260ad98246ca83f7b4a10b52feca",
            "ffc8b30aa3234694ac24df22848029ab",
            "b8f407f394984cfaaf9086ae34a5ab2e",
            "00db4ebcd011471e88fa11fa6eff6358",
            "fd11d4b55c674483bbaa2518f9d1fa08",
            "f008178eacd44f488b8c6bbea67064dc",
            "025b6b5aee0b4e00b981b386180e1fbc",
            "a2e7813d977f44c5933cda464bc8eba2"
          ]
        },
        "id": "2_Jb5sxG7opi",
        "outputId": "2c82482f-0dc1-4c23-9702-a1d681a0bf1d"
      },
      "outputs": [
        {
          "name": "stderr",
          "output_type": "stream",
          "text": [
            "/usr/local/lib/python3.11/dist-packages/huggingface_hub/utils/_auth.py:94: UserWarning: \n",
            "The secret `HF_TOKEN` does not exist in your Colab secrets.\n",
            "To authenticate with the Hugging Face Hub, create a token in your settings tab (https://huggingface.co/settings/tokens), set it as secret in your Google Colab and restart your session.\n",
            "You will be able to reuse this secret in all of your notebooks.\n",
            "Please note that authentication is recommended but still optional to access public models or datasets.\n",
            "  warnings.warn(\n",
            "You have video processor config saved in `preprocessor.json` file which is deprecated. Video processor configs should be saved in their own `video_preprocessor.json` file. You can rename the file or load and save the processor back which renames it automatically. Loading from `preprocessor.json` will be removed in v5.0.\n"
          ]
        },
        {
          "data": {
            "application/vnd.jupyter.widget-view+json": {
              "model_id": "8d9c0a40604c42c88f5d8b3e11e19da4",
              "version_major": 2,
              "version_minor": 0
            },
            "text/plain": [
              "config.json: 0.00B [00:00, ?B/s]"
            ]
          },
          "metadata": {},
          "output_type": "display_data"
        },
        {
          "data": {
            "application/vnd.jupyter.widget-view+json": {
              "model_id": "9fa30b2259f6453fae529e934e76bec9",
              "version_major": 2,
              "version_minor": 0
            },
            "text/plain": [
              "model.safetensors.index.json: 0.00B [00:00, ?B/s]"
            ]
          },
          "metadata": {},
          "output_type": "display_data"
        },
        {
          "data": {
            "application/vnd.jupyter.widget-view+json": {
              "model_id": "b58d6fb6ae624773b8ca1134da4ef979",
              "version_major": 2,
              "version_minor": 0
            },
            "text/plain": [
              "Fetching 2 files:   0%|          | 0/2 [00:00<?, ?it/s]"
            ]
          },
          "metadata": {},
          "output_type": "display_data"
        },
        {
          "data": {
            "application/vnd.jupyter.widget-view+json": {
              "model_id": "3725a6986ce9487abb2608858f5d1731",
              "version_major": 2,
              "version_minor": 0
            },
            "text/plain": [
              "model-00001-of-00002.safetensors:   0%|          | 0.00/4.96G [00:00<?, ?B/s]"
            ]
          },
          "metadata": {},
          "output_type": "display_data"
        },
        {
          "data": {
            "application/vnd.jupyter.widget-view+json": {
              "model_id": "06186430014949b89b24c629c2a51257",
              "version_major": 2,
              "version_minor": 0
            },
            "text/plain": [
              "model-00002-of-00002.safetensors:   0%|          | 0.00/4.03G [00:00<?, ?B/s]"
            ]
          },
          "metadata": {},
          "output_type": "display_data"
        },
        {
          "data": {
            "application/vnd.jupyter.widget-view+json": {
              "model_id": "1dd60b9b89d34a03b24b448a234b583a",
              "version_major": 2,
              "version_minor": 0
            },
            "text/plain": [
              "Loading checkpoint shards:   0%|          | 0/2 [00:00<?, ?it/s]"
            ]
          },
          "metadata": {},
          "output_type": "display_data"
        },
        {
          "data": {
            "application/vnd.jupyter.widget-view+json": {
              "model_id": "e63d1dca314342fb9b23aeceaf4f921f",
              "version_major": 2,
              "version_minor": 0
            },
            "text/plain": [
              "generation_config.json:   0%|          | 0.00/136 [00:00<?, ?B/s]"
            ]
          },
          "metadata": {},
          "output_type": "display_data"
        }
      ],
      "source": [
        "import torch\n",
        "from transformers import AutoProcessor, AutoModelForImageTextToText\n",
        "from PIL import Image\n",
        "import num2words\n",
        "\n",
        "model_path = \"HuggingFaceTB/SmolVLM2-2.2B-Instruct\"\n",
        "\n",
        "processor = AutoProcessor.from_pretrained(model_path)\n",
        "model = AutoModelForImageTextToText.from_pretrained(\n",
        "    model_path,\n",
        "    torch_dtype=torch.bfloat16,\n",
        "    device_map=\"cuda\"\n",
        ")"
      ]
    },
    {
      "cell_type": "code",
      "execution_count": null,
      "metadata": {
        "colab": {
          "base_uri": "https://localhost:8080/"
        },
        "id": "kbt_O1yu7lb5",
        "outputId": "a507a83c-372d-4cbe-d9ec-d6ca867ad2f7"
      },
      "outputs": [
        {
          "data": {
            "text/plain": [
              "SmolVLMConfig {\n",
              "  \"architectures\": [\n",
              "    \"SmolVLMForConditionalGeneration\"\n",
              "  ],\n",
              "  \"image_token_id\": 49190,\n",
              "  \"model_type\": \"smolvlm\",\n",
              "  \"pad_token_id\": 128002,\n",
              "  \"scale_factor\": 3,\n",
              "  \"text_config\": {\n",
              "    \"_flash_attn_2_enabled\": true,\n",
              "    \"_name_or_path\": \"None\",\n",
              "    \"architectures\": [\n",
              "      \"VLlama3ForCausalLM\"\n",
              "    ],\n",
              "    \"attention_bias\": false,\n",
              "    \"attention_dropout\": 0.0,\n",
              "    \"head_dim\": 64,\n",
              "    \"hidden_act\": \"silu\",\n",
              "    \"hidden_size\": 2048,\n",
              "    \"initializer_range\": 0.02,\n",
              "    \"intermediate_size\": 8192,\n",
              "    \"max_position_embeddings\": 8192,\n",
              "    \"mlp_bias\": false,\n",
              "    \"model_type\": \"llama\",\n",
              "    \"neftune_noise_alpha\": 0.0,\n",
              "    \"num_attention_heads\": 32,\n",
              "    \"num_hidden_layers\": 24,\n",
              "    \"num_key_value_heads\": 32,\n",
              "    \"pad_token_id\": 2,\n",
              "    \"perceiver_config\": {\n",
              "      \"_attn_implementation_autoset\": false,\n",
              "      \"_name_or_path\": \"\",\n",
              "      \"add_cross_attention\": false,\n",
              "      \"architectures\": null,\n",
              "      \"attention_dropout\": 0.0,\n",
              "      \"bad_words_ids\": null,\n",
              "      \"begin_suppress_tokens\": null,\n",
              "      \"bos_token_id\": null,\n",
              "      \"chunk_size_feed_forward\": 0,\n",
              "      \"cross_attention_hidden_size\": null,\n",
              "      \"decoder_start_token_id\": null,\n",
              "      \"diversity_penalty\": 0.0,\n",
              "      \"do_sample\": false,\n",
              "      \"early_stopping\": false,\n",
              "      \"encoder_no_repeat_ngram_size\": 0,\n",
              "      \"eos_token_id\": null,\n",
              "      \"exponential_decay_length_penalty\": null,\n",
              "      \"finetuning_task\": null,\n",
              "      \"forced_bos_token_id\": null,\n",
              "      \"forced_eos_token_id\": null,\n",
              "      \"hidden_act\": \"silu\",\n",
              "      \"id2label\": {\n",
              "        \"0\": \"LABEL_0\",\n",
              "        \"1\": \"LABEL_1\"\n",
              "      },\n",
              "      \"is_decoder\": false,\n",
              "      \"is_encoder_decoder\": false,\n",
              "      \"label2id\": {\n",
              "        \"LABEL_0\": 0,\n",
              "        \"LABEL_1\": 1\n",
              "      },\n",
              "      \"length_penalty\": 1.0,\n",
              "      \"max_length\": 20,\n",
              "      \"min_length\": 0,\n",
              "      \"model_type\": \"vllama3\",\n",
              "      \"no_repeat_ngram_size\": 0,\n",
              "      \"num_beam_groups\": 1,\n",
              "      \"num_beams\": 1,\n",
              "      \"num_key_value_heads\": 1,\n",
              "      \"num_return_sequences\": 1,\n",
              "      \"output_attentions\": false,\n",
              "      \"output_hidden_states\": false,\n",
              "      \"output_scores\": false,\n",
              "      \"pad_token_id\": null,\n",
              "      \"prefix\": null,\n",
              "      \"problem_type\": null,\n",
              "      \"pruned_heads\": {},\n",
              "      \"qk_layer_norms_perceiver\": false,\n",
              "      \"remove_invalid_values\": false,\n",
              "      \"repetition_penalty\": 1.0,\n",
              "      \"resampler_depth\": 6,\n",
              "      \"resampler_head_dim\": 96,\n",
              "      \"resampler_n_heads\": 16,\n",
              "      \"resampler_n_latents\": 64,\n",
              "      \"return_dict\": true,\n",
              "      \"return_dict_in_generate\": false,\n",
              "      \"sep_token_id\": null,\n",
              "      \"suppress_tokens\": null,\n",
              "      \"task_specific_params\": null,\n",
              "      \"temperature\": 1.0,\n",
              "      \"tf_legacy_loss\": false,\n",
              "      \"tie_encoder_decoder\": false,\n",
              "      \"tie_word_embeddings\": true,\n",
              "      \"tokenizer_class\": null,\n",
              "      \"top_k\": 50,\n",
              "      \"top_p\": 1.0,\n",
              "      \"torch_dtype\": null,\n",
              "      \"torchscript\": false,\n",
              "      \"transformers_version\": \"4.46.0\",\n",
              "      \"typical_p\": 1.0,\n",
              "      \"use_bfloat16\": false\n",
              "    },\n",
              "    \"pixel_shuffle_factor\": 3,\n",
              "    \"pretraining_tp\": 1,\n",
              "    \"qk_layer_norms\": false,\n",
              "    \"rms_norm_eps\": 1e-05,\n",
              "    \"rope_scaling\": null,\n",
              "    \"rope_theta\": 130000,\n",
              "    \"torch_dtype\": \"bfloat16\",\n",
              "    \"transformers.js_config\": {\n",
              "      \"kv_cache_dtype\": {\n",
              "        \"fp16\": \"float16\",\n",
              "        \"q4f16\": \"float16\"\n",
              "      }\n",
              "    },\n",
              "    \"use_cache\": true,\n",
              "    \"use_resampler\": false,\n",
              "    \"vocab_size\": 49280\n",
              "  },\n",
              "  \"tie_word_embeddings\": false,\n",
              "  \"torch_dtype\": \"bfloat16\",\n",
              "  \"transformers_version\": \"4.55.0\",\n",
              "  \"use_cache\": false,\n",
              "  \"use_reentrant_checkpointing\": false,\n",
              "  \"vision_config\": {\n",
              "    \"attention_dropout\": 0.0,\n",
              "    \"hidden_act\": \"gelu_pytorch_tanh\",\n",
              "    \"hidden_size\": 1152,\n",
              "    \"image_size\": 384,\n",
              "    \"initializer_range\": 0.02,\n",
              "    \"intermediate_size\": 4304,\n",
              "    \"layer_norm_eps\": 1e-06,\n",
              "    \"max_image_size\": {\n",
              "      \"longest_edge\": 384\n",
              "    },\n",
              "    \"model_type\": \"smolvlm_vision\",\n",
              "    \"num_attention_heads\": 16,\n",
              "    \"num_channels\": 3,\n",
              "    \"num_hidden_layers\": 27,\n",
              "    \"patch_size\": 14,\n",
              "    \"size\": {\n",
              "      \"longest_edge\": 1920\n",
              "    },\n",
              "    \"tie_word_embeddings\": false,\n",
              "    \"torch_dtype\": \"bfloat16\",\n",
              "    \"use_base_siglip\": false\n",
              "  },\n",
              "  \"vocab_size\": 49280\n",
              "}"
            ]
          },
          "execution_count": 2,
          "metadata": {},
          "output_type": "execute_result"
        }
      ],
      "source": [
        "model.config"
      ]
    },
    {
      "cell_type": "code",
      "execution_count": null,
      "metadata": {
        "colab": {
          "base_uri": "https://localhost:8080/"
        },
        "id": "sJM0ZhM081hc",
        "outputId": "4a3a8924-afa7-4246-87f8-91f0095eb2b2"
      },
      "outputs": [
        {
          "data": {
            "text/plain": [
              "2246784880"
            ]
          },
          "execution_count": 3,
          "metadata": {},
          "output_type": "execute_result"
        }
      ],
      "source": [
        "sum(p.numel() for p in model.parameters() if p.requires_grad)"
      ]
    },
    {
      "cell_type": "code",
      "execution_count": null,
      "metadata": {
        "colab": {
          "base_uri": "https://localhost:8080/"
        },
        "id": "hHtfLrpK8-0M",
        "outputId": "47d0a01c-2b00-42eb-c718-229d8b7fef05"
      },
      "outputs": [
        {
          "data": {
            "text/plain": [
              "412987248"
            ]
          },
          "execution_count": 4,
          "metadata": {},
          "output_type": "execute_result"
        }
      ],
      "source": [
        "sum(p.numel() for p in model.model.vision_model.parameters() if p.requires_grad)"
      ]
    },
    {
      "cell_type": "code",
      "execution_count": null,
      "metadata": {
        "id": "BtIhZ1h327U5"
      },
      "outputs": [],
      "source": [
        "# conversation = [\n",
        "#     {\n",
        "#         \"role\": \"user\",\n",
        "#         \"content\": [\n",
        "#             {\"type\": \"image\", \"url\": \"sample.png\"},\n",
        "#             {\"type\": \"text\", \"text\": \"Describe this image.\"}\n",
        "#         ]\n",
        "#     }\n",
        "# ]\n",
        "\n",
        "# inputs = processor.apply_chat_template(\n",
        "#     conversation,\n",
        "#     add_generation_prompt=True,\n",
        "#     tokenize=True,\n",
        "#     return_dict=True,\n",
        "#     return_tensors=\"pt\"\n",
        "# ).to(model.device, dtype=torch.bfloat16)\n",
        "\n",
        "# output_ids = model.generate(**inputs, max_new_tokens=128)\n",
        "# generated_texts = processor.batch_decode(output_ids, skip_special_tokens=True)"
      ]
    },
    {
      "cell_type": "code",
      "execution_count": null,
      "metadata": {
        "id": "lgL2EYagAbJ0"
      },
      "outputs": [],
      "source": [
        "generated_texts"
      ]
    },
    {
      "cell_type": "markdown",
      "metadata": {
        "id": "bMJ_GNbybv8V"
      },
      "source": [
        "# Q-Former"
      ]
    },
    {
      "cell_type": "code",
      "execution_count": 7,
      "metadata": {
        "id": "yTG88t4KggRV"
      },
      "outputs": [],
      "source": [
        "qformer_config = {\n",
        "    \"grid_size\": 27,\n",
        "    \"embed_dim\": 1152,\n",
        "    \"num_heads\": 16,\n",
        "    \"num_resamplers\": 4,\n",
        "    \"kv_dim\": 1152\n",
        "}"
      ]
    },
    {
      "cell_type": "code",
      "execution_count": 28,
      "metadata": {
        "id": "agTGs5g8svZY"
      },
      "outputs": [],
      "source": [
        "import torch\n",
        "import torch.nn as nn\n",
        "from transformers.modeling_outputs import BaseModelOutput\n",
        "import matplotlib.pyplot as plt\n",
        "import numpy as np\n",
        "from functools import partial\n",
        "\n",
        "class MultiCropVisionEncoder(nn.Module):\n",
        "    def __init__(self, qformer_config):\n",
        "        super().__init__()\n",
        "        self.num_resamplers = qformer_config[\"num_resamplers\"]\n",
        "        self.embed_dim = qformer_config[\"embed_dim\"]\n",
        "        self.grid_size = qformer_config[\"grid_size\"]\n",
        "\n",
        "        self.patch_embed = nn.Conv2d(3, qformer_config[\"embed_dim\"], kernel_size=14, stride=14).to(torch.float32)\n",
        "        self.multi_resampler = MultiResampler(\n",
        "            grid_size=qformer_config[\"grid_size\"],\n",
        "            embed_dim=qformer_config[\"embed_dim\"],\n",
        "            num_heads=qformer_config[\"num_heads\"],\n",
        "            num_resamplers=qformer_config[\"num_resamplers\"],\n",
        "            kv_dim=qformer_config[\"kv_dim\"],\n",
        "            norm_layer=partial(nn.LayerNorm, eps=1e-6),\n",
        "        )\n",
        "\n",
        "    def forward(self, pixel_values, patch_attention_mask=None):\n",
        "        pixel_values = pixel_values.to(torch.float32)\n",
        "        b4, c, h, w = pixel_values.shape\n",
        "        assert b4 % self.num_resamplers == 0, \"Batch size must be divisible by number of resamplers\"\n",
        "        batch_size = b4 // self.num_resamplers\n",
        "\n",
        "        image = np.transpose(pixel_values[0].to(dtype=torch.float32).cpu(), (1, 2, 0))\n",
        "        plt.imshow(image)\n",
        "        plt.show()\n",
        "\n",
        "        x = self.patch_embed(pixel_values)\n",
        "        x = x.flatten(2).transpose(1, 2)\n",
        "        x = x.view(batch_size, self.num_resamplers, self.grid_size**2, self.embed_dim)\n",
        "        x_list = list(x.unbind(dim=1))\n",
        "\n",
        "        out = self.multi_resampler(x_list, num_visual_tokens=self.grid_size**2*self.num_resamplers)\n",
        "\n",
        "        # print(out.shape)\n",
        "        out = out.view(batch_size * self.num_resamplers, self.grid_size**2, self.embed_dim).to(\n",
        "            device=pixel_values.device,\n",
        "            dtype=torch.bfloat16\n",
        "        )\n",
        "        print(out.shape)\n",
        "        return BaseModelOutput(last_hidden_state=out)"
      ]
    },
    {
      "cell_type": "code",
      "execution_count": 29,
      "metadata": {
        "id": "uXLuvNlJU5VP"
      },
      "outputs": [],
      "source": [
        "test_vm = MultiCropVisionEncoder(qformer_config)\n",
        "test_vm = test_vm.to(device= \"cuda:0\", dtype=torch.float32)"
      ]
    },
    {
      "cell_type": "code",
      "execution_count": 41,
      "metadata": {
        "colab": {
          "base_uri": "https://localhost:8080/"
        },
        "id": "aBsSfFsTSy26",
        "outputId": "76c7416a-1495-4bcb-a5e1-82fd57c97605"
      },
      "outputs": [
        {
          "data": {
            "text/plain": [
              "678528"
            ]
          },
          "execution_count": 41,
          "metadata": {},
          "output_type": "execute_result"
        }
      ],
      "source": [
        "sum(p.numel() for p in test_vm.parameters() if p.requires_grad)"
      ]
    },
    {
      "cell_type": "markdown",
      "metadata": {
        "id": "P94Cs1S6kRbM"
      },
      "source": [
        "# Integration"
      ]
    },
    {
      "cell_type": "markdown",
      "metadata": {
        "id": "9vRuxwI927VA"
      },
      "source": [
        "## loading the test image"
      ]
    },
    {
      "cell_type": "code",
      "execution_count": 23,
      "metadata": {
        "id": "HhhaZqxMBREA"
      },
      "outputs": [],
      "source": [
        "from PIL import Image\n",
        "image = Image.open(\"sample.png\")"
      ]
    },
    {
      "cell_type": "code",
      "execution_count": 24,
      "metadata": {
        "colab": {
          "base_uri": "https://localhost:8080/",
          "height": 0
        },
        "id": "ures_eYHBWcc",
        "outputId": "4c69fed3-5a88-477f-ebc0-5c5176c2cfd5"
      },
      "outputs": [
        {
          "data": {
            "image/png": "[encoded data removed]",
            "text/plain": [
              "<PIL.Image.Image image mode=RGBA size=50x57>"
            ]
          },
          "metadata": {},
          "output_type": "display_data"
        }
      ],
      "source": [
        "base_width = 50\n",
        "w_percent = (base_width / float(image.size[0]))\n",
        "h_size = int((float(image.size[1]) * float(w_percent)))\n",
        "resized_image = image.resize((base_width, h_size), Image.Resampling.LANCZOS)\n",
        "\n",
        "display(resized_image)"
      ]
    },
    {
      "cell_type": "markdown",
      "metadata": {
        "id": "xFmfTfvs27VB"
      },
      "source": [
        "## modifying model config to support new vision model"
      ]
    },
    {
      "cell_type": "code",
      "execution_count": 19,
      "metadata": {
        "colab": {
          "base_uri": "https://localhost:8080/"
        },
        "id": "jngPNIp4saTs",
        "outputId": "7446d790-5d11-49e9-f35f-0ed1748b94ad"
      },
      "outputs": [
        {
          "data": {
            "text/plain": [
              "{'grid_size': 27,\n",
              " 'embed_dim': 1152,\n",
              " 'num_heads': 16,\n",
              " 'num_resamplers': 4,\n",
              " 'kv_dim': 1152}"
            ]
          },
          "execution_count": 19,
          "metadata": {},
          "output_type": "execute_result"
        }
      ],
      "source": [
        "qformer_config"
      ]
    },
    {
      "cell_type": "code",
      "execution_count": 20,
      "metadata": {
        "id": "KmoPt3jotX8A"
      },
      "outputs": [],
      "source": [
        "old_config = model.config.vision_config"
      ]
    },
    {
      "cell_type": "code",
      "execution_count": null,
      "metadata": {
        "colab": {
          "base_uri": "https://localhost:8080/"
        },
        "id": "gLIhs6VW5Unw",
        "outputId": "586686ca-b183-4feb-b5db-18261682835b"
      },
      "outputs": [
        {
          "data": {
            "text/plain": [
              "SmolVLMVisionConfig {\n",
              "  \"attention_dropout\": 0.0,\n",
              "  \"hidden_act\": \"gelu_pytorch_tanh\",\n",
              "  \"hidden_size\": 1152,\n",
              "  \"image_size\": 384,\n",
              "  \"initializer_range\": 0.02,\n",
              "  \"intermediate_size\": 4304,\n",
              "  \"layer_norm_eps\": 1e-06,\n",
              "  \"max_image_size\": {\n",
              "    \"longest_edge\": 384\n",
              "  },\n",
              "  \"model_type\": \"smolvlm_vision\",\n",
              "  \"num_attention_heads\": 16,\n",
              "  \"num_channels\": 3,\n",
              "  \"num_hidden_layers\": 27,\n",
              "  \"patch_size\": 14,\n",
              "  \"size\": {\n",
              "    \"longest_edge\": 1920\n",
              "  },\n",
              "  \"tie_word_embeddings\": false,\n",
              "  \"torch_dtype\": \"bfloat16\",\n",
              "  \"transformers_version\": \"4.55.0\",\n",
              "  \"use_base_siglip\": false\n",
              "}"
            ]
          },
          "execution_count": 17,
          "metadata": {},
          "output_type": "execute_result"
        }
      ],
      "source": [
        "old_config"
      ]
    },
    {
      "cell_type": "code",
      "execution_count": 21,
      "metadata": {
        "id": "xG8dLtqxrxkD"
      },
      "outputs": [],
      "source": [
        "class Config:\n",
        "    def __init__(self, dictionary, old_config):\n",
        "        for key, value in old_config.items():\n",
        "            setattr(self, key, value)\n",
        "        for key, value in dictionary.items():\n",
        "            setattr(self, key, value)\n",
        "\n",
        "qformer_config_obj = Config(qformer_config, old_config.get_config_dict(model_path)[0][\"vision_config\"])"
      ]
    },
    {
      "cell_type": "markdown",
      "metadata": {
        "id": "koa5P0EU27VE"
      },
      "source": [
        "## swapping vision model"
      ]
    },
    {
      "cell_type": "markdown",
      "metadata": {
        "id": "FLgieA7I27VE"
      },
      "source": [
        "the commented codes below are used to check the inner dimensions of the original and new model. not removed in case further debugging is needed."
      ]
    },
    {
      "cell_type": "code",
      "execution_count": null,
      "metadata": {
        "id": "Uv9JULIFYH2W"
      },
      "outputs": [],
      "source": [
        "old_vision_model = model.model.vision_model"
      ]
    },
    {
      "cell_type": "code",
      "execution_count": null,
      "metadata": {
        "id": "LpAWs_1AAm_R"
      },
      "outputs": [],
      "source": [
        "model.model.vision_model = None"
      ]
    },
    {
      "cell_type": "code",
      "execution_count": 58,
      "metadata": {
        "id": "G1lhaWUNqKbF"
      },
      "outputs": [],
      "source": [
        "model.model.vision_model = MultiCropVisionEncoder(qformer_config).to(\"cuda:0\")\n",
        "model.config.vision_config = qformer_config_obj"
      ]
    },
    {
      "cell_type": "code",
      "execution_count": 59,
      "metadata": {
        "colab": {
          "base_uri": "https://localhost:8080/"
        },
        "id": "hocaetLZ-OpO",
        "outputId": "bb2d7b6a-b3cb-460e-9a64-b1162ee99408"
      },
      "outputs": [
        {
          "data": {
            "text/plain": [
              "678528"
            ]
          },
          "execution_count": 59,
          "metadata": {},
          "output_type": "execute_result"
        }
      ],
      "source": [
        "sum(p.numel() for p in model.model.vision_model.parameters() if p.requires_grad)"
      ]
    },
    {
      "cell_type": "code",
      "execution_count": null,
      "metadata": {
        "colab": {
          "base_uri": "https://localhost:8080/"
        },
        "id": "HFx6698S27VH",
        "outputId": "7ce72e69-71f4-42be-a593-55d726c880a1"
      },
      "outputs": [
        {
          "data": {
            "text/plain": [
              "torch.Size([1, 729, 1152])"
            ]
          },
          "execution_count": 27,
          "metadata": {},
          "output_type": "execute_result"
        }
      ],
      "source": [
        "# dummy = torch.randn(1, 3, 384,384).to(device=\"cpu\", dtype=torch.bfloat16)\n",
        "# old_vision_model = old_vision_model.to(\"cpu\")\n",
        "# old_vision_model(dummy).last_hidden_state.shape"
      ]
    },
    {
      "cell_type": "code",
      "execution_count": 44,
      "metadata": {
        "id": "VVoR99N-NsBj"
      },
      "outputs": [],
      "source": [
        "processor.image_processor.max_image_size[\"longest_edge\"]= 384"
      ]
    },
    {
      "cell_type": "code",
      "execution_count": 26,
      "metadata": {
        "id": "p-wQAzGQMV9Q"
      },
      "outputs": [],
      "source": [
        "processor.image_processor.do_image_splitting=False\n",
        "processor.image_processor.do_resize=True"
      ]
    },
    {
      "cell_type": "markdown",
      "metadata": {
        "id": "B6yYimRX27VI"
      },
      "source": [
        "## testing new model inference for errors"
      ]
    },
    {
      "cell_type": "code",
      "execution_count": null,
      "metadata": {
        "colab": {
          "base_uri": "https://localhost:8080/"
        },
        "id": "rBqJkzmT7YcJ",
        "outputId": "feb2bd53-a943-4151-efd3-9c9d37471e0f"
      },
      "outputs": [
        {
          "data": {
            "text/plain": [
              "device(type='cuda', index=0)"
            ]
          },
          "execution_count": 32,
          "metadata": {},
          "output_type": "execute_result"
        }
      ],
      "source": [
        "model.device"
      ]
    },
    {
      "cell_type": "code",
      "execution_count": 60,
      "metadata": {
        "colab": {
          "base_uri": "https://localhost:8080/",
          "height": 507
        },
        "id": "s71w_sAwq8ue",
        "outputId": "f188ff1d-60dc-4588-9d9a-caf84ca287ef"
      },
      "outputs": [
        {
          "name": "stderr",
          "output_type": "stream",
          "text": [
            "WARNING:matplotlib.image:Clipping input data to the valid range for imshow with RGB data ([0..1] for floats or [0..255] for integers). Got range [-0.75..1.0].\n"
          ]
        },
        {
          "data": {
            "image/png": "[encoded data removed]",
            "text/plain": [
              "<Figure size 640x480 with 1 Axes>"
            ]
          },
          "metadata": {},
          "output_type": "display_data"
        },
        {
          "name": "stdout",
          "output_type": "stream",
          "text": [
            "torch.Size([4, 729, 1152])\n"
          ]
        },
        {
          "data": {
            "text/plain": [
              "['User:describe this image.\\nAssistant:']"
            ]
          },
          "execution_count": 60,
          "metadata": {},
          "output_type": "execute_result"
        }
      ],
      "source": [
        "conversation = [\n",
        "    {\n",
        "        \"role\": \"user\",\n",
        "        \"content\": [\n",
        "            {\"type\": \"image\", \"url\": resized_image},\n",
        "            {\"type\": \"image\", \"url\": resized_image},\n",
        "            {\"type\": \"image\", \"url\": resized_image},\n",
        "            {\"type\": \"image\", \"url\": resized_image},\n",
        "            {\"type\": \"text\", \"text\": \"describe this image.\"}\n",
        "        ]\n",
        "    }\n",
        "]\n",
        "\n",
        "inputs = processor.apply_chat_template(\n",
        "    conversation,\n",
        "    add_generation_prompt=True,\n",
        "    tokenize=True,\n",
        "    return_dict=True,\n",
        "    return_tensors=\"pt\"\n",
        ").to(model.device, dtype=torch.bfloat16)\n",
        "\n",
        "output_ids = model.generate(**inputs, max_new_tokens=32)\n",
        "generated_texts = processor.batch_decode(output_ids, skip_special_tokens=True)\n",
        "generated_texts"
      ]
    },
    {
      "cell_type": "code",
      "execution_count": 48,
      "metadata": {
        "colab": {
          "base_uri": "https://localhost:8080/"
        },
        "id": "UHB26t_qVYTz",
        "outputId": "53d175d5-94e0-4c24-bc2d-4db2806d351e"
      },
      "outputs": [
        {
          "data": {
            "text/plain": [
              "MultiCropVisionEncoder(\n",
              "  (patch_embed): Conv2d(3, 1152, kernel_size=(14, 14), stride=(14, 14))\n",
              "  (multi_resampler): MultiResampler()\n",
              ")"
            ]
          },
          "execution_count": 48,
          "metadata": {},
          "output_type": "execute_result"
        }
      ],
      "source": [
        "model.model.vision_model"
      ]
    },
    {
      "cell_type": "markdown",
      "metadata": {},
      "source": [
        "---\n"
      ]
    },
    {
      "cell_type": "code",
      "execution_count": null,
      "metadata": {},
      "outputs": [],
      "source": [
        "# Colab setup\n",
        "from google.colab import drive\n",
        "import os\n",
        "\n",
        "drive.mount('/content/drive')\n",
        "\n",
        "GOOGLE_DRIVE_PATH = os.path.join('drive', 'My Drive', 'LLM-Project')\n",
        "os.chdir(GOOGLE_DRIVE_PATH)"
      ]
    },
    {
      "cell_type": "code",
      "execution_count": null,
      "metadata": {},
      "outputs": [],
      "source": [
        "! pip -q install bitsandbytes"
      ]
    },
    {
      "cell_type": "markdown",
      "metadata": {},
      "source": [
        "# DriveLM"
      ]
    },
    {
      "cell_type": "code",
      "execution_count": null,
      "metadata": {},
      "outputs": [],
      "source": [
        "import os\n",
        "from PIL import Image\n",
        "\n",
        "nuscenes_path = 'DriveLM/data/nuscenes/samples/'\n",
        "\n",
        "nuscenes = {}\n",
        "\n",
        "for folder in os.listdir(nuscenes_path):\n",
        "    folder_path = os.path.join(nuscenes_path, folder)\n",
        "    if os.path.isdir(folder_path):\n",
        "        nuscenes[folder] = {}\n",
        "        for img_name in os.listdir(folder_path):\n",
        "            img_path = os.path.join(folder_path, img_name)\n",
        "            nuscenes[folder][img_name] = Image.open(img_path)\n"
      ]
    },
    {
      "cell_type": "code",
      "execution_count": null,
      "metadata": {},
      "outputs": [],
      "source": [
        "import json\n",
        "from datasets import Dataset\n",
        "\n",
        "\n",
        "class DriveLM:\n",
        "    def __init__(self, json_path=\"DriveLM/data/QA_dataset_nus/v1_0_train_nus.json\"):\n",
        "\n",
        "        with open(json_path, 'r') as f:\n",
        "            data = json.load(f)\n",
        "\n",
        "        examples = []\n",
        "        for scene_token, scene_data in data.items():\n",
        "            scene_desc = scene_data.get('scene_description')\n",
        "            for frame_token, frame_data in scene_data['key_frames'].items():\n",
        "                image_paths = frame_data.get('image_paths', {})\n",
        "                for task, qa_list in frame_data['QA'].items():\n",
        "                    for qa in qa_list:\n",
        "                        example = {\n",
        "                            \"scene_token\": scene_token,\n",
        "                            \"frame_token\": frame_token,\n",
        "                            \"scene_description\": scene_desc,\n",
        "                            \"task\": task,\n",
        "                            \"question\": qa.get(\"Q\"),\n",
        "                            \"answer\": qa.get(\"A\"),\n",
        "                            \"context\": qa.get(\"C\"),\n",
        "                            \"image_paths\": image_paths,\n",
        "                        }\n",
        "                        examples.append(example)\n",
        "\n",
        "        self.hf_dataset = Dataset.from_list(examples)\n",
        "\n",
        "    def filter(self, function):\n",
        "        self.hf_dataset = self.hf_dataset.filter(function)\n",
        "\n",
        "\n",
        "    def __getitem__(self, idx):\n",
        "      keys = ['scene_description', 'question', 'answer']\n",
        "      sample = {key: self.hf_dataset[idx][key] for key in keys}\n",
        "\n",
        "      sample['images'] = {}\n",
        "      for image_type, image_path in self.hf_dataset[idx]['image_paths'].items():\n",
        "          image_name = image_path.split('/')[-1]\n",
        "          sample['images'][image_type] = nuscenes[image_type][image_name]\n",
        "      return sample\n",
        "\n",
        "    def __len__(self):\n",
        "        return len(self.hf_dataset)\n",
        "\n",
        "\n",
        "dataset = DriveLM()"
      ]
    },
    {
      "cell_type": "code",
      "execution_count": null,
      "metadata": {},
      "outputs": [],
      "source": [
        "import re\n",
        "\n",
        "\n",
        "def contains_object(text):\n",
        "    return re.search(r'<*>',text) != None\n",
        "\n",
        "dataset.filter(lambda example: not contains_object(example['question']) and not contains_object(example['answer']))\n",
        "\n",
        "len(dataset)"
      ]
    },
    {
      "cell_type": "code",
      "execution_count": null,
      "metadata": {},
      "outputs": [],
      "source": [
        "from PIL import Image\n",
        "\n",
        "def concatenate_images(imgs):\n",
        "    total_width = imgs[0].width * len(imgs)\n",
        "    img_combined = Image.new('RGB', (total_width, imgs[0].height))\n",
        "\n",
        "    x_offset = 0\n",
        "    for img in imgs:\n",
        "        img_combined.paste(img, (x_offset, 0))\n",
        "        x_offset += img.width\n",
        "\n",
        "    return img_combined"
      ]
    },
    {
      "cell_type": "markdown",
      "metadata": {},
      "source": [
        "# Fine-tune"
      ]
    },
    {
      "cell_type": "code",
      "execution_count": null,
      "metadata": {},
      "outputs": [],
      "source": [
        "from torch.utils.data import Dataset\n",
        "\n",
        "class VLMQADataset(Dataset):\n",
        "    def __init__(self, dataset: DriveLM):\n",
        "        self.dataset = dataset\n",
        "\n",
        "    def __len__(self):\n",
        "        return len(self.dataset)\n",
        "\n",
        "    def __getitem__(self, idx):\n",
        "        item = self.dataset[idx]\n",
        "        front_cameras = ['CAM_FRONT_LEFT', 'CAM_FRONT', 'CAM_FRONT_RIGHT']\n",
        "        back_cameras = ['CAM_BACK_LEFT', 'CAM_BACK', 'CAM_BACK_RIGHT']\n",
        "        user_msg = []\n",
        "        # cameras = ['CAM_FRONT_LEFT', 'CAM_FRONT', 'CAM_FRONT_RIGHT', 'CAM_BACK_LEFT', 'CAM_BACK', 'CAM_BACK_RIGHT']\n",
        "        # for camera in cameras:\n",
        "        #     user_msg.extend([\n",
        "        #         {\"type\": \"text\", \"text\": camera},\n",
        "        #         {\"type\": \"image\", \"image\": item[\"images\"][camera]}\n",
        "        #     ])\n",
        "\n",
        "        front = concatenate_images([item[\"images\"][camera] for camera in front_cameras])\n",
        "        back = concatenate_images([item[\"images\"][camera] for camera in back_cameras])\n",
        "        user_msg.extend([\n",
        "            {\"type\": \"text\", \"text\": \"The following image is a horizontal concatenation of three FRONT vehicle camera views: font left, front, and front right:\"},\n",
        "            {\"type\": \"image\", \"image\": front},\n",
        "            {\"type\": \"text\", \"text\": \"The following image is a horizontal concatenation of three BACK vehicle camera views: back left, back, and back right:\"},\n",
        "            {\"type\": \"image\", \"image\": back}\n",
        "        ])\n",
        "\n",
        "        user_msg.append({\"type\": \"text\", \"text\":item[\"question\"]})\n",
        "\n",
        "        conversation = [\n",
        "            {\n",
        "                \"role\": \"user\",\n",
        "                \"content\": user_msg,\n",
        "            },\n",
        "            {\n",
        "                \"role\": \"assistant\",\n",
        "                \"content\": [\n",
        "                    {\"type\": \"text\", \"text\": item[\"answer\"]},\n",
        "                ],\n",
        "            }\n",
        "        ]\n",
        "\n",
        "        target = [\n",
        "            {\n",
        "                \"role\": \"assistant\",\n",
        "                \"content\": [\n",
        "                    {\"type\": \"text\", \"text\": item[\"answer\"]},\n",
        "                ],\n",
        "            }\n",
        "        ]\n",
        "\n",
        "        target_inputs = processor.apply_chat_template(\n",
        "            target,\n",
        "            add_generation_prompt=True,\n",
        "            tokenize=True,\n",
        "            return_dict=True,\n",
        "            return_tensors=\"pt\"\n",
        "        ).to(torch.float16)\n",
        "\n",
        "        inputs = processor.apply_chat_template(\n",
        "            conversation,\n",
        "            add_generation_prompt=True,\n",
        "            tokenize=True,\n",
        "            return_dict=True,\n",
        "            return_tensors=\"pt\"\n",
        "        ).to(torch.float16)\n",
        "\n",
        "        labels = inputs['input_ids'].clone()\n",
        "        # labels[:num_image_tokens] = -100  # Mask out image tokens\n",
        "\n",
        "        # Mask all tokens before the assistant's answer\n",
        "        start_idx = inputs['input_ids'].shape[1] - target_inputs['input_ids'].shape[1]\n",
        "        labels[:, :start_idx] = -100\n",
        "\n",
        "        inputs['labels'] = labels\n",
        "\n",
        "        return inputs\n"
      ]
    },
    {
      "cell_type": "code",
      "execution_count": null,
      "metadata": {},
      "outputs": [],
      "source": [
        "data = VLMQADataset(dataset)"
      ]
    },
    {
      "cell_type": "code",
      "execution_count": null,
      "metadata": {},
      "outputs": [],
      "source": [
        "from peft import prepare_model_for_kbit_training\n",
        "\n",
        "model2 = prepare_model_for_kbit_training(model)\n",
        "del model\n",
        "\n",
        "model2.gradient_checkpointing_enable()\n",
        "model2.enable_input_require_grads()"
      ]
    },
    {
      "cell_type": "code",
      "execution_count": null,
      "metadata": {},
      "outputs": [],
      "source": [
        "from peft import LoraConfig, get_peft_model\n",
        "from transformers import Trainer, TrainingArguments\n",
        "\n",
        "peft_config = LoraConfig(\n",
        "    r=16,\n",
        "    lora_alpha=16,\n",
        "    target_modules=\"all-linear\",\n",
        "    lora_dropout=0.05,\n",
        "    task_type=\"CAUSAL_LM\",\n",
        ")\n",
        "peft_model = get_peft_model(model2, peft_config)"
      ]
    },
    {
      "cell_type": "code",
      "execution_count": null,
      "metadata": {},
      "outputs": [],
      "source": [
        "peft_model.print_trainable_parameters()"
      ]
    },
    {
      "cell_type": "code",
      "execution_count": null,
      "metadata": {},
      "outputs": [],
      "source": [
        "import torch\n",
        "import gc\n",
        "\n",
        "\n",
        "# del model2, processor, peft_model\n",
        "torch.cuda.empty_cache()\n",
        "gc.collect()\n"
      ]
    },
    {
      "cell_type": "code",
      "execution_count": null,
      "metadata": {},
      "outputs": [],
      "source": [
        "from transformers import Trainer, TrainingArguments\n",
        "\n",
        "train_dataset = VLMQADataset(dataset)\n",
        "\n",
        "training_args = TrainingArguments(\n",
        "    output_dir=\"./checkpoints\",\n",
        "    per_device_train_batch_size=1,\n",
        "    num_train_epochs=1,\n",
        "    learning_rate=2e-5,\n",
        "    logging_steps=1,\n",
        "    save_steps=200,\n",
        "    bf16=True,\n",
        "    report_to=\"none\",\n",
        "    label_names=[\"labels\"],\n",
        "    gradient_checkpointing=True,\n",
        ")\n",
        "\n",
        "\n",
        "def pad_labels(labels):\n",
        "    pad_token_label_id = -100\n",
        "    max_len = max(len(label) for label in labels)\n",
        "\n",
        "    padded_labels = torch.stack([\n",
        "        torch.cat([torch.full((max_len - len(label),), pad_token_label_id), label])\n",
        "        for label in labels\n",
        "    ])\n",
        "\n",
        "    return padded_labels\n",
        "\n",
        "\n",
        "def data_collator(features):\n",
        "    # return features[0]\n",
        "\n",
        "    features_flatten = []\n",
        "    labels = []\n",
        "    pixel_values = []\n",
        "    for feature in features:\n",
        "        labels.append(feature['labels'].flatten())\n",
        "        pixel_values.append(feature['pixel_values'])\n",
        "        del feature['labels']\n",
        "        del feature['pixel_values']\n",
        "\n",
        "        for key, item in feature.items():\n",
        "            feature[key] = item[0]\n",
        "        features_flatten.append(feature)\n",
        "\n",
        "    batch = processor.tokenizer.pad(features_flatten, padding=True, return_tensors=\"pt\")\n",
        "    batch['labels'] = pad_labels(labels)\n",
        "    batch['pixel_values'] = torch.concatenate(pixel_values)\n",
        "\n",
        "    return batch\n",
        "\n",
        "trainer = Trainer(\n",
        "    model=peft_model,\n",
        "    args=training_args,\n",
        "    train_dataset=train_dataset,\n",
        "    data_collator=data_collator,\n",
        ")\n",
        "\n",
        "trainer.train()"
      ]
    }
  ],
  "metadata": {
    "accelerator": "GPU",
    "colab": {
      "collapsed_sections": [
        "WQE97ZPO27U4",
        "9vRuxwI927VA",
        "koa5P0EU27VE"
      ],
      "gpuType": "T4",
      "provenance": []
    },
    "kernelspec": {
      "display_name": "Python 3",
      "name": "python3"
    },
    "language_info": {
      "name": "python",
      "version": "3.11.0"
    },
    "widgets": {
      "application/vnd.jupyter.widget-state+json": {
        "00db4ebcd011471e88fa11fa6eff6358": {
          "model_module": "@jupyter-widgets/controls",
          "model_module_version": "1.5.0",
          "model_name": "DescriptionStyleModel",
          "state": {
            "_model_module": "@jupyter-widgets/controls",
            "_model_module_version": "1.5.0",
            "_model_name": "DescriptionStyleModel",
            "_view_count": null,
            "_view_module": "@jupyter-widgets/base",
            "_view_module_version": "1.2.0",
            "_view_name": "StyleView",
            "description_width": ""
          }
        },
        "01d716fc8b6443d7907db09be18a462e": {
          "model_module": "@jupyter-widgets/controls",
          "model_module_version": "1.5.0",
          "model_name": "HTMLModel",
          "state": {
            "_dom_classes": [],
            "_model_module": "@jupyter-widgets/controls",
            "_model_module_version": "1.5.0",
            "_model_name": "HTMLModel",
            "_view_count": null,
            "_view_module": "@jupyter-widgets/controls",
            "_view_module_version": "1.5.0",
            "_view_name": "HTMLView",
            "description": "",
            "description_tooltip": null,
            "layout": "IPY_MODEL_79d6a09253224bff8736b19c42a14e11",
            "placeholder": "​",
            "style": "IPY_MODEL_5e4389f7edd3424d9041c5005f7534a4",
            "value": "Loading checkpoint shards: 100%"
          }
        },
        "025b6b5aee0b4e00b981b386180e1fbc": {
          "model_module": "@jupyter-widgets/base",
          "model_module_version": "1.2.0",
          "model_name": "LayoutModel",
          "state": {
            "_model_module": "@jupyter-widgets/base",
            "_model_module_version": "1.2.0",
            "_model_name": "LayoutModel",
            "_view_count": null,
            "_view_module": "@jupyter-widgets/base",
            "_view_module_version": "1.2.0",
            "_view_name": "LayoutView",
            "align_content": null,
            "align_items": null,
            "align_self": null,
            "border": null,
            "bottom": null,
            "display": null,
            "flex": null,
            "flex_flow": null,
            "grid_area": null,
            "grid_auto_columns": null,
            "grid_auto_flow": null,
            "grid_auto_rows": null,
            "grid_column": null,
            "grid_gap": null,
            "grid_row": null,
            "grid_template_areas": null,
            "grid_template_columns": null,
            "grid_template_rows": null,
            "height": null,
            "justify_content": null,
            "justify_items": null,
            "left": null,
            "margin": null,
            "max_height": null,
            "max_width": null,
            "min_height": null,
            "min_width": null,
            "object_fit": null,
            "object_position": null,
            "order": null,
            "overflow": null,
            "overflow_x": null,
            "overflow_y": null,
            "padding": null,
            "right": null,
            "top": null,
            "visibility": null,
            "width": null
          }
        },
        "05fef8be6228425790b6b2026e00675f": {
          "model_module": "@jupyter-widgets/controls",
          "model_module_version": "1.5.0",
          "model_name": "HTMLModel",
          "state": {
            "_dom_classes": [],
            "_model_module": "@jupyter-widgets/controls",
            "_model_module_version": "1.5.0",
            "_model_name": "HTMLModel",
            "_view_count": null,
            "_view_module": "@jupyter-widgets/controls",
            "_view_module_version": "1.5.0",
            "_view_name": "HTMLView",
            "description": "",
            "description_tooltip": null,
            "layout": "IPY_MODEL_5bc34fd7db4744c8a8b3c7ca8b963af8",
            "placeholder": "​",
            "style": "IPY_MODEL_8413151846054a738edc23a39c0ae503",
            "value": "model-00001-of-00002.safetensors: 100%"
          }
        },
        "06186430014949b89b24c629c2a51257": {
          "model_module": "@jupyter-widgets/controls",
          "model_module_version": "1.5.0",
          "model_name": "HBoxModel",
          "state": {
            "_dom_classes": [],
            "_model_module": "@jupyter-widgets/controls",
            "_model_module_version": "1.5.0",
            "_model_name": "HBoxModel",
            "_view_count": null,
            "_view_module": "@jupyter-widgets/controls",
            "_view_module_version": "1.5.0",
            "_view_name": "HBoxView",
            "box_style": "",
            "children": [
              "IPY_MODEL_a3642910127f4a2a8dac8dbceb84840d",
              "IPY_MODEL_f1fe7c0f3b0548a7a4efe4d0c188bc58",
              "IPY_MODEL_31346015d6c342979e0bf7836b849718"
            ],
            "layout": "IPY_MODEL_da9e7a413a78416e8f162b9bfe27e947"
          }
        },
        "07951b37854040ef83b59ac39c701b08": {
          "model_module": "@jupyter-widgets/base",
          "model_module_version": "1.2.0",
          "model_name": "LayoutModel",
          "state": {
            "_model_module": "@jupyter-widgets/base",
            "_model_module_version": "1.2.0",
            "_model_name": "LayoutModel",
            "_view_count": null,
            "_view_module": "@jupyter-widgets/base",
            "_view_module_version": "1.2.0",
            "_view_name": "LayoutView",
            "align_content": null,
            "align_items": null,
            "align_self": null,
            "border": null,
            "bottom": null,
            "display": null,
            "flex": null,
            "flex_flow": null,
            "grid_area": null,
            "grid_auto_columns": null,
            "grid_auto_flow": null,
            "grid_auto_rows": null,
            "grid_column": null,
            "grid_gap": null,
            "grid_row": null,
            "grid_template_areas": null,
            "grid_template_columns": null,
            "grid_template_rows": null,
            "height": null,
            "justify_content": null,
            "justify_items": null,
            "left": null,
            "margin": null,
            "max_height": null,
            "max_width": null,
            "min_height": null,
            "min_width": null,
            "object_fit": null,
            "object_position": null,
            "order": null,
            "overflow": null,
            "overflow_x": null,
            "overflow_y": null,
            "padding": null,
            "right": null,
            "top": null,
            "visibility": null,
            "width": null
          }
        },
        "09221a061fc647dd813e95357af5dab5": {
          "model_module": "@jupyter-widgets/controls",
          "model_module_version": "1.5.0",
          "model_name": "FloatProgressModel",
          "state": {
            "_dom_classes": [],
            "_model_module": "@jupyter-widgets/controls",
            "_model_module_version": "1.5.0",
            "_model_name": "FloatProgressModel",
            "_view_count": null,
            "_view_module": "@jupyter-widgets/controls",
            "_view_module_version": "1.5.0",
            "_view_name": "ProgressView",
            "bar_style": "success",
            "description": "",
            "description_tooltip": null,
            "layout": "IPY_MODEL_ab749ac7028c4e04b253714a3c43ec46",
            "max": 2,
            "min": 0,
            "orientation": "horizontal",
            "style": "IPY_MODEL_fb0f4fcab4644d32a5b41a2ae6791477",
            "value": 2
          }
        },
        "0e02092129f04abbb99640e15a9d2ae8": {
          "model_module": "@jupyter-widgets/controls",
          "model_module_version": "1.5.0",
          "model_name": "HTMLModel",
          "state": {
            "_dom_classes": [],
            "_model_module": "@jupyter-widgets/controls",
            "_model_module_version": "1.5.0",
            "_model_name": "HTMLModel",
            "_view_count": null,
            "_view_module": "@jupyter-widgets/controls",
            "_view_module_version": "1.5.0",
            "_view_name": "HTMLView",
            "description": "",
            "description_tooltip": null,
            "layout": "IPY_MODEL_5b073f04f1504fe0a53bae4d2227949c",
            "placeholder": "​",
            "style": "IPY_MODEL_c85d2bc21e5a4774aa714e8af5302c93",
            "value": "Fetching 2 files: 100%"
          }
        },
        "113d90dbcecd4103a4975824d2c0d5bb": {
          "model_module": "@jupyter-widgets/controls",
          "model_module_version": "1.5.0",
          "model_name": "HTMLModel",
          "state": {
            "_dom_classes": [],
            "_model_module": "@jupyter-widgets/controls",
            "_model_module_version": "1.5.0",
            "_model_name": "HTMLModel",
            "_view_count": null,
            "_view_module": "@jupyter-widgets/controls",
            "_view_module_version": "1.5.0",
            "_view_name": "HTMLView",
            "description": "",
            "description_tooltip": null,
            "layout": "IPY_MODEL_b8f407f394984cfaaf9086ae34a5ab2e",
            "placeholder": "​",
            "style": "IPY_MODEL_00db4ebcd011471e88fa11fa6eff6358",
            "value": "generation_config.json: 100%"
          }
        },
        "12c060041a984a8ca7b82514ae6be30a": {
          "model_module": "@jupyter-widgets/base",
          "model_module_version": "1.2.0",
          "model_name": "LayoutModel",
          "state": {
            "_model_module": "@jupyter-widgets/base",
            "_model_module_version": "1.2.0",
            "_model_name": "LayoutModel",
            "_view_count": null,
            "_view_module": "@jupyter-widgets/base",
            "_view_module_version": "1.2.0",
            "_view_name": "LayoutView",
            "align_content": null,
            "align_items": null,
            "align_self": null,
            "border": null,
            "bottom": null,
            "display": null,
            "flex": null,
            "flex_flow": null,
            "grid_area": null,
            "grid_auto_columns": null,
            "grid_auto_flow": null,
            "grid_auto_rows": null,
            "grid_column": null,
            "grid_gap": null,
            "grid_row": null,
            "grid_template_areas": null,
            "grid_template_columns": null,
            "grid_template_rows": null,
            "height": null,
            "justify_content": null,
            "justify_items": null,
            "left": null,
            "margin": null,
            "max_height": null,
            "max_width": null,
            "min_height": null,
            "min_width": null,
            "object_fit": null,
            "object_position": null,
            "order": null,
            "overflow": null,
            "overflow_x": null,
            "overflow_y": null,
            "padding": null,
            "right": null,
            "top": null,
            "visibility": null,
            "width": null
          }
        },
        "15f65422a3204202853e9fee7c39eb5c": {
          "model_module": "@jupyter-widgets/base",
          "model_module_version": "1.2.0",
          "model_name": "LayoutModel",
          "state": {
            "_model_module": "@jupyter-widgets/base",
            "_model_module_version": "1.2.0",
            "_model_name": "LayoutModel",
            "_view_count": null,
            "_view_module": "@jupyter-widgets/base",
            "_view_module_version": "1.2.0",
            "_view_name": "LayoutView",
            "align_content": null,
            "align_items": null,
            "align_self": null,
            "border": null,
            "bottom": null,
            "display": null,
            "flex": null,
            "flex_flow": null,
            "grid_area": null,
            "grid_auto_columns": null,
            "grid_auto_flow": null,
            "grid_auto_rows": null,
            "grid_column": null,
            "grid_gap": null,
            "grid_row": null,
            "grid_template_areas": null,
            "grid_template_columns": null,
            "grid_template_rows": null,
            "height": null,
            "justify_content": null,
            "justify_items": null,
            "left": null,
            "margin": null,
            "max_height": null,
            "max_width": null,
            "min_height": null,
            "min_width": null,
            "object_fit": null,
            "object_position": null,
            "order": null,
            "overflow": null,
            "overflow_x": null,
            "overflow_y": null,
            "padding": null,
            "right": null,
            "top": null,
            "visibility": null,
            "width": null
          }
        },
        "1844b5c3400f4e5685de070000755eef": {
          "model_module": "@jupyter-widgets/base",
          "model_module_version": "1.2.0",
          "model_name": "LayoutModel",
          "state": {
            "_model_module": "@jupyter-widgets/base",
            "_model_module_version": "1.2.0",
            "_model_name": "LayoutModel",
            "_view_count": null,
            "_view_module": "@jupyter-widgets/base",
            "_view_module_version": "1.2.0",
            "_view_name": "LayoutView",
            "align_content": null,
            "align_items": null,
            "align_self": null,
            "border": null,
            "bottom": null,
            "display": null,
            "flex": null,
            "flex_flow": null,
            "grid_area": null,
            "grid_auto_columns": null,
            "grid_auto_flow": null,
            "grid_auto_rows": null,
            "grid_column": null,
            "grid_gap": null,
            "grid_row": null,
            "grid_template_areas": null,
            "grid_template_columns": null,
            "grid_template_rows": null,
            "height": null,
            "justify_content": null,
            "justify_items": null,
            "left": null,
            "margin": null,
            "max_height": null,
            "max_width": null,
            "min_height": null,
            "min_width": null,
            "object_fit": null,
            "object_position": null,
            "order": null,
            "overflow": null,
            "overflow_x": null,
            "overflow_y": null,
            "padding": null,
            "right": null,
            "top": null,
            "visibility": null,
            "width": null
          }
        },
        "1dd60b9b89d34a03b24b448a234b583a": {
          "model_module": "@jupyter-widgets/controls",
          "model_module_version": "1.5.0",
          "model_name": "HBoxModel",
          "state": {
            "_dom_classes": [],
            "_model_module": "@jupyter-widgets/controls",
            "_model_module_version": "1.5.0",
            "_model_name": "HBoxModel",
            "_view_count": null,
            "_view_module": "@jupyter-widgets/controls",
            "_view_module_version": "1.5.0",
            "_view_name": "HBoxView",
            "box_style": "",
            "children": [
              "IPY_MODEL_01d716fc8b6443d7907db09be18a462e",
              "IPY_MODEL_b222190198204c57b2dc1a092e435841",
              "IPY_MODEL_95b1d49e10dd4414b72a94079036d345"
            ],
            "layout": "IPY_MODEL_b667949f88744e2391a46b539a960e89"
          }
        },
        "213849b1df814b01be31f7cf2bb2a97a": {
          "model_module": "@jupyter-widgets/controls",
          "model_module_version": "1.5.0",
          "model_name": "DescriptionStyleModel",
          "state": {
            "_model_module": "@jupyter-widgets/controls",
            "_model_module_version": "1.5.0",
            "_model_name": "DescriptionStyleModel",
            "_view_count": null,
            "_view_module": "@jupyter-widgets/base",
            "_view_module_version": "1.2.0",
            "_view_name": "StyleView",
            "description_width": ""
          }
        },
        "260aa14340d0452782e661bb80f11132": {
          "model_module": "@jupyter-widgets/controls",
          "model_module_version": "1.5.0",
          "model_name": "FloatProgressModel",
          "state": {
            "_dom_classes": [],
            "_model_module": "@jupyter-widgets/controls",
            "_model_module_version": "1.5.0",
            "_model_name": "FloatProgressModel",
            "_view_count": null,
            "_view_module": "@jupyter-widgets/controls",
            "_view_module_version": "1.5.0",
            "_view_name": "ProgressView",
            "bar_style": "success",
            "description": "",
            "description_tooltip": null,
            "layout": "IPY_MODEL_59f71545c96d493daff161495dffd0f2",
            "max": 1,
            "min": 0,
            "orientation": "horizontal",
            "style": "IPY_MODEL_2f70010a612a49bbb453c8c5f5516905",
            "value": 1
          }
        },
        "2f70010a612a49bbb453c8c5f5516905": {
          "model_module": "@jupyter-widgets/controls",
          "model_module_version": "1.5.0",
          "model_name": "ProgressStyleModel",
          "state": {
            "_model_module": "@jupyter-widgets/controls",
            "_model_module_version": "1.5.0",
            "_model_name": "ProgressStyleModel",
            "_view_count": null,
            "_view_module": "@jupyter-widgets/base",
            "_view_module_version": "1.2.0",
            "_view_name": "StyleView",
            "bar_color": null,
            "description_width": ""
          }
        },
        "2ff83adec95e49f2adc8aa677643b870": {
          "model_module": "@jupyter-widgets/base",
          "model_module_version": "1.2.0",
          "model_name": "LayoutModel",
          "state": {
            "_model_module": "@jupyter-widgets/base",
            "_model_module_version": "1.2.0",
            "_model_name": "LayoutModel",
            "_view_count": null,
            "_view_module": "@jupyter-widgets/base",
            "_view_module_version": "1.2.0",
            "_view_name": "LayoutView",
            "align_content": null,
            "align_items": null,
            "align_self": null,
            "border": null,
            "bottom": null,
            "display": null,
            "flex": null,
            "flex_flow": null,
            "grid_area": null,
            "grid_auto_columns": null,
            "grid_auto_flow": null,
            "grid_auto_rows": null,
            "grid_column": null,
            "grid_gap": null,
            "grid_row": null,
            "grid_template_areas": null,
            "grid_template_columns": null,
            "grid_template_rows": null,
            "height": null,
            "justify_content": null,
            "justify_items": null,
            "left": null,
            "margin": null,
            "max_height": null,
            "max_width": null,
            "min_height": null,
            "min_width": null,
            "object_fit": null,
            "object_position": null,
            "order": null,
            "overflow": null,
            "overflow_x": null,
            "overflow_y": null,
            "padding": null,
            "right": null,
            "top": null,
            "visibility": null,
            "width": null
          }
        },
        "31346015d6c342979e0bf7836b849718": {
          "model_module": "@jupyter-widgets/controls",
          "model_module_version": "1.5.0",
          "model_name": "HTMLModel",
          "state": {
            "_dom_classes": [],
            "_model_module": "@jupyter-widgets/controls",
            "_model_module_version": "1.5.0",
            "_model_name": "HTMLModel",
            "_view_count": null,
            "_view_module": "@jupyter-widgets/controls",
            "_view_module_version": "1.5.0",
            "_view_name": "HTMLView",
            "description": "",
            "description_tooltip": null,
            "layout": "IPY_MODEL_66d40c34ef7e49d1983eda663858174e",
            "placeholder": "​",
            "style": "IPY_MODEL_a6c6362a2b14492691b6a2185c4e8523",
            "value": " 4.03G/4.03G [11:23&lt;00:00, 18.4MB/s]"
          }
        },
        "32d7b940b34d4bd9969383f7f4067a2e": {
          "model_module": "@jupyter-widgets/controls",
          "model_module_version": "1.5.0",
          "model_name": "DescriptionStyleModel",
          "state": {
            "_model_module": "@jupyter-widgets/controls",
            "_model_module_version": "1.5.0",
            "_model_name": "DescriptionStyleModel",
            "_view_count": null,
            "_view_module": "@jupyter-widgets/base",
            "_view_module_version": "1.2.0",
            "_view_name": "StyleView",
            "description_width": ""
          }
        },
        "3725a6986ce9487abb2608858f5d1731": {
          "model_module": "@jupyter-widgets/controls",
          "model_module_version": "1.5.0",
          "model_name": "HBoxModel",
          "state": {
            "_dom_classes": [],
            "_model_module": "@jupyter-widgets/controls",
            "_model_module_version": "1.5.0",
            "_model_name": "HBoxModel",
            "_view_count": null,
            "_view_module": "@jupyter-widgets/controls",
            "_view_module_version": "1.5.0",
            "_view_name": "HBoxView",
            "box_style": "",
            "children": [
              "IPY_MODEL_05fef8be6228425790b6b2026e00675f",
              "IPY_MODEL_c3fa037f0374488fa534fc5ff502cb1e",
              "IPY_MODEL_a170026b68204c9db20ad5c00660542c"
            ],
            "layout": "IPY_MODEL_f9cb2801e04b492e8c5f9b48485c7a0a"
          }
        },
        "3c867cccde9d48cfb7d1a05949d35b6f": {
          "model_module": "@jupyter-widgets/base",
          "model_module_version": "1.2.0",
          "model_name": "LayoutModel",
          "state": {
            "_model_module": "@jupyter-widgets/base",
            "_model_module_version": "1.2.0",
            "_model_name": "LayoutModel",
            "_view_count": null,
            "_view_module": "@jupyter-widgets/base",
            "_view_module_version": "1.2.0",
            "_view_name": "LayoutView",
            "align_content": null,
            "align_items": null,
            "align_self": null,
            "border": null,
            "bottom": null,
            "display": null,
            "flex": null,
            "flex_flow": null,
            "grid_area": null,
            "grid_auto_columns": null,
            "grid_auto_flow": null,
            "grid_auto_rows": null,
            "grid_column": null,
            "grid_gap": null,
            "grid_row": null,
            "grid_template_areas": null,
            "grid_template_columns": null,
            "grid_template_rows": null,
            "height": null,
            "justify_content": null,
            "justify_items": null,
            "left": null,
            "margin": null,
            "max_height": null,
            "max_width": null,
            "min_height": null,
            "min_width": null,
            "object_fit": null,
            "object_position": null,
            "order": null,
            "overflow": null,
            "overflow_x": null,
            "overflow_y": null,
            "padding": null,
            "right": null,
            "top": null,
            "visibility": null,
            "width": null
          }
        },
        "443c328d7f5e42e9b0e518a4e4d2ddd2": {
          "model_module": "@jupyter-widgets/base",
          "model_module_version": "1.2.0",
          "model_name": "LayoutModel",
          "state": {
            "_model_module": "@jupyter-widgets/base",
            "_model_module_version": "1.2.0",
            "_model_name": "LayoutModel",
            "_view_count": null,
            "_view_module": "@jupyter-widgets/base",
            "_view_module_version": "1.2.0",
            "_view_name": "LayoutView",
            "align_content": null,
            "align_items": null,
            "align_self": null,
            "border": null,
            "bottom": null,
            "display": null,
            "flex": null,
            "flex_flow": null,
            "grid_area": null,
            "grid_auto_columns": null,
            "grid_auto_flow": null,
            "grid_auto_rows": null,
            "grid_column": null,
            "grid_gap": null,
            "grid_row": null,
            "grid_template_areas": null,
            "grid_template_columns": null,
            "grid_template_rows": null,
            "height": null,
            "justify_content": null,
            "justify_items": null,
            "left": null,
            "margin": null,
            "max_height": null,
            "max_width": null,
            "min_height": null,
            "min_width": null,
            "object_fit": null,
            "object_position": null,
            "order": null,
            "overflow": null,
            "overflow_x": null,
            "overflow_y": null,
            "padding": null,
            "right": null,
            "top": null,
            "visibility": null,
            "width": null
          }
        },
        "543c260ad98246ca83f7b4a10b52feca": {
          "model_module": "@jupyter-widgets/controls",
          "model_module_version": "1.5.0",
          "model_name": "HTMLModel",
          "state": {
            "_dom_classes": [],
            "_model_module": "@jupyter-widgets/controls",
            "_model_module_version": "1.5.0",
            "_model_name": "HTMLModel",
            "_view_count": null,
            "_view_module": "@jupyter-widgets/controls",
            "_view_module_version": "1.5.0",
            "_view_name": "HTMLView",
            "description": "",
            "description_tooltip": null,
            "layout": "IPY_MODEL_025b6b5aee0b4e00b981b386180e1fbc",
            "placeholder": "​",
            "style": "IPY_MODEL_a2e7813d977f44c5933cda464bc8eba2",
            "value": " 136/136 [00:00&lt;00:00, 7.80kB/s]"
          }
        },
        "562193bfa51f44f8912958689cbddb91": {
          "model_module": "@jupyter-widgets/controls",
          "model_module_version": "1.5.0",
          "model_name": "HTMLModel",
          "state": {
            "_dom_classes": [],
            "_model_module": "@jupyter-widgets/controls",
            "_model_module_version": "1.5.0",
            "_model_name": "HTMLModel",
            "_view_count": null,
            "_view_module": "@jupyter-widgets/controls",
            "_view_module_version": "1.5.0",
            "_view_name": "HTMLView",
            "description": "",
            "description_tooltip": null,
            "layout": "IPY_MODEL_12c060041a984a8ca7b82514ae6be30a",
            "placeholder": "​",
            "style": "IPY_MODEL_e4b7f32b34ef45c8badf4ced9bd33d38",
            "value": "config.json: "
          }
        },
        "59f71545c96d493daff161495dffd0f2": {
          "model_module": "@jupyter-widgets/base",
          "model_module_version": "1.2.0",
          "model_name": "LayoutModel",
          "state": {
            "_model_module": "@jupyter-widgets/base",
            "_model_module_version": "1.2.0",
            "_model_name": "LayoutModel",
            "_view_count": null,
            "_view_module": "@jupyter-widgets/base",
            "_view_module_version": "1.2.0",
            "_view_name": "LayoutView",
            "align_content": null,
            "align_items": null,
            "align_self": null,
            "border": null,
            "bottom": null,
            "display": null,
            "flex": null,
            "flex_flow": null,
            "grid_area": null,
            "grid_auto_columns": null,
            "grid_auto_flow": null,
            "grid_auto_rows": null,
            "grid_column": null,
            "grid_gap": null,
            "grid_row": null,
            "grid_template_areas": null,
            "grid_template_columns": null,
            "grid_template_rows": null,
            "height": null,
            "justify_content": null,
            "justify_items": null,
            "left": null,
            "margin": null,
            "max_height": null,
            "max_width": null,
            "min_height": null,
            "min_width": null,
            "object_fit": null,
            "object_position": null,
            "order": null,
            "overflow": null,
            "overflow_x": null,
            "overflow_y": null,
            "padding": null,
            "right": null,
            "top": null,
            "visibility": null,
            "width": "20px"
          }
        },
        "5b073f04f1504fe0a53bae4d2227949c": {
          "model_module": "@jupyter-widgets/base",
          "model_module_version": "1.2.0",
          "model_name": "LayoutModel",
          "state": {
            "_model_module": "@jupyter-widgets/base",
            "_model_module_version": "1.2.0",
            "_model_name": "LayoutModel",
            "_view_count": null,
            "_view_module": "@jupyter-widgets/base",
            "_view_module_version": "1.2.0",
            "_view_name": "LayoutView",
            "align_content": null,
            "align_items": null,
            "align_self": null,
            "border": null,
            "bottom": null,
            "display": null,
            "flex": null,
            "flex_flow": null,
            "grid_area": null,
            "grid_auto_columns": null,
            "grid_auto_flow": null,
            "grid_auto_rows": null,
            "grid_column": null,
            "grid_gap": null,
            "grid_row": null,
            "grid_template_areas": null,
            "grid_template_columns": null,
            "grid_template_rows": null,
            "height": null,
            "justify_content": null,
            "justify_items": null,
            "left": null,
            "margin": null,
            "max_height": null,
            "max_width": null,
            "min_height": null,
            "min_width": null,
            "object_fit": null,
            "object_position": null,
            "order": null,
            "overflow": null,
            "overflow_x": null,
            "overflow_y": null,
            "padding": null,
            "right": null,
            "top": null,
            "visibility": null,
            "width": null
          }
        },
        "5bc34fd7db4744c8a8b3c7ca8b963af8": {
          "model_module": "@jupyter-widgets/base",
          "model_module_version": "1.2.0",
          "model_name": "LayoutModel",
          "state": {
            "_model_module": "@jupyter-widgets/base",
            "_model_module_version": "1.2.0",
            "_model_name": "LayoutModel",
            "_view_count": null,
            "_view_module": "@jupyter-widgets/base",
            "_view_module_version": "1.2.0",
            "_view_name": "LayoutView",
            "align_content": null,
            "align_items": null,
            "align_self": null,
            "border": null,
            "bottom": null,
            "display": null,
            "flex": null,
            "flex_flow": null,
            "grid_area": null,
            "grid_auto_columns": null,
            "grid_auto_flow": null,
            "grid_auto_rows": null,
            "grid_column": null,
            "grid_gap": null,
            "grid_row": null,
            "grid_template_areas": null,
            "grid_template_columns": null,
            "grid_template_rows": null,
            "height": null,
            "justify_content": null,
            "justify_items": null,
            "left": null,
            "margin": null,
            "max_height": null,
            "max_width": null,
            "min_height": null,
            "min_width": null,
            "object_fit": null,
            "object_position": null,
            "order": null,
            "overflow": null,
            "overflow_x": null,
            "overflow_y": null,
            "padding": null,
            "right": null,
            "top": null,
            "visibility": null,
            "width": null
          }
        },
        "5e4389f7edd3424d9041c5005f7534a4": {
          "model_module": "@jupyter-widgets/controls",
          "model_module_version": "1.5.0",
          "model_name": "DescriptionStyleModel",
          "state": {
            "_model_module": "@jupyter-widgets/controls",
            "_model_module_version": "1.5.0",
            "_model_name": "DescriptionStyleModel",
            "_view_count": null,
            "_view_module": "@jupyter-widgets/base",
            "_view_module_version": "1.2.0",
            "_view_name": "StyleView",
            "description_width": ""
          }
        },
        "60c9a5bc3e0c47308698b06b129fa87e": {
          "model_module": "@jupyter-widgets/base",
          "model_module_version": "1.2.0",
          "model_name": "LayoutModel",
          "state": {
            "_model_module": "@jupyter-widgets/base",
            "_model_module_version": "1.2.0",
            "_model_name": "LayoutModel",
            "_view_count": null,
            "_view_module": "@jupyter-widgets/base",
            "_view_module_version": "1.2.0",
            "_view_name": "LayoutView",
            "align_content": null,
            "align_items": null,
            "align_self": null,
            "border": null,
            "bottom": null,
            "display": null,
            "flex": null,
            "flex_flow": null,
            "grid_area": null,
            "grid_auto_columns": null,
            "grid_auto_flow": null,
            "grid_auto_rows": null,
            "grid_column": null,
            "grid_gap": null,
            "grid_row": null,
            "grid_template_areas": null,
            "grid_template_columns": null,
            "grid_template_rows": null,
            "height": null,
            "justify_content": null,
            "justify_items": null,
            "left": null,
            "margin": null,
            "max_height": null,
            "max_width": null,
            "min_height": null,
            "min_width": null,
            "object_fit": null,
            "object_position": null,
            "order": null,
            "overflow": null,
            "overflow_x": null,
            "overflow_y": null,
            "padding": null,
            "right": null,
            "top": null,
            "visibility": null,
            "width": null
          }
        },
        "64ee7aaef331474784a3846b9b3987e8": {
          "model_module": "@jupyter-widgets/controls",
          "model_module_version": "1.5.0",
          "model_name": "HTMLModel",
          "state": {
            "_dom_classes": [],
            "_model_module": "@jupyter-widgets/controls",
            "_model_module_version": "1.5.0",
            "_model_name": "HTMLModel",
            "_view_count": null,
            "_view_module": "@jupyter-widgets/controls",
            "_view_module_version": "1.5.0",
            "_view_name": "HTMLView",
            "description": "",
            "description_tooltip": null,
            "layout": "IPY_MODEL_15f65422a3204202853e9fee7c39eb5c",
            "placeholder": "​",
            "style": "IPY_MODEL_c30c25e833934f849691f39988b7fe85",
            "value": " 63.9k/? [00:00&lt;00:00, 799kB/s]"
          }
        },
        "653edc511b88450a8767cdaefbbd6cd1": {
          "model_module": "@jupyter-widgets/base",
          "model_module_version": "1.2.0",
          "model_name": "LayoutModel",
          "state": {
            "_model_module": "@jupyter-widgets/base",
            "_model_module_version": "1.2.0",
            "_model_name": "LayoutModel",
            "_view_count": null,
            "_view_module": "@jupyter-widgets/base",
            "_view_module_version": "1.2.0",
            "_view_name": "LayoutView",
            "align_content": null,
            "align_items": null,
            "align_self": null,
            "border": null,
            "bottom": null,
            "display": null,
            "flex": null,
            "flex_flow": null,
            "grid_area": null,
            "grid_auto_columns": null,
            "grid_auto_flow": null,
            "grid_auto_rows": null,
            "grid_column": null,
            "grid_gap": null,
            "grid_row": null,
            "grid_template_areas": null,
            "grid_template_columns": null,
            "grid_template_rows": null,
            "height": null,
            "justify_content": null,
            "justify_items": null,
            "left": null,
            "margin": null,
            "max_height": null,
            "max_width": null,
            "min_height": null,
            "min_width": null,
            "object_fit": null,
            "object_position": null,
            "order": null,
            "overflow": null,
            "overflow_x": null,
            "overflow_y": null,
            "padding": null,
            "right": null,
            "top": null,
            "visibility": null,
            "width": null
          }
        },
        "66d40c34ef7e49d1983eda663858174e": {
          "model_module": "@jupyter-widgets/base",
          "model_module_version": "1.2.0",
          "model_name": "LayoutModel",
          "state": {
            "_model_module": "@jupyter-widgets/base",
            "_model_module_version": "1.2.0",
            "_model_name": "LayoutModel",
            "_view_count": null,
            "_view_module": "@jupyter-widgets/base",
            "_view_module_version": "1.2.0",
            "_view_name": "LayoutView",
            "align_content": null,
            "align_items": null,
            "align_self": null,
            "border": null,
            "bottom": null,
            "display": null,
            "flex": null,
            "flex_flow": null,
            "grid_area": null,
            "grid_auto_columns": null,
            "grid_auto_flow": null,
            "grid_auto_rows": null,
            "grid_column": null,
            "grid_gap": null,
            "grid_row": null,
            "grid_template_areas": null,
            "grid_template_columns": null,
            "grid_template_rows": null,
            "height": null,
            "justify_content": null,
            "justify_items": null,
            "left": null,
            "margin": null,
            "max_height": null,
            "max_width": null,
            "min_height": null,
            "min_width": null,
            "object_fit": null,
            "object_position": null,
            "order": null,
            "overflow": null,
            "overflow_x": null,
            "overflow_y": null,
            "padding": null,
            "right": null,
            "top": null,
            "visibility": null,
            "width": null
          }
        },
        "79d6a09253224bff8736b19c42a14e11": {
          "model_module": "@jupyter-widgets/base",
          "model_module_version": "1.2.0",
          "model_name": "LayoutModel",
          "state": {
            "_model_module": "@jupyter-widgets/base",
            "_model_module_version": "1.2.0",
            "_model_name": "LayoutModel",
            "_view_count": null,
            "_view_module": "@jupyter-widgets/base",
            "_view_module_version": "1.2.0",
            "_view_name": "LayoutView",
            "align_content": null,
            "align_items": null,
            "align_self": null,
            "border": null,
            "bottom": null,
            "display": null,
            "flex": null,
            "flex_flow": null,
            "grid_area": null,
            "grid_auto_columns": null,
            "grid_auto_flow": null,
            "grid_auto_rows": null,
            "grid_column": null,
            "grid_gap": null,
            "grid_row": null,
            "grid_template_areas": null,
            "grid_template_columns": null,
            "grid_template_rows": null,
            "height": null,
            "justify_content": null,
            "justify_items": null,
            "left": null,
            "margin": null,
            "max_height": null,
            "max_width": null,
            "min_height": null,
            "min_width": null,
            "object_fit": null,
            "object_position": null,
            "order": null,
            "overflow": null,
            "overflow_x": null,
            "overflow_y": null,
            "padding": null,
            "right": null,
            "top": null,
            "visibility": null,
            "width": null
          }
        },
        "7b4cbbd806f848938aef52d60c109971": {
          "model_module": "@jupyter-widgets/controls",
          "model_module_version": "1.5.0",
          "model_name": "HTMLModel",
          "state": {
            "_dom_classes": [],
            "_model_module": "@jupyter-widgets/controls",
            "_model_module_version": "1.5.0",
            "_model_name": "HTMLModel",
            "_view_count": null,
            "_view_module": "@jupyter-widgets/controls",
            "_view_module_version": "1.5.0",
            "_view_name": "HTMLView",
            "description": "",
            "description_tooltip": null,
            "layout": "IPY_MODEL_97ff0707a5ba43fc812465a3c1e990af",
            "placeholder": "​",
            "style": "IPY_MODEL_32d7b940b34d4bd9969383f7f4067a2e",
            "value": "model.safetensors.index.json: "
          }
        },
        "7faf28883bf848b7b9bf5cf24b356a28": {
          "model_module": "@jupyter-widgets/controls",
          "model_module_version": "1.5.0",
          "model_name": "FloatProgressModel",
          "state": {
            "_dom_classes": [],
            "_model_module": "@jupyter-widgets/controls",
            "_model_module_version": "1.5.0",
            "_model_name": "FloatProgressModel",
            "_view_count": null,
            "_view_module": "@jupyter-widgets/controls",
            "_view_module_version": "1.5.0",
            "_view_name": "ProgressView",
            "bar_style": "success",
            "description": "",
            "description_tooltip": null,
            "layout": "IPY_MODEL_fd11d4b55c674483bbaa2518f9d1fa08",
            "max": 136,
            "min": 0,
            "orientation": "horizontal",
            "style": "IPY_MODEL_f008178eacd44f488b8c6bbea67064dc",
            "value": 136
          }
        },
        "819c568d989e494c8e6782c6fa175048": {
          "model_module": "@jupyter-widgets/controls",
          "model_module_version": "1.5.0",
          "model_name": "DescriptionStyleModel",
          "state": {
            "_model_module": "@jupyter-widgets/controls",
            "_model_module_version": "1.5.0",
            "_model_name": "DescriptionStyleModel",
            "_view_count": null,
            "_view_module": "@jupyter-widgets/base",
            "_view_module_version": "1.2.0",
            "_view_name": "StyleView",
            "description_width": ""
          }
        },
        "8413151846054a738edc23a39c0ae503": {
          "model_module": "@jupyter-widgets/controls",
          "model_module_version": "1.5.0",
          "model_name": "DescriptionStyleModel",
          "state": {
            "_model_module": "@jupyter-widgets/controls",
            "_model_module_version": "1.5.0",
            "_model_name": "DescriptionStyleModel",
            "_view_count": null,
            "_view_module": "@jupyter-widgets/base",
            "_view_module_version": "1.2.0",
            "_view_name": "StyleView",
            "description_width": ""
          }
        },
        "8c6f468471f64f2e967e650c7ed360b8": {
          "model_module": "@jupyter-widgets/controls",
          "model_module_version": "1.5.0",
          "model_name": "DescriptionStyleModel",
          "state": {
            "_model_module": "@jupyter-widgets/controls",
            "_model_module_version": "1.5.0",
            "_model_name": "DescriptionStyleModel",
            "_view_count": null,
            "_view_module": "@jupyter-widgets/base",
            "_view_module_version": "1.2.0",
            "_view_name": "StyleView",
            "description_width": ""
          }
        },
        "8d9c0a40604c42c88f5d8b3e11e19da4": {
          "model_module": "@jupyter-widgets/controls",
          "model_module_version": "1.5.0",
          "model_name": "HBoxModel",
          "state": {
            "_dom_classes": [],
            "_model_module": "@jupyter-widgets/controls",
            "_model_module_version": "1.5.0",
            "_model_name": "HBoxModel",
            "_view_count": null,
            "_view_module": "@jupyter-widgets/controls",
            "_view_module_version": "1.5.0",
            "_view_name": "HBoxView",
            "box_style": "",
            "children": [
              "IPY_MODEL_562193bfa51f44f8912958689cbddb91",
              "IPY_MODEL_bc44271bc8ed447192c35088839d05a1",
              "IPY_MODEL_d0fd3dfb73b04bf88a8906d58a8387bf"
            ],
            "layout": "IPY_MODEL_60c9a5bc3e0c47308698b06b129fa87e"
          }
        },
        "95b1d49e10dd4414b72a94079036d345": {
          "model_module": "@jupyter-widgets/controls",
          "model_module_version": "1.5.0",
          "model_name": "HTMLModel",
          "state": {
            "_dom_classes": [],
            "_model_module": "@jupyter-widgets/controls",
            "_model_module_version": "1.5.0",
            "_model_name": "HTMLModel",
            "_view_count": null,
            "_view_module": "@jupyter-widgets/controls",
            "_view_module_version": "1.5.0",
            "_view_name": "HTMLView",
            "description": "",
            "description_tooltip": null,
            "layout": "IPY_MODEL_653edc511b88450a8767cdaefbbd6cd1",
            "placeholder": "​",
            "style": "IPY_MODEL_d1ae9bf8da13489aa0ef9c25b6111561",
            "value": " 2/2 [00:40&lt;00:00, 19.96s/it]"
          }
        },
        "97ff0707a5ba43fc812465a3c1e990af": {
          "model_module": "@jupyter-widgets/base",
          "model_module_version": "1.2.0",
          "model_name": "LayoutModel",
          "state": {
            "_model_module": "@jupyter-widgets/base",
            "_model_module_version": "1.2.0",
            "_model_name": "LayoutModel",
            "_view_count": null,
            "_view_module": "@jupyter-widgets/base",
            "_view_module_version": "1.2.0",
            "_view_name": "LayoutView",
            "align_content": null,
            "align_items": null,
            "align_self": null,
            "border": null,
            "bottom": null,
            "display": null,
            "flex": null,
            "flex_flow": null,
            "grid_area": null,
            "grid_auto_columns": null,
            "grid_auto_flow": null,
            "grid_auto_rows": null,
            "grid_column": null,
            "grid_gap": null,
            "grid_row": null,
            "grid_template_areas": null,
            "grid_template_columns": null,
            "grid_template_rows": null,
            "height": null,
            "justify_content": null,
            "justify_items": null,
            "left": null,
            "margin": null,
            "max_height": null,
            "max_width": null,
            "min_height": null,
            "min_width": null,
            "object_fit": null,
            "object_position": null,
            "order": null,
            "overflow": null,
            "overflow_x": null,
            "overflow_y": null,
            "padding": null,
            "right": null,
            "top": null,
            "visibility": null,
            "width": null
          }
        },
        "9fa30b2259f6453fae529e934e76bec9": {
          "model_module": "@jupyter-widgets/controls",
          "model_module_version": "1.5.0",
          "model_name": "HBoxModel",
          "state": {
            "_dom_classes": [],
            "_model_module": "@jupyter-widgets/controls",
            "_model_module_version": "1.5.0",
            "_model_name": "HBoxModel",
            "_view_count": null,
            "_view_module": "@jupyter-widgets/controls",
            "_view_module_version": "1.5.0",
            "_view_name": "HBoxView",
            "box_style": "",
            "children": [
              "IPY_MODEL_7b4cbbd806f848938aef52d60c109971",
              "IPY_MODEL_260aa14340d0452782e661bb80f11132",
              "IPY_MODEL_64ee7aaef331474784a3846b9b3987e8"
            ],
            "layout": "IPY_MODEL_a6cabc8714b14e83b609fd2263efad2c"
          }
        },
        "a170026b68204c9db20ad5c00660542c": {
          "model_module": "@jupyter-widgets/controls",
          "model_module_version": "1.5.0",
          "model_name": "HTMLModel",
          "state": {
            "_dom_classes": [],
            "_model_module": "@jupyter-widgets/controls",
            "_model_module_version": "1.5.0",
            "_model_name": "HTMLModel",
            "_view_count": null,
            "_view_module": "@jupyter-widgets/controls",
            "_view_module_version": "1.5.0",
            "_view_name": "HTMLView",
            "description": "",
            "description_tooltip": null,
            "layout": "IPY_MODEL_07951b37854040ef83b59ac39c701b08",
            "placeholder": "​",
            "style": "IPY_MODEL_8c6f468471f64f2e967e650c7ed360b8",
            "value": " 4.96G/4.96G [11:24&lt;00:00, 24.7MB/s]"
          }
        },
        "a244c859daf24eaebb94c3041c1c1868": {
          "model_module": "@jupyter-widgets/base",
          "model_module_version": "1.2.0",
          "model_name": "LayoutModel",
          "state": {
            "_model_module": "@jupyter-widgets/base",
            "_model_module_version": "1.2.0",
            "_model_name": "LayoutModel",
            "_view_count": null,
            "_view_module": "@jupyter-widgets/base",
            "_view_module_version": "1.2.0",
            "_view_name": "LayoutView",
            "align_content": null,
            "align_items": null,
            "align_self": null,
            "border": null,
            "bottom": null,
            "display": null,
            "flex": null,
            "flex_flow": null,
            "grid_area": null,
            "grid_auto_columns": null,
            "grid_auto_flow": null,
            "grid_auto_rows": null,
            "grid_column": null,
            "grid_gap": null,
            "grid_row": null,
            "grid_template_areas": null,
            "grid_template_columns": null,
            "grid_template_rows": null,
            "height": null,
            "justify_content": null,
            "justify_items": null,
            "left": null,
            "margin": null,
            "max_height": null,
            "max_width": null,
            "min_height": null,
            "min_width": null,
            "object_fit": null,
            "object_position": null,
            "order": null,
            "overflow": null,
            "overflow_x": null,
            "overflow_y": null,
            "padding": null,
            "right": null,
            "top": null,
            "visibility": null,
            "width": null
          }
        },
        "a2e7813d977f44c5933cda464bc8eba2": {
          "model_module": "@jupyter-widgets/controls",
          "model_module_version": "1.5.0",
          "model_name": "DescriptionStyleModel",
          "state": {
            "_model_module": "@jupyter-widgets/controls",
            "_model_module_version": "1.5.0",
            "_model_name": "DescriptionStyleModel",
            "_view_count": null,
            "_view_module": "@jupyter-widgets/base",
            "_view_module_version": "1.2.0",
            "_view_name": "StyleView",
            "description_width": ""
          }
        },
        "a3642910127f4a2a8dac8dbceb84840d": {
          "model_module": "@jupyter-widgets/controls",
          "model_module_version": "1.5.0",
          "model_name": "HTMLModel",
          "state": {
            "_dom_classes": [],
            "_model_module": "@jupyter-widgets/controls",
            "_model_module_version": "1.5.0",
            "_model_name": "HTMLModel",
            "_view_count": null,
            "_view_module": "@jupyter-widgets/controls",
            "_view_module_version": "1.5.0",
            "_view_name": "HTMLView",
            "description": "",
            "description_tooltip": null,
            "layout": "IPY_MODEL_3c867cccde9d48cfb7d1a05949d35b6f",
            "placeholder": "​",
            "style": "IPY_MODEL_819c568d989e494c8e6782c6fa175048",
            "value": "model-00002-of-00002.safetensors: 100%"
          }
        },
        "a6c6362a2b14492691b6a2185c4e8523": {
          "model_module": "@jupyter-widgets/controls",
          "model_module_version": "1.5.0",
          "model_name": "DescriptionStyleModel",
          "state": {
            "_model_module": "@jupyter-widgets/controls",
            "_model_module_version": "1.5.0",
            "_model_name": "DescriptionStyleModel",
            "_view_count": null,
            "_view_module": "@jupyter-widgets/base",
            "_view_module_version": "1.2.0",
            "_view_name": "StyleView",
            "description_width": ""
          }
        },
        "a6cabc8714b14e83b609fd2263efad2c": {
          "model_module": "@jupyter-widgets/base",
          "model_module_version": "1.2.0",
          "model_name": "LayoutModel",
          "state": {
            "_model_module": "@jupyter-widgets/base",
            "_model_module_version": "1.2.0",
            "_model_name": "LayoutModel",
            "_view_count": null,
            "_view_module": "@jupyter-widgets/base",
            "_view_module_version": "1.2.0",
            "_view_name": "LayoutView",
            "align_content": null,
            "align_items": null,
            "align_self": null,
            "border": null,
            "bottom": null,
            "display": null,
            "flex": null,
            "flex_flow": null,
            "grid_area": null,
            "grid_auto_columns": null,
            "grid_auto_flow": null,
            "grid_auto_rows": null,
            "grid_column": null,
            "grid_gap": null,
            "grid_row": null,
            "grid_template_areas": null,
            "grid_template_columns": null,
            "grid_template_rows": null,
            "height": null,
            "justify_content": null,
            "justify_items": null,
            "left": null,
            "margin": null,
            "max_height": null,
            "max_width": null,
            "min_height": null,
            "min_width": null,
            "object_fit": null,
            "object_position": null,
            "order": null,
            "overflow": null,
            "overflow_x": null,
            "overflow_y": null,
            "padding": null,
            "right": null,
            "top": null,
            "visibility": null,
            "width": null
          }
        },
        "ab749ac7028c4e04b253714a3c43ec46": {
          "model_module": "@jupyter-widgets/base",
          "model_module_version": "1.2.0",
          "model_name": "LayoutModel",
          "state": {
            "_model_module": "@jupyter-widgets/base",
            "_model_module_version": "1.2.0",
            "_model_name": "LayoutModel",
            "_view_count": null,
            "_view_module": "@jupyter-widgets/base",
            "_view_module_version": "1.2.0",
            "_view_name": "LayoutView",
            "align_content": null,
            "align_items": null,
            "align_self": null,
            "border": null,
            "bottom": null,
            "display": null,
            "flex": null,
            "flex_flow": null,
            "grid_area": null,
            "grid_auto_columns": null,
            "grid_auto_flow": null,
            "grid_auto_rows": null,
            "grid_column": null,
            "grid_gap": null,
            "grid_row": null,
            "grid_template_areas": null,
            "grid_template_columns": null,
            "grid_template_rows": null,
            "height": null,
            "justify_content": null,
            "justify_items": null,
            "left": null,
            "margin": null,
            "max_height": null,
            "max_width": null,
            "min_height": null,
            "min_width": null,
            "object_fit": null,
            "object_position": null,
            "order": null,
            "overflow": null,
            "overflow_x": null,
            "overflow_y": null,
            "padding": null,
            "right": null,
            "top": null,
            "visibility": null,
            "width": null
          }
        },
        "ac3c0facca724841b5c9ebad4a5aef32": {
          "model_module": "@jupyter-widgets/base",
          "model_module_version": "1.2.0",
          "model_name": "LayoutModel",
          "state": {
            "_model_module": "@jupyter-widgets/base",
            "_model_module_version": "1.2.0",
            "_model_name": "LayoutModel",
            "_view_count": null,
            "_view_module": "@jupyter-widgets/base",
            "_view_module_version": "1.2.0",
            "_view_name": "LayoutView",
            "align_content": null,
            "align_items": null,
            "align_self": null,
            "border": null,
            "bottom": null,
            "display": null,
            "flex": null,
            "flex_flow": null,
            "grid_area": null,
            "grid_auto_columns": null,
            "grid_auto_flow": null,
            "grid_auto_rows": null,
            "grid_column": null,
            "grid_gap": null,
            "grid_row": null,
            "grid_template_areas": null,
            "grid_template_columns": null,
            "grid_template_rows": null,
            "height": null,
            "justify_content": null,
            "justify_items": null,
            "left": null,
            "margin": null,
            "max_height": null,
            "max_width": null,
            "min_height": null,
            "min_width": null,
            "object_fit": null,
            "object_position": null,
            "order": null,
            "overflow": null,
            "overflow_x": null,
            "overflow_y": null,
            "padding": null,
            "right": null,
            "top": null,
            "visibility": null,
            "width": "20px"
          }
        },
        "b222190198204c57b2dc1a092e435841": {
          "model_module": "@jupyter-widgets/controls",
          "model_module_version": "1.5.0",
          "model_name": "FloatProgressModel",
          "state": {
            "_dom_classes": [],
            "_model_module": "@jupyter-widgets/controls",
            "_model_module_version": "1.5.0",
            "_model_name": "FloatProgressModel",
            "_view_count": null,
            "_view_module": "@jupyter-widgets/controls",
            "_view_module_version": "1.5.0",
            "_view_name": "ProgressView",
            "bar_style": "success",
            "description": "",
            "description_tooltip": null,
            "layout": "IPY_MODEL_2ff83adec95e49f2adc8aa677643b870",
            "max": 2,
            "min": 0,
            "orientation": "horizontal",
            "style": "IPY_MODEL_b8d8539701a140feb01484651164de2e",
            "value": 2
          }
        },
        "b58d6fb6ae624773b8ca1134da4ef979": {
          "model_module": "@jupyter-widgets/controls",
          "model_module_version": "1.5.0",
          "model_name": "HBoxModel",
          "state": {
            "_dom_classes": [],
            "_model_module": "@jupyter-widgets/controls",
            "_model_module_version": "1.5.0",
            "_model_name": "HBoxModel",
            "_view_count": null,
            "_view_module": "@jupyter-widgets/controls",
            "_view_module_version": "1.5.0",
            "_view_name": "HBoxView",
            "box_style": "",
            "children": [
              "IPY_MODEL_0e02092129f04abbb99640e15a9d2ae8",
              "IPY_MODEL_09221a061fc647dd813e95357af5dab5",
              "IPY_MODEL_c881745685f14ede8a50e6ac11e31741"
            ],
            "layout": "IPY_MODEL_1844b5c3400f4e5685de070000755eef"
          }
        },
        "b667949f88744e2391a46b539a960e89": {
          "model_module": "@jupyter-widgets/base",
          "model_module_version": "1.2.0",
          "model_name": "LayoutModel",
          "state": {
            "_model_module": "@jupyter-widgets/base",
            "_model_module_version": "1.2.0",
            "_model_name": "LayoutModel",
            "_view_count": null,
            "_view_module": "@jupyter-widgets/base",
            "_view_module_version": "1.2.0",
            "_view_name": "LayoutView",
            "align_content": null,
            "align_items": null,
            "align_self": null,
            "border": null,
            "bottom": null,
            "display": null,
            "flex": null,
            "flex_flow": null,
            "grid_area": null,
            "grid_auto_columns": null,
            "grid_auto_flow": null,
            "grid_auto_rows": null,
            "grid_column": null,
            "grid_gap": null,
            "grid_row": null,
            "grid_template_areas": null,
            "grid_template_columns": null,
            "grid_template_rows": null,
            "height": null,
            "justify_content": null,
            "justify_items": null,
            "left": null,
            "margin": null,
            "max_height": null,
            "max_width": null,
            "min_height": null,
            "min_width": null,
            "object_fit": null,
            "object_position": null,
            "order": null,
            "overflow": null,
            "overflow_x": null,
            "overflow_y": null,
            "padding": null,
            "right": null,
            "top": null,
            "visibility": null,
            "width": null
          }
        },
        "b8d8539701a140feb01484651164de2e": {
          "model_module": "@jupyter-widgets/controls",
          "model_module_version": "1.5.0",
          "model_name": "ProgressStyleModel",
          "state": {
            "_model_module": "@jupyter-widgets/controls",
            "_model_module_version": "1.5.0",
            "_model_name": "ProgressStyleModel",
            "_view_count": null,
            "_view_module": "@jupyter-widgets/base",
            "_view_module_version": "1.2.0",
            "_view_name": "StyleView",
            "bar_color": null,
            "description_width": ""
          }
        },
        "b8f2feeac9984fa4bb5a556a504f9ba7": {
          "model_module": "@jupyter-widgets/base",
          "model_module_version": "1.2.0",
          "model_name": "LayoutModel",
          "state": {
            "_model_module": "@jupyter-widgets/base",
            "_model_module_version": "1.2.0",
            "_model_name": "LayoutModel",
            "_view_count": null,
            "_view_module": "@jupyter-widgets/base",
            "_view_module_version": "1.2.0",
            "_view_name": "LayoutView",
            "align_content": null,
            "align_items": null,
            "align_self": null,
            "border": null,
            "bottom": null,
            "display": null,
            "flex": null,
            "flex_flow": null,
            "grid_area": null,
            "grid_auto_columns": null,
            "grid_auto_flow": null,
            "grid_auto_rows": null,
            "grid_column": null,
            "grid_gap": null,
            "grid_row": null,
            "grid_template_areas": null,
            "grid_template_columns": null,
            "grid_template_rows": null,
            "height": null,
            "justify_content": null,
            "justify_items": null,
            "left": null,
            "margin": null,
            "max_height": null,
            "max_width": null,
            "min_height": null,
            "min_width": null,
            "object_fit": null,
            "object_position": null,
            "order": null,
            "overflow": null,
            "overflow_x": null,
            "overflow_y": null,
            "padding": null,
            "right": null,
            "top": null,
            "visibility": null,
            "width": null
          }
        },
        "b8f407f394984cfaaf9086ae34a5ab2e": {
          "model_module": "@jupyter-widgets/base",
          "model_module_version": "1.2.0",
          "model_name": "LayoutModel",
          "state": {
            "_model_module": "@jupyter-widgets/base",
            "_model_module_version": "1.2.0",
            "_model_name": "LayoutModel",
            "_view_count": null,
            "_view_module": "@jupyter-widgets/base",
            "_view_module_version": "1.2.0",
            "_view_name": "LayoutView",
            "align_content": null,
            "align_items": null,
            "align_self": null,
            "border": null,
            "bottom": null,
            "display": null,
            "flex": null,
            "flex_flow": null,
            "grid_area": null,
            "grid_auto_columns": null,
            "grid_auto_flow": null,
            "grid_auto_rows": null,
            "grid_column": null,
            "grid_gap": null,
            "grid_row": null,
            "grid_template_areas": null,
            "grid_template_columns": null,
            "grid_template_rows": null,
            "height": null,
            "justify_content": null,
            "justify_items": null,
            "left": null,
            "margin": null,
            "max_height": null,
            "max_width": null,
            "min_height": null,
            "min_width": null,
            "object_fit": null,
            "object_position": null,
            "order": null,
            "overflow": null,
            "overflow_x": null,
            "overflow_y": null,
            "padding": null,
            "right": null,
            "top": null,
            "visibility": null,
            "width": null
          }
        },
        "b93a5d4d31a449f5999583a036698539": {
          "model_module": "@jupyter-widgets/controls",
          "model_module_version": "1.5.0",
          "model_name": "DescriptionStyleModel",
          "state": {
            "_model_module": "@jupyter-widgets/controls",
            "_model_module_version": "1.5.0",
            "_model_name": "DescriptionStyleModel",
            "_view_count": null,
            "_view_module": "@jupyter-widgets/base",
            "_view_module_version": "1.2.0",
            "_view_name": "StyleView",
            "description_width": ""
          }
        },
        "ba695288dcb84394b3f4c9e78d31facb": {
          "model_module": "@jupyter-widgets/base",
          "model_module_version": "1.2.0",
          "model_name": "LayoutModel",
          "state": {
            "_model_module": "@jupyter-widgets/base",
            "_model_module_version": "1.2.0",
            "_model_name": "LayoutModel",
            "_view_count": null,
            "_view_module": "@jupyter-widgets/base",
            "_view_module_version": "1.2.0",
            "_view_name": "LayoutView",
            "align_content": null,
            "align_items": null,
            "align_self": null,
            "border": null,
            "bottom": null,
            "display": null,
            "flex": null,
            "flex_flow": null,
            "grid_area": null,
            "grid_auto_columns": null,
            "grid_auto_flow": null,
            "grid_auto_rows": null,
            "grid_column": null,
            "grid_gap": null,
            "grid_row": null,
            "grid_template_areas": null,
            "grid_template_columns": null,
            "grid_template_rows": null,
            "height": null,
            "justify_content": null,
            "justify_items": null,
            "left": null,
            "margin": null,
            "max_height": null,
            "max_width": null,
            "min_height": null,
            "min_width": null,
            "object_fit": null,
            "object_position": null,
            "order": null,
            "overflow": null,
            "overflow_x": null,
            "overflow_y": null,
            "padding": null,
            "right": null,
            "top": null,
            "visibility": null,
            "width": null
          }
        },
        "bc44271bc8ed447192c35088839d05a1": {
          "model_module": "@jupyter-widgets/controls",
          "model_module_version": "1.5.0",
          "model_name": "FloatProgressModel",
          "state": {
            "_dom_classes": [],
            "_model_module": "@jupyter-widgets/controls",
            "_model_module_version": "1.5.0",
            "_model_name": "FloatProgressModel",
            "_view_count": null,
            "_view_module": "@jupyter-widgets/controls",
            "_view_module_version": "1.5.0",
            "_view_name": "ProgressView",
            "bar_style": "success",
            "description": "",
            "description_tooltip": null,
            "layout": "IPY_MODEL_ac3c0facca724841b5c9ebad4a5aef32",
            "max": 1,
            "min": 0,
            "orientation": "horizontal",
            "style": "IPY_MODEL_c1445a92217d450c9b58fe09af067b7f",
            "value": 1
          }
        },
        "c1445a92217d450c9b58fe09af067b7f": {
          "model_module": "@jupyter-widgets/controls",
          "model_module_version": "1.5.0",
          "model_name": "ProgressStyleModel",
          "state": {
            "_model_module": "@jupyter-widgets/controls",
            "_model_module_version": "1.5.0",
            "_model_name": "ProgressStyleModel",
            "_view_count": null,
            "_view_module": "@jupyter-widgets/base",
            "_view_module_version": "1.2.0",
            "_view_name": "StyleView",
            "bar_color": null,
            "description_width": ""
          }
        },
        "c30c25e833934f849691f39988b7fe85": {
          "model_module": "@jupyter-widgets/controls",
          "model_module_version": "1.5.0",
          "model_name": "DescriptionStyleModel",
          "state": {
            "_model_module": "@jupyter-widgets/controls",
            "_model_module_version": "1.5.0",
            "_model_name": "DescriptionStyleModel",
            "_view_count": null,
            "_view_module": "@jupyter-widgets/base",
            "_view_module_version": "1.2.0",
            "_view_name": "StyleView",
            "description_width": ""
          }
        },
        "c3fa037f0374488fa534fc5ff502cb1e": {
          "model_module": "@jupyter-widgets/controls",
          "model_module_version": "1.5.0",
          "model_name": "FloatProgressModel",
          "state": {
            "_dom_classes": [],
            "_model_module": "@jupyter-widgets/controls",
            "_model_module_version": "1.5.0",
            "_model_name": "FloatProgressModel",
            "_view_count": null,
            "_view_module": "@jupyter-widgets/controls",
            "_view_module_version": "1.5.0",
            "_view_name": "ProgressView",
            "bar_style": "success",
            "description": "",
            "description_tooltip": null,
            "layout": "IPY_MODEL_a244c859daf24eaebb94c3041c1c1868",
            "max": 4959390584,
            "min": 0,
            "orientation": "horizontal",
            "style": "IPY_MODEL_e4c40381129c4f19a9ff0f6b6bd53d64",
            "value": 4959390584
          }
        },
        "c85d2bc21e5a4774aa714e8af5302c93": {
          "model_module": "@jupyter-widgets/controls",
          "model_module_version": "1.5.0",
          "model_name": "DescriptionStyleModel",
          "state": {
            "_model_module": "@jupyter-widgets/controls",
            "_model_module_version": "1.5.0",
            "_model_name": "DescriptionStyleModel",
            "_view_count": null,
            "_view_module": "@jupyter-widgets/base",
            "_view_module_version": "1.2.0",
            "_view_name": "StyleView",
            "description_width": ""
          }
        },
        "c881745685f14ede8a50e6ac11e31741": {
          "model_module": "@jupyter-widgets/controls",
          "model_module_version": "1.5.0",
          "model_name": "HTMLModel",
          "state": {
            "_dom_classes": [],
            "_model_module": "@jupyter-widgets/controls",
            "_model_module_version": "1.5.0",
            "_model_name": "HTMLModel",
            "_view_count": null,
            "_view_module": "@jupyter-widgets/controls",
            "_view_module_version": "1.5.0",
            "_view_name": "HTMLView",
            "description": "",
            "description_tooltip": null,
            "layout": "IPY_MODEL_ba695288dcb84394b3f4c9e78d31facb",
            "placeholder": "​",
            "style": "IPY_MODEL_b93a5d4d31a449f5999583a036698539",
            "value": " 2/2 [11:24&lt;00:00, 684.81s/it]"
          }
        },
        "d0fd3dfb73b04bf88a8906d58a8387bf": {
          "model_module": "@jupyter-widgets/controls",
          "model_module_version": "1.5.0",
          "model_name": "HTMLModel",
          "state": {
            "_dom_classes": [],
            "_model_module": "@jupyter-widgets/controls",
            "_model_module_version": "1.5.0",
            "_model_name": "HTMLModel",
            "_view_count": null,
            "_view_module": "@jupyter-widgets/controls",
            "_view_module_version": "1.5.0",
            "_view_name": "HTMLView",
            "description": "",
            "description_tooltip": null,
            "layout": "IPY_MODEL_b8f2feeac9984fa4bb5a556a504f9ba7",
            "placeholder": "​",
            "style": "IPY_MODEL_213849b1df814b01be31f7cf2bb2a97a",
            "value": " 3.64k/? [00:00&lt;00:00, 179kB/s]"
          }
        },
        "d1ae9bf8da13489aa0ef9c25b6111561": {
          "model_module": "@jupyter-widgets/controls",
          "model_module_version": "1.5.0",
          "model_name": "DescriptionStyleModel",
          "state": {
            "_model_module": "@jupyter-widgets/controls",
            "_model_module_version": "1.5.0",
            "_model_name": "DescriptionStyleModel",
            "_view_count": null,
            "_view_module": "@jupyter-widgets/base",
            "_view_module_version": "1.2.0",
            "_view_name": "StyleView",
            "description_width": ""
          }
        },
        "da9e7a413a78416e8f162b9bfe27e947": {
          "model_module": "@jupyter-widgets/base",
          "model_module_version": "1.2.0",
          "model_name": "LayoutModel",
          "state": {
            "_model_module": "@jupyter-widgets/base",
            "_model_module_version": "1.2.0",
            "_model_name": "LayoutModel",
            "_view_count": null,
            "_view_module": "@jupyter-widgets/base",
            "_view_module_version": "1.2.0",
            "_view_name": "LayoutView",
            "align_content": null,
            "align_items": null,
            "align_self": null,
            "border": null,
            "bottom": null,
            "display": null,
            "flex": null,
            "flex_flow": null,
            "grid_area": null,
            "grid_auto_columns": null,
            "grid_auto_flow": null,
            "grid_auto_rows": null,
            "grid_column": null,
            "grid_gap": null,
            "grid_row": null,
            "grid_template_areas": null,
            "grid_template_columns": null,
            "grid_template_rows": null,
            "height": null,
            "justify_content": null,
            "justify_items": null,
            "left": null,
            "margin": null,
            "max_height": null,
            "max_width": null,
            "min_height": null,
            "min_width": null,
            "object_fit": null,
            "object_position": null,
            "order": null,
            "overflow": null,
            "overflow_x": null,
            "overflow_y": null,
            "padding": null,
            "right": null,
            "top": null,
            "visibility": null,
            "width": null
          }
        },
        "e4b7f32b34ef45c8badf4ced9bd33d38": {
          "model_module": "@jupyter-widgets/controls",
          "model_module_version": "1.5.0",
          "model_name": "DescriptionStyleModel",
          "state": {
            "_model_module": "@jupyter-widgets/controls",
            "_model_module_version": "1.5.0",
            "_model_name": "DescriptionStyleModel",
            "_view_count": null,
            "_view_module": "@jupyter-widgets/base",
            "_view_module_version": "1.2.0",
            "_view_name": "StyleView",
            "description_width": ""
          }
        },
        "e4c40381129c4f19a9ff0f6b6bd53d64": {
          "model_module": "@jupyter-widgets/controls",
          "model_module_version": "1.5.0",
          "model_name": "ProgressStyleModel",
          "state": {
            "_model_module": "@jupyter-widgets/controls",
            "_model_module_version": "1.5.0",
            "_model_name": "ProgressStyleModel",
            "_view_count": null,
            "_view_module": "@jupyter-widgets/base",
            "_view_module_version": "1.2.0",
            "_view_name": "StyleView",
            "bar_color": null,
            "description_width": ""
          }
        },
        "e63d1dca314342fb9b23aeceaf4f921f": {
          "model_module": "@jupyter-widgets/controls",
          "model_module_version": "1.5.0",
          "model_name": "HBoxModel",
          "state": {
            "_dom_classes": [],
            "_model_module": "@jupyter-widgets/controls",
            "_model_module_version": "1.5.0",
            "_model_name": "HBoxModel",
            "_view_count": null,
            "_view_module": "@jupyter-widgets/controls",
            "_view_module_version": "1.5.0",
            "_view_name": "HBoxView",
            "box_style": "",
            "children": [
              "IPY_MODEL_113d90dbcecd4103a4975824d2c0d5bb",
              "IPY_MODEL_7faf28883bf848b7b9bf5cf24b356a28",
              "IPY_MODEL_543c260ad98246ca83f7b4a10b52feca"
            ],
            "layout": "IPY_MODEL_ffc8b30aa3234694ac24df22848029ab"
          }
        },
        "e8827f7076c0438289c28c54476f2a73": {
          "model_module": "@jupyter-widgets/controls",
          "model_module_version": "1.5.0",
          "model_name": "ProgressStyleModel",
          "state": {
            "_model_module": "@jupyter-widgets/controls",
            "_model_module_version": "1.5.0",
            "_model_name": "ProgressStyleModel",
            "_view_count": null,
            "_view_module": "@jupyter-widgets/base",
            "_view_module_version": "1.2.0",
            "_view_name": "StyleView",
            "bar_color": null,
            "description_width": ""
          }
        },
        "f008178eacd44f488b8c6bbea67064dc": {
          "model_module": "@jupyter-widgets/controls",
          "model_module_version": "1.5.0",
          "model_name": "ProgressStyleModel",
          "state": {
            "_model_module": "@jupyter-widgets/controls",
            "_model_module_version": "1.5.0",
            "_model_name": "ProgressStyleModel",
            "_view_count": null,
            "_view_module": "@jupyter-widgets/base",
            "_view_module_version": "1.2.0",
            "_view_name": "StyleView",
            "bar_color": null,
            "description_width": ""
          }
        },
        "f1fe7c0f3b0548a7a4efe4d0c188bc58": {
          "model_module": "@jupyter-widgets/controls",
          "model_module_version": "1.5.0",
          "model_name": "FloatProgressModel",
          "state": {
            "_dom_classes": [],
            "_model_module": "@jupyter-widgets/controls",
            "_model_module_version": "1.5.0",
            "_model_name": "FloatProgressModel",
            "_view_count": null,
            "_view_module": "@jupyter-widgets/controls",
            "_view_module_version": "1.5.0",
            "_view_name": "ProgressView",
            "bar_style": "success",
            "description": "",
            "description_tooltip": null,
            "layout": "IPY_MODEL_443c328d7f5e42e9b0e518a4e4d2ddd2",
            "max": 4027833472,
            "min": 0,
            "orientation": "horizontal",
            "style": "IPY_MODEL_e8827f7076c0438289c28c54476f2a73",
            "value": 4027833472
          }
        },
        "f9cb2801e04b492e8c5f9b48485c7a0a": {
          "model_module": "@jupyter-widgets/base",
          "model_module_version": "1.2.0",
          "model_name": "LayoutModel",
          "state": {
            "_model_module": "@jupyter-widgets/base",
            "_model_module_version": "1.2.0",
            "_model_name": "LayoutModel",
            "_view_count": null,
            "_view_module": "@jupyter-widgets/base",
            "_view_module_version": "1.2.0",
            "_view_name": "LayoutView",
            "align_content": null,
            "align_items": null,
            "align_self": null,
            "border": null,
            "bottom": null,
            "display": null,
            "flex": null,
            "flex_flow": null,
            "grid_area": null,
            "grid_auto_columns": null,
            "grid_auto_flow": null,
            "grid_auto_rows": null,
            "grid_column": null,
            "grid_gap": null,
            "grid_row": null,
            "grid_template_areas": null,
            "grid_template_columns": null,
            "grid_template_rows": null,
            "height": null,
            "justify_content": null,
            "justify_items": null,
            "left": null,
            "margin": null,
            "max_height": null,
            "max_width": null,
            "min_height": null,
            "min_width": null,
            "object_fit": null,
            "object_position": null,
            "order": null,
            "overflow": null,
            "overflow_x": null,
            "overflow_y": null,
            "padding": null,
            "right": null,
            "top": null,
            "visibility": null,
            "width": null
          }
        },
        "fb0f4fcab4644d32a5b41a2ae6791477": {
          "model_module": "@jupyter-widgets/controls",
          "model_module_version": "1.5.0",
          "model_name": "ProgressStyleModel",
          "state": {
            "_model_module": "@jupyter-widgets/controls",
            "_model_module_version": "1.5.0",
            "_model_name": "ProgressStyleModel",
            "_view_count": null,
            "_view_module": "@jupyter-widgets/base",
            "_view_module_version": "1.2.0",
            "_view_name": "StyleView",
            "bar_color": null,
            "description_width": ""
          }
        },
        "fd11d4b55c674483bbaa2518f9d1fa08": {
          "model_module": "@jupyter-widgets/base",
          "model_module_version": "1.2.0",
          "model_name": "LayoutModel",
          "state": {
            "_model_module": "@jupyter-widgets/base",
            "_model_module_version": "1.2.0",
            "_model_name": "LayoutModel",
            "_view_count": null,
            "_view_module": "@jupyter-widgets/base",
            "_view_module_version": "1.2.0",
            "_view_name": "LayoutView",
            "align_content": null,
            "align_items": null,
            "align_self": null,
            "border": null,
            "bottom": null,
            "display": null,
            "flex": null,
            "flex_flow": null,
            "grid_area": null,
            "grid_auto_columns": null,
            "grid_auto_flow": null,
            "grid_auto_rows": null,
            "grid_column": null,
            "grid_gap": null,
            "grid_row": null,
            "grid_template_areas": null,
            "grid_template_columns": null,
            "grid_template_rows": null,
            "height": null,
            "justify_content": null,
            "justify_items": null,
            "left": null,
            "margin": null,
            "max_height": null,
            "max_width": null,
            "min_height": null,
            "min_width": null,
            "object_fit": null,
            "object_position": null,
            "order": null,
            "overflow": null,
            "overflow_x": null,
            "overflow_y": null,
            "padding": null,
            "right": null,
            "top": null,
            "visibility": null,
            "width": null
          }
        },
        "ffc8b30aa3234694ac24df22848029ab": {
          "model_module": "@jupyter-widgets/base",
          "model_module_version": "1.2.0",
          "model_name": "LayoutModel",
          "state": {
            "_model_module": "@jupyter-widgets/base",
            "_model_module_version": "1.2.0",
            "_model_name": "LayoutModel",
            "_view_count": null,
            "_view_module": "@jupyter-widgets/base",
            "_view_module_version": "1.2.0",
            "_view_name": "LayoutView",
            "align_content": null,
            "align_items": null,
            "align_self": null,
            "border": null,
            "bottom": null,
            "display": null,
            "flex": null,
            "flex_flow": null,
            "grid_area": null,
            "grid_auto_columns": null,
            "grid_auto_flow": null,
            "grid_auto_rows": null,
            "grid_column": null,
            "grid_gap": null,
            "grid_row": null,
            "grid_template_areas": null,
            "grid_template_columns": null,
            "grid_template_rows": null,
            "height": null,
            "justify_content": null,
            "justify_items": null,
            "left": null,
            "margin": null,
            "max_height": null,
            "max_width": null,
            "min_height": null,
            "min_width": null,
            "object_fit": null,
            "object_position": null,
            "order": null,
            "overflow": null,
            "overflow_x": null,
            "overflow_y": null,
            "padding": null,
            "right": null,
            "top": null,
            "visibility": null,
            "width": null
          }
        }
      }
    }
  },
  "nbformat": 4,
  "nbformat_minor": 0
}
