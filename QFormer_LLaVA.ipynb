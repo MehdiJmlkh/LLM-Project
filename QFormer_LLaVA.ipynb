{
  "nbformat": 4,
  "nbformat_minor": 0,
  "metadata": {
    "colab": {
      "provenance": []
    },
    "kernelspec": {
      "name": "python3",
      "display_name": "Python 3"
    },
    "language_info": {
      "name": "python"
    }
  },
  "cells": [
    {
      "cell_type": "markdown",
      "source": [
        "# query transformer according to blip"
      ],
      "metadata": {
        "id": "mAqJJ-zXtxOq"
      }
    },
    {
      "cell_type": "code",
      "execution_count": 12,
      "metadata": {
        "id": "KT_dYtkXs0Sw"
      },
      "outputs": [],
      "source": [
        "import torch\n",
        "import torch.nn as nn\n",
        "import torch.nn.functional as F\n",
        "\n",
        "class PatchEmbed(nn.Module):\n",
        "    def __init__(self, img_size=224, patch_size=16, in_channels=3, embed_dim=768):\n",
        "        super().__init__()\n",
        "        self.proj = nn.Conv2d(\n",
        "            in_channels, embed_dim,\n",
        "            kernel_size=patch_size,\n",
        "            stride=patch_size\n",
        "        )\n",
        "        self.num_patches = (img_size // patch_size) ** 2\n",
        "\n",
        "    def forward(self, x):\n",
        "        x = self.proj(x)\n",
        "        x = x.flatten(2).transpose(1, 2)\n",
        "        return x\n",
        "\n",
        "class TransformerEncoderLayer(nn.Module):\n",
        "    def __init__(self, embed_dim=768, num_heads=8, ff_hidden_dim=2048, dropout=0.1):\n",
        "        super().__init__()\n",
        "        self.self_attn = nn.MultiheadAttention(embed_dim, num_heads, dropout=dropout, batch_first=True)\n",
        "        self.norm1 = nn.LayerNorm(embed_dim)\n",
        "        self.norm2 = nn.LayerNorm(embed_dim)\n",
        "        self.dropout1 = nn.Dropout(dropout)\n",
        "        self.dropout2 = nn.Dropout(dropout)\n",
        "\n",
        "        self.ff = nn.Sequential(\n",
        "            nn.Linear(embed_dim, ff_hidden_dim),\n",
        "            nn.GELU(),\n",
        "            nn.Dropout(dropout),\n",
        "            nn.Linear(ff_hidden_dim, embed_dim),\n",
        "            nn.Dropout(dropout),\n",
        "        )\n",
        "\n",
        "    def forward(self, x):\n",
        "        attn_output, _ = self.self_attn(x, x, x)\n",
        "        x = x + self.dropout1(attn_output)\n",
        "        x = self.norm1(x)\n",
        "\n",
        "        ff_output = self.ff(x)\n",
        "        x = x + self.dropout2(ff_output)\n",
        "        x = self.norm2(x)\n",
        "        return x\n",
        "\n",
        "class QFormer(nn.Module):\n",
        "    def __init__(self,\n",
        "                 img_size=224,\n",
        "                 patch_size=16,\n",
        "                 in_channels=3,\n",
        "                 embed_dim=768,\n",
        "                 depth=6,\n",
        "                 num_heads=8,\n",
        "                 ff_hidden_dim=2048):\n",
        "        super().__init__()\n",
        "        self.patch_embed = PatchEmbed(img_size, patch_size, in_channels, embed_dim)\n",
        "        self.encoder_layers = nn.ModuleList([\n",
        "            TransformerEncoderLayer(embed_dim, num_heads, ff_hidden_dim)\n",
        "            for _ in range(depth)\n",
        "        ])\n",
        "        self.pos_embed = nn.Parameter(torch.randn(1, self.patch_embed.num_patches, embed_dim))\n",
        "\n",
        "    def forward(self, x):\n",
        "        x = self.patch_embed(x)\n",
        "        x = x + self.pos_embed\n",
        "\n",
        "        for layer in self.encoder_layers:\n",
        "            x = layer(x)\n",
        "\n",
        "        return x"
      ]
    },
    {
      "cell_type": "code",
      "source": [
        "model = QFormer(img_size=224, patch_size=16, depth=4)\n",
        "dummy_input = torch.randn(2, 3, 224, 224)\n",
        "output = model(dummy_input)"
      ],
      "metadata": {
        "id": "VlcmgiO0vLAy"
      },
      "execution_count": 13,
      "outputs": []
    },
    {
      "cell_type": "code",
      "source": [
        "from torchsummary import summary\n",
        "summary(model, (3, 224, 224))"
      ],
      "metadata": {
        "colab": {
          "base_uri": "https://localhost:8080/"
        },
        "id": "ZBca0ZNFwcTq",
        "outputId": "0f045b0c-3939-4afd-b8f2-97fe8285953d"
      },
      "execution_count": 14,
      "outputs": [
        {
          "output_type": "stream",
          "name": "stdout",
          "text": [
            "----------------------------------------------------------------\n",
            "        Layer (type)               Output Shape         Param #\n",
            "================================================================\n",
            "            Conv2d-1          [-1, 768, 14, 14]         590,592\n",
            "        PatchEmbed-2             [-1, 196, 768]               0\n",
            "MultiheadAttention-3  [[-1, 196, 768], [-1, 196, 196]]               0\n",
            "           Dropout-4             [-1, 196, 768]               0\n",
            "         LayerNorm-5             [-1, 196, 768]           1,536\n",
            "            Linear-6            [-1, 196, 2048]       1,574,912\n",
            "              GELU-7            [-1, 196, 2048]               0\n",
            "           Dropout-8            [-1, 196, 2048]               0\n",
            "            Linear-9             [-1, 196, 768]       1,573,632\n",
            "          Dropout-10             [-1, 196, 768]               0\n",
            "          Dropout-11             [-1, 196, 768]               0\n",
            "        LayerNorm-12             [-1, 196, 768]           1,536\n",
            "TransformerEncoderLayer-13             [-1, 196, 768]               0\n",
            "MultiheadAttention-14  [[-1, 196, 768], [-1, 196, 196]]               0\n",
            "          Dropout-15             [-1, 196, 768]               0\n",
            "        LayerNorm-16             [-1, 196, 768]           1,536\n",
            "           Linear-17            [-1, 196, 2048]       1,574,912\n",
            "             GELU-18            [-1, 196, 2048]               0\n",
            "          Dropout-19            [-1, 196, 2048]               0\n",
            "           Linear-20             [-1, 196, 768]       1,573,632\n",
            "          Dropout-21             [-1, 196, 768]               0\n",
            "          Dropout-22             [-1, 196, 768]               0\n",
            "        LayerNorm-23             [-1, 196, 768]           1,536\n",
            "TransformerEncoderLayer-24             [-1, 196, 768]               0\n",
            "MultiheadAttention-25  [[-1, 196, 768], [-1, 196, 196]]               0\n",
            "          Dropout-26             [-1, 196, 768]               0\n",
            "        LayerNorm-27             [-1, 196, 768]           1,536\n",
            "           Linear-28            [-1, 196, 2048]       1,574,912\n",
            "             GELU-29            [-1, 196, 2048]               0\n",
            "          Dropout-30            [-1, 196, 2048]               0\n",
            "           Linear-31             [-1, 196, 768]       1,573,632\n",
            "          Dropout-32             [-1, 196, 768]               0\n",
            "          Dropout-33             [-1, 196, 768]               0\n",
            "        LayerNorm-34             [-1, 196, 768]           1,536\n",
            "TransformerEncoderLayer-35             [-1, 196, 768]               0\n",
            "MultiheadAttention-36  [[-1, 196, 768], [-1, 196, 196]]               0\n",
            "          Dropout-37             [-1, 196, 768]               0\n",
            "        LayerNorm-38             [-1, 196, 768]           1,536\n",
            "           Linear-39            [-1, 196, 2048]       1,574,912\n",
            "             GELU-40            [-1, 196, 2048]               0\n",
            "          Dropout-41            [-1, 196, 2048]               0\n",
            "           Linear-42             [-1, 196, 768]       1,573,632\n",
            "          Dropout-43             [-1, 196, 768]               0\n",
            "          Dropout-44             [-1, 196, 768]               0\n",
            "        LayerNorm-45             [-1, 196, 768]           1,536\n",
            "TransformerEncoderLayer-46             [-1, 196, 768]               0\n",
            "================================================================\n",
            "Total params: 13,197,056\n",
            "Trainable params: 13,197,056\n",
            "Non-trainable params: 0\n",
            "----------------------------------------------------------------\n",
            "Input size (MB): 0.57\n",
            "Forward/backward pass size (MB): 176402.30\n",
            "Params size (MB): 50.34\n",
            "Estimated Total Size (MB): 176453.21\n",
            "----------------------------------------------------------------\n"
          ]
        }
      ]
    }
  ]
}